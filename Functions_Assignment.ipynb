{
  "nbformat": 4,
  "nbformat_minor": 0,
  "metadata": {
    "colab": {
      "provenance": []
    },
    "kernelspec": {
      "name": "python3",
      "display_name": "Python 3"
    },
    "language_info": {
      "name": "python"
    }
  },
  "cells": [
    {
      "cell_type": "markdown",
      "source": [
        "1. What is the difference between a function and a method in Python?\n",
        "\n",
        "  - Function:\n",
        "  - A self-contained block of code that performs a specific task.\n",
        "  - Not associated with any specific object or class. It is defined independently.\n",
        "  - Called by its name: function_name(arguments)\n",
        "  - Used for general-purpose, reusable code that doesn't need to interact with object state.\n",
        "\n",
        "  - Method:\n",
        "  - A function that is associated with an object/class.\n",
        "  - Implicitly passed the instance of the object it is called on (usually named as its first argument).\n",
        "  - Called on an object/instance using dot notation: object.method_name(arguments)\n",
        "  - Used to perform operations that change or access the state (data) of a specific object.\n"
      ],
      "metadata": {
        "id": "otK0hI6i9cUQ"
      }
    },
    {
      "cell_type": "code",
      "source": [
        "# Function Example\n",
        "def add_numbers(a, b):\n",
        "    return a + b\n",
        "result = add_numbers(5, 3)\n",
        "print(f\"The result of the function is: {result}\")"
      ],
      "metadata": {
        "colab": {
          "base_uri": "https://localhost:8080/"
        },
        "id": "PCC1R1tq-lmP",
        "outputId": "d33f80b3-ff2b-4664-e33c-7605152f327e"
      },
      "execution_count": null,
      "outputs": [
        {
          "output_type": "stream",
          "name": "stdout",
          "text": [
            "The result of the function is: 8\n"
          ]
        }
      ]
    },
    {
      "cell_type": "code",
      "source": [
        "# Method Example\n",
        "class Dog:\n",
        "    def __init__(self, name):\n",
        "        self.name = name\n",
        "\n",
        "    def bark(self):\n",
        "        return f\"{self.name} says Woof!\"\n",
        "\n",
        "my_dog = Dog(\"Buddy\")\n",
        "\n",
        "sound = my_dog.bark()\n",
        "print(f\"The result of the method is: {sound}\")"
      ],
      "metadata": {
        "colab": {
          "base_uri": "https://localhost:8080/"
        },
        "id": "1P-QJ3Ay-2rW",
        "outputId": "7368b9df-3a2f-4a33-add5-03d45edb32fa"
      },
      "execution_count": null,
      "outputs": [
        {
          "output_type": "stream",
          "name": "stdout",
          "text": [
            "The result of the method is: Buddy says Woof!\n"
          ]
        }
      ]
    },
    {
      "cell_type": "markdown",
      "source": [
        "2. Explain the concept of function arguments and parameters in Python?\n",
        "  - In Python (and many other programming languages), the terms parameters and arguments are often used interchangeably, but they have distinct technical meanings related to function definition and function calling.\n",
        "\n",
        "  - Parameters (Function Definition)\n",
        "  - Parameters are the names listed inside the parentheses in the function's definition. They act as variables that will receive values when the function is called.\n",
        "  - Role: They specify what kind of input the function expects.\n",
        "  - Analogy: Think of a parameter as a placeholder or an empty parking spot waiting for a car (the argument) to fill it.\n",
        "\n",
        "  - Arguments (Function Call)\n",
        "  - Arguments are the actual values or expressions passed into the function when it is called or invoked.\n",
        "  - Role: They provide the data the function needs to execute its task.\n",
        "  - Analogy: Think of an argument as the actual car being driven into the parking spot (the parameter)."
      ],
      "metadata": {
        "id": "_xxO15kW_R39"
      }
    },
    {
      "cell_type": "code",
      "source": [
        "# The following example clarifies the difference:\n",
        "# Function Definition: 'message' and 'name' are the PARAMETERS\n",
        "def greet(message, name):\n",
        "    print(f\"{message}, {name}!\")\n",
        "\n",
        "# Function Call: \"Hello\" and \"Alice\" are the ARGUMENTS\n",
        "greet(\"Hello\", \"Alice\")\n",
        "# Output: Hello, Alice!\n",
        "\n",
        "# Another Function Call with different ARGUMENTS\n",
        "greet(\"Good morning\", \"Bob\")\n",
        "# Output: Good morning, Bob!"
      ],
      "metadata": {
        "colab": {
          "base_uri": "https://localhost:8080/"
        },
        "id": "ZraIrsui_-xo",
        "outputId": "6e67a925-3d6d-4067-c641-b74f6eb17967"
      },
      "execution_count": null,
      "outputs": [
        {
          "output_type": "stream",
          "name": "stdout",
          "text": [
            "Hello, Alice!\n",
            "Good morning, Bob!\n"
          ]
        }
      ]
    },
    {
      "cell_type": "markdown",
      "source": [
        "3. What are the different ways to define and call a function in Python?\n",
        "\n",
        "  - In Python, the most common and standard way to define and call functions is using the def keyword, but there are other ways depending on the type and complexity of the function.\n",
        "\n",
        "  - 1. Defining a Function\n",
        "  - A. Standard Function Definition (using def)\n",
        "  - This is the most common way to define a reusable block of code in Python.\n",
        "\n"
      ],
      "metadata": {
        "id": "SHs6ch1bARwk"
      }
    },
    {
      "cell_type": "code",
      "source": [
        "# Structure\n",
        "def function_name(parameter1, parameter2, ...):\n",
        "    # Function body (code to execute)\n",
        "    return result"
      ],
      "metadata": {
        "id": "8wZa5_DqA2YJ"
      },
      "execution_count": null,
      "outputs": []
    },
    {
      "cell_type": "code",
      "source": [
        "# Example\n",
        "def calculate_area(length, width):\n",
        "    \"\"\"Calculates the area of a rectangle.\"\"\"\n",
        "    area = length * width\n",
        "    return area"
      ],
      "metadata": {
        "id": "tptWOE1PA_ll"
      },
      "execution_count": null,
      "outputs": []
    },
    {
      "cell_type": "markdown",
      "source": [
        "  - B. Anonymous/Lambda Function Definition (using lambda)\n",
        "  - A lambda function is a small, single-expression anonymous function. It is often used for simple operations where a full\n",
        "  - def block is overkill."
      ],
      "metadata": {
        "id": "FcK0AJ3_BMxG"
      }
    },
    {
      "cell_type": "code",
      "source": [
        "# structure\n",
        "function_name = lambda parameters: expression"
      ],
      "metadata": {
        "id": "04_qQcz2BaqL"
      },
      "execution_count": null,
      "outputs": []
    },
    {
      "cell_type": "code",
      "source": [
        "# Example\n",
        "# Defines a lambda function to square a number\n",
        "square = lambda x: x * x"
      ],
      "metadata": {
        "id": "o3tyuFj9BiuW"
      },
      "execution_count": null,
      "outputs": []
    },
    {
      "cell_type": "markdown",
      "source": [
        "  - C. Generator Function Definition (using yield)\n",
        "  - A generator function is defined like a normal function but uses the yield statement instead of return to produce a sequence of results one at a time."
      ],
      "metadata": {
        "id": "o9Hlz0ErBn4c"
      }
    },
    {
      "cell_type": "code",
      "source": [
        "#structure\n",
        "def generator_name(parameter):\n",
        "    # Code block\n",
        "    yield item"
      ],
      "metadata": {
        "id": "Id76xM8NBxUZ"
      },
      "execution_count": null,
      "outputs": []
    },
    {
      "cell_type": "code",
      "source": [
        "# Example\n",
        "# A generator that yields numbers from 0 up to n-1\n",
        "def count_up_to(n):\n",
        "    for i in range(n):\n",
        "        yield i"
      ],
      "metadata": {
        "id": "1LdFLHfUB6CQ"
      },
      "execution_count": null,
      "outputs": []
    },
    {
      "cell_type": "markdown",
      "source": [
        "  2. Calling a Function\n",
        "  - Functions in Python can be called in several ways, mainly differentiated by how they pass the arguments to the parameters.\n",
        "  - A. Positional Arguments\n",
        "  - The arguments are passed and matched to parameters based on their order (position)."
      ],
      "metadata": {
        "id": "yb6J1lfFCCbS"
      }
    },
    {
      "cell_type": "code",
      "source": [
        "# Example (using the calculate_area function):\n",
        "# The value 10 is matched to 'length', 5 to 'width'\n",
        "area = calculate_area(10, 5)\n",
        "print(f\"Area: {area}\") # Output: Area: 50"
      ],
      "metadata": {
        "id": "nYgFlGWHCR1Q"
      },
      "execution_count": null,
      "outputs": []
    },
    {
      "cell_type": "markdown",
      "source": [
        "  - B. Keyword Arguments\n",
        "  - The arguments are passed by explicitly naming the parameters they should match. This allows you to call the function with arguments in any order."
      ],
      "metadata": {
        "id": "wY20N0ndCXmw"
      }
    },
    {
      "cell_type": "code",
      "source": [
        "# Example:\n",
        "# The arguments are explicitly named, order doesn't matter\n",
        "area = calculate_area(width=5, length=10)\n",
        "print(f\"Area: {area}\") # Output: Area: 50"
      ],
      "metadata": {
        "id": "RMGmSr4sCcvZ"
      },
      "execution_count": null,
      "outputs": []
    },
    {
      "cell_type": "markdown",
      "source": [
        "  - C. Calling with Default/Optional Arguments\n",
        "  - If a parameter has a default value defined, you can omit the argument when calling the function, and the default value will be used."
      ],
      "metadata": {
        "id": "c68hXBhhChoe"
      }
    },
    {
      "cell_type": "code",
      "source": [
        "# Definition Example\n",
        "def power(base, exponent=2): # exponent is optional\n",
        "    return base ** exponent"
      ],
      "metadata": {
        "id": "4fv6b9LHCsD3"
      },
      "execution_count": null,
      "outputs": []
    },
    {
      "cell_type": "code",
      "source": [
        "# Call Examples:\n",
        "# Uses the default exponent (2)\n",
        "result1 = power(3)\n",
        "# Output: 9 (3**2)\n",
        "\n",
        "# Overrides the default exponent\n",
        "result2 = power(3, 4)\n",
        "# Output: 81 (3**4)"
      ],
      "metadata": {
        "id": "Lko-JNkKCx9b"
      },
      "execution_count": null,
      "outputs": []
    },
    {
      "cell_type": "markdown",
      "source": [
        "  - D. Calling a Generator Function\n",
        "  - Generator functions are called like normal functions, but instead of returning a result, they return a generator object. You must iterate over this object to get the values it yields."
      ],
      "metadata": {
        "id": "abC32tP-C48I"
      }
    },
    {
      "cell_type": "code",
      "source": [
        "# Example (using the count_up_to generator):\n",
        "my_generator = count_up_to(3) # This creates the generator object\n",
        "\n",
        "# Accessing values one by one (or using a loop)\n",
        "print(next(my_generator)) # Output: 0\n",
        "print(next(my_generator)) # Output: 1"
      ],
      "metadata": {
        "id": "9G9tpmUEDMN8"
      },
      "execution_count": null,
      "outputs": []
    },
    {
      "cell_type": "markdown",
      "source": [
        "4. What is the purpose of the `return` statement in a Python function?\n",
        "  - The primary purpose of the return statement in a Python function is to exit the function and pass a value (or values) back to the caller.\n",
        "  - Key roles of the return statement:\n",
        "  - Terminates Function Execution\n",
        "  - Passes Data Back"
      ],
      "metadata": {
        "id": "C2EzkUdhDbNI"
      }
    },
    {
      "cell_type": "code",
      "source": [
        "# For Example\n",
        "# Function without an explicit 'return' statement\n",
        "def print_message(name):\n",
        "    print(f\"Hello, {name}!\")\n",
        "    # Execution reaches the end, and the function automatically returns None\n",
        "\n",
        "# Define calculate_product function\n",
        "def calculate_product(a, b):\n",
        "    return a * b\n",
        "\n",
        "# Call 1: Capturing the returned value\n",
        "result = calculate_product(5, 3)\n",
        "print(f\"The result is: {result}\")\n",
        "print(f\"Type of result: {type(result)}\")\n",
        "# Output: The result is: 15 (Type: <class 'int'>)\n",
        "\n",
        "# Call 2: Observing the implicit return value\n",
        "nothing = print_message(\"User\")\n",
        "print(f\"The value captured is: {nothing}\")\n",
        "print(f\"Type of nothing: {type(nothing)}\")\n",
        "# Output: Hello, User!\n",
        "#         The value captured is: None (Type: <class 'NoneType'>)"
      ],
      "metadata": {
        "colab": {
          "base_uri": "https://localhost:8080/"
        },
        "id": "5jpRJBrTD9Ji",
        "outputId": "18f7416b-917e-4cc2-aff7-c839774f27eb"
      },
      "execution_count": null,
      "outputs": [
        {
          "output_type": "stream",
          "name": "stdout",
          "text": [
            "The result is: 15\n",
            "Type of result: <class 'int'>\n",
            "Hello, User!\n",
            "The value captured is: None\n",
            "Type of nothing: <class 'NoneType'>\n"
          ]
        }
      ]
    },
    {
      "cell_type": "markdown",
      "source": [
        "5. What are iterators in Python and how do they differ from iterables?\n",
        "  - Iterables\n",
        "  - An iterable is any Python object that can be \"iterated over\", meaning it can return its members one at a time. In simpler terms, if you can use an object in a for loop, it is an iterable."
      ],
      "metadata": {
        "id": "5cKmZ1x_ESb0"
      }
    },
    {
      "cell_type": "code",
      "source": [
        "# Example (List is an iterable):\n",
        "my_list = [10, 20, 30] # This list is an iterable\n",
        "for item in my_list:   # The 'for' loop works on the iterable\n",
        "    print(item)"
      ],
      "metadata": {
        "id": "H0GPlhbvEykB"
      },
      "execution_count": null,
      "outputs": []
    },
    {
      "cell_type": "markdown",
      "source": [
        "  - Iterators\n",
        "  - An iterator is an object that represents a stream of data. It is the object that does the actual work of traversing and yielding elements from the iterable.\n",
        "  "
      ],
      "metadata": {
        "id": "zLJr1qwlE6_q"
      }
    },
    {
      "cell_type": "code",
      "source": [
        "# Example (Using the iterator on the list):\n",
        "my_list = [10, 20, 30]\n",
        "\n",
        "# 1. Get the iterator from the iterable\n",
        "my_iterator = iter(my_list) # Internally calls my_list.__iter__()\n",
        "\n",
        "# 2. Use the iterator to get the next elements\n",
        "print(next(my_iterator)) # Internally calls my_iterator.__next__(), Output: 10\n",
        "print(next(my_iterator)) # Output: 20\n",
        "print(next(my_iterator)) # Output: 30\n",
        "\n",
        "# 3. Next call raises StopIteration\n",
        "# print(next(my_iterator))"
      ],
      "metadata": {
        "colab": {
          "base_uri": "https://localhost:8080/"
        },
        "id": "byj8r0KCFEqr",
        "outputId": "54ba154f-fd21-4bd7-d2ba-4d4babb5a030"
      },
      "execution_count": null,
      "outputs": [
        {
          "output_type": "stream",
          "name": "stdout",
          "text": [
            "10\n",
            "20\n",
            "30\n"
          ]
        }
      ]
    },
    {
      "cell_type": "markdown",
      "source": [
        "6. Explain the concept of generators in Python and how they are defined.\n",
        "  - The assignment asks for an explanation of the concept of generators in Python and how they are defined, including an example.\n",
        "  - Here is the detailed explanation:\n",
        "  - Concept of Generators\n",
        "  - A generator in Python is a special type of function or routine that can be used to create iterators in a simple, clean, and memory-efficient way.\n",
        "  - The core concept of a generator is lazy evaluation, which means values are generated on-the-fly, one at a time, only when requested. This makes them ideal for:\n",
        "  - Handling Large Data Sets: They don't store the entire sequence in memory. Instead, they produce the next item in the sequence as needed.\n",
        "  - Infinite Sequences: They can represent infinite sequences since they only calculate the parts of the sequence that are actually consumed."
      ],
      "metadata": {
        "id": "lqgYH5ndFPtZ"
      }
    },
    {
      "cell_type": "code",
      "source": [
        "# Generator Function Example:\n",
        "# Definition using 'def' and 'yield'\n",
        "def simple_generator():\n",
        "    print(\"Starting generator...\")\n",
        "    yield 1\n",
        "    print(\"Resuming execution...\")\n",
        "    yield 2\n",
        "    print(\"Finished.\")\n",
        "\n",
        "# Calling the function returns a generator object\n",
        "gen = simple_generator()\n",
        "print(\"Generator object created.\")\n",
        "\n",
        "# Execution starts and pauses at the first 'yield'\n",
        "print(f\"First value: {next(gen)}\")\n",
        "# Output:\n",
        "# Generator object created.\n",
        "# Starting generator...\n",
        "# First value: 1\n",
        "\n",
        "# Execution resumes and pauses at the second 'yield'\n",
        "print(f\"Second value: {next(gen)}\")"
      ],
      "metadata": {
        "colab": {
          "base_uri": "https://localhost:8080/"
        },
        "id": "73bXavlSFsI-",
        "outputId": "4f62500f-d03b-4470-93f8-9747694c0096"
      },
      "execution_count": null,
      "outputs": [
        {
          "output_type": "stream",
          "name": "stdout",
          "text": [
            "Generator object created.\n",
            "Starting generator...\n",
            "First value: 1\n",
            "Resuming execution...\n",
            "Second value: 2\n"
          ]
        }
      ]
    },
    {
      "cell_type": "code",
      "source": [
        "# Generator Expression Example:\n",
        "# Definition using parentheses\n",
        "squares_generator = (x * x for x in range(5))\n",
        "\n",
        "# Iterate over the generator to get values lazily\n",
        "for square in squares_generator:\n",
        "    print(square)"
      ],
      "metadata": {
        "colab": {
          "base_uri": "https://localhost:8080/"
        },
        "id": "K9Av_od_GLZU",
        "outputId": "c92680f0-5f4c-4c96-ce9c-e96647a0e746"
      },
      "execution_count": null,
      "outputs": [
        {
          "output_type": "stream",
          "name": "stdout",
          "text": [
            "0\n",
            "1\n",
            "4\n",
            "9\n",
            "16\n"
          ]
        }
      ]
    },
    {
      "cell_type": "markdown",
      "source": [
        "7. What are the advantages of using generators over regular functions?\n",
        "  - Here are the key advantages of using generators over regular functions (especially those that return a full list or container of data):\n",
        "\n",
        "  - Memory Efficiency (Lazy Evaluation): Generators produce items one at a time, only when requested (lazy evaluation).\n",
        "  - They do not store the entire sequence in memory at once. This is crucial when dealing with very large or potentially infinite sequences, as it prevents memory exhaustion.\n",
        "\n",
        "  - Performance Improvement (Faster Start-up Time):\n",
        "  - Since generators compute values on demand, they have a faster start-up time compared to regular functions that must compute the entire result set before returning.\n",
        "\n",
        "  - Representing Infinite Streams:\n",
        "  - Generators can produce an infinite sequence of data because they only compute the next value when requested. A regular function that tries to return an infinite list would run forever or crash the system.\n",
        "\n",
        "  - Cleaner Code (Simpler Iterators):\n",
        "  - The use of the yield keyword makes generator functions much simpler to write than creating a custom iterator class, which requires implementing both __iter__ and __next__ methods.\n",
        "\n",
        "  - Pipelining:\n",
        "  - Generators are excellent for setting up efficient data processing pipelines (e.g., streaming data from a file , transforming it, and filtering it). Each step of the pipeline can be a generator, processing data iteratively without needing large intermediate storage"
      ],
      "metadata": {
        "id": "kbB_6b-jGWqc"
      }
    },
    {
      "cell_type": "markdown",
      "source": [
        "8. What is a lambda function in Python and when is it typically used?\n",
        "  - A lambda function in Python is a small, anonymous function.\n",
        "  - Anonymous: It is a function defined without a name (unlike a standard function defined with def).\n",
        "  - Single Expression: It is restricted to a single expression. The result of this expression is the value automatically returned by the lambda function.\n",
        "  - Syntax: It is defined using the keyword lambda.\n",
        "\n",
        "When is it Typically Used?\n",
        "  - Lambda functions are typically used as throwaway functions that are needed only temporarily. They are most commonly used in conjunction with Python's built-in functions that expect a function object as an argument, such as:\n",
        "  - Sorting Key: Used as the key argument for the sort() method or sorted() function to specify custom sorting criteria (e.g., sorting a list of tuples by a specific element ).\n",
        "  - Mapping and Filtering: Used as the function argument in map(), filter(), or reduce() to perform a quick operation on elements without formally defining a full function.\n",
        "  - Simple Callbacks: Used for simple event handlers or callback functions where complex logic is not required.\n"
      ],
      "metadata": {
        "id": "-hLLrXTBHJZz"
      }
    },
    {
      "cell_type": "code",
      "source": [
        "# List of tuples: (item_name, price)\n",
        "items = [('laptop', 1200), ('mouse', 25), ('keyboard', 70)]\n",
        "\n",
        "# Use a lambda function as the key for the sorted() function.\n",
        "# 'x' represents each tuple, and x[1] is the price (second element).\n",
        "sorted_items = sorted(items, key=lambda x: x[1])\n",
        "\n",
        "print(sorted_items)"
      ],
      "metadata": {
        "colab": {
          "base_uri": "https://localhost:8080/"
        },
        "id": "nvoTmVaoH0co",
        "outputId": "4858adba-f7dd-4e0c-e98b-c30e0044be2d"
      },
      "execution_count": null,
      "outputs": [
        {
          "output_type": "stream",
          "name": "stdout",
          "text": [
            "[('mouse', 25), ('keyboard', 70), ('laptop', 1200)]\n"
          ]
        }
      ]
    },
    {
      "cell_type": "markdown",
      "source": [
        "9. Explain the purpose and usage of the `map()` function in Python.\n",
        "\n",
        "Here is the detailed explanation:\n",
        "  - Purpose of the map() function: The primary purpose of the map() function is to apply a given function to every item of an iterable (like a list, tuple, etc.) and return an iterator that yields the results.\n",
        "  - It is a clean and concise way to perform an operation on all elements of a sequence without writing an explicit for loop.\n",
        "\n",
        "Usage and Arguments\n",
        "  - The map() function takes two main required arguments and an optional third argument: map(function, iterable1, [iterable2,…])\n",
        "  - function (Required): The function that is executed for every item in the iterable(s). This function must accept as many arguments as there are iterables provided.\n",
        "  - iterable (Required): One or more sequences (e.g., lists, tuples) whose elements will be passed to the function.\n",
        "\n",
        "Return Value\n",
        "  - The map() function returns a map object, which is an iterator.\n",
        "  - This iterator yields the results of applying the function to each element of the iterable(s) one at a time, lazily.\n",
        "  - To get the final result as a list or a tuple, you usually need to explicitly convert the map object using functions like list() or tuple()."
      ],
      "metadata": {
        "id": "T29b865XIaI9"
      }
    },
    {
      "cell_type": "code",
      "source": [
        "# how to use map() to square every number in a list:\n",
        "# 1. Define the function to be applied\n",
        "def square_number(x):\n",
        "    return x * x\n",
        "\n",
        "# 2. Define the iterable\n",
        "numbers = [1, 2, 3, 4, 5]\n",
        "\n",
        "# 3. Use map() to apply the function to all items\n",
        "# map_iterator is a map object (an iterator)\n",
        "map_iterator = map(square_number, numbers)\n",
        "\n",
        "print(f\"Type of map_iterator: {type(map_iterator)}\")\n",
        "# Output: Type of map_iterator: <class 'map'>\n",
        "\n",
        "# 4. Convert the iterator to a list to see the results\n",
        "result_list = list(map_iterator)\n",
        "\n",
        "print(f\"Original list: {numbers}\")\n",
        "print(f\"Squared list: {result_list}\")"
      ],
      "metadata": {
        "colab": {
          "base_uri": "https://localhost:8080/"
        },
        "id": "_JDiyKdCJW9s",
        "outputId": "4dfa8f30-56ac-40e2-f964-aa5eb9280d4e"
      },
      "execution_count": null,
      "outputs": [
        {
          "output_type": "stream",
          "name": "stdout",
          "text": [
            "Type of map_iterator: <class 'map'>\n",
            "Original list: [1, 2, 3, 4, 5]\n",
            "Squared list: [1, 4, 9, 16, 25]\n"
          ]
        }
      ]
    },
    {
      "cell_type": "markdown",
      "source": [
        "10. What is the difference between `map()`, `reduce()`, and `filter()` functions in Python?\n",
        "  - These three functions are powerful functional programming tools in Python, primarily used to process sequences or iterables without explicit loops. Their core difference lies in their purpose and the result they produce.\n",
        "\n",
        "Summary of Differences\n",
        "Input Function's Role:\n",
        "  - map(): Transforms data (e.g., x→x square).\n",
        "  - filter(): Evaluates a condition (e.g., x>10→True/False).\n",
        "  - reduce(): Combines two previous results into one (e.g., accumulator+current).\n",
        "\n",
        "Output Size/Type:\n",
        "  - map(): Output iterable is the same size as the input iterable (one-to-one mapping).\n",
        "  - filter(): Output iterable is smaller or equal in size to the input iterable.\n",
        "  - reduce(): Output is a single value.\n",
        "\n",
        "Note on reduce(): The reduce() function is part of the functools module and must be imported before use (from functools import reduce)."
      ],
      "metadata": {
        "id": "JiscVknXKF08"
      }
    },
    {
      "cell_type": "markdown",
      "source": [
        "11. Using pen & Paper write the internal mechanism for sum operation using  reduce function on this given list:[47,11,42,13];\n",
        "\n",
        "![WhatsApp Image 2025-10-01 at 06.14.27.jpeg](data:image/jpeg;base64,/9j/4AAQSkZJRgABAQEAYABgAAD/2wBDAAMCAgMCAgMDAwMEAwMEBQgFBQQEBQoHBwYIDAoMDAsKCwsNDhIQDQ4RDgsLEBYQERMUFRUVDA8XGBYUGBIUFRT/2wBDAQMEBAUEBQkFBQkUDQsNFBQUFBQUFBQUFBQUFBQUFBQUFBQUFBQUFBQUFBQUFBQUFBQUFBQUFBQUFBQUFBQUFBT/wAARCAL4AvQDASIAAhEBAxEB/8QAHwAAAQUBAQEBAQEAAAAAAAAAAAECAwQFBgcICQoL/8QAtRAAAgEDAwIEAwUFBAQAAAF9AQIDAAQRBRIhMUEGE1FhByJxFDKBkaEII0KxwRVS0fAkM2JyggkKFhcYGRolJicoKSo0NTY3ODk6Q0RFRkdISUpTVFVWV1hZWmNkZWZnaGlqc3R1dnd4eXqDhIWGh4iJipKTlJWWl5iZmqKjpKWmp6ipqrKztLW2t7i5usLDxMXGx8jJytLT1NXW19jZ2uHi4+Tl5ufo6erx8vP09fb3+Pn6/8QAHwEAAwEBAQEBAQEBAQAAAAAAAAECAwQFBgcICQoL/8QAtREAAgECBAQDBAcFBAQAAQJ3AAECAxEEBSExBhJBUQdhcRMiMoEIFEKRobHBCSMzUvAVYnLRChYkNOEl8RcYGRomJygpKjU2Nzg5OkNERUZHSElKU1RVVldYWVpjZGVmZ2hpanN0dXZ3eHl6goOEhYaHiImKkpOUlZaXmJmaoqOkpaanqKmqsrO0tba3uLm6wsPExcbHyMnK0tPU1dbX2Nna4uPk5ebn6Onq8vP09fb3+Pn6/9oADAMBAAIRAxEAPwDR/Z/+C0Hw28GJb3hW7vbo+bIGHCGvS38OadJ96zjb6oD/AEq/sp1a2FzyRnL4d0+L/lyjH0QUh0DTj1tIz/wEVpk561HilZF88jM/4R7TT/y6RflQnh7TP+fSL8q1801AfU07Bzy7mcdA089baKlTw9pn/PtHWlmnJS5UHtJGb/wjWm/8+cf51C/hvTh/y6R/nWtk+ppOtLkQe0kZf/COWH/Psv8A31Tm8O2AGBAAPTea080nWnyoXtH3Mr+wrT/nmai/4Riw3/8AHuv/AH1W1ikQZpj9o+5lt4csG62yH6tSxaBYRdLdR9GrUptLlDnfczToloesJph8PaevS1QfRq16ZjNHKg533M3+w7T/AJ4D9KT+wbA/8sV/OtPFLmnYXOzL/sKx/wCeK/maQ6LaN1hB+uK1c1A6kUWFzMp/2JYf8+o/IU0+H9PbrAh+prQzRuPqaLD52UE0LTyMfZkx6bqY+hWH/PvFWklGc0uVBzsyl8PaaetpGfxp39haef8Al2jrSwBS5PqaOVBzPuZh0PTm62sZ+tC+HtPHS1RvqorT2n1P50gTHTj6U7BzS7lD+xrAf8uUf/fAp7aJZN1tIz9VFXX4pHAFFieeRTGk2ijAtowPQIKe2mWanItowfUIKtZo2n1NFhXZU/s60/594/8AvgUv9n2w/wCWMf8A3wKs0Yosguyr/Ztr/wA8Yv8AvgUpsIG6wRn6oKs4oosguyv9kg/54x/98CgWkA/5Yx/98irGKMUWQXZEltCf+WSf98in/ZYR/wAsY/8AvkU7pS5osguxnlof4F/Kjyk/uL+VKnNLRZBdibQOw/KlxmiiiwXYYwc96KKKAuxHpF560dadgCgLsKXcT3NJTd9AXYmBjGOKF56803NCGiwXYjpSbiO5p2c0YosF2NQn1pw+Sl2YpHU0WQXYuSO9JRRRYLsVX29OPpQhPrSYo6UWQXCjGKbmnUWC7GdaR+KWjrQF2GB6UdKKKLBcMUx2Ap9RuhoshDkJ9aZT+lJsosgG5p+ec96TFPxQBETu68/Wnq4PXmkxUecUWAkptGaKAE2EUmSKdmmUAGKenPXmjFCUWAKhJy/NTPxTETNABSJzS0JRYAxRgGiiiwChFXrSDjpxSPTk5osA3cB2/SlxSOAO1Cc0DHZpMD0FI/FCc0WELRRRUjN3FRV4p8C/j/B438N3H9tP5N/attLhWIcevFekr490tn+Rp2/3bZz/ADrVoR0GaVOa53/hNrH/AJ4X/wD4BSf/ABNEfjWxTrBqH/gHL/8AE1AHR0vSub/4Tex/55Xn/gJL/wDE0n/Cd6b6Xf8A4CtQB0lLnFc1/wAJ/pH/AD1l/wC/Lf4U1/iBpA/5bS/9+WoA6VOaWuaX4gaO3S62fVD/AIUw/EjQQ21tQQH/AHW/woA6iiudTx7op/5fo/8Ax7/Cm/8ACf6J/wA/8X/fX/1qAOizTckd65//AIT3RP8AoIQ/99f/AFqa/jnRx/y/J+R/woA6TNMzWCnjvRD/AMxKD/vr/wCtSnxtoZ+7qcJ/4H/9amB0GaKwP+E30X/oIwf99/8A1qH8d6GP+Ylb/wDfz/61IDczT653/hOtF/6CNv8A99//AFqf/wAJxov/AEE7b/v5/wDWoA6B+Kj61h/8J1ox/wCYlb/99/8A1qQ+NtGC7m1K3A/3/wD61AG1RWH/AMJlo3/QStv+/v8A9ak/4TTR/wDoJW3/AH9/+tQBu7sUVg/8Jjo//QQtv+/v/wBanJ4z0Y/8xO3/AO/n/wBagDcorA/4TXR/+glb/wDfz/61PTxpoh/5ilv/AN/P/rUAbuaN9YX/AAm2jf8AQRtv+/n/ANaj/hNdE27v7Stsf7//ANagDc3Zo61gf8Jno3/QRtv++/8A61KvjTRz/wAxGD/v5/8AWoA6HFN31if8Jto3/QQt/wDvv/61J/wmGj/9BC3/AO/n/wBagDcTmkrD/wCE10YP/wAhCD/vv/61OTxnox/5iEH/AH3/APWoA2X4pawn8a6L/wBBKD/vr/61KPGmjL11GA/8C/8ArUAblNQk1inxpozdNRgH/Av/AK1M/wCEz0cf8xCL/vr/AOtQBv03NYX/AAm2jf8AQQi/76/+tTx400WXpqEI+jf/AFqANrfinpzXNt420VJBGdQi3sNwXJ3flinf8J5ooT/kIRfn/wDWoA6Hafem5rB/4T/RNn/IQj/P/wCtUS/EDRH6Xqfk3+FAHR5oQk1zh8c6Sfu3aH/vr/Clj8c6SyZNzt/4Cf8ACgDoqTJ2da54ePdHVObr/wAcP+FL/wAJ1o//AD8/of8ACgDoc0mK5/8A4TnSP+fg/kf8Kh/4WHo3neX9qG/G7Zg5/lQB1OB6CmYxXOv490n/AJ6y/wDfpqQ+P9KHRpT/ANsmoA6GnYrm/wDhOdM/56Sf9+WoTx1p5/huP/Ad6AOl30zOa5xPHWnn/lnd/wDgM1O/4TO0/wCeV1/4DtQBvucU5Oa53/hNbI/8u17/AOAkv/xNI3jS1HS1vx/25yf/ABNAHS7KbXPf8Jrb/wDPrff+Ar/40f8ACZR/9A/Uf/AST/4mgDocU3Nc6/jJR/zDtR/8BJP/AImhPF+f+YZqP/gDL/hQB0NFc/8A8JaP+gVqv/gG/wD8TTT4rdemk6m3/bq3+NAHRU3Nc8niuY/8wbUv/AZv8aQ+KZn6aNqQ/wC2NAHRb6d1rmx4hvG66LqA/wC2VKviK9df+QNqH/fr/wCvQB0eKK53/hJr7Z/yAr78lpP+Env/APoA3n/fUf8A8VQB0G0+9PrnP+Ej1P8A6F69/wC/kf8A8VTf+Eh1n/oW77/vuL/4qgDo6bsrnv7a1n/oX7v/AL+x/wDxVPk1vWV+74fuT/21j/8AiqAOiwPQUzFc7/beuL18PzH63MX/AMVSHWtd/h8Pyn/t5h/+KoA6PZTXGK59NZ1z/oCN/wCBUX/xVL/autn/AJgrf+BMX+NAG7mpMYrnf7S1z/oCn/wKi/8AiqP7U17/AKAw/wDAtP8ACgDezmjJFc+mqeID/wAwJf8AwLT/AApXv9e2bv7GXd6faFoA6HFOwB2rm/7R8Qf9AWP/AMDV/wAKX+0vEX/QHi/8ChQBu/xUbT6/rXP/ANqeIv8AoC2v/gcv+FH9oeJP+gVa/wDgav8AhQBv780ZIrnkvPEZ/wCYRa/+BdI2peIzs26Land1/wBM6UAdE9HSubk1HxIvTSLM/wDb5T2vvEp66RZr9Lw//E0AdD1p3SucTUPEZ/5hdn/4Fn/4imm88Uq3GmWR+t2f/iaAOlorm5brxUrkDTLEj1F0f/iKKAMj9nzwEPA3w606G4hVdSnXfM20bxnoM9a9PCY6cU+K3ESelLVgRohNS07AFGKAGYrn77x3puna7b6XK8hkkIBdVysbHsxrV1WaWHTbmWBd0qxsVArz/S4rXVvD9j5Ege+vpkkuGJO5T1I59BQB6fk+ppvmZ7/rTQ6xoGaTAXqxxj9aZHLHPEJY3R426OhyKAC5lSBC8x2IPvOzcCm+VHKuSAT6kVx3xD160+yWmlvdRxS3Nwsb4JJVBySQPauq0nVrLWIS9nKsqA7WABBH51AE/kKP4R+VNSFf7o/KrBK4zuCr6tUckiRBizhON2Tjb+dADHt0H8C/lTfsyH+BfyFSrJ5kYOQyk7lK9xTnKirAi8iL/nmn/fIp4giXpGg+iilpjzYqAG/Zof8Ankn/AHyKwfE9+unwmCzt4pb9xtiXYMZ9T7VvlgI97HAri0vFii1PW58sxzBZp3IHAI+pqwLngK7u9Y0WRtVt4Fvop3ido0AUgdxXSfZIP+eMf/fArO8J6c2leH7aCTmVgXkz3ZvWtaoAiS3g/wCeMf8A3wKbLaRSDHlJj02ip8YoRhQBB/Z9v/zwi/74FN+xW/8Azwi/74FWXOKhLgNtZwDQBE9pAP8AljH/AN8ClS2i/wCeSf8AfIqxtU03otWBGlpEf+Waf98imNawp/yxj/75FToaxPGeqyaXoshgBN3KwihA6l26UAaNq9nfJvgEMibtm9ACNwbDD8Kle1hAx5MePTaK5/wD4bTwlp9zpsbtJEtw0yu5y3zDJ59zzXTdaAIPssf/ADzT/vkVKkUX/PNP++RTsru255oxioAPIj/55p/3yKr6jdW2mWUlzcCNIY/vNgcVaRwaz/EWjQ+ItGutOmJRJ12ll4waAKeleJNF12dobG5gmnRd7ICASvqMitdIk/uL+VYmieGW0vVHv7qZJrry/JUwxKgC++K17bULS8llit7iOeSL/WIjcrQBP9nU/wAK/lSGIHqKkQ5p7sqLuICj/aNAEDRAdABS4p+8GmVYBgegqnquoQ6HYTXko+SNThV6t/dA9zWgiZrkfEOowXOs+VcuP7O0sfaLhR/y0k/gQe9QBzWmaNdy/EvTb+5uJzczWslxNb/wRIeEGOgOa9PxXP8AhGylmuLrXL1Ct5f/ACqjdUiX7oro3GKCRmKAAOgA+lFK/FBQ4AL04+lNc8U53Cru3AD+9xj9aavzru7UEgZCe5pMUYHoKKAI72/j0yxnupW/dRIzkk1w/h4X1946TUZ7uUGXTzO9kWOyIM+IxjoG2qSfrW14xc3SadpQI23s4Mw9IU5b8COtR+CyL7+0tYZflvLgiIH/AJ5Rjan4HJoKOmpAxHQn86F+fpS4oAXcfU01DTcH1NOSgBMkdzTJ50treSaWQRxxKXd2PG0d6lxXGfE9rq90y38O6e+y81lvJZ858mAf6xvagDpNI1q01/Tbe+sZRPazrw6mrKSiRSwYYBIbDZww7Vj6BoGneAfDEVlZK0FjZRkkuc8BetZ3w3tprXwbZXF9IPtF68l3IztnaJH3KOewHH0oA6rNGKVCpXdnikwP74oAbnNOSgAbtvys3tnP5ZrI8VajLpXh6+ngOJ2Xy4fXe7bRigC3omuWmv2bXVnKZ7bzXh3gYyyttJHtV0MR0JFYHgXQ18MeF7HTA2TGCxPuTkn8TW8AF6n86sk53xr4xtfBGkJqFyrSCSQRRxL1YmuhST5Fry74nsNe8WaDpIG5Y5UYg8jLPwf++VJr0tpFhYKx+Y/dBIBb6CoAlekHHTj6UdaKChPLHpS4HoKXNGVoAa/FG4en6UPUac0AS4HoKZtA7CkR6duHtQAHnrzTIyB0AFJ5yeY0fmIzqAxVW+YZ9RVee8gsdvnzRx+YcLvONx9BQBcQ0zNNluobeAySSJFEPvSSNgCnRsssSOrBwRuVl6GgAzTc1JiobqeKyt5Li4YJAiF2b0xQA7aR3NN2g9h+VNsr2K/to7iE7o3RXU+tPoAVDmkoQh1OMM4+8FPShTndtINADc0/NJiigBmzFcd4Jv7xde8S6ZfOzm3uzLAZCSTE/wB0DPYeldlmuTIEXxLbjHn6YGOO5WTGfyoA6/NMkTPXmnUvWgBmzFSjjpxTc0ZoAASMgHAopBRUgbuKjfivM/Avx40Tx7oy3mlw395MoVZoIrckqfrXU/8ACT30n3PD+qH6pGv82rUDpdw9Kax2/eYCuf8A7e1TZ8vh29k/7aQj/wBqVQ12613U9JubaDQ9Qs7h12x3KyxAqf8AvqgDrfl8ot2PGK5yy0+G78SyTxRoi2yEblUAFz1/GsS28Z68lomnzeEtSGprHgshRoc+u4vmtPRdQvtN0/y5tBvmuJDuch4evr/rKAMbxm83jHWl8OWrtDbxYmu7mMkMqjooI9a2/AVj/Zum3kClvsiXTiDcf4KrxzyWU17Nb+HL+O5vMMz/ALo8joM+bVP/AISDWdL0pYZPD14JjlV2bCCff5qALGj+FrCfxNfaosPmshZd8nzZdvTPYUmv+LLe01c6PYbYbop5ksm3CqP6mrOn6vc2NhHbroOpeYFwx2pgn1+9XMDUr2C3jaXwRdXuoIzHzp1jzg9BndQA7xFrmqaL8NfMup5Zb24mKpKMiQKzcYA5qlqk+peIPDGm6HafaU3oqS3LjDn+tbunX11JMt3qekalc3UeMRi2GyPHTAqWz8Rt/aEl7daNqcbL8kCC0YhffrQBf8V+I/8AhCtEto4R515hYokPO4jrWTq93r91pS6l9pbTpQ6GCzjXJkO7o3rWO+pHxV44W/utP1FtL05dsUZtHG+U9TjPaujvtbS+1Sxmax1H7PbFj5f2CXBPY4x2oA7R3wlc1M95rclwIbiSzsIThpoxlmI67T6Ul74uiEMsYstUjlK7QwsmOD+dciviHWrjw6ulf2TcacEg8tr0QSyZPqABUAaOleOLi78I67NcIR/Z0jxQ3R6TL/e96v8AhezbxBFa3kiGPTrZFEMTfxv64ririLUJ/CX9km2ntEjhAWO2sZ3NyR3JMfGe/rXR6D8Qpm+z2w8O6lp1nAqgvLaSfoArVYHo9FYP/CZ2P/PDUf8AwXT/APxuo/8AhN7L/n21D/wAm/wqAOgzWF4q8XWHg21invC7CZxEkSDLsx7Ck/4TG1/59tQ/8F8//wARXn2veIrbxH8Q9Oje3vfsellZ2Bs5SRIeh27dx/OgDtY/GssN1FHqeny6VFMhkgnuCCHI52kdjisjxE1/faNLrS3klmsbK1tAhKlxu/iA6/jVbxdqun+JNU0W2nt737LDcG4lcWcvOF6H5eh7+tX/ABF4lsL9LaJBdGKOTMg+yTYYen3asCx4j8ZNY6lZ6epNqbgAS3TrlYGPYgdKf4cnvrPxBfWUuoHUbM26TRu/zFW/u5rD1HX7eHUrq5gRL22vQjTW15bTRkEdxmKtLRvEOiWlhKkVoulPIvIjt5Bn8loAZc+Jdavdd0mbT0RNAe88iVmXLygq+GB7DitDxVcIfE/hyKaRUto3nvJGbp+7jwn6sDXP+HviFpelaNa2V7a3tvdWIC7UtGZXx3B9eawNT17/AITXx7YtcJcafoFvaFnkkjYGXc2dmB04AGPapA6zSPEep6r41sJOINFuoJvLiYYeUJ91/auz1G/Sw0+a6fIVFrjtX1jSprywvLLUEtrqxQxIPJbaUb+Hp09ql1jxVYazoVzZi/hS5P3SQ20/pVAR6qmsxaJL4ge9lt7iIeetlnCFPQjpSeFfHF1ceDNS8Q6wVWBHZoVQbcKOAPck1ieLfFc/iXw9Ppkf2WyaQKryNOWGB1AGKz9U1SK+0fStPUwx6VZSrLJp8cm+WfHY4GMUAeiWXjBFttAS/iNvqGrY2QKOU+XcxPsKxPix4uvdJj07Q9DY/wBu6rJtj28+VGOrH0+tYD6kNU1228Ufb7G21C2V4LXT7mYmJYCMZJUfex3q9od7p1r4un1zW9a064vPs6wwNG22KBe+CTnJoA2viJPr9po0zWDwfZVhXzpmyHGOuMVc8LeFYPCEd9qdw8UlxJH5jyxgKpUdSawdU8VpPqF8LbXNNu9Pu41jEctxt8kDqcbeas+INb0zUPCSaNBrVsHkjS2mkMw+73I+XvQBkaRr/ijxloOpeIorpdJs7Uu9lbhf+PiNeQW+o9afq2u6j420awurWWbToLqSOO0jjJSSZ+rMcc7MVu6hrnhu68LPoUOswWcLRLBlWONnftXL3nj/AE7TPiDolpBELrR4bTyIbmF/3VufyqAPX0UqiqTk+ppKwv8AhO9E/wCgnD+f/wBao38f6CP+YnB+Z/wpgT+J/Gdh4Xs3knkMk6LxBD8zt9ewrzqGSPQ7aLWfFUplutSuBcW+lxnJyfu7x3x2z0pnxI8a6JpGnWlro7W5ub25jM820nZEG+ZmJH3T71U8aQ6C9tY3z+IvO1MXMavdsN8aIepVSOMe1UB6hpvjWyurS+luVawksWxc28/DR/3cf3q57Q/ibL4iktLeysjd3ksuZYlyot4B0diepPpXPeFtS0PVPFWp6zqeufb0GyGMTxiJHYfxbQuDWt4Z8aeH7XXte8yXypnnwkgiIRoh90DjvQB6QnNHVq54/EHQV+7fKf8Atk9c/wCKfHUEc2lXunXM11b20zPc2sGVaRSuADxyM+tQBX+MOoJFbyWlxPPbxGzY2ogyGlnY4ReOuBzWjN4q1aebRrPS7YiGSRFkubsYaWMfeZR/jVGz1/Tdf1O11bxBcQQC1ObSwCl/KYjAdjjk471JrPjO3tNaub2BY9RikthBGAzRmEnr1HegDX0XxtNrXjOfSobLOnLCzx3YP+sbdtz7CrHiPU9RnvjpGiyRx3giM09xIMrCv8Ix6muG+Hl1J4e3z6jf2QkdVT9zFKxEYOSPzrWu/F0eneIr+90+KK/W8RB+8dovKC9c5HNWBmxeJL3XbyK0bjWWtRZYUcxOzfvZPYY4FejuLbwx4dcxqRb2VucKvH3Vz/OvPvAOq6TZajq2s6nOi6xdTNENkTFY0HUDjgV02t+K9I1bR7y1S8dTNEycwtRIDG8UeMtY8MfDC11BlQ+IrpERV2/KJG5Ix7Ctrwv4uuNe1bWrZ7YpZacqAXfaV/mEmPYECuT1LWo/F1/or3wjis9OufPeFIppDO+zH93pmn2/jWLw1BPpsWnS3sDtLsubYBT853fvN4GOpoA0fBmuatqXiyBri7aey1GykuEtguPs6LJhCfcjvXonSvn3wN47k8KXsNte6NqV7fO6Wv2mGHMNvbA5zk89a9f/AOE+0b/nvN/4Cy//ABNQB0Q+brxXFeDJR4m8Q6xr/wAxtUc2NlnoY14Zh9T1qj8QPitYaH4WupLSWZ9RnXybZfs7glj0I96s+Etf0bwt4b07S4mu3EEXzN9jmyWPU/d6nvVgavjuR7jQm0yLIuNSlWzTHXax+c/gqk1n+J9J/wCEr1YaDFNJa2FnZrIyxMVbew2xLkdhtPHvVK98X2U/jbTZZUuzY2tpK6MLSbAmZtgz8vXaG59zRqWqiXVZ7ywvrizS5iSC4/4lkzkBe65HufzoAxrv4h37eBvFMoHlXdg62FtIh5eTpnPrnvUN5D4m8KaBpF/Lq0t7qt9JFatbT52KX6tjpkVdl0rQ4bJLW0+2pafbI7yeJ7CcmRl65OOc1t6lqml69dadLNb6mws5hOirYTgEjoD8lBJU1PwxF4dm0K5huZ5tQlvI4ZHdyRKpVt3HtgVJ8VdUuopfDWl2MS3F7eXodVJwP3Yzk+2eam1TxBa32q6dctDqPlWcjSMDp8+WJ6Efu/euf8Tzyaz4v07W7ZL5F0y3IgRrGbDOzYbPHSgDejfWvCur6UuoaiuqW1/P5DfughicqzDp2+U1a8US6jrGqNo+nXb6elvafa7m4T7wyzKgB/4Cc1kQ6zc69qNhe6pp11a29i7SRW8VvNIWlwVDnEfQZPHuareI4RrOuT3aX2tWNnc2ywXEMGnOpkCEtgOVyM5P5mpKMT4XPd+NvGN3rt2S1lYRxxxyk5EkoiUEj6ZP5mtrVLGfWoH8VzXLwizlMsUYchPKTjGPc0nw01XTNB8Hpp9tZXaLvmdlW2cnlsDv7Csu+n1nU/DkvhyOwurHT2X95ftbSF2XO7GzGM1QHpHgy4vr7wxp1zqLq97PEHdVGMZrWfcK878MeL/ESXn2TUNEkXTooAkdzBBJ5kmOny7cCumbxeW+7pOpn/t1b/GoA0tciv5tHu49MZYr5o8Qs/IBPQ15tJ8RLrwlHe+G5JW17xXHci3txjGQ6oyPJ2GM8gV1mreL7220m6l07Q9RmvBF+5RoMAt715/4U0e+0XV4dSuNE1a8uZb97id3hzMQItiZyeeQKuIHrXh6zvNO0aCLUbv7bej/AFk2ONzdcewq7JJHHC8ueFBb8qwm8VzuG8rRdVdwvAMGK5/Q9T1eHwy9pqOm6pNfyJKTIY1OC3QZqANnwhqE/wDwj8mq6pP8rM9x87YCp6D2pPhxrl14k8Lw6jd/M9zLIygDGE3fLiuC1ufX38KXFrqml3FtptpCY1it4yWnboA5zwCewrsfDmrz6RoFhaxaBqKCOJUC+WgA/wDHqANbRPDq2GqahqcrvLeXswYs7k+Wg6ADsPaud+LFjaDQLrV72bAs4gLSPPImLdh3NP0XUddh1rWb2+0rUZILqRfs8Q2ERxjg4G/g5rO8UWN/4s8S6RLdaLqH9k2GZZLban72UdM/NyKAKPkap8YdS+zzifR/DVk6iWA8S3Um3dgnsPavVYI47eCKCIbY0GPl4AFeez6h4l0nUbu40vQZbq3vH814bkqhBxjGQ3pWr4f8TeIjp/8AxNPDdz9s3txaFCu315agDsc1558SNN16fSNTeHVoU0+RAi2nl/OdzbfvV0v/AAkOo/8AQv33/fcP/wAcrM8R3Wsa1pPkx6Hdp+8RsSyRjgPu/vUAXPBml6ppdikGo3EMkaRKkQhTaB+VdKgzXNw65qgXZ/wj13/39j/+KqT+3dWH/Mu3f/f2P/4qgDE8J6oNG0fWdU1K8eUG4nmfzD/qlVvljUH+VXfhldXepeFk1W+di17JJcosjH93Gfurz0A9K5Hxtp8SaVfXMnhy8jnuG2xxTXaGLzG4B2bsZz3rc1fWtQ0bwXcQHQbi2hitfJRmljOzt0Dc80AdwkySorxSCRHG5XB4NS1xnhe91Wy8O6fB/Yl25jhVTueMc/8AfVaX9uax/wBC/P8A+BUX/wAVQB0OK5a5Kj4l2/A+TSW/WarP9u6ts/5AM/8A4ER/4VyttrOrTfEi4kfQ7hJI9OSNoTKhwC7NnP4CgD0l+KWuel1zWS/y+HZz/wBvMf8AhQmtay33tCkH/bzH/hQB0NFYX9sav/0ApP8AwKj/AMKZ/bms/wDQvy/+BUf+FAG8wIxz2ornhrevNz/wj7/+BUZ/pRUjOH/ZM8At4R8ARXs6PFfamfNkSTqor3XaD2FQWliltBFEihFQYVVGAB6CrWK1ERU7aMk4GT1NLinYoAiwPSjaPQU9xijFAEYUDoAOc9Ka0QHQAc5p9L1oAjxT+2O1GKROakBqgHGecdPalp2AKMUAIEVeigck8DvS4Gc45oo3UAN2U1iQ/U8VJvqKkAvljnjr14603AznHPrUmaZTAlxSbR6CmO9GT6mkAlIIIlkaQRoJGABYKMkDpzS0u8UAK47dqixwB2HQVK9NxTAjCgdAKXAznAzRRQAm0AYwMelGxck7RknPTvS0UgAKFGCAR9KUkEYIBFIeetGKYBtAOcDPrSFFbqoP1FSYoxQAzAyTjk96NowBgYHSnoM0YoAjCKDkKAcY6U9IxjGBjpTalSqAaYkP8C/lTdi5ztGeucVLSYoAjSEF/uj8qc9PrG8Xaq+k6FLLbrvvJmW3t0HUyv8Adx9O9AHMalEmsaH4s1SYBrb7PLaW4YZBjRMsw/4FwK6jw9bi48N6Ulwis5s4g4YZ5K8k+9c7rlqg0/S/Btg5kkkRRdyA/wCrt1OXdv8AaY9u9dpEoRVVQFUAAAcAAdBQA4IqgAKAB2AppAIAxwCCBT6ZUgAjx0GKUxqTkqM/SjNOpAII9ucDGfSmuAew65/GpN4qPrVgIFA7ClCbenH0p+KH4oAhjgjizsjRM5J2qBnPWjaCc4Gac/FLipANowRgYPUVHsX0H5VJRiqATYoz8o5GDx1HpQnNJmqGu6j/AGXo95eDrFGzKPfoo/OgDh/E3/FReK7B3+awsb6O2UjoZPmZj+BAH0r0V3WLpgduDXN6N4aibwtbWc7MlwwE7TKcN5h6nPXPJ5rQ0/w7HbSGSe9u7+YdBPKMH/gCbRQBo5JBGeCc4/z9T+dGScc9Kdj5qdgegoAjBKjAXA9BRkgnnrTqTYaAEJzjPOOlRXk0VpaXFxM22CGNndvRQNxNS5O/pXPfEJiPBGtRIT5lxA1vGB6udgoAo6R8QrfxLaxzaJp99qtrINyTlBBH+cmCa6DSdSl1JZTLAkLxOVKCVZMEdiR3qDwloEXhbw3pmlW/EFnAsYHckdTWd8O7cjSdQumYlb/Ubq5TJ/h8zCfpUAbWn6TZaUZPstusW9svsYnj0FXO+e4Oa57SPFn9sa14gtVtyINJlSFZ1ORI235hisnXfFXiW20q71Gz0Bbextx5jzahcKhI9gKYHcZI79aQNt6cfSq1hdfbLCCcjDOivirOB6CkApYnqSec80nY+/WqGta1baFpxvLpjHEsiRlgMlmdtqgD3ottYtrzVL3ToZC1zZmMSrjozruAzTAl1PUINMtpLq6l8qJepIyaktpvOgEgBUP/AAnrVDxHpB13SZbXcFkcZUt0BHUGseHxPqGmIkepaTdvKPuvZRGaN/x6ikBY8ZqdQ/svTF63NwC49EXr+FdBn5AOw6VzOmGa41dNX1cDTjP+4sbKU5YDqT9SO9dOcBPmIFADQoB4AH4U0ADGABjp7VDdala2LxxT3EMcj/dV3wTVlNsi7l5FABikKg9QDxj8KWkJx95gKAFzVHVtTi0exkuLjf5Sfe2LvJ+gq5LIttE0spWONBuZ2PArntE8eaN4mvZYNNvUuJE6nayg+4z1FAGdD8TNIEqNOl5p9sSALq9tHgiYntliSK7BJBIgdTlGXg1wXx70ddY+GGpCSTYLbbP9T6UnhX4kWknhjTlaG6uL/wCzp+4SElmbb1JPGKANbxGw1fxBpOmr8whk+2XG3sq8J+JPNdKYI50CSRrIn91lBFYvhXR57MT6hqC7tUvCHmweEUdFX0A9K3ulAAeVCnlR27Uj8UtN60AJgelct4Yj/tDxX4j1FfueZHaJ/uxrhv1JrW8S6ymgaTPekF3VcRQj70jnoBUHhDTJNF0aGKY7rqTM1ww7s/3qANsLjpxRknvRk+po3D2oAMn1NFFFAACV6EgHniignk0VIHQOmOaROa8w+GvxrHxK8LW2p6fpV3POfkmijAwrfWurTXtZ2ZHh+Yf9dJ1H8q1A6R1A70mR61z76rr0iZTQ1H1uFqFL7xDJ/wAwq2i/3rrNAHS9adiuZN34oXpp1gf+27VIt54nxt/s2wz/ANd2oA39hpcVz/2jxO3Wz08f9tmpv2vxL/z5WH/f40Ab9Km2ufS88R/9A20/7/GmvfeIYumjwH/t5FAHQ01CTXP/ANqeIP8AoCxf+BQpv9p+IF+7ogP/AG8LUAdE5Iplc++sa8Omghv+3xP8KE1rXD/zAP8AybT/AAoA6JBmjFc+utawF3NocgH/AF3WorfxPqN3u8jQ5Jthw/l3KHa3oadgOmplc+PEGqj72gXI/wC2qUr+INTV/l0C5I/66pSA38ZornX8RaiP+YBef99Cj/hJb7/oA6h+QoA6BzikrAfxHff9AK+/JaRPE90f+YFqH/fIoA6HJPejNc+/ia7D/wDIB1D/AL9//XpG8UXCddD1T/vyKAOgorn08XTn/mA6p/34FK/i1x/zBdS/780Ab9Fc5/wmY/6A2qf9+Kb/AMJun/QI1T/wHoA6Wiuc/wCE4i/6Bep/+A1CeNYj/wAwzVP/AAGoA6ZOaK53/hM4R/zDdT/8Bqjfx5aj/lx1H/wFNAHTdKK5v/hObP8A59L7/wABmpyeNrU/8ut7/wCAzUAdFijOK5xvHNknW3vv/AVqX/hOrD/n3vf/AAFarA6LNPrmf+E50/8A55Xn/gM1KPHenn7sN4P963agDos1xnjnVbmz1/w9FbWT37J58scKjgzBVCbj25Jq+njrTj/yyvP/AAHemP4800HIivAf+vZv89hQBY8M+HG0VZbi4f7Xqt4d9zct/E3ZVz0Uelb6CuWfx/p+3d5F5j/r1aj/AIWDpw/gvP8AwEagDq9lRVzv/CxNM/u3n/gK9N/4WBpn/PO8/wDAVqgDp8UVzj/EDTP7l5/4CNUX/CwtM/553v8A4CNQB1GKdgegrlk8f6f/AM8bz/wGepP+E+0//njef+AzUwOjo61zr+O9PH/LC7/8B2ph8dae3SO7H/bs1AHRdaK51PHFif8Alhef+A7U1/HtkP8Alyvv/AZqQHRvxS1zP/CeWR/5db//AMBWoPj2zVMm1v0X0+ysTTA6bFYXjiGSXwpqKwIXlVA4X12ndUH/AAm9l/zwu/8AwHao28e2DqVa2vGUjBBt2wR6UAbOialHqumW1zAysskasMfwn0NXewHYdBXm0FxDpc7NpM+rWMLfetDZmRB9AeBW5ZeMY402yreXJ9RastAHX4HoKbXOHxrA7bRZXwP/AFwam/8ACaw/8+d5/wCA7UAdJilrnH8YoE/5B9//AOA5qP8A4TA/8+F9/wCA5oA6ZOTXL+M/9Jm0jT14Nzextgd0jO4/41NH4vA+9pl+P+2Brltc8Xxp400i4urO8gtILaURs8fAdumcd6APR3P8OefWuQ07QPEWmaTBp8OpafaWlvHsWcRs8vBySQe+atr40ifaY9Ov3X+8YTUd74nmu7W4t00y+R3Rl3mI0gKvwp00af4SW4RmmlvJpbqSdz8z7mwD78Vl/EjTNdvbQWSa2kCajMtrDawQgvsPJJb2Fa2ja6+l6XZ2Q0jUN0ESoG+z8DHXFQX91Ne67p2oyadqJSxDbbcQ9WPQ/WgC9onhbU9Durcvr9xfW6JseC4jRMfTFblnqEN+JDDIJFSQoxU9GHasabxlLBC7vo+ohEDPnya5z4fa5c2XhiGQ6HqE09w7zsY4fvFmyCc9eKAOg8bwm/n8N2HUT6mkz57rCrSKD7cCovBSGXVPFl+VCm41V4unVYUVF/UmobnVZ9SuLG5fRdSje0l3LgAdRg/ocfSrFlq76bFKkGh3486R52yq/ebn+lAGxqOtWunXlraXD7Z7yRliXGdxC7jWgnWvONU1TUNQ8aaPOmh3XlafFLIHYD7zDA/Tiugh8S6q33vD98P++aAK/iAwP440t7yZYbS0haZfNJAaQ+/rVC88QHxV4403TtNvJV0+wQ3N5JCCol7KvuCe1at1qk+oIEu/DU06L0WVFYD86pQPd2OqzXMHh2eNXRE2ptA4oAt+IPBulavJe6jqKb3EXyO7f6nC8lc9PwrQ8GT3M/hjS5LobbpoEMgPUn1NcT4mi8VeLpltzYTabpIPMUYDPOvox9PY1p6O+raNcea2naveYGPKmuI9ij0A6UAdqb+A3zWayqbpIxI0XcKe9c94rnmbWvD1lDLJGZrsvLsYjdGq8g+ornNK1PULnx5rGrx6JOdkMdr80q9Rz/KtK6n1m58RWWonQ5GSCB4wpmXILd6AOt1ewg1DTJra5y0LjDqvpXD6FfWGueNrUWdu2m22n25jVJI9nnbvT6VcsvE3iWwtyt74bu7qQs2WgdOarXt1r+q+INLvv7CktrO0DErLMu8k9qAE+M1wbvw//ZEI3Pd4MidyP4V/Gu10iwXTdLs7XOVhhWPn27V58LDXrzxENW1LRpbhoyGhtlnXEZHQn1Irpv7e1zGP+Eekx/12WgDpHGCccZpa5/8AtjWz/wAwGT/v+tM/trXNn/Ivyf8AgVH/AIUAdHuqCe4jto3klcRwr/E1Yf8Aa2uf9AI/+BAqG/u9Uv7cw3Hh0yIeqm5Ug/hQBFZLL4x1VNQnBXTbV91pEwwZWHWQjt7CurYBegA+lc5Hq2swqFXQAqjAAFwoAxT/AO2NbKf8gL/yYFAG9miue/tfXv8AoBD/AMCFp6arrp/5gQ/8DE/woA6GiuffVdcX7uiZ/wC3haadV15umg4/7ehQB0DPzRXP/wBpa+oH/EgDcdftaiigDlP2TfB0vhb4WwNch45r5/tDRt0A+le1dKh06yj0+1igiRUjVdqoowoHoB6VYxVgBUHsKNmKWlTmgBoUjpxS9DnvTmkURM7cVDaXttqCt9nninKfeVCMiiwDyM9eaiptxf21o0azzxwmRtirI+0sx6AVLigBmB6Um0egpafigBmKEUegqtNq9jbSPDNdQRzgbmR5ApFO0/ULXUoRNaXMNzCfuyQyAg07PsBPsowPSlmnjhGWdVT++SFH60SOscTSsVEajcXzxS5QOS8Z6tJbpbaVY4/tLUGMUP8A0zXu5+lUvhNoFro9hqj2xdoJ7kqkknLOV4LE9xmsdtWS/wBQk1pXT+0L9jpukxSvjap6yc9M16NpGnJo+nW9omNsKheO5PX866ZR5IW7kbstkBuoz9aZtHoKeCpbCnPG7GRu/KjFcxYzANLTsU1ioVmY4FAB5I9aY0bB+CRTLa9hufM8mWOfyztby33YqZ2CBiTtVepZqAGdaYqbuvP1qQFWUsoDBerDLD9DSeYuCcquPvDPA/E0AJtA7ClwDTvlfbjDbujKeKo6vfSadplzc29rJeyRDckEeAW/E0Acb8VvFWp6No8tvoLomqGEztLIMrHGOOnYk9K7ixkeaxtnkG12jUtXhMeu674sv7mWPQGkGtXEYg824A2W1u3zof8Ae9a9g0TXtTvb5rTUfD82lIsWVl89ZYyfTI5rrqU+SC01IT1N7ZUeSKlQk0mB6CuEsMUvWqWq6taaJYS3t/OltaRDdJM5Py/gK43xB8YfDtloc01lq9vPdy/JbIN3zMeh5HStoQc9kBtR+N7Ofx3H4ahjaWY2rzyTj7ikN9361dtvE1leeKLvQrcvLd2sAnnKn5VBb7mf71eU6V4ut/D9zqWoabZz6zJBDHaRXqLiOWdmzI7yHjqwGB6V6R4E8KDwzZTzXDm41i+cT3lyT95z2+g7DtXRUpRgiUdKQT1JP1pEQmpKEK+tchQ3J9TTCpPU5qXFGKAItgHejDHuadiobu/tbGDzLu4ito/u+ZI+3J9hQBLuOMZOPSjJ9TUdtdQXsMc0EyTwyDcsidDUOp39tpNm11dTC2gQbi8p5HtjuaqzAtomf4jS5rI8MeLNN8WW9xPpk5mjhfyn3IVYH6GsjxD8RYNJ1JLK1sZ9RdJkiuZUG1LcltuM/wARpqDk7AdduJ7mmu7D+I/nTqTGagBNxHc0O7D+I/nUmB6CmYzQA3OaaGI6E/nUmKbigBfmH8R/Ok2k96XeKN4oAZuPqaVmK8gkH2ptc5441m4sdOhstP8A+QpfyC3gweV3fef/AIDVKPM0gMy7+J0UfjSz0C0sri+aWYxSXSf6uM9/riu33H1NcF4K0S2j8SXEdsDJY6VGtskzc+dcNzJIT3IHfrXebT71dSMYtJEoBwABwBXP+MfFB8OWcQhj+26rdP5draZ/1je/90Dua3ievzBcDczN0FeV308muXGo62rE3GqH+y9ITH3Yz/rJh6e5FFOHMxOR3HgrX7jxL4U0vVbmD7LcXcW9kQ52/nWzmoNP0+HTdOtbSBQIbdFiUY7DqasZPoPyqGldlRHUmKVQTnqFH3umB+Jo3hgpBz7cY/MVIwPPXn61WubeK5AEsaSgcgOoOPzqzTMZoAjSNYl2ooRfRRgUp+YYPI9DT8UYqAGdsdvSkjJGOaXafejpQAydFnQoyhkIwVIyCKZBax2tskMaqsaDCoowFHoB2qajAHagAxTCoPUCn0x1IoATYuc7Rk98UmBT6ZQApJPU5puw0tGaAGk5680nr79feinuMUAV4LSK1MhjQKZG3OVGNx9T6mrGADnv60iPS0AB5GO3pQ4wc985zRTHegAoxRRQAiAHtS4HpQlFADH4oAx04pz0lADDz1op2ym0AFG8Ch2FLsoATG7pxTgoHQAUAY6UtAEbIpOSoJ9xRUrJzRQB0IAHQUYrhfDHjnWPF+gWOq2mi26QXUSurz3yqPyArUFx4tlfC2WkR/W7mf8AlHVgdNio8kN1rnHfxWv3G0Zf95pGp32bxX/FcaVH/wBu8x/rQB0E6rJFsrznU57LwL4xiuLYC3tpLSTzoYxgMw+6cDua6Kaz8VrCzLf6QX9Pssv/AMXXCx/D3xXrRutS1bULYXch2RxCA7Y1HXaO34VtBJbsDodM8K/8JjNba34hQSyo3mWtnuO2Eerere9d3mudj0zxGLdQNY04Dpj7A2P/AEbT/wCyvEn/AEHLH/wXN/8AHamTuwLHirWDoujT3CDMp+WIerltqj8a0oPMht4lnOZNqq7DpmuP8Q+FfEeuW0ER1uwXyZkuB/oMnJjfcP4+9RajonjvVVltpdc0vTo36PZ2cnmN/wB9PxU2VlqBheKtC0XUvFF3rEtuJxbQN56lso8n90DpXW+F7FvCvgVI0RYpo7dpmXGFDHkLj6Vk3HgXXfs9pbw32mi1ik86SM2826Zv9o5+b8asa1pHi+/0i5tkvtHDSrxiOX/Gt3O6SISd2cbp+qx/ETw40+s3qXmoSho7fSrVsMpPRmUMDWx8WfEU/hX4f2emQSH+0bwJbI24lyP4m+vvVywm8f20ZibQPD1uqjZ5y3bZb61x2jaf4q8YePL/AFbUYNI1QaK7W1vH5jxweYfvNna2cVrFx5r9ET0NPTvh0jeB5tb8QCRNStrZpLMlyn2MKvG0DoT7V6n4cuZ73w7ptxcKTcyWiSSL0IbbXC6ppHjrxHNGt7/YVvpOczWcdxIzyD+6ZCuCPaunjn8VBQo0/RgoGAPt0mAPT/VVlVqe03HFWOS8WQXHhn+z9VSSaTxHPdqqWizHy5V/ubc4ArQ8ReJvFXhLS5dZvk0mWyjxvtIy4kXPo54NRX/hfxNqniq11O4ttJeO1GUh+0yHB9jtq74n0/xNq+mG1TTtOSUMjxyNduy8diPKpc0dB2epi2d/eazrVhcWniC5vr+ZlkktLCQNZ20Xo3ADNXbeM5prfwvqb27eXMsDFSGwc+g965FIviNBbmG2sPDtkh/ht2fH5Vk3ug/ES4vo58WOooo+a2vLjZEG9Sq8E1VlJq2lgjodN8KbWzk0OTVrKL7PBfuGjiYYaNF4Ib/azUOv3b634tbSH1CTTdPgt/MmZSUNy55Cqw+6cUvhe38VaNb3az6NZs08xnCW90EhUnqBnpVXX9I8RancGWKxS28xt7RSSQXCM3qAykA1LlHnbK6F7wBp9npd1rY0nzBoymJY3lkZwXH3ypbnbWd4y1j/AISOz1CJJ5YNJso2a4uUJXzn/uIR/Oo10XxTcxIl7b31zApKmK2urW3XB6jcpBxVnVrDXL2DTtMg8LPa6RExNxALqHLAdP4u9ClHmuMradrHiGPRtCmilitLZnijW3nj3y3IP3iSeRW78S/EaaRonkRyiK5vGEMbkZKqerAdsVVv7jXm1SxuE8L3ElvbBj5P2qEYPb+KuU0qfVfHWv8A9v6l4cuJ7O1/dWdpDcxFQe5YMwBFV7sndgdj4E0EQWy6g8RiRohDZwEYMcI9R2Zu/rXZJXNR+JdUA48LaiO/+vt//jlI/izUIHVH8M36FzhD51vlm9ADLWUpObA6feBTWfYrMelc7/wkmp/9CvqX/fcH/wAcqC68UaobWVV8MakSy8HdBx/5ErADajOn+K9GYvEt5Y3IYNFIoIYe4PWvP/Fl7D/wlNtYWcEdxPYwiK2gCg7ppDgEjsEHPtVLRPiZd+FvCq2j+FdblvLJDvZ7YRxbi3948mneA0vtOv7rXdV8P6pNr+oOZGZIQyxKRggZ6cV2U7QuwL3iZY/BumeE9EtozeXBuftbRRjBmdBjJ9t5VvoBV/U7XWdOvtBu7rV559VvL+KH7HDlbaOIcy4UfewO5rH0bxJc+IPHeo63deHNTEFgosbICHcTxiR+e+AOafq3i/XofF0t3b+DtV1CMReTaPInlJDn/WkknPNW6l7JkWNr4leKJLO8tdEtrx7CW5ga5mmiz5iRjgBMc7ifStzwRpt/pvhexg1K5lub0K3mSTuXc55GSeeleWazba7e67ZeJ0tr/wDt+zTyore40tntNp6KCDnPvXdeHPGuszaVE+uaBqA1BvvfZLJ/KH4sc1E7KCSDqd4jA0xyRXNP4yZPu6Nq5/7cz/jSf8JkT/zBtX/8Az/jXKWbWrajDo+l3N/OT5VvGZXA6kDoB7muNj8Nf2rYvr/ia0Gq3jJ5lvpDDfDFn7qBTwxHckU7xT4jbVtBvLKHQtYMzbZAjWL4JRs4znuKydb+IPiDUrO4tNO8LavpM0sLL9pntiQp9sGtoAXfgxJdf2RfwOUOm2k/2a0AXqyjMpz3XPC1sTWY8S+LJYrpQ+naVgCIjKyTON3I6HFZ/hfxBB4d8N6bp6eHtZhW1hjRttg/3s5J69c1Xu/Es9nfzalpum6tGboL5ttdaZMY2YDGQVHBx3qnJOTZFjqG0/8A4R5Nc1CLn7Qv2gIOikLzgVV0PwxA/hO2trpfMad1upnB5aUHcDmsm18cXd/DLDqGj6iIpExsttNnJI+pFUrLx5qWgwJbp4Z1jWLZBtikisZI5APTDACpGdJ8SPGkfgTwrcX4j33bny7WHG4vIegqvYa7f+G/hqur+ImMl/b2X2q4UKF+f+7xXCeI9W1nxjqulahN4b1GytNJlaeHS7qxkLXb9ssA2CKTx74w1jxl4Vu9Fh8Ha7pzXYVJbiW1OFUNk4APpWkYx5Uguei/DvxVdeLfCVrq9/bJaTSlyYImJyqtwQfes2Px1qmmXtsdf0ddL0y8ci2u1nVgh/hEufu5qzYeKrDSNOtrG20bV4be3RY40GmTcDuSMV5Z8afiCPFRi8KW2n3xYulxMrWjCRyG+VAh5+pzRBRnUaS0Yuh6ovxR0B7xIFnuHDuI/tKWsn2fce3mlcY96t+IfGFtoCuohmv7hI/Ma3tcF1X1JPArivH3i3zvAr6Nomi6mbhxHHFB/Z8qKoHU8iq2pXcp8OJaR6Rrdxc380Y1S5OnyZMf8SDj7vt0qeSG4XZ6lpd4NU061vIkZFuUDqr9Vz61y3grxHqHiDxN4jMkeNHinEFhJ/eKHZKfpmrcfjSO2jVI9F1kIoACjT5MADoAMVzXgfxXL4b8M2tjfeHddW+R3Mqrp7EEs+44OazTjZj7HV2/jnT73xnc+GrdZZb60g8+4kVR5cY/uZ7tXF6p4mluvFmp3sCfaJrVhpOkxDkNOf8AWykeg9awvDXilvAXh3V9X1TQNYbXruR2dWsiBuZvkXIPJrQ+GkX/AAjlnBe65p2rXGsMGdgNPlKweZy5HH3sd66oqELyRF2dIjajYQL4Z8OSxxaiib7zU7hN8cTN1yD1Y+tN+H3jvz7VbHVtWXVtRa/mtYp4YBGZBH1YoOAKx9C+J2keG7nVIdWttTtNRurt5iJLCYsV/hHC4wO1YvhK+OjeMb/VIvButjTpVxZG205jsLfeZgT1Pc96PiTuBofFG28Xq19cxeKDpenXMsdrYWNtbKTJn7xL9eKz7bRJvD+jtr3/AAk+oLp+lwm10qJo4pDM38W1CP4vaq+q+I5vil4tgFzo2tad4d0hi0qLaO8s856g7AQAPat3xB400zSvFGkS6lp2o2+iWFsWtTJYyBROG+UlduOO3pWkZKMVHqQX28Y+MPDFtpN74msdLSxuJY7acWskhmikfgd+Rmtjxvc67pUNxrdrqMVrY6bFva0ljBWfH3t7dRntXJ6541i+JN7olrp2m6jdaLa3cd7fXS2Tne8f+riVfQ96Z8UfFh1WXStPm07U7bSJWaS7BsXzclfuQ8ngGsbK60LNnRby5+MlnFqMstxpnhlvmitYXKS3WOrMw+6PYV2eheH4PDkc1vZvN5MnzCOWdpSg9iTxXH/DzVZ/Dfg3R9Kn0PVhLbxEnbaEBSWzjr6Vv/8ACYz/APQB1npj/j2FY1JJNxWxpE6TNOxXMv4pvB/zLusf9+B/jTv+ErvP+he1X/viP/4quYZ0mKjc4rnf+Etvf+ha1b/vmP8A+KpR4nvypEnhnU41A3M58vA/8fpgdDvpK8r0v4ra7q3imCK18L3EuiXCP5UoZfOkYcbsFsBc12P/AAkeqf8AQs6l/wB/rf8A+OVUocoHR0VzX/CRaz/0K99/4EW//wAcpya/rTfe8L3Q/wC3qD/45UAdHTc5rnP7d17/AKFub/wKi/8AiqE1fXm+94fYf9vkX/xVAG67EdzQhJ71gf2vr5/5ltv/AAMi/wDiqT+1fEI/5l3/AMm4v/iqAOhzTq53+1fEcic+HVX6Xif4U3+2PEv/AELa/wDgan+FAHSYoTnrzXLvqviYDP8AYMW70+3J/hTm1TxIOmgxj/t+X/CgDo8Ypc1zKav4kP8AzL8X/gcn+FO/tTxJ/wBAK3/8D1/woA6ambM1zn9qeJP+gLbf+By/4UJqfiX/AKA1p/4H/wD2FAHR0bq57+1PEH/QFt//AAOX/Co0v/Ep/wCYNa/+By/4UAdL0pH4rm01LxQvXQrU/W/X/Cj+0/Ex/wCYHaf+DD/7CgDpetNrnP7S8S/9Ae0/8D//ALCm/wBo+Jv+gNaf+B//ANhQB0u+mVz323xPs/5A9n/4H/8A2FH23xL/ANAqy/8AA7/7CgDocZp+a5z+0vE//QF0/wD8Dz/8apHv/Ew/5hVh/wCBrf8AxNAHSUVzX2/xP/0CbD/wY/8A2FSPd+J1T5dK08/9vrf/ABNAHSZwBnmiuba78UZ50uxB9Pth/wDiaKksPgXpN1oHw00Kxu8rNHCobPUV6AoyeefrUNrbLbRBRgKBgAdAKs4ArUgbnFHlj0FOxS5oATApCqnqAfwpaq2uq213eXNqkoNzbkM6Y6A0AWugx2opQV56Nj7yqeRSUARYGc45pjJtUqOFPUDvUuKb1oAYQCACMgVH5eD0/Sp8UygDB8Z60vhzw/d3g5njQ+Wv9+Q8KB+NQfD/AMP/APCOeFbS2k/4+3Uy3DnqXbrz6isTxM//AAlXjrS9EQr9ksf9Mu9xyvH3FPvXfbcqnzBk9RWz92Nu4Ay7uvP1p2AKasowVD7iDtYJglfrTLm4W3t3mdgiAbmLdqxA5jxt4/tPBS2glhluWuHWNUizkD+8fQV1CKNmcDNeUJv8XXiTscS6vc+VbocZW1j+83Pdq9Z2kdq3qRUYp9QGbDQece3Sn7aZWAD++e9MBx04p9V47uCZ5EhmikeM7WRH3FfrQBL3z39aOn6U0yCNdzkAUJ8/Q7v9rIx+lAGL4xvm0zw1qNwhAlWIrGB3duB+tWvD+nDTNBsbToYogpx6nrVDxhpdzq9pBb24RylzHJMu7kD0rdTlEzWn2QBUwCchVXqWrx7ULL/hPdX07WDLLGJNYS106IMdrW8TZklI9SFPNWfjL8Wrvwg0uhWGj3d3e30BSK7QYRZH4XB7EGoPBesatcHSpbfwnMtpo1s1ikf2heZj96QHv1PPvW9KEox9oQ97HsW0egp20bOgrlT4w1GI4k8L6mreo2kV1KSFo1LDDbelcjViznNfjbWdZ07SmGbVd11cZ6EDhRj0zXQpEAMYGMYx7VH9kQT+ftHm7ducc49PpVvGKfMBFFEiAhUVQW3EAdT60oiAJOBk9Tiud8Z+PNK8DWX2i/lcl8+XDAm92x3I7Ct6wvY9SsLW7hz5FxGJRnrgrup2duYCY8kHuOB7U7vnvTARz0bDfNg9KSWZIWjWSRYzIcKpblm9BUgSpTXUjvRux2C/U0rMuzl0X/ac4FAB2x2oHHTikDCQKU+dPVSPm+lKDj7xAoAUEgEDgHrSDg5HWkTmkD5dtuD+NAD2+YYPI96jCgdABT91GKAGYHPHWlyoU4OxAMMT2rE8ZX+sab4burnQNPXVNTj27Ldm2g15p4h8U/EibR7TS7rSdN0u/wBbm+xwSw3DMyfLueT22+tbU6bmJs6/w58Sf+Ei8aTaXb6bIunCOUx6k7cTNGyq+B/dOTg12ElhAbpLkwRm5RSqzbBvUHqAeoFeUeDtC8WR67L5F1plta6Pbro0J8pmVgDmR19yQMnvXd+HLjxG97eR6wtq1mv+oubfgn6itKkEn7pKudBGec96XJ9aXGKMVxljMD0FKRkY7U7FNqgOU16I6/4r0rRv+XSwX+07gfws44iUjvzXU5P9apxaXFb6pd6gCTLdrGreoC9B9BVxzjbwP93PNU3sAwIrnLKGPqRXnfxZ+JNx4LgtdO0uD7TquoSJAjA/LAG6Fq7rVdSh0TTLi9uDtigRmYmvMdM8Pv4hv9He/QSaheSf2reBhnyol/1cXPTPpXRQ5W+aeyMnc9G8MaHD4d0S1soRkhQ0jEcs56sfUn1rQMMcqbJUWRP7rjI/Wn+acbeM0tc0m73NRuEjTYihV/uqMCmN8xBPJGCCe2OlKkiTIHVkZG6OhyKf8u3d2pAMyfWlRgaQLuO5WBFIRtChgFdugzQA/rUew0uaWO4inUtG6OASGZDkBh2oASuK+Il9LeNY+GrKf7Nd6i2bidf+Xe1X7757E9jR45+Jh8HapBZW+hahrkrQtPKbNAEjHuxrzXRPGmueL9W1O8i8N3hm1RIysikL5FgOiA9mbv6100qMpe90RDkepeD9MiuZZdTji8uyCi00+PGMQL1bHq3f1rqNtcra+OIdHRLe80TUdMWJMD9yWUD0GK3NG8Sad4iRn067S5SM4cKpBVvQ5rKacrsqJoUuaa/FLWAwpjilzSbSaAG4p2KHGKbmgB9MpyMDRuHoPyoAbgE5xz6016kxTcZoAalG+nYxUKc0ASZpOlKnNJQAUIlFLkigAekxSPS0AGKbtp1LmgBmaM07FNoATFGAe1D8U3NAEtIlJmjpQA1ogD1oqR+o+lFMDoCAe1FcdpE/iXW9Ohu4tR01I5lEiFLd2yD9XrR/s3xJ/wBBiz/8BTVAdBT8VzaaT4jP/Mag/wDASpP7K8Qf9BuP/wABVoA3a4vR7u2sdX8Ta3O6xwqyRbhxvK9a0n0LxJMm0eIVQ+oskH9K8w8ReD9Q8JaLNJq3i43qq7vFZx24xKzdNy9D+NdFOKk7Ckdf8NvEUmo2Oq69fzMEu7llgt8n5UXgYHYk13Gn3zXyb/IaJPRzzXnfgb4a6vYaPZyXeuSpMy7/ACUhjZI29QCMA11X/CO6uf8AmY7r/wAB4P8ACprNc3uhHZHQ7g/TimpzWBH4f1RAynxJd5/64Q/4UieHNT/6GO9/78w/4ViMv6/rUPh/T5LqdWcKQNq9Sx7CpZ5ZHsTLCNjeXuUMejehrh/G+h3lvZWk1zr13LBHcRmXCRjAPU4A7VXuodR8TXYsdG8SXVxa9bq6SKLYg/2WABzWkUBy8en6imk6nNJLIJbmQNc3ETEPI5+5FGw5wPavSZtSuPDXhGxts/aNScJbrJI3WT+8SetYOt/DvX7ex0+HSfEBIs5PMSG7t4wD78CqWs/DbxZ4l0+KPUvFSwTxP5sa21sFOfQkVtKSlZPYVmbXw40htNvNduGvJrqOaVRvkYsC6jLlc/wk8VT+M/in+xdEg02EltQ1KVYFEZBZU9QKsw+CvE1tpq2UnipbSGNMD7FZJGw5z1+teQ+GfAet+MvH99qNtrrzDRpR9mur9PMWQjtzmtaUIylzt6IltrRHfR/D510B9a1y6ls9Rtrci2SCQqtog6DA65qwlv4v1DTY9ck8QPpMMNnHNFGwVoZm2878/wBavXvg7xZ4liij1vXrRLdGDtBYWxw+Ox9RWjr/AIP1nxJoNzpdxrsUUE0fl7orcAgenFZyqlWM7wr4y8R+ONBTVLNLHSrYEq0s5Mu/b1IA6CsGx8dav4jurq0vpptO8ltsK6XA/mXYPRlLdBXVaX4I1fRfD66Pa6vbC0ERjZmtjkg9T+NR6H4S8T6HZRWsXiK0lihXYjPYZO30+ntS54XdkFmbGnPqVh4KZtQuUj1QQybHkP8AF/Dk1y3wVs477w8PECRskl8qRujn52dBtct7k8k1JrXgfxVfX32w+IrW8wuDY3VqTbk+uFqx4X8IeJPD8F6E1axC3UxlaKGyPkxsTkhfn4BPPFTzRs31YWMPVdV8Sah411W2IvJ/CsDqofTUAnD+Wp2569Sa6j4faVcabFqMjwXNnYSSr9mhvZNzqoXnJqtb+C/FNhqV9dWfiO1gN3Ks8kP9nFwGAwcZ74FXb7w/4tutPuLdtZ05JJU2+Yli4I/HfTc01awzkPDHii81TxT4jl0xzcS3c4ghVuYrdE4z6ZJ711fg+41CPXdb0+6v31CC38rbM642uV+ZR6VQ8GeBNZ8F6Uun2N1pTbjukma1k3MfUnfyaz9R8J+LNDg1O8/4SGxt7BpTd3Kx2zq59gwNNyi3y9BWI/HIuvHHjbStD0uSM2mmj7RfXQ5ETH7qZ9R29K9G03S7fR7CC0towIYFIB7knqfxrzr4WeF/EmhaHLdwpp0U2pS/a5vtCSMw9AST2rr/ACvFH97Sf++Jf8aipLRRWyBHQhQBgAAegp2/mub83xd/zy0f83pPM8Wf8+ulf9/JP8a5hnVd896zte1qPQNKnvpAX8pBtQdZG7KPc1ji68Wp00/TZf8At5cf+y1ieMx4r1DTLNodGs7lrK6S8a3juz++Ve3K9aqFm1cDX0fwiz2Et/qIW41q7hcPNINwiz/Cueg9hVv7fF4E8BxzajKpGmWUcbkdZZFTaAo965+28d+MNRLpD4FexmX7rXl+gU/lWLr3hjxb4m0q7GqWMMl2Cr2oiuyLeFlbI3Lt+bIrfd+8B2fw6tNRj8OJd6wz/wBoahK11JExJEIbogB6D2rlrPU7jxx8V/3LH+xtABUgD5ZZz1+uKfqWr/Eq+tZYTpOmWAaPiezuvNI/Or/g1dR8K+G7Wyj8MSmfaGnl+1R7pXPVmOOSfU1d4x5m1fsKxr+PvD91r1tbGHW59EtrctJcS2xIZh6ZFYvw6+1+PNAg1DWLh5YF3QxxoSu8K20Mw7k+tQeN9a8TanaQWFl4YusXD/vG89cBfT6VreHLjU/DujWenp4ZuMxLtJEyYznP86nmtTsFtTK8ReGLjw9Zavq8euXVpHZkS6fDklF9EZM4bNP8Gxap8QPDllr2p6rc6f8Aa03pa2MgjSL/AHj1NR+NrnxHqsmjfZvDN1NbwTPNJH5sYDMFxECN3IBrU8M3Op+GNDsNNHhu/cW8KxF1eLOf++qOdcluozlfFPi/xDoXia10dLx10iEEX+r+RvMAbmPgdTjrWv4PcW/jeK30zxBdeItPntZJLgzN5qwOPugH3qtLf+LNH1nVrvS/Cr6nZam6STW91LGjBlTHGGbimL4m8eRKsFv4BttLjb70n2mN1H4BlrRuMlsSjsPHvixfCujTTQqJL6RWW3hz1P8AeI7Cl8B6teXHgfTb/WZUW7liDyPIduM+1cBruma7d2Ykk0LUtZ1G5kX7RK/kxqkPdVG7j6CtK1k1bWnFx4g8OaiI0AWHSrYx+SoHQMfN5qeWHJYV3c6Xwx4wbxjrN81kqto1kTAblsjzJu5H+yK5m/15b/xhqWuRj7QmjK2laRD18+8kGJXA9FFYKePfEXw28Dm0bwRe28zO1vBdtMhEkr9DtHU1f+G2iX/huytJNa0TWbzUbfdIoEUeyOR+rgbvvH161SUI3Yanp3hnSDoOiWtmzCS5RS07j+OVvvEnvWkw3tlvmPqa50eLrodPDGrjr0jh/wDjtN/4S69/6FzU/wDyB/8AHK45ScizpadiuWHi2+br4a1Rfxh/+OU//hKdR/6FnU/++4P/AI5UAdJSOMVzZ8U6kvTwxqJ/4HF/8VT/APhJNRP/ADLWp/8AfcH/AMcpgSa14ssNGa5WSQy3FvGjfZlHzyM+7aB9dprjLbT9dHj3Rp73VJ2ubktcXGmQki3trYLgBvVia5b4keItV8O/EHTvEkfh+5jhFgIGW7QSqJVYlX2o33gCcHqMmtPw/wCLta/s651LSvDGqapqty2JdQ1JUt1X2Clvu+1dqglFNdSTZ+M/iCK0h0nQmZnOo3CtLDHy5iH3gfY+lZHinxFrPgeXRPssdqde1272PHcH5YIR93nsB2FUPh9Lqmt69eeLNX0W+1a4Y+Tp77ECRr3Kgtx+Fani+HVtY8Q2eoHwXd6lbiBoHiuJokeI/wB5SG4PuK1jKEEoNX7kbk1kuu6Z8RtIt5vEL6xLcRyNf2MUYEFqP4eRxmup8f8Aih/D2gSC3mRL64BiiLH/AFfrIfYVy+l3useHLKQaJ8ObqKeT78k17EWb6nHNc/4t8MeJ/F1rCt3o98b64uUW8KSRKkNn/HFF83JPf1rNcsqictkUy38PH1m6+FVne3l3NpGlWtvJO0wP7+5J3EfN1AwKtWXjLVtS+GljcebJDI8KRtdciS4nboqdx9aueL7XV/EmlWWiJ4cvrLQmfbeLG8QZ4V/5ZLhuAc1c1OLVboaUbDw7cWA01w1vC7RFOFwON2ODVOpCV211JszZutQn8GeAEmuJWvdQgtgmWyzzTnsM8mvK/BniXX/FFjp19qep3cXiNNQ8p9LQeXF5Q6lu1dzrE/iXWbW2LaK8d9azpcQSh49hYeo3VUjuPiHczs0+nWVnI3WSzjRpj/321ZwcUnpqwszofHfiO4hSDRdHkT+3L/IRgwAgj7yH09hWfoN+mmX1h4Y0BhfNbkS6pfN8yoD1Ge7VmxeFPOvVvr7wnd3V/wAI1zLfjLr2B9RVLwzqet+BlubQeA72W6u7qS4aaykjMT5bKjPUYHShcvLZFmx8bPFL6XoNtodqWOqay/2cJF9/yV6nj1rofBHhoeHNGjSUL9skAacqOFA+6o9h2HavO/Bl1r3jHxTe+L7nw6Low7rTTIjcKFtowdrMD3Y+orvxrPiBgQfDqqD1H20f/EUpT5IKnESLc/inSIvEkXh6S9RdUmi80W4BLlPUjoK0bDS7LTRKtnBHAZTuk2IF3n1OOtcRZ6DqsPjG+8SyaFA1/PbrbruuyfKQdcfJ1rdOpeJHOf7GtM/9f/8A9hXPLpYs6PrRXODUvErddIsB/wBvrf8AxNKl94kP/Ljp/wD4Ft/8RWYHRYpu+uee58Tn7lppkf8AvXDGofM8V/8APDSv+/zUAdJnNOxXO+Z4l2f6nTP++5KUyeJ2XiPTR+L0Ab/SisBh4oP3Rpo/3kk/xqPb4s/v6X/37k/xoA6UfL15pfl9RXNufFP97TP+/cn+NR48U/8APXS/+/cn+NAHS0zAFc6//CV/89dL/wC/Un+NOH/CTnrJpa/9spP8aAOg6U3fXO+X4r3/AOu0v/v3J/jS+V4p/wCeul/9+pP8aAOkRgaSuc8nxSP+XnS/+/Mn+NK8fir/AJ7aX/36k/xoA6B3o31zGzxQf+XnTP8AvzJ/jS7PFX/Pxpf/AH5k/wAaAOnTml3VzaHxR/z10z/v1J/jT3i8TD/lrpf/AH6k/wAaAN98D+I0zNc/5Hik/wDLzpf/AH5k/wAab5fin/nvpX/gPL/8XQB0e8GkrnEg8Tt9690of9sX/wDi6V4PFQ/5e9J/8Bpf/i6AOlornfJ8UbP+PrS/+/Un+NJ5fij/AJ+NM/79Sf40AdIXHFFc6E8V/wAMukke8Un+NFMDf+Etjd6f8P8AQoNQUrdx20aSq3UV1b8UD5PyxSdaoCPA9KXFOxTaAIb26SwtXmmYKiLya8xvrD/hJNQ025vEYSX9yPIhbny415LEfSum8Qyy+INbtdGgb9ymLi8I7IOi/jTraP8AtDx07qoEOn2wjAxxlu1dUPcFI6mPgADgYxiin4xRiuUZG/UnvSbMVOqg9QDTaAITCsysJFDq33gwyD9aZb2kVpH5cESQx5zsjUKM/QVP0ozQBEU2ABeMdMdqaEI6cfSputNoLON+KXiBvC/gu9uIG2XMoEEK5wd7dMVB8KvDh8OeD7YMpS4uMzyZ6gntWH8XIX8R+MfBfhteVuLpr2f0CJ3NeosoChQAFAwB2xXW3y0Uv5jKPxEJTIx29KUDb04+lPoxXIajGUsMHkYxg0U+jFBIzAGeBzTNhznvjGamxSpGPWgRFHHjoMUeX7fpU+AKZQAzFch4uttR17WdP0eOwkfRTmW9uAQNyjpHj39K7LFR7P5g/j60XsAxUVVChQFA2gAcAelOp+ykxUljcU7A9BSomadikQMIB6jNM2E59+tSbaKAE2cY7elGBkHHIOc0+m7aYCEZ688YowB2pdvyUUgECgYwAMUGMHsKfih3xQAzaM5wM4xQAB0470tMzQApcHrz9aTtjtS7KXFADfT2p55AB5A7GkxUN5cNZ2dxOEMphjZtg6ufQUwOIuQPGHxKitR8+l+HyJ5WH3ZLtvuj/gP6V3+4HHHTp7VwPwa0zWNO0C7utat1trvULyS5C9W+bpu9fxrv8D0FbVGr8q2QBiim5pU5rABpGevNGKWk2n3oAAAOnFNxT6ZQAw/MADyAcjPrXN+Ob2WPS4tNtH2XmpOLSDAwV3cs3/ARXT7RXMavZ38njmwvBZve2MNq6Qy71CQzM3U9zxxW0HqBsaVpsGj6ba2NsgFtAqoBj8z+NWcc57+tPqLNZAOwPSmYGMY49KdvFKgzQAwKAcgAH1p5APUU5AD2pcUAMIz+FLTsUx2AqgIuwHYVX1WC4utMvYbWcW1zLC0ccx6RvtwGx35q7gegqLA49uKAOc8BeH9T8L6BbadqU9rPHbKBCltGyoozlizHksT1NdE6n1qQADoMUJz15ok+ZgM2jIOBkHI9qBxT8UyoASSm4xT3oxQAYpqJmnUvSgBlIAB0FPxRigBhUN1AP1pm0egp+0+9GKAGeXR5XsKe/FNzQAnl57U0gHqM09DmhxigBm0egowPQUUUAGKRwKWjrQBDsNLin0ygBESpVAPUZpOlCUAOxUboRUm6m780ARbj6mnJz15oxR0oAMUZop2KAAqM9BRSnrRTJOoPNFcNoj+JPEWmW2oW/iCxNvcJvR4LYsDWgmj+JT/zMMP/AIAr/wDFVRR1NMfiub/4R/xB/wBDP/5IL/8AFU3/AIRvW2+94nlH/bqtAGb4Ov7bzPEmpzTIJxdmOXLcoidOO1avgyFxZ3F/IpE97MZir/3ew+grlJfgij6tdX6+ItQgluzmeGGMLG59WA4P411UXhPUWiUDxHeoFGAFhjGB6VvOSewHSU3NYA8KX8SfN4lvz9USm/8ACIXv/Qz6h/5D/wAKwA6FCfWjNc0ngy+j/wCZp1VvqIv8KP8AhEbz/oZdU/OP/CgDpcrRla5tPBVyf+Zm1X/vqOpP+EMm/wChh1j/AL7T/wCIoLN/P+0tI4x2H51zkvgeV0/5GLWU+ki//E1EvgRz18Sa0f8AtvH/APEUAc9YQtrXxy1O5ZS8WjaalqCG6PJzx6cV6N17D868j+G/gDUbn+3dYudd1W0m1C/kKMkibpIkbCZ9wOldnH4Bl+fzPEmtvu6bZVH/ALLW1SWqXYhHTlcncrAikfiuci8FTRx7U8QauT/tTr/8TR/whlwf+Zl1j/v9H/8AEViWdJsNLiuak8HXp+54q1aP/eER/pUS+E9RhV5G8WakygMzFkiAH6UEHU7DT8Adq8w+HI8Q+L7C/wBSk8SzpYm9eOzHkplolbaGPHeupfw1rSv8vie5P/botAHTYpuK5z/hHtc/6GeT/wABFpp0TX4uviMH62K//FUAdFRXOf2P4hHTxDEf+3Ff/iqjTSfFRdj/AG9aY/7B5/8Ai6gDqM1G7AVz6aX4qCZl1iy/4DZNTX07xX/0FNO/8BH/AMaCzpUeiuTkh8WQJI4vtKdEDNlkccVw3hmf4leO7K41FNY07RrKWZo4YhbM77F6EH3oIPZs0mK8+8KwePrfSVW6uNNuj5jFJrtn3Eeh2rW0r+MD/rE0Yf7ry/8AxNAHT7qXfXKPL4uTb5Fvo83+9O9D3ni5du2y0c/9vD0AdXuFGR6CuT+2eMN//IO0v/wIapPtPi3/AKBmmf8AgU1AHUIwNI6Vyw1DxWn/ADCLD/wLqZdS8Unro1of+3oUAdHijA9BXMDVfFR66Baj/t/X/CmnWvFC9PD0J/7fU/woA6h+KXFcwdb8Sj73hxT9LxP8KH1vxJs/5Fof+Bqf4UAdPij09q5NvEXiVNufC0n/AIGR/wCFOTxH4ib73haQf9vkf+FAHVY5z36Uj8Vyz+JvES/d8KyH/t8j/wAKc+veIv8AoWJP/AyP/CgDqMUdK5d9e8Rf9CxJ/wCBkf8AhUWo+K9c0qwuLufw2/kQRM5xdx5/lQB1uKa74ryGw1b4q61AuoRWljZwT/PDbFVZlU9ASW610Xh7xf4j1I3tnceHVGpae4jucXK7CSueKAO8pMVzH9seJf8AoARf+By/4Uz+2/E//QvRf+Bqf4UAdRiiTrnv61y/9r+KP+gBbf8Agev+FJ/a3is/8y/a/wDgZTA6amYrm/7U8Uf9AW1/8CqR9T8Th/8AkD2n/gUKQHR4oQ1zKaj4qP8AzB7H/wAC6f8Aa/FI/wCYZYf+BVAHTpS1zKah4o2f8gqx/wDAqlN94mbppliP+3ugDpaY4rB+1+Jv+gdYf9/zTftfic/8w/T/APv+aYG9mmVhzzeJ/wCCw00/S5ao3n8UBP8Ajw03/wACWoA6HNGcVzL3Piwf8uel/wDf9qT7V4r/AOfXSv8Av81IDp80bh7VzaXHio/8u2l/9/mpfM8T/wDPLS/+/rUAdGvPXmkrAYeKx0h0sf8AA5f/AImkx4s/6hH/AI/QB0FFc20Hi09ZtIX/AL7pfK8V/wDPfS/++XoA6Oiuee28UD/l807/AL9tUJt/FTdNS03/AL8tQB0+6jFcx9i8T/8AQVsP/Ac0v2LxX/0FNP8A/AR/8aAOk60myuZ/s/xX/wBBew/8BH/xo+w+Kf8AoMWf/gIaAOkSh65v+zPEo/5jlt/4Bj/4qkXR/Ex6+IbU/wDbkP8A4qgDoqK53+yfEX/Qdt//AADH/wAVSf2R4kXr4gg/8AV/+KoA6OiuafQ/Eg/5mKH/AMAh/wDFUPo3iUf8zDD/AOAK/wDxVAHTbVpMD0Fc1/Y/iHZ/yMMX/gCv/wAVR/Y/iL/oYYv/AACH/wAVQB0e4e1IjCub/sXxH/0Hov8AwCH/AMVSf2R4iH/Mfh/8AR/8VQB0u4eg/Km1zX9k+I/+hgtv/AIf/FU7+yfEn/QwW3/gEP8A4qgDoc0jkjvXP/2R4k/6Dtr/AOAY/wDiqb/ZHiReuu2x+tmP/iqAOjzTs1zP9leJP+g7b/8AgHQdK8UtJka5bY9PsdAHVJyKK5hdK8TAY/tu1/8AAY0UAW/gV4avvCHwt0TTNRffcRRbyoP3c9F+lehIKgto/KjRQMEcDFWUq5AJSL83Xn61L5dNwBQAnlD0qSkLhPvkj/aGMfrWD4q8ZWPhzTZXeZPtWz93EvzmRj0HHSgDl/iRrd9eW72WkXUlq8bgSSwD5iT/AAqfWu/tQ628AkJ3CNQSepPrXC+DPDF/dJbahq/yBX+0LbHqX7EnuR6111vr1veaneWMRLy2irv/ALoz0GfWgDl/F/jTU9N8SWOj6PZQ3c88LXEkszbVjQNtBP1rpvDuoS6zoVjfyp5cksSuyDiuSX+zNesbjxRqMk9jDbedau8LELLCkny5A6iu8txBaWkaxIFhVMAKMAD0FAEuSKSsjw/4lt/ENlPc20TxrFO8B8z+IjuPauf1L4qabaNILSG61WKByl1NaJ8tvj+9nr+FBZ2Jjz15pdhFVL/XLPTdNa+mlC26gNnHPPbHc1XsfFml3+hpq6XPk2TgjfcL5bbg23btPegDRyeeetMPPXmq+k6zZ69p8d9YzJcWzglWUEYIbbgg1axRuAzAPan4oxVO61CG0mhjeXDznbEmOSaALOB6CuE+MWvz6L4SktLTL6hqki2dtGD825urD6V3Jb5SxAwBuZicAV5/p6R+P/iRJqjYm0nQQLa0J5WS4PV/w9aAN6yht/hx8PIgiNJHplpkqv3nIGTn8eawvCHjXxBquuWUWq2FjBZ3sUj25tZSzfJ3b0B7VqWmv3Gt+P8AxB4fuLZZdKtbKHJK5DSPyyk/Tilnh8OfDmyur6Ro7VUi25eXfIE/uqOw9qCDqq8z+KGsapfLc2GiXUlmbYxtPPCPmLM3yop963vA3iLWtZ8P3ur6zZLZxMWltIcYYR7f4vevNtG0XxF4v1CyW41U2ianOdVljtk+aONP9UCf5UAe620JjtYgz4kSNQzHHJ9TmpEVdnWuIl+Gi30RS+8Qazd567rxl/rXaqnkoiKSQvVn5JqAE2j0FG0HsPyp+KbQByvxCvZF0hdNtWb7fqT/AGSEKcFc9W/Ct/TbCHSNNtrO3xFDbR7FwMDjqTXNaOT4p8Z3mrAZsdMzZ2jdnlP33HsPWr/jy+n07wtdm14u58QRn3ZtooA0tH1m012zS7sZPOgJZVYjGSG2mprq8g06GSa4lWCFPvSP0Fcnq+oWHwo8BRwKQ08KCG2hBzJLM3cjvzz9auJ4fl1XwJFp3iCbzZriJVmmkZQN/wCNAF238baDdzRwwazaSSuwRVE4wWPbJFbKE8cmvKPF2reFtM1jQdLludOshE4v7ueEq21YuigqP4u/rXo3hzxBaeJtIh1KzWRbScMYvtC7G2joSPegDRoorP8AEF8+m6BqF5EP3kEDuAf92gDQIz15pc4rhW8U6pp/wfi16XY2rfY0m+ZchmbpxXaWLyTWFtJKAsrRKWHvQBYPPWkEeOnFLWV4q1tfD3hnVtSJ5tLWSdfchflX6mgDVTY3TA+lJgHtWF4P+06b4F0mXV7jddRWEcl1NM3zb9vzZJ6msew+Iz3/AIPi1hbDbNeTPDYW5JzMM4Vj7Y5oA7MpnrzRgelc34L8Ralqsup2OswQQalYSJHJ9mOUIZdwIrpKADy6MA9hVDxFrMeg+HtR1NwcWkEk+PUj7o/GqfgaPUY/CdgdWm+0apLH5s5PQM/O0fQUAbeAewqpqdjFqmnz2kw/dTDa4HXHpXKXWmeJtZ1PUbqPV20q2t5THZ2scYbeB/E5PUfWtzwjrb+IPDVhqUqeXJcJvYCgDW4jhIyFjRc/NXJ/D8i/bW9Z2kR6heEx+6KNoP41P4+1Ge30aKwtDi/1KZbWBs8qD1b6it3RtMh0bSrXT7VcQQIqDjrjrQBOnNPpMYpaAGZpPLqbA9BTaAIaa8ffAqfA9BUb0AJRRRQAuT6mmpS0bMUAGKTaPQUtFAC5xUTvSuCO5pmwmgBV5TmhDminIKAG9KXJ9TS4ptADlAPXmlzTM4p9AAeevP1qLNOzRigBmAe1AAHQU/FMoAbR5Y9BTsUuaAEqLNSPxTcUANQ5pdxHc0uMU2gB+aYQD15ozTsUARdaOtPxTU5oATFGKKKADFROcVLTdmaAGZp+T6mmbh6UZoAlpj0+m9aAIcVKAB0GKbipcUANop2KKZJ0uB6U9ErmU8MXt0qSDxXrJV+8Ytcf+iKmTwhOf9Z4i1tv+2sSfySqKOjzRiud/wCEOH/Qf1z/AMC1/wDiKj/4QeP/AKGHXv8AwOP/AMTQAni7wdH4vNsJdVv7KOBtxWzm2iQe4HWsfUPDWk+Gp9JaOFUSS6USXU53HHqWPQVtHwSrYzr2vHHrfn/4mq+pfD6zvreWO91fWZbVhhklv/lI9wVoAXxF4sa3iltNKVdQ1AIQkanMaAdCXrH8DWkmkeALzU7qVrm7ullvJpm6t/dH4dqz9W8DaZpOitZ6LqmqWr3TrbqtvdfLJn7xI28gV0Vv8NrZdNSyl1vW5IPL8oIL0BcemKsCjq9gLL4PS2IxxYAsfUkZP5nmul8R6smj6OzRYkmK7YIF6uayLj4Y2d1ZSWL6vrz2+zynQXxbj0xjpUMXwyskmiuZdW126ni/1cs2oN8n054oLLc1u/hTwPIAR9oSEux9JG6n6CuesPBGoaFozWU+q20OiEmW4meL/SHJ6gt90fhXR3XgOy1C2eC6vtWmt3GGU6hL8w9DzzWZefB/Qr0It1dazdxJ91J9VmdV+gLcUEDbWJfE1wmp3iFNDsgfskUvHm7f+WrA1zfhyzuH8Oal4g1aLbp0BuLyxsiOq53GR/X2rs5/h7p9xaG0mu9Xkt2BUodSuFUg9RgN0pP+FbaUbNrN7nVpbRl2GBtVuDGV9Nu7GPagC/4PsP7L8N2Fu7CSQRq8hBGCzHLZx71sbl9a5i2+Gejacmy0k1W1T+7Dqtwg/Rqsf8ITZf8AP3q//g2uf/iqgDoXKjvXJeKkubLxDpGrGyudQs7YSBoLSMySxufunHQ4qZ/AljI//H7ra/TWbn/4ukHgKxGP9P1rjgf8Te5/+LoLOf8AFl9rGraLdXd1HLoWjIo/csf9KuW7Lx9zPtXQ/D/w2vhbwrZWUS7ZMF5SRyWPr61ympeDYNY8XWulJq2tPa2cf2q63X8kmH/gHLflXTjwWn8Gv64n01Hd/M0EDfAeJYdXnkZVvJtTuBKn8eEk2oSPTbyK5rW7Hw14u8Patr9kReyyjyfNkOWiZW2gKD0z7V0Ft8OrezupLqHW9YS5kJLzLNGHbPXLbMmsi2+B+m2Ek5s/EGv2cEzb2hhuk2M2c5I2YJz3oA3PiRrUegeDNUkDKZmiMMEKn947N0AFQ/Dfw5PpenC9vwRf3EKIE7QRouAv59q4zxH8NYh4t0G2j8RaxLcvKbuafUZ0nKInACb1OCT6V3n/AAiupf8AQ4a3/wB8Wv8A8YoA6ioZ3Brn/wDhFtQ/6G3Wv+/dr/8AGKQ+GtRPXxRqZ/7Y2v8A8aoA6DJ9TWb4ivLmy8PajcWaebex28hhjH8Thfl/OqH/AAjWrM+R4uvwvp9mtf8A41TR4a16IjHi25b/ALh9t/8AE0AV/AWr6TFomnaVYyztdRw7ZFntpImZz94ncoBJ7nvW7rWjw+INP+yXJcJuDK8TbWQg5BBHQg1lR6D4gTr4nc/79hCf/QRQdD8SHr4ki/8ABan/AMVQBzK+DbLUfH9mkhudQGlBbiS7vJTKfMb7qjdnpXb+JPDumeI7LyNWtYrq3Vt5808LWBa+EvEFtd3dxD4khaW5cPKTpasOOmMS9qsHQ/FM1vJA/iGycSJtJXSGGP8AyNQBz/w58EaKIr7WE0q0jGozObdPLACQL8qgccZHzV6IkcdjbRgBY7eJQBzgIgrmrLRvEGm2cFrBrOmiKFAig6a+OOn/AC8Vh/EWPxVZ+FpoI9V053vXjsCY9OkRl811Tdu85uQSeags7/Tr631W1ju7WaO4t5l3o8WcMp6EVh/EW6+zeDNUIOZJYhCnP8TDbiqmm6J4q0bTbLTLTUdEisbWFYIQNNmyAO/+uqDW/DHinXbeCC41bSVgjnSchdMm+Yr2P77mggh8b2L23gzSNHjIM0s1rabfZetd4ij0HAx+FcDqui+LtS8TaVdPdaRJZ2m+X5bWQAv2ON/UVsO/i1P9VNo0n/XSCZf5GgCfwd4vj8XRanLFbtBHZXslmC5zv2d6ofEy3nuNBtY4rK51GyN9C2oQWih5HgHLYXpyOtc98LNN8Waf4SiYJpds088tzItxBOHDO2fX0rq5T4x7jQ5v91ph/WgDgviP4l1Tx7b6Zo2jWl9pmkXd7Fb313fQGF2VuWRB6Yr0e4tNO0q1tZpfKtLPTEHlmTAESgbQB71zmr2XjK81XQbl7bSJobK4aVlill6FGA/h9hU+vaFrfiW0NpqWnaLeWZ6r9rnAP4KtAFDQvFFnoaavrOoTbbnVpxNbWKc3MkajaqiPkj8TVjVNe1y9ttAtWg/sa/1C8DtGr72jt0+9u+tLonhfVtAk/wCJZoPhyxY43mKeRXb0yxiyaqaJZeNLnxBe65d6TpcUwJtLVJ711wg/iXbE2d3fPWrA2PiWTeeHF0xBltRuYbTZ3KF8sf8AvhT+dbuia1b69pyXdoCtqGKRlurYO3NcpeaZ4x1DW7C+msNC8u0DeVCNSm+8wwCT5HXBIzWTp48eeB9Oaxg8OadrtsJpZIY7bU9jRIz7gCXQZqAN34knU0tLeSOeOHQPNjivwgxcsHdVwntya6uw0+HT7SK0t4xHbwjYqAY/SvOL2Lx/4ofT57rQtHsrG1mEx0641CRmmYHIy6RFcAjI4p+rfE3xboTs+oeCzDbgZF3Dem5iz9UiLUAdA+3XviBGn+sg0iDOByvnv2z6iurBIPBrzj4fx+KrLwzDN/ZGmme8ZrqaS4v5g0jtzg4gboOnpXRJc+L2+9pmjD/uITf/ABigDpaK5z7X4u/6Bmi/+DCb/wCMUz7V4x/6BOjf+DGb/wCMUAdNmo0fNc59q8X/APQN0b/wYTf/ABik87xcP+Ybov8A4MJv/jFAHTbxTHrn/O8W/wDPhon/AIHzf/GKPM8XN96x0Uf9v83/AMYoA6BOaSsCOXxW3Wz0Rf8At8m/+N0zf4p/546P/wCBM3/xqgDoqXfXOeZ4s/54aJ/3+m/+JpJH8Wn7kWhn/trN/wDE0AdHTc1zaHxee2if9/Jv/ialx4q/u6P/AN9y/wDxNWBv5zRXOeV4u/566J/3zN/jTZovGBTKTaHF9Ypz/WgDp8D0FI37uudSPxVsX/TNG/8AAeX/AOLoMfipv9Ze6R/wG1k/+LqAOhplYKQeKT/zENH/APAKX/49SPaeKf8AoJaT/wCC+T/49QBu76fvFc2LHxWeuqaSP+4ZN/8AHqH0/wAVD/mL6T/4LpP/AI9QB0O+jfXA3/iy80/xVZeHJvEeknWLr7ttHpU5x8u7BPnYBrdFh4lbrrOmj/uGSf8Ax6qcWrXW4HQ5pKxP7N8R/wDQasP/AAVv/wDHqjfSfEg/5j9p/wCCw/8Ax2pA30YGiue/sXxIP+Zgtv8AwV//AG2o30PxM3TxPEP+4UP/AIugDpetGK5qPRvES9fFEZ+umr/8VTf7F8R793/CUrj0/stP/iqAOhd8Uma5waF4h3M0viYCP0GnxKf1aln0fW4omlbxSUjQMzE6enH6UwOkTmn14p4R8TePNf8AEUVre6jFaaTepLLY3UVmhlkVW4JXGBmvRv8AhHvEH/Q03H/gvh/wq5QcBJ8x0GaEYVzQ8M64r7j4wuyPT7Fa/wDxNP8A+Ee1gf8AM0Xf/gHB/hWYzpsD0FQvxWFDoGrP9/xVeP8A7ttbD/2Wlfw/q3/Qx3P/AIDwf4UAbic0nme9Yg8Pamevie9X/t3t/wD43UT+HNUH/Mz33/gPb/8AxugDap6KawB4c1Ruvie+H/bvb/8Axunf8I7qg/5mfUv/AAGt/wD43QBvZPqaN4rn/wDhGtU/6GfUv/Aa3/8AjdN/4RnU/wDoadR/782v/wAboA6DA9T+dSZrl/8AhFNX/wChp1L/AMB7f/43U/8Awjep/wDQ1al/35tf/jdAHQ5orA/4RnVP+hq1H/vza/8Axqigk6n4exS/8IXpLTKUmeBHYNXRbQOwpYbf7PBHEgG1V2qo6Aeg9qlwPQVZRHk+ppKdimupoAivruKytHmlcKir1rl9Ot5/FuL+8DLYn5oLQnBZf7zev0NRfEqd7bSLaMEiCa7ijlcH7qFua2tf1JNB0stGAXI2QRLzuoAz4FGoeJ9kaBbPTo/4RgeY3UD6UvjTVru3soLGwk8u/v5fs8DNyUz1f8K1tA0k6bp0aTHdcsPMmYfxP/jWJ4wcaPrGi6xLG8llavLHMUG4xBl4bHcVcN0Bi+GfA2peC/GsUttqF5qOi3ltILsX9xvMUo+6UznGfauq8WeJIfCeg3GoyDfsUBIx953PYVdvr3yNLmvbCBtQKR+YkcBB3+wNeXa54rvPFni/TrEeGNQe207N3cW0oUZkPCA+ozWyi6kve6AesWM01zY20tzF5Fw8as8ROcH0zUjjFcRc+PNZ0y5tVvvD4WO5JWOC3n8yc++0dBWh4R8bP4oudRtrnSbjSrqwdUliuCCD/wACFS6bSuK5S8e+KLnR5tI07T8C9v7lUPGdkSty3411wYMMqfl9Vwa8qsk1Lx18QtVuLNxBpFoPsi3gG7kfeMeemfat3RdObQ/Hd9o1tdXE2ntYJPieZnaN93QEnitJ01FJddwidv1rnvE3j3SPCN3HBqck8UjjcvlWruo+pFdDXPfELXJfD/hO8uYF3XRCwwIO7O20AVhCPNJDIvCPjmz8b3F02nW9zJYQAA3skexHb+IL34rptlZ3hfRk0DQrKxAJeJBvfuWPUk+p9ay/H6+IbnSorTw5tiuriXZJcCQB4E/vANQ0nK0dh9CSDwpc2vii/wBSW8/cXYTzYBCfMyvYN1roCCepJ/Gucj8caBp8SWt5r1mbuDakivIAdw6k8daisfif4d1XWrfStPvGvrqYlkMMbMoA9TS5JdhHT7cU4jd15+tLmkqAMDUPBWjalrker31otzdxxeShkO5F9wD0rWvb630+1a4uJlihQbi7fdHsO5NWJGZVyOT615PcDxW17d63r+gJNa2vmPHBLfIIIlH3SB/GT6mtqdPnerEzs/B3ju18azaotnbXUMVjJ5XmzLjefYV0mT6muO+HCtpvgkajqJEM10WvZ2f+BTyP0rqotUs7iKGRLmEicBoirjLZ9jTqQtL3VohlbxLfXeleG9UurKPzryG1lkhj/vOF+UV5FoPxK8cwaUmq3VjYavoQmVRew5illVhwEjPUhuDmvYtY1a10TTbrUL6TyrS3TdIxNYVl4F8NQzxatb2ixLgzovmuIkON+4Rk7V556VVOUEnzIT33OqwPSuP8CeKbvxHqXiZJ2H2Wxv8A7LAwHJAXnNbc/inSba0lnOpWbhFb7swNcJ8GNd0eHw4ZpdSt/wC09YvJbw27SYf52wq+mQKI07wlKwX2PRJr22juFtpLiJLj/ni8ihvyqfFfPet/Cq/174k6vezWN+97c3ita34bEMEA689a+hIkwAudxXrlqipTUErO5SY0knGTnHSuJ0PxtbeNfFmqaD/ZhewsYluFupOUkcSBQyg+jKSPetP4jaxNonhK7ltGK39yy2lqAcHzJG2rj3FZPwy0mGHUNduIB+4tnj0q3Y/xLEuZG/GR3z6laUIpwcmTLcm174m2egare2p0+7untdkaLaLueaZ13LGo/mxqX4ceP0+IdpfztptzpcllcNA0FyMHP1qDU/Delat4wnutN12bSfESRAXH2R1Z2QDAYo3AbHerMksfw406CCx0y/1mS7l3yvGA0sr/AN58/wBarlha3UZ1TfI2T19arRWYN09wZJTuXYI9x2D3x0zWX4Y8WxeL4J3itJrR7eYxPHMOpHoasXvjTQtK1eDSLjU7ePUpsCO2aQbjntgcA1jyu9rAa+aM07FM2n3rMsXaD3/X/PqaQgHrzQ6YpXKopYsFAG5mboKADaR3Ncz8QvGZ8GabYyxWrX15e3kdpHCp5YnqfoK3rbWLC6bbBfW05/2JkrirmeLxF8V0S4kiOn6BbCQO0gIa5k9Pp2ropwbdmtEQd4biK2iTzZEiR2VMu4Xcx6YzSv39+a8L8YKfjN42j0+xknk07SrmPbNESsTMrZkc9mGOgr3SQqgJbGwfecnAFKpTcEnfcSfMJjknuRgn1pHDZzk59c05SpztYPt6rkEj64o61gMYU3defrTqXNcrqHjd5NXudI0XTZdT1CD5ZmJ2wQn0d/X6VSXMBf8AGXiW28HeHbjVLjrH8scZP+sc9AKwvhj4h1XVfDcV74ikgiuby6YWqbQm5Nvyiubi0DUviH47ubbxPcxXWkaJsdbOyG2HzjyQzfxECup+IPhy51vRLBNDjt3v9MukubeEsAvCY28fd5YflXVyQUVHqwOrhu4rhpFhljkMb4ZQwYxn0bFOxXnHwe8HQeGLnX7gOiXl5MvnWsNyZzDs4O7J6sevrXoUeoWct2bZLmIzr1jDZNYzgoNpagS0SVk+JPFOmeELIXOq3X2eM/dyMsfwFO1XxTpei+Hjrd/ceTpgjErTMDkA+wrPllZO2jAuQajaXN9NZxXCSXUCjzYh1TPrVrFeH/DL4haM2peKPENxFemTVbwtFNHaMVEC9MH3r2q2u4723imjYmOUKwOK0qU+R2AXFAAHQYqTZUdYgLkjvSbT71zninxPqGh3lrBYeH7vWRMCC9s6qI2HY5rmPHXxL1/wv4XuryfwzNZSsBBBLJdR8SN0+UDk10wpynYVzoNC8YyeIvGGsabaRK+nacixPcA/enPUA+grqsD0ry79nzy4fBN0Z4Xj1AXLtezyH/WOeS2e+BUvjL4j6pbaaNb8NwwaloVmglvJ24Lru+bZ9KupSaqci6BfQ9K6UVz+ueOtF8PeGYNdvrxYtPuFRoGAJeUt0CqKZ4O8eab40gkex86Nkw7R3CbXKt0YD0rH2crN2GdGhozmjpVDW9btNAspbq6chAQFQEbpGPZRWaXMBolQeoBrN8Qa1B4c0S+1S4I8i0iMmD/Geir9SaxNK8Z3V3rtvp19pE+lm7jMtu0zhiwH94D7tZ3xIkTV9a8PeG3ybe5n+23gHQRRdAR6Gto0/eSYrmJoeiSQ6j4TF5Gr67fTz6xfyEZKJs2CPPXaCwwOleqHnrzXCaZrmmtqepeKtRu4tPsAPsFk8zYUxqcsV7nOBmur0LxBpviWxW/0m9hvrRyVEsZyhI7HuDV1XLqhQsXaXJNcrpHxL0DVYr2SW7FgLW9ksJBdfu2Mi/xAeldRHtZQyuGRhkNu+Xb65rBxa3RQuKKgg1C1uY5JIrmKRI87mVvlXHqa4Rfjh4fm1BIreG9lsfOW3N+If3G8thTuPUGmoSn8KE2keh0mB6VR1zWrTw7otxqV2WaCFQ3ynmQ9lA9TVDwd4pTxl4eg1aG1nso5WdRHcdcBtuaXK+W9tBm2DtORwfauS+J+qf2b4Su44nC3V4y20Slxu+ZuoFX4PG2j3HidvD8N0bjU0Uu0SD5Qo7Z9a+e/in8N9avPibbRnXL27m1KbzbSOORgLVB0bGflx2rpoUeaa5nbqTN2Wh7N4RsY7vXjNCgk0/SrZbC3kX+OT+M/Su7xXm3hr4War4W09LSw8ZXyIGLEPCkgJPU89zXV6BomqabcyzX+uSampXaEMIQA/SoqpNuzFG5ukk9TTM06mVylknm+5pOtIiUjnFACHnrR1oooACM9eaMUm0+v60maAHUx+KXfR1oATFPptGaAHUUUUAdkTtPKhfz/AMaamG6c/Xj+tcvD4C01vuz6lJ/10u3P9aH+HmkSffF031uWP9asDqHGO38v8aZuJ7H9P8a5z/hXGiH/AJYSf9/pP8aVPh9osKc2Zf6yOf60AaOtaTa65YS2d0qvA+AcMAQR0PXrWRo3hAaRcrLdandamITmH7aQfL/Xmpm+H+hS/wCs08HJzy7/AONNX4e6EowLAAe0j/40AReIvFjeG9U057lvK0py3nSou8qw6HGehqrf/FbwxIkkFvdHVJGG0w2sRkYj0x0xVmf4ceH5VKvpyupGMMzkYqG0+FvhiyX9zpUcP+4WX+VaxcbahZi+CLaXSPD11JdRvaWYuJJbe3mYboIey5zUPgWP7dJq3iGYYfU5AYS3BWCPhBjPc81F4j+F2naraW8EEZtohMrTAFstGOq9f0rTT4f6J5KKtgsaooVVV3AUDoBz0qnO1/MLHO2/g2x8T+I9Q1+7v7u1uo5Gtomt7oIEUdTjPFV9T8Q6JoGmz6V4akW41XUJBCrKSfMkPVi+ecVrXfwq8KBZri508omC8pEzqpz1zzzXK+BvhloWualca0LF7fS4m8vT7cOQoHeQDoD71qp3V3sieU2NK0nxf4KtrfS9NtNN1K0UE+ZLL5UqsepOTyfet/wz4eutOubrUNSniuNUuj+8EeAqL6Dnge1Sf8IHoo/5cx/32/8AjT0+H+hf8+I/7+P/AI1lKrzFWLN54j0vT5tl5qFrav8A3JZlU1w/jbxlod/4q8Oaa2q2hsUkN9dSCTcv7s5RePU1t6r8FvBevTeZe6Bb3c3/AD0cEt+Zqjp/7P8A4I0zcYNEWMnGMuxxThKmvee4WZ0Xh/xtovii6uLfSr37ZLEvz7EYA/QmoPFHjIeHda8P6cbYzPqkxi3YICKF9jUVn8KvD1juW1tpYXP31hmK/pmmzfDDRbie3uJY7qSWEkxv9qJZCepBzx+FTeF79ANefwtpMt29y+k2bzOcvI1upZj6k96lttJsoLhZYbW3hZQQGjAUjPXpWR/wglgf+XjUv/Ax/wDGhfANlH/y/at/4HSf41N2B0ny+3/fVJuX1rA/4Qe3/wCgjq3/AIGyf40z/hCY/wDoLat/4Gyf41mBrS61Y219DZyXKLczAtFEMkuB3PoK5n4ju2q/2b4etv8AX6lMPOK9Y4V6k1yPjrwfq+g+KtE8Q6dfare6eqvb6gkU+6cRnup6itPwn4B1G8v5te1bWNUgupkKW8Jny0MJ6qx7muiNo2dxdy/8abx9I+Gt9ZWMTS3N2qWNtEnUn0Fc5q3w+0/wx8LDNfNNd68LeOO3uXYh1mPRU7j8K7O78Bfb5rd59b1GT7NL5kZeQHa3ZhnofeoNa+G0usy2jzeItSWS2lE8QYqw3jpn3q41rKzC2tzO8YWU/jObSPBsrMLeSBbvWHU8iEcKv1Y9fWu21DS7LU9Kl0qaISWs0X2d4QxA2Yxj6Yrlofh1cw6xdapF4m1MXtxHHDJITHgqvTj2q+vhjUAGLeJ9QCLwSwj/AMKxnNu1hnA+Kvht4c0e20zwxo2kQLf6tcgPK6EvDAOWbPUcVv6x4f00eL/CuiWNnBZQ2m++d44gCRHwFJA7nmsvwZ4bvfE+u3/imTXLsRpvstPleJDuiH32x712Z8L6qZxMfEFyZlyBJ9ki3DPXnFaOpKKUbgTeNdbutPtLWy01d2qahILa3DdE/vMfpXmeu3XibwH4o07RbfVLnVn1y5hKS3BUmBE/12B2BrtNU8Ea1qN/bXsXiqaK8td/ku9pGy89cjFZ0/wl1C91q31efxhqMmpwgiOUQxBUz12jHH4U6c4x3E0N+LurpZa34TtHQzSrPLfpAnzGSSJf3fHYZYEe4rotEt4/h/4EaS9kLvawS3dzITndIxMknP8AvEgfU1zCfCHVbbxTZa4fFl3eXMAaLfewxvsB6FQenQdK3fEHgzVfEWh3el3PiCUW1ymyUi1iz+HFROolFJAkc78G/hu+i3Vz4t1GR5tc16MzzKxP7pG5CD047V1XjXxPNpUUWk6UFl1y/wARQRcjy1PV2JPapI9H8QooX/hIk2gAAfYEwAOnauI1X4F3Ot+JX1268RTz3xQxjfEBGq+gXsPaiMlKfNIZu6xq2l/C7wDfPBfRPdwRMS7OrPJL/eOOv1rG8DeBrXxDd6f4gubMSQqBNHdXGDcXUp/jPoo7DtV+0+F93YIyC7sMMNrNJpytkeh4p2i/D3xP4aRo9P8AGEkdswwltcWqvFGPQZ6Vp7SPK0t2B6RRuHpXH2eg+LkkZpPE8Ezv2FmoVf0q1/ZXiff/AMh+3/8AAJf8K4mB03WoZoY7iGSFxmNxjn0rnf7O8TJ18QWp/wC3Rf8ACiLTvFI/1ut2RHtaGkWYKfCHwL4P0W6vV0eKCG2VpGcSuGI+tcvo3hPSPB/wz1TxZrFoGv7mJrkLcSuwUn/Vrgnk+lbHxIsPFGpR6b4c/tW0mGsyiOQx2xBSJOWz7Edab8Rvhr4r8b2WkaQ+qWA0qKYSShLZ1yE+6p56e1d1ObUdXuQYmg6xq3h/4WxalosEWkaZZxrKgliHmX8rHavHvXZfFCTV9e0aDwtosv2fWtTgM7ThivkxoMs2R0yeBUPiLwb4t1XTbCzi1LSBDZzRzR26WjqrqhztbsRntUdz4b8eSa5Br0V/owvo7JrOS3MEnlNGX3dc9aJTUnzdRW0K3wm8I6toGvXd3OupwWsllHFPBqFyJzJdbvmZD2WvUa4KyPxHnvBHe/2HbQAYE0W9/wBK1ms/FiJg6rpefX7M3/xdc1STm7hE6euC8bf2t4Yg1DU9KvbWws9okMRti73E57c9TWqlr4uP/MU0v/wFeuSe28T+MvFW03+m3Gm6PICp+zPsmm78ZwcVVLR37FMhsvC+o+FfBNzf6vrdybq6JuHtrbajSXD9EyOtdp8P/DR8KeHre1mmkuL2X9/czSMWZpW68nsMCsDxP4e8b69qGiGK70h7S1uxdzoYZACQvHGe1b/2bxT/AM/2lf8AgLL/APF1U6l16iOB1uxl0T4rwaF4YKWlxq9g8mqyKP8AVr5qnzzj+MgnB612N/N4R8ATWzTFE1FegUGS6kz03kf1rL0vwHr2l+KtY8Qx6jp0mo6iEjZntnOxI1wFU54BODin6z4S8U3FvqNxYXujW2r3UeBepauXU+oPWjmTsgMKe0uviL8TY49QtJdN0OCy8+OG4A3T4bkgV3PxCurXTPA2qtPBFPbJbGNIJEDK7HhAAeOtcBpA+I+qeMtKn1HTbLTpbK2kt5rvmSKRT06Pk1c8UW3iXxb4msvDjXWntBaBb64ZIZNo2/djbn9K1ldtLogO38A6KugeC9I0zy1QR26iRAMDPqRW9DGtvGscSiONRhUQYAHsK5lrXxZjC3+lqOmBaSD/ANno/s/xd/0FtM/8BnrllLmbYHT+Z7/rS4rlksfFp/5i2lf+Aj059P8AGHmbv7X0zHp9jeoA5zwl4g0jwgurWOsXUtrf/bppGWcMwdGbI2EdsVjmab4yeJZZhA9voOiFvs6S/wDLzdepHovb0rd8YN4j0HQrnUmutImngUJCHsmLFm4AWrHhfwl4o8P6HBbJqWmrK+ZJWa2cku3rzya61UjFOXUDJ0/wx4xh8JT6Cv8AZemo8Lp9qjcvLKzdyPWmxW19H8P38JWfhi+t5mszYCZ9ph3MuC+frzmus/s7xZz/AMTXTOev+jSf40n9meK/+gxp/TH/AB5vUe0YHL3Wnab4e1vw7aa0jXGiadpUUVpK0ZeJLhWzvI9cd61dCA1X4hSaxp29NMi0tLPd5e0PKJMjj0xxWkdK8UkEHU7Ag8EfZH5/Wj+zfFGwJ/a2n7R0X7G+BS9oB0TvivP/AB94Z0/XfE3h431xLawqXcTRzMq7l+79K3v7K8Ts/wA2q2I/7dX/AMaq3vhrX9Qg8q4v9PnXrtls2YfrUQfK7gSadpXhnwrcS3yXcJuGUq11c3fmykHqAeuK4qHUbn4g/EvWTokqrpsNnFYTagynKZ5fYD0OPSuig8C32nRNMZNGHlgtn+zjxisj4YaR4ml8OzalFqtnbyapcveMGtM43dBXTGaScuoHP+MfhmfHXi020EsAtPDDW4t9FuTiG5Rl3yMx9zwcda7LwJ4Z/wCFW+Gtf1C/MEEc1xLqktrbf6m2X+4vp9BVjVfBOuapcRXJ1m2tbyNdqXdpbFWx6EjnFWr7wxr2raNPp1/rME8M6GKXdaYLA9TUyrOSSFynm3w30bT7nwJ4n8a65pyCTU557yCGdNxgjPTaMdT7Vr+E9T1nWfANrc6us2i6BZW2XG4ie8K9Oeqg12lr4Y1u006KwXUrP7NEuxYxYjbt9MdMe1Ra94R1zxHpN3ps+uQRWtzF5TbLYDj0+lV7Va6bhY5mDS5NB+FrrIGtTqs4e4VBkwQu2T+Qq1o/wvtJYNPsoPEEl/4fs5FlisQFYMynK7274PTPSuhh8MeIEsFtZdft5okXy8PZIQfzFY9z8LbidzjUbeLPP+jWYj/lU+2a2YuUxvjl4oUQaJpWnyrLepfJLN5al0ijHAdiPftXWS6npvhHwBcXGm3MDx2Nk7RHePnIGenXJPJqDTPA2oaRBMlnqVrCJv8AWMbNSz/7xxz+NZ8vwnea5EzXViHPUfYkwf0o9pGyj0RR5x8G/E8Ecd1q1vZy6rr86mKG1ijOUA+/JK57muz+EVjqXiHV9a8Va+Vkv2nNpbBeUhjXrt/+tVvxRZ6p4H8L3t1Z61a2zP8AJBDDYIjyyN0HA5q54R8Ha5oPhzT7JdbaLagkeMWqsdx68n1rapVTi5JWISO2uZZIrWWSMZlCswX1PpXn3wg1zxTrkurSeIWIgikxCjwhCD/UV0aaHruc/wDCSSf+AkX+FI3h7WiQV8TTqR0ItY/8K4oySTXcs6emVz3/AAj2uf8AQy3H/gJF/hQPDetJ18TXJ/7dIv8ACsgOj34pNwNc2nhjWV6+J7o/W0i/wpP+Eb1X/oZrr/wHj/woA6Siucfw3qg/5mO8/wC/MdM/4RbVP+hmvv8Av0lAHT5plc8nhvVD/wAzDe/9+kofwxfD/mY9Q/79pQB0Gym5rn38L3zJgeJtQB9QI/8ACmJ4Svk/5mTUm+pj/wAKAOnTmmvxXOjwpdnr4j1Ffpto/wCEPuj/AMzFqf8A30KAOlornv8AhE7j/oP6p/32KKZJ6LoLSXGmW88ybJZEVyuOlXvLp6qEUKoAUDAA7D0paoojwPQUYHpS0UAMIz15o8v2p+KKAIvLB7Cm7KlzSUFkOADnHOc/jTcD0qR0Ipuw0AYnirQ38R6VNp6zfZllKrI2P4B1x71pWdnFp9tBbWyCKGFMKoGAo9AO1XaYVJGCcj3p3YEW2hlI6cU/NO60gGYBOcc1FczNBAzxwmeRfuqpxmp3So9wiBlY4CUAfH+reD/HXin4w31ne+IZdCe5bznMVyzR2yt9xMKQM19BeA/hvd6PoMVpr2rX2o6nAzK9wmoShXHr1rifhb4Lm8a+O/EXjHULrzdI/tAi3gVsrI6cKcdCoPT0r3mTmvSxE0oxpx+ZikzLttEgtX3JJcM3pNcu6/qa5D4v3upx6Xp2kaJcG11fVLgpFKhIKKi7jyK9AAA7VxepFb/4saLADkWNjPckdhuKqD+prip6Su+hZ1lnFKttAsx3TiNQxHc+tSbK4HxNd+KfEPjT+wtJuJND0i3jEt1qaQgyMD0CFvlz9KteFtT1jSPGNz4V1W8/tVFsVvrPUJIxHIwL7CjgdSD3NX7Jtc1/MVztcAHOOcYz7V5/4c8Wa5cfFnxD4d1GGKLTIrdbmwwMNJnrk98Vb8aeP5tF1W00PRbMapr1267YWJCW8f8AfkI/kaq+MxJoPjzwjrDKCs+/TbkKP76/L+VOEL/EFzvPLzSN8o4478VLlfm5pmM1iMYeSPbp7VS1myl1LSLy2hmNvLPCyRzj+BiuAfrmuc8T+ItWh8ceF9E0dI3iumln1FpBkx244Uj3zR4++IJ8E3vhuyhtDd3etailoihsYT+JjVKm215gbnhjQ5NA8PWWnSNHIbWNYxIkZQEDqcGtPaPQVxvxA+I03gkTJaeF9X1u5EPmRyWkH+jD2eToPwFeSXHiz4v+GLCTxZriWlrpyypv02cpnazcAKvOa2p4eVXrYhySPd/E+nalqWlNFpWq/wBk3e5W+1rEJeO/Br558Y+PvifoHxkt/DekagNYjCLIsFxDEoeM9SSB2r6Ys7r7XZW11jDTxI59srXyD+0Z9rt/jJPN9qm0lXsVWG5jJBYbeRkdq1wkFOo4SHOWh9d2XmmCF5yhm2ruZPun6VLgVz/w7ivk8BaDHqDmS++yReazHJLbepJ710NcM48smi47CYHpSjjOOM9aKZmsihjjAo2U/GaKYBRRTc0gAnPXmnU3cPajNAGbc6Bb3PiK11gyOLi3ieFUz8vzd8VokZznnPXNPxzRigBh5XaeR6GmPIN6jad3rT9p96R+ue/rQAsYA6DFKeevNJ0ooAx/FF3cadoM8lop+1PiKIAZIc9/pUnh/RItA0mGxh528vIerN/eJ7n3rUPzdeeh59ulKeaq+lgIyAe1G0+9PxTc1JA3ZxjHHpilPPWlzRQAzcp7CvPfBPgrxBpnifVdV1a+hWK7meQRQDc0in7pc9gOw7V39OAA6DHOa0jJxT8wG7R6Cin4plZgLS4B7UbDS0AZev6DD4gs1trh2Ta6SqVPQr6Vo0/FMoAROaXA9BR0puaAHYHoKMD0FKik07FADCAeozSPx0pafgHtQBDJbpNEVYBlIIIIyCD1qvpunW+i2UVpbIY7aEYUZzxVpuOnH0po46cUywKgnkA0jJg5HBqTZSPVAN2j0FNp9JigCPJ9e+aTFS4HoKiqCBdxBzk5oySMdqSimBzfi7wbbeLpdNe4up7WSwlE8QiZcFx0zu71rWNn5FtHC0sk7L/HKxYt9SauZOOtJ6e1HMwE2YqSo8n1NM3H1NIBcD0FKeaE5pHcCgBtFKnNJQA/ANMpc0lAB0pvWnUYoAKXpSU1yRQAEk9TRmkTmn4oAMUU0E4opknbu6j+7+v+NN8xf7w/z+Nc9/wr/RT/AMs73/wYTf8AxVM/4VvoH3vsdzj/AK+5/wD4qqKOjeWMfxr/AJ/Gk82H/nov5/8A16wE+Hfh5P8AmHs/1uZT/WnJ4G0CP/mHK31d6ANt7mFOs0a/7zD/ABpovrVes8X/AH2P8awz4A8PS/f0e1f/AHlJo/4V54ZXroNgfrFQBtfb7T/n5i/7+LR9vtP+fmL/AL+LWSPA3h1Oujaf+MC/4U7/AIQnw9/0A7H/AMBk/wAKCzTbULQfeuoR/wBtFpq6haP0uof+/i1mt4F8OzJ82haeD/17R/4UxfAvh6P5E0PT8f3mto/8KCDT+323/PxF/wB/Fpf7Rtf+fiH/AL+LWZ/whGhf9AWw/wDAZP8ACk/4Qbw7/wBAWw/78L/hQWan2m3/AOe0P/fY/wAad9oh/wCesX/fY/xrG/4QLw5/0A7H/vyv+FJ/wr7w5/0BbT/vzQBti6hb7skbfVx/jWD461qHQPB2s35YM0Fs7qqHJZvbmg/Dvw2n3dFt1+gNcH8afDOgaR4BmEWmATT3EMEUUTuzOWkwQOe4rSmuaSQSNf4I/D8eA/CFm0moz3VxcwLNJE0u6KLd1CpnAJ9q9DLqBtBDH3//AF15X4J+D1ja3V1f31vNDb3OPs2nG8lPk46d+K7Fvh1oQORYTj6XU/8A8VV1nebZB0OPr+X/ANeuJ0Mx3nxd8SS5BFnY29srEjHJyR+JArSm+HejMnzR3q/7moTj/wBmrjPBHgfS7zxN4ymP29EjvEgGL6YOQq9T83NKGzA9Xn2Rxl3KpGgJ3MwwoXua8X0HxXqPjDxN4m1rw1aea6RjT7fUrni2ggQ7mYZ+8SeT7122sfC3TNZsXs/turW8bkbzDqMp3L3B3NyD6U+y+GOjaRp8VjZT6hZ2KZ2wx3jhRnrgA45q4SjBXerFIr/CTR1tvCttrE0hvdW1WP7Rd3kuNz7v4AeoA9KqfGHUYLSXwrHcOkW/VElJbO4InVsCnx/CnT9DtSLTxBr+nWMHPkxXo2IPQblwBXN+EvAUni7W7nX7nV9ZfTICYdNSaZd+P4m5Xoe1Vdc3OTroiHXr3QL3Wri+0/4ka1ZPO242trL58KD/AGVYYH4V3ngvUjPZC2H9r3KQLze6tGI2k/DjNJD4CW2IMWuaxER3SaMfySlfwOxx/wAVHrfHT9/Hx/45WTqJqxZm69p+t6T44HiDStLXWYZbAWElubhYpYmD53c8EHvXPaRpup+N/i4b/wAQWENl/wAI5bIbOzimEy+bNzlj6gd67QeCJAMDxFrgHp5sX/xFZ1p8Nrux1u/1GLxTqxjvxGsqsYuXXoT8nIFXGpoKx1WrXy6dpl1cNGzrHGzmNfmLewr5N8Y/Frxl8UDbeH7vwsdOtlnW8aEQykyRr93cM9K+lZfCF8DuHirVQMYxiH/4ivNPhnY614r8ZeJdUGp6xa2wYW0GoSRxAvGvYKR09q2w1RRvJq9tiZJ6Fjw949+IF54o0K0fw+Ro0riO4P8AZ0tssaDp8zkkVY+L3h7TfGfxO8EaFdRfO3nTzsv3jEvYn09q71fCeqIpVvFeo7MZIMUIAUdSTivH/h9bXnxH+L/iHVU165EekRmysroQpucHrjjHNONS8nUUbWCx9BRxJbRxxRrhVAAUdAB0FSYrmf8AhFdXzn/hK77P/XKH/Ck/4RjVv+hovv8AvzD/AIV5snfU0idFmiuXk8Maqv3fFN+f+2MP+FC+F9Wj/wCZnv2+scP+FIo6ZzijNc1/wjWpt97xPfj/ALYw/wCFL/wjOqf9DPff9+Yf8KAOkzSVzi+GNUCceJr5j7xQ/wCFN/4RfVf+hovv+/MP+FAHSoAafiuXTw1q3/Qz3f8A34j/AMKmTw1qi9fEd4frDHQB0TfJTc1zp8M6sevia7P1gj/wqNPCern/AJmi+/8AAeOgDps0nWucHhXVV6+J7/8A8B4/8KE8Mauf+Zmvf/AaP/CgDo6K5keFtYRMHxPdk+vkJSp4W1ZU58TX5+sUP+FAHS0VzieG9VP/ADM11/34j/woTwxqv/Qz3f8A34j/AMKAOhd8UzNYH/CMaqf+Zmuv/AeP/ClTwzqq9fEd0frBH/hQQb2aM1z3/CN6t/0Ml1/4Dx/4UP4X1cf8zNc/+A8f+FAHQ4p2K51PDGsL18SXJ+tqtJ/wjGt/9DRP/wCAi0wOhfimbqwP+EZ1w/8AMzT/APgGlJ/wimtf9DNP/wCAaUgOjzTd9c3/AMIxr3/Q1Tf+ASU5PDeuL18Tyn62KUAdFmkrnv8AhHNb/wChmf8A8BFpf+Ec1r/oZZP/AAEWgDocrTdw9P0rA/4RvWW6eJH/APARab/wjes/9DLJ/wCAi0AdHkijNc4nhrXD/wAzLN/4BpR/wjut/wDQ0P8A+Aa0AdFTkIPeue/4RzXP+hlb/wABFpH8Na2fu+JGH0sV/wDiqAOg60u1a5xPDutn/mZZP/ARac+gawE2/wDCSPn1+yLQB0OaZvzXPf8ACN61/wBDNP8A+AaUf8I7q/8A0MUv/gKtMs6Gosn1NYSeHdYH3vEVzJ/u2qimP4c1X/oYbj/wHFAHQ76TcPauf/4RjVP+hjuv+/Ef+FA8NaivXxHdn6wx/wCFIg391NzXO/8ACNan/wBDFd/9+Y6X/hFtT/6Ga+/79Q/4UAdDTM1z7+GtQH/My6h/37h/wqN/CWot08U6kPokX+FAHRZpK5v/AIRO/wD+hq1L8oP8Kf8A8Inf/wDQzap/5B/+IoA6Hfimuwrnv+EQvP8AoZdV/wC+ov8A4imf8Iben/maNV/OL/4igDpPNA7UI+a5z/hDrn/oZdX/AO+ov/iKYnhC6/6GXWP++ov/AIigDpty/wB6jcv96udTwhMf+Zj1b/v7H/8AEU3/AIRCf/oY9W/7+x//ABFAHSeaPQU7cvrXN/8ACGS/9DFrH/f+P/4imv4KlZOPEesj6Tx//EUAdK5w/wB4Uxz/ALQrm38GP/0MWs5/67x//EUf8IS5/wCZg1v/AMCI/wD4igDpU+g/OnZ9xXL/APCFsP8AmYtZ/wC/0f8A8RUieBc/8zFrv/gSn/xFAHSYA9Pzorm/+EI/6jOtf+BI/wDiaKkD1aFi8MbMMMV6U7AxjHFOx09qMVqAmSO9NwB2FPxTaAG5xSHnrzT8U7A9BQA089aMU7FGKAGYHpQVB6gGlooAMUYoooAbmkxT8UYoLGYzXkvxt0fXtSm0ObSbOW8axlNzGkR4NwpUpuHdck162/FJtGScDJ6n1/zgVpCbpyTRMjkvBut69qFjbJrmhyWt+f8AXMrjb+FdU6j0FP2jGMDHpRgGpk7tsRFiuO1jwvPpOrXeuaPqcOnteEC4huR+4kfG0Nn1PrXZOhFcN8VoBqVloOku7qt/qkKsyEjIU7iD7VVPWSiNnVaWt6bbF+sKS/8ATFtwq3s5pktzDZwmWaWKCFOrs+1R9SafLcw21qbiV444VXeZWf5NvrmkI47XLS78ZaxJpLM1todtta6lHBuHPIjHtjrXV6elubeMWjRtbxqI0EWCvHvVkok8J2FcSKVUp0IPevP/AIOQzaDaa74cuJC82m3rMm853RScr+AFXvH0A73FGM0XbGC1llWIzMqsyopwSfSvOdB+IfjHW4Gnb4fT2sG7rJepu/LFZqFwPQtlOJJ689qqaJqT6tYLPJaTWUm4o0E4GUYd89xV3FSWRSHjHao0jRNhTaFByCpyAai1ky/2ZdG3OydYnIPTBrlfg1Dcn4Z6E97cvc3EkW95ZCWZstxknk1pFe62QZ/j258YNpus21lYae+nzp5Fs4lPnMG4Jx2wasfCTwHcfD3wra6XcLaNKvzTS26tuc+rHufrVv4deNbvxq+vrc2H2NdNv3tUJOfMA7n1rsn4zVSlKMeQaIqXNLsNGw1iUR0mAO1P2UbKgBp5680myn4o2n3oAiAA6cfSjafWldCKkxQQRYxRTsUbKAG5oxinbKbQA4gHqKa4A6DFGaOtBYKSepz9aMUJTtlADcYpnSn0zafeggcjg01QD1FCCjpQWFGM0UUEBgelJtHoKWigAwPQUYHoKbmnUAGB6CjaPQUic0tADMUqEmnIAaMAUAKlJgego6UUAGAO1N206lzQAmKMD0oooAMAVF1p+aZQAmB6Cm4pd9JQAzA9KMA9qfijFAEWKY4qXFNxmgBlGKR+KWgBvWiikfigsXJ9TTKahJ71JiggZtHoKTNGaRAx7UFi5p2B6UylzQAnSiiiggKKKKAG9aM07FGKADFG/FR5PqaegB7UALiiiigDtuPVf8/8CqI3UI+9Kg/4Gv8AjWJ/wrrwzH/zAdPb6wp/hTW+HPhJuvh3Sz9bVP8ACrA2jeQH7s8Z/wCBj/Gm/b7X/n5h/wC+x/jWQPh54ZXp4e04fS0j/wAKX/hX3hv/AKAGm/8AgLH/AIUAa39oWf8Az92//f1agl17TIP9ZqVnF/v3C/0qp/wg3h//AKAOn/8AgLH/AIU8+CfDx66Fp5+ttH/hVgWF8RaUfu6pZn/tutO/t7S/+glZ/wDgSKqr4L8PL00TTx9LSP8Awpf+EL0D/oC6d/4CR/4UrAWf7c03/oI2n/f9KcmrWB/5fbX/AL/CqX/CE+Hv+gHp3/gJH/hQ3gfw+OmhaeP+3WP/AApgaH9o2f8Az9W//f5ad9stv+fmH/vsf41mf8IToH/QDsP/AAGj/wAKi/4QHw3/ANAHTf8AwFj/AMKANn7XF/z2j/76X/Gl8+L/AJ6L/wB9r/jWN/wgfhz/AKAOnf8AgLH/AIUz/hXfhb/oX9M/8Bk/wpAbbyJ/eX9P8aA4P3cH/P1rC/4V74WP/Mv6b/4DJ/hQPht4YD/LoVivG3/VDg++KLAb+0+o/If40uw+/wCX/wBlWC/w88OD/mDWf/ftf8Kjl+HPht/+YTbp9FYUAdCqMeoJ/D/69cX8R7dk1HwZJgqI9YTO3BzmNvf2FXv+FYeHB/zC1/77f/GsXxl8I9M1TToDptptvLS5iuoY3uJPnKjBAOeOpqqT5ZJiZQ/aI0RfEfgIafNcyW1jNfwJeTQ4LRwlvnPHWub+JGu6fP8ADjQvBWi67a6rqV5LaaWZLaUSF1H3nOGIye5716Np/gPSdWsW+2aLdWaMMNbXF9JKCPQ7ZGrj/F/wv8O6X4h8HWtpYtaRXOpkSiK5lBwsTtkYPsK6abi9JdAZ6vZ2i6fZwWsfzrAqxg85IHfrXDwo9h8ZrgJgR3ulq0mDxlGxn64rZ/4Vzo6bpD9vU+o1O6/+LrjvC3gux8TeM9Z1hZ9UfT7YLYWz/wBp3AaVv4yG3fdrCP2mDPUzyckqT65rhrnwz4x1q68658TjTYPP3pBp1qq5UNkgu/OMVsn4fae3S51j/wAG9z/8XTX+Hun/APP7rX/g3uf/AIus0+XYZvgY2fj+vWmVz/8Awr2y/wCglrv/AIOLn/4uhPhxZn/mK69/4Nrn/wCLqQNfU4HNldKoyWjbFYvwwga38A6FFjBS228VZXwFagYbVdZIIxzqs3/xVQaf8ObTS7VIINU1iKNOFT+0pSF+g3cValZNAZHwxsvs914sjxs/4m8j7T15Wu48sntXMW3wvs7W8uriPU9ajluG3yFdQkAZvU/NyferX/CEp/0Fta/8D5P/AIqnOXO7jibrpijZWD/whCH/AJius/8AgfJ/8VTk8ERn/mMax/4HSf41mUbnl+1JtP8Ad/SsX/hB4/8AoK6z/wCB8n/xVRP4IVums6yPpfSf/FUEG9sP90Unlt6Vhf8ACDf9R3XP/A8Uv/CEeX/zHNcb63h/xoA2dhNLisF/Aqj/AJjmtf8Aga3+NM/4QUN013XB/wBvwoA6DA9BTawU8BA/8x7XP/A8Uv8Awr//AKmDW/8AwNFAG7Qkea5p/h+f+hh17/wOP/xNLH4BC9fEeun/ALfqgDoth9KTFc+/gJx/zMev/wDgX/8AY0n/AAgb/wDQw65/4FD/AOJoA6HGKXNc7/wgjR/8x7Xm+t2P/iaP+EG/6j+tL/u3ob+dAHQ4oxXPP4EI/wCY9r3/AIFj/wCJpP8AhX7f9DBr/wD4Gf8A2NAG/sIowfSub/4QFv8AoY9f/wDAv/7Gj/hA2/6GXXv/AANX/wCJoA6Nvk603J9K54+AnPXxHrh+t6v/AMRQngRz/wAzJr3/AIFJ/wDEUAdFRXO/8IHJ/wBDJrv/AIFJ/wDEUf8ACByf9DJrv/gUn/xFAHRYornf+EMudmP+Ei1vPr5sX/xFB8GXK9PEmsn/ALaRf/EUAdElFc//AMIbdOn/ACMesr9Hi/8AiKP+EOuf+hm1j/vqL/4igDoOlG5fWubTwXdRv/yNetN9Xg/+N0//AIRC7/6GbVv/ACX/APjdWB0mKHI9BXOf8Inff9DTrP8A3zbf/G6i/wCEUvj/AMzTrP8A3zbf/G6AOldgKbvrmz4Qu0/5mjWG+rW5/wDadNfwdqA/5mrWPytv/jdAHSeZR5lcu/hG/H/M3av/AOSv/wAap3/CI33/AENmsf8AfFt/8bqAOk80UO4Fcv8A8Iff/wDQ26x+Vt/8Ypv/AAil+f8AmbtX/K0/+NUAdRimo+a5r/hEL7Z/yN2s/wDfNt/8bpF8HXq/8zVrT/hbD/2nQB0nmj2pPNrmn8J3jdPFOrD6fZ//AI3Tf+EQvf8AoZ9W/O3/APjdAHTb6bvrnR4Qu16+KNY/O3/+N00eEbpevifV/wA7f/43QB0W/NN8yuePg+8Z+PE2sD/gdv8A/G6T/hDrj/oZ9X/7+Qf/ABugDoneoTIX7mue/wCEJlV8nxLrZHobiP8A+IofwhOfu+ItYH0eL/4igs6JKdub0rmx4NnRMf8ACRa3n182L/4iiTwVK3TxNrY+lxH/APEUAdJk/wB2nZIrlv8AhCX/AOhh13/wKH/xNJ/whD/9DHrn/gav/wARQQdPRXNf8IW3/Qwa5/4FD/4mkTwUp/5j+t/+BooA6aiuc/4Q0f8AQd1r/wADP/sah/4Qv/qYNb/8DRQWdTSJzXNf8ISv/Qe1z/wOFP8A+EHUL/yHtc/8DhQQdE/FJvrmv+EHReut64frft/jTv8AhCI/+g1rX/ge3+NAHRYpelc1/wAIRF/0Gtc/8D2/xoHgaFeusa4f+4hL/wDFUAdKCcUVzn/CBW//AEFdc/8ABpN/8VRTA9dR/kpcn1NJsxSbT6/rWoC4pEAPanJzTsAdqAGYoxT8UYoA4rxVfX2vao3hvRtXOj3hjNxPdxw+a8afwhQehNY2k6DrnwyvLWbUPFF94l067mS3nGorhoHboVJPSt3wztk8beKJHA8xWhjUkchNvb2pvxaslvPBN0xOGheOeIf7YZNoH611RlZqFtyPMm8f+LrrwpL4cis7UXcmqanFZsD/AAqeWP5V12zP/wCqvN/jDqi6LL4N1OWFpY4NXQGNRyzGJhgfiBWjN4w8SaDNHda9pNrBpUz4zbSFpbf3YdxRKleCa3C+rOz2Unlj0rD8RfEbwx4URzqerw27iMSCFRudlboRSav490rSfBr+KCZrjTBGsoMMeXI/3aw9nOydtGVzI3PLHoKXafX9a5y78e2aWtjLp8E2qy3iCaGC35JU9ye1Zd/8YtGsFCm2v7maPH2mKCHP2b+8HPqPar9nPsHMjrNWvhpOmXl8/wBy1heVs+iruNee/BtbzTYvLvby4vpdS06HVj57sxjLs2UGegGBxTfjJ8WfD2h+AtWjNzJLJfW8lrH9nj8wI8kfG49qy/AnxU0bU7+O5t7bUpIbfSLW0Pl2MhG8HJH6mumFKSpy5kQ2ro2vAnxoPjTxXJo7+HrrTIT5iRXVw+fMZOvH8Nekyc15IfiV4J8Pa7cXNvoN8mszTeUY1tXRnkddxAB4DHvXSWvxb0q68NJrE0M9pEt0LKeOQYMLnu3tUVKTdnGNikztcD0FMuJkggaaV1SCNS7SO2AqjqTWR4e8Z6P4qlvItNu/Pktm2uMY4/vD1FYPxh1qw03wNqVpfyyqdTjNlAsC7nLsvA4rnVOSkotalG5r3i+x8O6dYahcFprG5njjM6D5Yw38bf7NYuqgaz8VvDlvE6SW+l2U2oSOp+XfIuyMZHsSBXnNr8V7m/8ADA8L634MlsbKS0Fq0l0/lQgBcA8g9D0ql8EfE8fw88UTeGtTvodXTUAgtdailZ1GOBExPRQeQOlejHDSjFytqjK+p7X4uku7mOPSdNzHc3eQ1zjAt4x1fPr6CtXSNIt9E0mCws0WO1gUgDrknqfxql43/tP/AIRDWP7HwdVEB+zk/wB4dCPevOvh2+ufDe4jsfE2ty61BfWX2+Ge4JLwso3PGS3J+lccIOcWuq/E0keuiPA2hQD9aNua8n+GF3qnifxLN4hGp3txo80RL20r4gDH7qxg9MdyK9UvbxLGzmu52McMKF3JHXHoBWVSk4SswTHhRkjhnH3gD0o8sDtXjngb4kNN4w8YGx0zXNXjnkintbd0b90jLj5Qx4XPYV6v4d1K61jRLa+utOl0yabdm1nILL9TROm4AmXqAAOgxXn3wi8Y634tvPFcWu2q2kun6l5UEQ4KwleCfWjRPFF7rnxo1rS4rk/2TpVggaJRlWlLd/ej2Tu/IZ3/AJYwRgYNJ5Y9BVHxLq9xoWhXmoW2nzatLbx7ls7fh3PoDXI6H8Q/FOpW32i6+Hup2cf9wzx7qhQbA7vy/b9KXAFNsp/t1rFNsaEyLuCP1U+hqXFZgR7K5ZviFpzfEQeEIopZNQFqbqWdR+7jH8IPua62vM72RPAPxH1LW9QtJW03WIIkF9HHveFl6ggdBW1OKk3cTOt8W+K7fwlZWdzcxSut1dR2qrFgnLt71s4HoK8S+JviVvGes+FV02GaTRrfVIZJ7mSLYHfsAp9K9vd0j8x34RAzZpyhyRXdjPK5Pjmb7xNf6HofhHWtduLGYxTTRRiONiPQmuisPH88mv6bo9/4a1LSbjUA5iMzQOm1erEpISBVfS/i/wCBb5rlrTWIW3ysZCqNtZx15A61znhP4gaJrXjrxB4gnmkeKHbpdjiFm2RqMyN7FjwT371vGEZJ3jawte5675ft+lJuDEgcsv3gCPyOOhrmvFniTxDot9piaL4b/t2CdZPtD/aVh8nH3evrXmnw21fxqNG1zVbHR7OaPUtUlnVrm8y+AdojVemKxVLmi2nYL6ntuM1BFcQXEs0UUqSSQECVVblGPY1YQloVZhhtvSvLPglBqD6n45utYIN9JqxUqv3QB0H0rJQvFy7DPTXA3Kvy5/u55pfL9v0rza+s70/tDWBXU7ldNbR3nNmJW8ksJNu7ZnGffFem0Tjy28wIfK9hRsNTYoxUAV/Lz2owPQVLimbDUAN8v2pu2pabmrATFRdKlpuygBmKMU7FGKAGbR6CgKB0ApaKAGv0pMUdaKAGjiikfim5oAfUOyn5puaACkoooAbhj3NMzUtMxUANzTc06mUALmhvm68/WkooAbTKfSYoAaTnrTDz1p9MoABx0pc0lFBYjgVF5dSdaKAIXSnpQ9HSgBNo9BSZp1GKAGYpdx9TTsUYoAZSbT6/rS0uaAGbafmk30UEAeetGKKEYGgApp5680O+KROaAH0UUUyTof8AhM9C/wCgxZ/9/h/hT/8AhMND2r/xNbX/AL7/APrVP/wj2lf9Ayz/APAdP8Kf/Ymnf8+Fr/35X/CtSimvi/RG6apbf99//Wpf+Et0Zump2w/4H/8AWq+NG08dLG2H0hX/AApBpNiOlnb/APfpf8KAKf8AwluibP8AkK2v/ff/ANalTxZop/5ilr/31/8AWq3/AGLp/wDz4W3/AH5X/Cl/sewH/Ljbf9+l/wAKAOIHifRdB8cTzy6jbmz1SNB5wbhHXru46VmeKPHOieMPEOmaBYatAbS3mS7v5xKPLMadEBI5JwK9Km0HTLiMxy6daSxn+B4FI/LFRp4b0i3thAml2QjU5CC3TA/DFaqVmmB5d8Y/GWk3mo+C9PhvoLgnWIriRo35RV6n9atah8Y/DviT4d3ct1cwW91dxyRCw83LD0zxVPxTodlq3x48LWUdlbiC2smuJ4hEu1vmbqMYPSvT28L6QH3jSrIOTnd9mTOfyrrm4xhBfMizuzyHRtF8IX/i9k8WS6feX1vptqsEk02IyRw4Jx1zXq1xfaB/Y0lm95ZGwERUKsq7APTA4qS68HaJeRbLjRrKT626H+lMtfBGgabbGC30azig6FfLU/0rnnWcthqNjyn9naS2ttI1PULy/hQG5a3tBNKCUhXsM9B7Vv8AhLx14W0JPEKXuo2MF2b6d51eUfvVLZUggc5FdvY+CNA061+zRaRYpCMna0Knr17U6bwlokpy+jWTn1a3Q/TtVyq88mwUTwS006Xwv4F8XWVzYWeq2utiW/tmju42a03J8qkEdV7enavVfhVb6Z4c8F6eg1O3kuLiJLmeQzKSWK/dz7dvSugfwToOySP+ybLBGCPKXkflVHRvhr4d0WwS0h02CWFGYqZlBKg9AMjpVzxDknFExgkeb2tot/aSa9bGK7vrTxHLfPb+au6RFG1QCe1Z+r+HNR8VeE/HWLaK0XWbyKa0tXkAZdvVj7+9exJ4M0SMYTSrVRnOFQDn16Ur+DdEk+/pls/GPmUH+lL6zJFcp5/oGlaf4K8e+HLaznhhgbR3hmYSD5pB3Pqa9HvE0rUDCbhrSUwyCWIyOG8tx0Zc9D7jms5vAHh57lJW0a0MqZ2uUO5c9cHtVbxB4Y0fTNEvruHRoppooWaKMRnLMOn51hOo5yTZRH4i8fQ2N+ui6VEmrayy7/I8wCOIf3pG7fQVky/DQ+KCJfEOs+cgbebWw2wwq3rx1PvVnwR8JNE0XRYTd6fFc6nMvmXVwxbJduo+g9K6D/hA9DGP+JZFx0+ZuKaqunpBhY3knjjjRd6NgYGW/wDr14X42gufjJ8QZ9Gt5Gs9L0KKQtdRMVM0rJyoOeQfSvVh4B8Pj/mGR/8AfTVHH8OfDkTOyaVEjOcuVLAsfU+tKlUdJuXUTRX8Ca5pqaHY6b5sVjeWsSxPaFlVlbuQOhBrqXMciFGKspBBUhSCD1HWuZf4Y+GJJxO2kRNMOkh3Fh+PWnf8K38P/wDQPX/v9J/jUylzNyGQzaabT4mWWoRAeRd6XJaz4xgFJFK559CRXWLIp6kH8v8AGuZPw28OFg39mjcM4PnSZ569/YU7/hXHh0f8uP8A5Hk/xqZTcrAM1nwPFf6jJqFnqV5o95OuyV7J1Cye7AryfrXLfDjwzZ+D/iX4osbaWWYTWsE/2i4mDNIfUknJNdUPhj4dByLHB/67yf41x0fgTSZvjFJDHbv5C6QpkUTSZB3cAnPatoVJWaA9YDAMGG0MOh3f/XrldW/4TNtdibTn0qPShMoaK5QmZ4vUc8Gpn+HmiD/l0l/7/wAn+NNb4eaIq7RBMF9BPJj+dYRfKB05YE5JBP8An3pMe4/z+Ncynw60b/njcf8AgTL/AI0qfD7Rj/BP/wCBT/40gOlx7j/P403H3ufvdff9a5z/AIV9o39yf/wKej/hXWi/3Z//AAKf/GgCL4m6fcanoFm8MPnyWt9BciMHJ+Vue9dM6CZCpVWUjBUgEEfnXNN8O9Ec5xcqfa7cf1pB8OdGHT7Z/wCBT/40c11YDX0Pw/pfh+DyNMsoLKHeW8uEDbk9TiuY+EEZtfDV5EV8uddUu1mB4589jzz6AVdPw40g9XvT/wBvb/41XtvhV4et/N8qK5i81zJJsu3G9j1Y4PJOeTV87s0B2MiB48Acen+TXM/DvRbzw1oUmj3MXFrcS/Z3B4kjZ9wxzwaZ/wAK40j+/e/+Bb/40f8ACutJIxuvcZzj7W/+NZxlo0B1W3/P+TXJeCNGn0fUvFHnxFftWotcxsejKenel/4VvpH9++/8C3/xpx+Helt1e9P1u3/xpxlypruBC2myXHxTOpGNhDbaSLYPt4Znl3MBzXVc+h/L/wCvXMj4eaSMfPe8f9Pb/wCNPT4eaXs/1t7/AOBT/wCNKT5rAdLz6H/vn/69MeUD0/I/41zv/CvNM/56Xv8A4Fv/AI1L/wAILpx/5aX3/gQ3+NSBuY9x+v8AjQ7Y9P1/xrnn8BaYP+Wl/wD+BDf41D/wgWmn/lte/wDgU/8AjQB025fQfr/jUe5fT+f+Nc+/gDTR/wAttQ/8CW/xqP8A4V9Yf89r/wD8CW/xoA6F2x3H5H/Gl833H5H/ABrnv+ECsD/y3v8A/wACW/xpv/CCaf8A89r7/wACW/xoA6PevqPyP+NNyf7o/X/Guc/4QKw/57X/AP4Et/jTv+EB07/nvf8A/gS3+NAG/n/Z/n/jRx/kn/Gue/4QDT/+e9//AOBLf40n/CAab/z21D/wJb/GgDof+A/z/wAaZv8Ap+R/xrnv+EC07/nvqH/gS3+NL/wgmn/89r//AMCW/wAaAOgcfT8j/jSZH+z+R/xrn/8AhBtPP/LbUP8AwJb/ABqN/Aenv/y8aiv0un/xoA6Hevr+opMr6/qKwP8AhA7L/n41D/wJf/Gk/wCEDsf+fnUv/Ap/8aAOiyPQfmKZuPp+ornn8BWQ/wCXzU//AALf/GkfwHZj/l91P/wLf/GgDoX47/qKZ5i+q/nXNf8ACvrE/wDMR1X/AMD2/wAaR/AVn/0FdV/8Dm/xoA6Qkj7wx+IpuR7fnXNSfDuxbrqurH63zf40/wD4QWDG3+1dXz6/bT/jUAdH8vt/31UbzAdxWAfBUAjwNW1Zj6/az/jTH8FRf9BfVv8AwLP+NAHRO4HcUzcPX/x6sD/hDEP/ADFtV/8AAs/41H/whMS9dX1U/wDb2f8AGgDot/uKjeQB/vCsP/hCF/6C+q/+BZ/xqJ/BKyddZ1RfpdH/ABoLOj3+4pvmL61zf/CEj/oN6t/4FH/Gnf8ACGD/AKDOq/8AgUf8aAOh3ik8xfWud/4Qwf8AQe1j/wACP/r1E/gXH/Md1n/wK/8Ar0AdN5iHvSb/AHFcwvgjHTXNYb63X/16X/hCh/0GtV/8Cj/jQB0nmD1p2fk+8K5n/hDh/wBBnVP/AAKP+NLL4H3p/wAhzWE+lzj+tAHTZHrSPIo71yy+CWHTX9Zb/t5/+vUj+Dv+ovqv/gWf8aCDoPMX1H/fVHmL6j/vqudTwRCvXVtVP1uz/jTP+EHi/wCgvqv/AIFn/GgDpUdT6fnSu+O6/nXMN4FjHTWNWH/b2f8AGhfAsB66rq5/7fT/AI0AdTkbOp/So0Yf3l/OuZ/4QGCMY/tXV2+t6f8AGj/hBLYf8xTWP/A0/wCNAHS8n+IfpSg7Op/UVzH/AAgVp/0E9V/8DW/xp6+A7U9bzUj/ANvb/wCNAHU5Y/wMPw/+vRXJj4e2GObrUj/29P8A40Uyz13Tr+HVdPhvLZzJbzIJEcjBIPtVqmWthHYWsEESqkcUYjUKMBcdMVYwPQVqQNpMU/FGKABADRso6UuaAEoop+KAPF/B0t9qn7R/i+4uYj9l0+xjt4W9AQrAfU5P5mvZetVLTRbKyvr67trdYru9Km4lAAMhAwuT3wAMVbrWc+e3loA3binjijNOxWQDQcHI6+tN2g9hS0UAN25Oe9IVJ65NSZpKAGbKbipaZigBmykMQbqAfqKnxTaAIzHkknknrS4p9MoAMUyn0YoATYabT81yHib4m6d4Q8TWmkalY36C5hMqXkFuZkI7/KvPFUouTsgOuwUAJYKq9S1UdS8QaVo6b7/UbSyHpLMFb8ual07UrHX7NJ7SZL21fKq652k9w2eQRXn3irx34P8AA1zOLXQptav7U4uo9EsVle3/ANqQgcfQVUIuUuWwrmxcfEhtTcw+GNJudblHW4dDBbL/AMCbk1c8I+GLjR5LzUdSuBd6zfsDcSj7iqOiKOy+3SpYfHujnwJH4pWZ00UweeSU5A+lbOnX0Gq6fa3ls/m208YljJGDgruq2+VOKQybAJI+9t6gEbhnpkUda4Xwdc2Oo/EXxjNEt5Hd20kNvKs0+6FsLyUU8KfpW7a+NLC78ZXvhpFmN/aW6XEj7RtCt0H1rJwdwMT4yeOZvh34In1KzEY1B5I4ollXcpJ5b8hXZaZenUdMtbsfL58KSgD0K14p+1fd7fC+hQeWZfOvHiROuXdML+XavbdOsxY2Npar92CFI/oB2ronTiqEZdWyL6s4rWfixa6J8VNK8ITxRxLeWhuXvJZMLG3z7V/HArsbrV7Kzs5rqS6jWCJGd3EgJP0Ga8PvfCmi/EL9pm8klih1C30nSU+0wuodDMGwBzx3Nej3Hwf8HXGVk8PWSRkYKJGQCPTFOUKaUb72BN6m94a8SWHi/Q7bV9MmaawuBuR3XaT+FadUdH0e00DS7XT7OAQWlsmxFHb6Cr26uN2TdtiwwPQU3pXNeK08WPe2Q8P3GmWdsyt5z6jCzZ+gDCrnhubXGinXW1015FKmKfTiwR19MOxOafJpcDYxSTSx20O+aSOFP78j7RTq878bQa3c+LICPDD+JNDitfkg+2RQQ+czc7w7Hdj3pwipPVgal78W/B9hq1lpr69bT313J5UUVs3mjPuQK6/FebaLH4a/4Sawt9R8Gx+GtcQ+baGWOMq7eqSoxBPsa9B1SWS20q8lheOGVYXaOSY/Irbep9q0qRStYDhNU8Ya7q1trl1octlY2Ojyywu91EZDK0f3hkdM9q7Xw/qEur6Fp97NCbeW4gSWSInBU7elfNvwu8V6v8QvFVxoetQLpGkalM2pSJFG2y+kTqinptbuO9fToRVAAUAAYAA7ela14eytGxCfMLTMU+mVxFhjNNzTqbQAjim4pz02gBMD0FM2j0FOzSUAGB6CjFFFBYzA9BTakdgO1R0AMxRgegoooIDFMwDT6MUAN3D2pNw9B+VGKjzQAbgaTrRiigBc0nWkTmlqQG5J70zHOe9Ofio80gAAjoSPxpr07fSPQAIwNMcD0pNwbpx9KTOaADNNcn1ozSdaAFzRk+ppKR+KCxuKi61NTMUAMjAHTihyR3o6UdaAFzSHnrzRRQAkZx0oek6U7rQAYFGKR+KTNAA9Mxin9aZQA7cPQflTaX5fWkX56AE3tvp+AO1NozQA7ZRT6KAN7/hZPhbGP+Eg07Hp9pWlPxG8LN08Qad/4ErW39ki/wCeSf8AfIpWtYx0jQfRRWxBg/8ACxfCv/Qx6d/4FLS/8LE8Lf8AQxad/wCBK1u/Y4P+eEf/AHwKPssH/PGP/vkUAYifEHwwf+Zi03/wJSl/4WD4Y/6GHTP/AALStG+vdL0rb9qltbVnb5PNIy30FWFs7cqrLDCR/uCiz7AZSeOPDsn3df0w/wDbyv8AjT/+E38P/wDQasP+/wCn+NX00uyj+7aQL9IlH9Kl+wWv/PtD/wB8CgDMfxl4e4/4nmn8dP8ASU/xpU8ZaAV3f21YY/6+U/xq/wD2VZH/AJc4P+/S/wCFI2j2CgBrK0jBO1QY15P5VQFRvF2gnrrOnr9LpP8AGhvFuhj72sWI/wC3hP8AGrh0TTj1sLU/WFf8Khbw7pT/AHtMsz9bdP8ACgCP/hK9D/6C9h/4Ep/jQviXSW+7qllJ/uXC/wBRTv8AhGtI/wCgVZf+A6f4UN4Z0duuk2J+tsn+FSADxBpbddStB/22WlTxDpJ/5iVp/wB/lph8KaIeuj2H/gKn+FM/4RTRB/zB9P8A/AVP8KAJv7c0z/oIW/8A38FINb0wfe1C2H/bUVX/AOEP0H/oCad/4CR/4Uh8F+H266Fph+tnH/hQBb/tvTv+f+2/7+ikXWNP/wCf61X/AHphVX/hDdA/6Aem/wDgJH/hSS+CPD7ddC0w/Wzj/wAKALh1WyP3b2A/9tFo/tOz/wCfqD/v8tY114X8G6WgN3pWiWefuiS1hDH8MVUsNG8B6nJizs9AuG9EghbP0+WqUXJXtoB039o2n/P1b/8AfY/xpftlt/z8Rf8AfY/xrHPgDwyy7h4f0oD/AK8ov/iab/wgHhj/AKF7S/8AwCj/APiakDnNW+Jdj4R8e3tv4g1a10/RTZxy2m9WJkf+IZBOKoeEWPjv4mzeMRP5OjWtsbHTY5sK8m770hGePrXYj4e+Fxt3eG9Kkx03WcRx/wCO04eAvDShQPDumAKCoAtI+Aeo+7WyqKCulqBifCW8hfSdUuJZUSe41S6eSDI/dfvMLwT0IrzPRPDPhLwrJqdlr+oeIND1a7vJBefYp7gwamm7KsdikdPWvXF+FnhL7Q11/wAI3p6uy4Yi3G0nOckY65qY/Dzws0PlnQNMI9DbJ/hVRqcrcu4uU4fxZ4j0bWfBUng3QlXT7e9h+yRXF9Eba2hj9d0hBzXU/CvWBdeDbexuZoGvNIY2MrRuNkmwYDLk9CKlu/hb4QvlSK58NabKqHKk2inafbjinw/DLwlbIUh8O6dEhOdqWoAz+AolUjKnyjMy4h1rwp4p1a+0jS7fWrXVWWWWL7YlvPE492PIrntFtPFeg+PNc8S3nh6LUH1aKKNLewvoQ9qqdAd+Ac12rfDLwpIf+Rdsl4xxAOlP/wCFaeFgoX+w7LaDkDyzjNCqeQHE+OPB3in4lXmkXsg03RIdIuUvYNLvWWdriUdpnQ/IPpW7dX3xA1tPssVppHhkN/rb8XgvG/7ZptUVrf8ACuPDATZ/Ytrs/u7DikHw48MDONHtRnr8ho9tolbYXKclZeGNN+FHiTTNRtRnTr6J7HU72Z90jTFt6Suc5PPGTXp/nI4XDqyN0Kkf41zsvw58MzwvDJo1rJE+N0boSrYORke1Knw78OxqFTSIFUdAu4AVnOftLX3GdCHRekgH0x/jTPOX+/H+f/16wv8AhXvh7/oFx/8AfTVH/wAK48O72P8AZyY9POk/xrACxr3hHw94okhm1XTbPUGiX9210m5R9QTUGn+AvCdhNHPZ6FptvIpyHhtlUg+xFJ/wrjw+P+YcnP8AtvSL8M/DKDC6Uij2mk/xq+Z9wOiaVP8Anorf7rf/AF64/WPijY+F9fksdbtLnTLParW+psvmW8xP3gSDlcVoL8NfD6fd0zb9Jpv8arTfCzw1NKDJphJPVRcz7fy3UouKfvAc1r3i/R/iLq+gWHh+6TU54L9btrqHIWBF6jJxya6b4n6Bd+LfA+qaRpl4lneXEewSbuNvp16UL8LvDSKVj0ryVPUJczgH8jS/8Ku8N4x/ZsmPT7Zcf/FVq6m3L0FY5CDSNZ1SHwvpMXhiPw9b6LcRSLqL30cmEH31REy2D3Gea9V89P7w/wA/jXLj4XeGgGAsZwG4I+23HP8A49Tv+FbeHv8AnxuP/A64/wDiqmpUdQZ0/mL6j8//AK9BO1dwG4f5965j/hW/h7/nyuP/AAOuP/iqcPh7oDjH2S6Uegv7kf8As1ZAdI7Adx/n8aZu+v5f/Xrmz8NvDz9LS7/8D7n/AOKo/wCFcaH/AM8b7/wY3P8A8VQB0Xmqf4x+YpNw/vj8xWEPAGjPHlY7zb6jUrk/+z1Gfh/o8nRb5f8AaXU7oj/0OgDoNw9V/MUbh6r+Yrmf+FeaT/1Ev/Bndf8AxdH/AArXR/7+qf8Ag0u//i6AOl3j+8PzFN3+/wCormB8MtIXq2qn/uLXf/xdL/wrfSP+euq/+DW7/wDi6AOl3A//AKxTN/8Atfyrm3+HGkgf67VP/Bvc/wDxVZGt6V4a0LW9G0i4utWF7qjlII11O6LHC5yfn4FNJt2QHd+Yn97+VDuo/iH6VzX/AAr7S/8Anvqv/g0uP/iqP+Ff6Wf+W+qf+DO4/wDiqQHRZP8Ae/lSeYv95f8Avqudk8AaY3S41QfTVLj/AOKpqeArA/8AL3qv/g0m/wDiqAOkyNn3l/Oot4/2fzrCfwPpw/5fdV/8GUv/AMVTf+EHsf8An71X/wAGMv8A8VQBvb19vzprvj0/OsT/AIQi0/5/dW/8DpP8ay9L0HRtf+1fYda1icW0z28u2/k++vXB3VVnZsDrvMUen/fVN83/AGhXPf8ACB2n/QU1j/wOk/xpP+EEtP8AoLa1/wCDF/8AGpA6LeD/APrpuR7fnXNv4CtB/wAxbWP/AAYN/jTf+Ff2knXVtcX6ag3+NQB0uPYfnSO/0/Oua/4QC3/6Deuf+B7f40z/AIQOE/8AMY1r/wADm/xoA6MbR0x/31Rv9xXNv4FgH/Ma1f8A8DqP+EFh35/tvWsen20VYHRbl/vj86dkeg/OuZfwJE//ADG9bX6Xv/2NH/Cv4f8AoOa7/wCB3/2NQB0hy3TA/Go/NU96850GbR/EPiHU9HsfEHiCS509h5r+eAjfNtYqdvIFdJ/wgyf9BzWv/Az/AOxqnFrcDot4/vCm+YvrXOt4J3/8xzWl+lwP/iaB4J29dc1r/wACB/8AE1JZ0LuopN/uKwF8HE9da1j/AMCF/wDiah/4QJd2/wDt7Xf937WMf+g0AdH5n+0KTzR7Vzj+CAP+Y9rX/gWn/wARS/8ACFt/0Hda/wDAgf8AxNAHRbx6ik8z/aFc7/whP/Uc1r/wIH/xNCeCQvXW9ZP1uB/8TQB0m8HuKTP+0K5v/hCk/wCg3rX/AIF//Y0f8IYn/Qa1n/wNFAHR7v8AaFJkf3hXOv4KV/8AmN6yv0u//saZ/wAIPH/0G9a/8DhQB0b4HcU6M46MK5r/AIQZFTadd1kn1N4KQeBYT113XF+l8KAOl3+4pyNnsPzrlk8CwH/mOaz/AOB9L/wgduP+Yzrf/ge3+NBB1e4e3/fVFc1/whNuf+YjrA/7fZP8aKYHtGaOtN2n1/WnIpNagJQzhE5p+KjYJIpjyNx6jPIoA8f1zRtL8VWWt+Jta3zRW0jQWSD/AJZhWwCv+0fUV6DeXs+meBpr3pPFZNIC3UPt71gadFb6LIPD+tweZYSXHn2U7LlGJf7rZ6Gsz4peJvEdhpeq2KeG9+nT4hiv1uV5z/s126zaj0JO98FX91qvhfSrq/QJdzwq8g9K2sV57d+MfEHhvQrBf+EYjDMFt4YjdAljSeK/iXq3hbSbWL+wG1PxLP8AO2m2bbliU9CWqJUW3otx3PQ8VwfxG1CaLX/BdjDI8RuNTBkCMRvRV5U+o9q0/hr40fx94StNXktvsc0jOjwejK20iuc+J+p2+keLvBt1dI0whuJtiJ952K8YpU6bVTlYPY9NpMVwN7rni7R4P7VvILR7BSHmso0bzIoz1+buRXbWl7Ff2cNxC26OZA6H1zWcoOKu2M57xP8AEWw8Lanb6c1pd6heyR+YYbWEsVX1NaXh/wAVad4lgaSzkJkT78Eq7XX6isqy8GLD8Qb/AMSSSFmubWO2jVudmPvH2zWVbxpe/F+W403Bit7Ii/mThJJS2VHuwHWtFCEo+dgO/rjfGnxR0rwRqdlp11HLPfXkbyxQRAdF65auwzXJ+Kfh1o3i/XbDUdVgF29nC8cQLbfvetYwUVJKewHR6XqMWq6Zb3sB/dTxiUAjnBqxVOC803S4ktVure1jt1EYi8xQUA6CobfxTo15fLZwarZzXWN3lRzAmlKNruK0A0qr6k9x/Z1y1pj7QIW8nf0LFeM1Ypp5GDyKkDxT4a/By51sQ+I/H89xquuOzM9jdn9xCPZORWt8NNC07xz4d1DUNR0y2jWXUrlbKWCJUKW6ttXBA4/Cu+8V6ynh3wvq2qtwbK0mlH1C/L+dcR8O9M1lvh1oOlQJ/Y9qtqjT3Un+vYsdzEDsa9D2jnBsixu/D7Urt7nXNGu7o6jHps6LFeuTlkZehb+Jh3rsMVy3hDV/CtpL/YeiX0ElwjlnVGJaR/423Hhj70uu/ErQ/D4uXnkmnSAbpDbR7kX/AIFXLOLctizpdhFNrzjX/HPjawshrVp4atJNCVPMKtOTcbOucfSu80LU4Nf0az1K3bdDcxK6kUnTlFXFctkAnkClyfWvPbj4k6lLqMc9jpUcnhxb9NPe+kc5d2fyywHoDXTeNfFcfgzQ3v2tJr+QypFFa24+eR26KDS9nK6VtWHMbeAO1GB6Csjwb4li8X+HLDVo4GthdqW8ljkoQduCa4aX4i+IJfi+nh+3t7M6NHKsEqn/AI+HJTcXHoBTjSlOTXYLnqHl57Vk+K9Zl8PeF9S1S3tXvpLSBpVhU/M59BXDfHLxL4q8N22kyeHrq2s0lkdbiW4jDKp2/KK6F/E99H8K5NeubdDqUWltcyQOuE3BeRir9jJRU3rcnm1aOY+GHi3xRrvi3U7bV7zT7+xNnFd27aYh227H70bE/eNep1y3gS9gPgTT9YfTrXTWntFvLmG1UAbtuegHWsbw/wDFiXx5odve+FNIe9kdf332ptkUHtu6saqpByk3BWSLPQs07A9BXN6B4nurvUjpmr2P9n6iY/Mj8tt0U6D7209QRTvFvjey8HwL5sNzfXTjdHaWi75nHqR2Fc/s3dIDosU2uS8AfE/SfiDFcGySe1vIOJLK6Qq6g9Gwe1dfiplFwdmgGYowPQUtFQAm0egowB2ryz4geNdRvfiRonw/0a8bTLvULaS7n1CFN7woFbaAp6E4FafhJta8J+JJPD+t602uxSWZvoLqVNrgBlXBxzjmt/Yvl5m9wPQMZriB4/ab4mReG4LUPZxwuZ7vt5oVTtH61Wh+M2m6hZXN3p+j6xqEERcGWK2Krhep5rH+Dmi3+qNceLNUQRjUJnntosfMqsMAn8BWkKVoylU/pgeq7R6Cm4HoKfTK5AEcAdqbgegp/WjFAAAB0GKwvHXiKPwp4Q1TVCd0kURWNFIyXbgfrWhaaja67Zytp14kwy0Bkh52OOG/I18+fGHwG+gWWhaUNf1XVdQ1W6Kuk90SmB0IXOK6aFL2lRKTsJnX+BvFh8KfBD+1da1ANfeVPIjSuWkYlvkHr9K6z4Q6XqWkfDjR49ZupbnUZE86ZpmLv87ZwSeeBxXFfETwr4e8DeBNJs54Pnubu2t3mmbzCqg7m2Z6fhXS2/xLvk1bRorzRmsdF1SUWlndufm3n7oYdq6qsIzi3T7/AJCPQMV4P4a+M/jC/wBf0WK70uybT9R1GSwaKNj9oiw3LsvYCvcbq8i060uLqeTEUMZkckdFC7s15jpPxO+HcGn6d4rWKPTf7ZuJIYrh7cK7MPvMSBkZ7+tc1G2t43uD9T1IgHqKMD0FYWueL7awuYLGxhbVdRmUOkEB+Xae5YdKyrnx9LYotpNpc7a277Y9OhdWL/7RbstYezkUdnknua8I0Zf+Ew+NNtrzfPHBLdLbr1AhiXyQf+BNyfU13SePdUtl12LWtJTSp7LT2vo2jmLhk+YfnkVy/wAC9Nc/aNQIytvbRWcTHo0jHzJT/wB9MM/SuylF04SmyG76HruaTFFFcBYYHpR0prvihHzQAOaTA9BXj3xO/aO0/wAD6uumWOnTavcLIsVxPGMRRn0B7mvXIpTLBG5GN4VvwrWVOUIptbgc98SPEw8G+BtY1aMg3MMJW3Rv4pX4Ufga5z4AaI2j/DHTXlBE+oSSXszP1JdupPc+9c78eL6fxB4i8K+CrL55b2Q3c2P4QOAT7A812PjL4heHfhD4csI9RZ/JCC1tba3GXcD2ro5eWgor4pfkR1Ox2U7Nea+AvjM3jPxZeaDeeH7zQ7uK2FzGtyeWjPr6GvQNQvYdLtZ7u6lWG3iRnkdjwtcsoODtIpPmJ+tMrmD8RLC9EZ0e3n1zeu/fZDKbfTJ705fiBpE2lw3cMjzSyghbOMbpww7EdqPZy7DOloxWH4W8Uw+Jo73y7ae1ms7hreWCfqr7UbGfxNcz4l+NmkaN4ji8P2Frca7rL7sW1kPl4+8Ax6kU1Tk20kK56BknuaZXP+CfGdr460mS9toZbN4ZDbzW833o3HrVPTviDa6r44vPDcFtcNJbRGRroJ+6Y91B9RS5ZXt2GdTjNZvijU/7F8N6tfElfs9u8ikVB4k1m5tdMvBo0UF/rESb4rRpMZ+uK8j+Imq/ESTwsNJ1RNHim1iRbaKC03GQ55b8MVpTpOUlcTZ1Xwc0ki1N5tA2QJbb8ffb70rfi3FelbcZySMfeUYJFefeHfA/iTTNDsdNk8QCyt7eMKRZ24Dsc56n3rU8GeF7vRdU1a8ub27uYrllWCO6kLbAvfGeM9/WqrJOTdwV7HV4zTTz1p9JuHoPyrjNBmAO1G0eg/KlpuaADrSYHoKKKADFGKKN1AETnFGKdjNNoAeeaKZmn0ABJPU5ph5680OcU3NAC729T+dJmkooIH0UUUyTpB8R/DTddcsR/wBtx/8AE05PiD4Z/wCg9Y/9/wAf41sHTrY9beI/8AFSfYrcf8u8X/fArUo564+IvhtLeR116w4/6br/AI1x/wAI/iJo9/4dl1HW/Ell/a9zdSMYbicKY17AAjge1emmwtipX7PFtPbYMVg3vw88L6jdm7udC06a4P8AHJbozfmRWsGkmpAcx41+I3hnWQdEsdTtbq+mfcknmDy4j/e3Z6+9L458Y6Lc2WiWCaxaTSveQqzLLyQvUjIrvItIsYIhFHaQRxAYCLEAo/DFcncaVaa58QIojaQG30uAy8xjHmN0HSrhON15AReNPE2kS/2Vf2WrabPdafP5yW5u1/er+fBrkfDfxWtbrxD4kvYrbZdzSCKIT3MMaQoFwASXyQTzXsDaXauctbQsevMYrm9a+GWk61fm9jmutNmfHmPYSGMPjpkDGauFVJWYmjH8HeKPC3w/8M6bon9t2d3dli7rDMrGSRzuYnn5ay/EfibQtf8Ain4PD6pZfZtPhuL1gbpNqvjagJzmu80HwNonhmOQ2lmhmk+/czHzZW+rNya5LQNOsdT+MHief7NFJHY2ltalQowHc7yfrinGXvOQynq3xNudfS80yJNFsLWUtCNQn1aJht9dq12OieJvDOi6TZWSeItNkS1iVAxvU5rYOk2LHJs7cnpkxL/hQNIswMC0gA9PLX/CsXO6sB5x8R/jLpej3dtpltrcFsl1Hvl1C2xP5a+wB4NV9B+M/gjw/p32bTBe3DlzJK7xhWlb+8zORk+5r046LYocrZW6npkRKP6Uf2JYFdv2O32+nlLj+VONSPJawrGbpXxD0PUbCKebU7Gxkf8A5YS3sTEfUrXnvxH+PFv4a8beG9P0+7tLrTZXDX88cqPtU9sjvXqf9g6dz/oNtz1/cr/hSHQNMbObC3OSCcwr1HTtUxlFSu1cZxieHPAL6ne3st7pl7NdN5kgubyNwD6DJrV0yx8EaHqn9p2LaRZXpTAkjljU/mDW+NA03vp1uv0jX/Cud1jxD4Q0Sc200MU8yHY8dpZGcp/vFQQPwpqUp7AdEnijRj/zF7H/AMC4/wDGj/hJdI/6C1h/4EJ/jVLRofD3iCxW8023tLq1fpIsQAHsQRkGrv8Awj2lf9A+1/78r/hWTTTswOG+MviLTr7wcuj2+pWjS6ve21kxS4UkRGT5z09OPpXcP4g0cJ5aapYY27cfaY+np16Vw/ibw5pWs/Ezw1psenWzR6dDPqV2qxLjptiUjHTPOPWuzHhLRgcjSrMH/rgn+FbS92KQHivxpu9F8O6D4Y0Pw9PbQahNeCOOe2l+aJD94s4Gee/rXbePZtI0X4ZTafZ3to8DCGK5KzKXdC3zEjua7L/hEdGJB/sizyOQfITj9KhbwL4efO7Q7Ft3XNsnP6U/bKyQrbnOar8U/Cd3oEun6XrFrqVzPa/Zre2hbLnKYAPGBzWt4Ft7Hwv4Q0rSDqds01vAqEmdcVfHgXw6BxoWnjnPFrH1/Knf8IV4fzn+xLLPr9nT/CplNWshnD/C/XtBXwonh6+1Kyh1LTLlhPBJKAS4k3q69jzzmqPxt8fabo+maFqVlqNhqdxYakJmsorlSWzEyhjx0VgCPQ16FL8P/DE7FpfD+nOy9T9mjP8ASmj4f+GA24aBp27GM/ZY849Onua19pGM1OxFtLHIeDviH4R8MeENL0q11211S7WLmGzbe7yE5btgDNefx+OdK0H4xjXLye2vdS1SNrP+yLNwzW2BgMzkYyRxmvbk+H/hqM5TQtPU88i2jH17VGPh74ZEhkGgacJCcl/sseT+OKcasIuT7j5TgfihcprXgq/uvEOp2On20a+baadbXKuzyj7u4jkitX4leI7Ob4N6kFvbf7TPYLCIY5lLbm7V0h+GfhSa6N5JoNhJK38TQIQv0GKmPgDw0y7ToWnlcg4NrHjjp2qPa7eQcpBPfafo/gKaIXEEi22mP8gkXnbF0rkv2cbS30P4P6FHNPbrLcBrhlLqpDM2Rn6Cu1bwF4baNkbRLAo6lWUwLggjBBGOmKSLwH4Zt4Vhi0LT44lGFjS3QKB6AYpe1fLJdyjnr68tdb+Luki2uomXRbGaS4l80BWeX7qfT2qpceK9E8KfEvXLzXtRt7RHsoVtZJTuAT+MDb0aukg+GPheDWbjUItHtFmnRFljMa7G2/xYxjPvUmseDvC+nabdX02gacY7WNpg0ltGcYXnHFVGouZKwHEfCLVbXxh408Y+LTKiwzypYW28BGMa9WwTXqZ1C1P3bqE/9tlrzb4V/DvQpvAljd32i2Mlzfb7thJCpKh2yByOmK68eAPC69NB08fSFP8ACory5p+gomx9tg/57xf99j/Gnfbbf/ntH/32P8awF+HPhR+mgaf/AN+E/wAKavgLwk85gGh6b5wXe0fkx7wpbaGxjpWAzkEs9FtPjlq2q6rdQW16un272M8s6ooUB1kUn+dWdE8S6fqXjjXvE82pW8Wg2dqunw3byKIpCTuYg9ccCuik+Fng2Z98nhrTHfBXc1tGTg9R933NV7v4QeC7+wa0l8Maf9nyTsS2C9evGK29qpb9rAcV47+LvguTwnLoei6/Y77yZLd47cnakbN87V11j8SvCOlWEFla3k0sUMaxqYrG4bj04SuRi+FfhG/+KaWdr4c0xLDSrEtcolsgSSV/uqwAwce9d4vwy8JIAF8O6coHpboP6VpNwUFF37i1NjSvEFnrVmt3al0i/wCm6mM/kwq4sqP0dP0/xrnD8MPCZ6+HNPP/AG7j/ClHwx8KjpoFgP8At2H+FcQzokkj/vj8x/8AFUnmr/eX9P8AGud/4Vn4VH/MBsf/AAGH+FNf4b+Fx/zArH/vyv8AhQBx3hjxNafDO21TQ73S72S7N9NcwraWzSLcrI+RlgODiodCtdV8UfGSC98QQwW6WOnGexsNyloct1Jzjd79a7dvhl4VfO7QbI5IPNuOo6dqx7n4Q6C3ie31W3sbSKNLZrea0aDKSr2wOgNdcasdXbUVjz34zaxJ4j+N/gbwp5LSWED/AGqcIRsz6E5xXffGERLo3h0oQjxeILBoxkcHzMNnB6YpR8FvCD+JTrbaVbmUQLAkRQbVI6sBjg+9T658H/Cus21ukmnxW3kTpOjwgD51OeQe2an2i91dETZm/wCLo5LvwtrUMa73axmUAgHJKcDrXmMuk+HNO+B2j6lc6bDqMdhpYmii+Unzni2sSPXdzn1rvz8NfDTKynRoCG4IKdaqS/CDwbdae1mfD1qlq6bPLiUoF/AUoVOTYuxzX7N1nJF8OLW8vWeW/uXeOVpnBZVHRck5wPStTw/cwyfFDxObyVY72GOKC1SRgC0G3krzjJrRsfhP4W0fT1s7XSEigQk/eYljUF18HvB11OJ5tBgmmA2iSTLMB6ZNN1OaTfcDjf2gNQt7bSbmK01CM6zq0UWlW9mrq7cy5JOOACDXoHgPw2ng/wAKadpGS8sMQMrkHLsepJzyTgc+1eb+LPhR4Tg8ceDtNs9JjthLNLPM8RYlgi5/Su//AOFbeHd27+zju9fNfP8AOtKs/wB1GCIS1Z0pJXpk/l/jSeav+f8A9dc8Ph3oQ6Wkg/7bSf401/h/og/5Yzf9/wCT/GuIs6DOe3+fzrL8SJf3Wg30GlTC21F4W8hyPut9c1Sb4eaL/wA8rn/wKl/xpB8PdIHSO6H/AG9S/wCNAHhvwz+HmseO7e1HiBra20nTNQlkuofMBmuph08zuFFfRt3qFnpdk091cxW9rEPmkdxsVfQdya4e9+CHh+eae5sbrVdJnnYtLLYX8ieYT1LAnk/WsLxf8JdA0bwXrF5eTanrctvau8H9oahLIob12g9feuurV9tJJitYT4a2f/CaePdd+IU3z2LgadpO/GREvDNjtk8mmeOvh9YfE74ofY9Ymkjg07SlntPKk2kSGTDEep966nw58L9H0Xw7ptipvY1t4VUiO9mRST1wFbv3pupfCHQ9TuEu0l1SC7Rdi3cOoTiRVznAO7IHtQ6nv37KyDoWvC/gG08Oatd6m97d6trN4gikvbxvMkKDoo9B7Vyv7RfiOLTPhveabh5L3ViLWGNMbs+1btl8KrGyOH1rxBcp/dl1KUD8t1Q6z8GPDetahZ3t8dSums23xJLfTPtb1GW4PvWfOnNOTvYZy1zet8AfgzplvZwG51aVFiQBNwErdd2Owre+CnhFvD/hmC+1FA2uagTdXMrclCf4R6Cty4+HWjzRiOSXUZIwdwVtRnIB9cbqevgSyQgrd6spHTGpTjH/AI9TlVumu4HNeBNQbTPAniTXXy1+11e3t1GMbw6lgAR7AAfgKx4PhjPf6B4F1zSLiCz17T1W9e6njLLMZF+cN/e/Guri+E+gQNdtEdQj+2bjOqajOBJu+9u+bnOTnPWsz/hTcNlBHBpXijxFpVpEuyO3hvmaJF9BuPA9qaq2emhPKaFpYzeBPDPiPWL2SO4v7h5L+5MMZC7tvQCuQ+HmsXetxpoukqVWNPP1DWymPMkk5MaE+3eux/4Vfp72JgvNU1m9jkBD+dqMuGHoRu5otPhnplhAsFre6pbQr0jh1KVVH4BqPaK0n1Y7M5nRdZ0Lwzqeu67cMsfkuLC2tUO+eXb1bHUn3rP8MQ6n4w+Lq6rrMbW7abaebBaPjFsZOmfeuoPwi8LabdtqsjXlvcQBpmu/t8gcH13ZzmsL4b+A4tYtdQ8RTahqsMuqTl49t/KjNCv3MnPNONRcrlYLHq5cEYPI9KzvEOtQ+HdCvtUnjeSO0hMrJCuWcDsB61k/8K+h/wCgzr3/AIMpf/iqa/w9t5AQ2sa4wOcg6hKevX+KuIZu6Pqn9s6RZ33ktbefCsoikGGTcvIb3FWc1zf/AAgcWCP7Z1vB6j+0Jf8A4qmp4EjT/mM64311CX/4qgDqKZXNN4IQkMda1pQvX/T5P/iq4zw3fp4n8V6lpMN5rsNtaIpjvDqWVmG7bkc8VSi5K/Ydz1iiuc/4Qv8A6jesf+Bp/wAaa/gYv/zHdZX6Xzf41JR0e+k3D0H5V5V8T93gfSLeWz1bWJ7+5lWOKN74kY9TzXWJ4NLIrtrmsA7fu/bD/jVODjHm7k3OqqP5vSuc/wCEN8zrr2sL9Lw/403/AIQlv+hh1v8A8DhUlHTU+uY/4Qlv+g/rP/gYKb/whv8A1HtY/wDAxv8AGgDpXcU2uZfwZ5n/ADMGsL9LsUr+BiP+Y7rP/ga3+NBB0u6iuZ/4Qof9BvWP/A0/40v/AAha/wDQc1r/AMDW/wAaAOlDZormR4FX/oNa2P8At/b/ABooJPb80ZpKK2KCkwSev60tLmgCLZWH4d0iax1LWbu5Us1zcB15/hHQfSug2n3owKoBm0+9KeTk8n1p1GKkCG4lMVvJIBllVuK8a/ZttdUvdL8QeKNXVkm1y+NxGpP8AGAPoBxXs8iZBB5B6j1qvY6dbaXZwWdrCkFtFwkcShVT6AcCtIz5YtdxWJU5p1IiUtZjDrRinYptADsD0FNozTc0AeQfG34yw+D9U0vwzZNINRv3TzpUyGgjLdQR3r07SdH07wtpIii8u1tlGZZJMDefU+v41498cfALeNvHOgNoy28OvWkZupZph8piX7qt6/jXb+FYrj4h6Laanr9yJUOd+mQr5cKsrbSr5+9+Nd7jFUotC6lz4fwC41bXdWtInttKvJV8hGXZv2/flC9s122K8o+K3xiHgnVLDw1ppt4tWvk+S6u+be0U9N20VsfBnUfE2reGZ5/Et1Fd3IuXS3uIYvLWSL+8VPSs5U5OPtHoFx3w3MeuX+v+Khkf2nc/Z7Z2/htoflUY925+vNdxivM/g9q+oanrHjKGRbeLRtP1E2lhDbxKioFOTjbx15rpviT4quPBHgvU9atbX7ZcWqho4i3DEsq4x+JqKkXz266BfQ6bFFUBrMVt4fTVL3FrCtstxIH4KAryD7io9G8R2Wt+H4dZtmdrKaLzkaRdpC+pFY8j7eQznpviOjfFG18I2tr5uLZ5rq56hW9AK6LxTrkXhjw9f6pOMpbRGQKOrHoqj3JryD4KEeKPGmq+Igd0qLIjynkFnbOAfYVV/aA8XeLNL1rTdJjttOudEu50uYIV3mWXZ1VvUexrveHi6sace2pnzaNnVfAY65c6Z4gk1y+k1Cd9RZVLuWWMBVBVM9ACTwK9QwPQV5p8KE8U+GrdNO8QabbpDeTSXEVxaNkxufmZZfQkjANelb658S/3nujjsJQmD3FRz5kglRG8tyrYf0ryPwb8NNfsJL8eIPHuszXYmYxPbXyeWB6bJARis4Q5k7ss9g6VR1TV7TQrCS+1CYW9tFjc7j8hgdSah8NWV/Y6f5WoX/8AaU25ikxVdxQ9MheM1Q8b+HB4s0gWEV3Hb3KSJdQvIu9d6NkZUHJUipjFc1ugHJa9+0f4d8PXtvBcaT4hYzSJEkp0140Jbp9/Feha34gs/DulS6lfS+VbRKGOT949Ao9ya43VR4vtbFbjVrDRNctLI/aWtrbfBINvTG/IGK53486rp/if4ET6nb3rWwmihvbTPEkj+gArrdOMnHl22A6i8+Imt2VnJfy+CNRh0uNctJJdQ+YE9fLDMarfFDXU1PwDaw2DmSTxA0Vrbjo2x+WOPpXmHgL4xL8QvDNpo+uS3en2VrAlvdtBC0s+ouv3lBX7me4r07w7o154m8TWmv3+nvpOl6dD5ek6fOBlSOkjD1qp01Reqs0QnzHe2dommWNvaxf6u3jSNQOnHanZp2OMdqbXmt31LHAY6cfSvM/Adk2sfFTxv4lkYyWcRi0izGcjEa5mI9MvXX+OfE0fg7wjq2sSsM20BdFP8Uh4VR+Nee/CnxBqnhnTPDWk63pC6fDrO+S3vBIWaW5/1jCbP3S3auqlB8kpIUj13NRXVyltbSXE+BHEhdyfauS8e/Fzw78O3ji1Kaea4YBjBaQmVkz/AHsdKf4h1i28YfDO9v8AStQjtrO+tWdLuQkIqngjPXINY8ktG1oxlX4T2z3Og3ev3O77XrNy9027khA3yDPpXauCO5rmfhz4n0rxF4dtxoxc29oi25EkRjJIXIIB7E1V8SfFCz0a9uLKwsLvX7u0G67j09QwgX1dj39hVTUpzasLZHX+WPQU7FZ2heIbPxBoFprFrIBZzxmUFzyg77vpXJWPxt8O6ppsd9Zx395asSZpbe1ZxAo7tjp+FR7Ob6bDO+wPQU3JNct4q+I+meGrKKUJNfySQfa9tmA5WHbnzD2H0o8WfEvQ/B2jWOoX1xvF8oNnDDzLOx7KOhHuafsp6abiudS5IqLPAHYHIHvXFfD34op491LUrCXSb3RtQsMGSC9C4dD3BWu0qZQcHZjF6UqvtdmbgAYLdzXP+OdT1vSPDdzc+HtMi1bU027LeWQoDXn3izxL8RNJ8E+ZeHQba/1GRLO3itFld/MkOFxk9QOaqFJzsBvfDD4k3/jseKL6908afotjelLC9HS5tx/HzWP8KvEGvePfGGt+Ip7uUeGyv2eytduIh833/c+9cr8TNF1b4f8Aw90Lw3/wkVzcveyx6bFp1hbRw+YoX94S7DJ967fRJtY+H+oeG9IvEsY9GvvMhjtbSIp9lKJuXcx5Y+rV6DpQjBuPXREnpQ46cUzrXiniD9o+Yyahd+GdAXXtC0qVU1G/8/y2X3RO4r2DTb9NTsLW8i3Ik8YlCuOVBXvXnzpSppcw7mfrfhq21jUNNv5JZrW909mMM0LKAQ33lOex7jvWxgegoHHTjnNFZDG5PqaTGaWsbxhrR8NeF9X1RWUSWtu0iCToXHQfjVJczA1utFeVeHfGvjC90bw1rGrWlrYR6jcR2xsERjI6t/y056fStP4oePtX8L3Mdrolpb3MkUJu7u4uWwkMQbbjHcntWvsZXsK5355680y4gjuoZIZ41mikXa8cihlYehB6iue8SePLLwvoWnaheRylr+WGGKGIAtuftW619bpeC1My/aWj80QfxbN2N1ZuMo62GLBFHaxpFGABH0AGAKU/Mcnk+prhPDU9/ofxJ1fRL3UZ9Qjv7P8AtaH7RyIQZdhjT+6o9BxXd0pqwDHAx0ppYKu5jinda4nUJbzxxfXNhY3s+m6PauY57u34lmfuqN1GPUUJXA7QyKc8g4O1mAJA/I0zFeTWdtc/Dy+m0rSGndtT1GKC0F9IZSEVfnbntXW+OdVvo0s9E0iYQ6vqhKJO3IiiX78g9D6GrdJppJ6MVzqQ/LEFcqdpwc0rcdOK82+GWjal4J1jxNpmrareataw+TdxXt4xO1WVt4BJ4AxWR4T8S+OtR8Y6VqmqSW8fhfV2ljtbGKMeYgCb0LH3FHstXZ6FXPYAcNuHB9aM1znxA8Tnwj4UvtSjXfcKgS3T+/IeFH4mtPSJp00K2nv5AbhbZJbnAwAdvzAfSos7JhzEmp6fb6xZzWV4okt5RiSPcVyPTIqW1tYbS2htrdBHDENqqBgKPQCsTwR4tj8ZeHk1WK3a2t3ldEVjn5A33qxb/wCJn9qzXFr4Thg165ttxnIciOM/3c9zVRjK7iFzuMD0FLXDS/FWwg8LQ6sttPeXDwGdrK35eMd93YYrr9Mv11HTra7jXEdxGkqA9QCueaiVNxC5PTOlcppXxHs9W+IuseEUtnW706BJ3lJ+Vs9hW/NrVlb6lBYyTBbq43bYgMn6+wqXBxEZXxD14+H/AApezxki6lHkwgHB3HoR71h/CnSvJspr0KUEv7pCf7i9D+J5+tY3xcvJtX8YeHvDFplpJ8zyODxGB0NU9d+O+ieAQmlWWk6hrSWaCKWWyUGNQvU5xXdGm1Sst2Q3qex5oyT3rD8O+MNN8T6bpl7az7BfQefDE3XHvWB8WPiZN8MdOtbtNCuNWjm3ZeFjiL/erj9nLmt1NLnOeNCPFPxBsbAASw2s0cJ7jdnc5/AcV61g7Opr59+EGv694n1C91+Pw48wM0r72uAkYkkbkgnk4Xj6V3Hi/wAb+LtCaztLex0qPUL59kEDytL+JPy4FdlSnLSn2M0el5puT6mvNfDuveONM8Y22meJU0240+9ieSC5slYMpHYiun8QeM4tCkdRZXN55a75mgXiJfX3rklSaatqWdHk+ppHOK44+OX8Rn7N4ZEdxLjdJeS58uD2x/Ea2tCtdTtLaUalejUHLbhIIxGAPoKlxa3GmauSe9GSe9MzSvxUCFpNp9f1pEJNGT6mgCUEnvRSBhiimWdWnjnw+f8AmLW3/fR/wp48b+Hz93VrU/8AAj/hWj/ZVkP+XOD/AL9L/hQul2S9LSAfSJf8K1IM/wD4TLQ/+gpbfn/9ak/4TPQf+grbf99f/WrQ/smx/wCfK3/79L/hSf2JY/8APlbf9+l/woApJ4x0Q/8AMVtf++//AK1OXxZoj9NTtf8Av5/9arX9haeP+XC1/wC/K/4UDRNOHSwtR/2xX/CgCj/wmWh/9BW1/wC+/wD61O/4SzRk66paH/tp/wDWq3/Yem/9A+1/78r/AIU06Jpx62Fr/wB+V/woAq/8Jfop/wCYnaf9/KRfFmjlPl1O0P8A21qz/YOnf8+Fr/35X/ChdA0temm2g+kC/wCFAFZPFOkN01O2H/bSkfxRpA/5iVt/38FWh4f0sdNNtB/2wX/Cj/hH9LP/ADDbT/vwv+FAFX/hLNG/6Cdt/wB/KT/hK9H/AOglbf8AfwVa/wCEd0r/AKBln/4Dp/hS/wDCPaX/ANA2z/78J/hQBUTxZop/5itr/wB/BUb+LNFjR3bVbUIBuY+YOKsf8I5pI/5hdl/4Dp/hXKfEjTbG20GPT7Ows473U547KF1hUFQx+ds46heacFdpAVfAuv6Zqeo6v4kuL62ja9l8i2VpeVgj4B+jHr61B8OPFGlaY+uaTPqUCSQ30sseZAokRjkbfxrtLPwlo1hZQWsOm2jxQxrGC0CEn9Kyta+GmhazLHMLGC3vYuFmtoVBX6jGDW8pptroBy+raxZ6T44udYjis9etLyBYXj8+IywMncAnGDUfiz4lXd54Wu1sYU0uMp5ZcXEclyEP3vLRWxkV31r4S023toln060uJAm0yvaxgE/TFWB4b0hSSNKsgTnJFunPr2o9otE1ewuU8u+Des6NpF7rMenrJpehSCKWNdRkAkacriQ8ep6muo+JNzZeKPDE+n2OoWL3TSxSCNpwAQroxFdQfDWkEgnSrLIyR/o6f4Uw+FdEJBOkWBIGB/oyf4ewqZVXKpzhynmHje51/wAf6De2U+o6To9u5UrY292s010O6lscD2rSv/iXbXHhiXSdO0ee3na2a1iWaaNVQbcdm9a78+F9GIIOk2JB6j7MnP6Uh8J6KV2nSLAr6G2T/Cq9ttpsFjxT4VeONE+GvhaHQFsL641rcWudiBkeQ+jHtV3w1O2ufF2fVfF1/p4axs0m0+3EwKW+9vmHu3v1r2AeEtFXYv8AZFgR2zbxjP0GKqz+BfDk9xHNLounmaLowgXn9K0ddNuVtWLlLQ8RaUDkala5wBnzV6DoKVvEOlJ11G1/7/Cm/wDCL6N/0CLD/wABk/wpp8KaKeukWB+tsn+FcZRHd67o95atC2pW3luu3clxtZTXMWnhn4e25Z4004St1eW6ZmP4murPhXRj10mxP/bsn+FNHhTRB/zB7D/wFT/Cq5mBn6XN4a0qRvsV/Cv+x9rdl/ImuH+IWjtdeMdK8W+HtSsZ9Ts42gktJbwojr+FekDwroo6aPYD/t1T/Cl/4RfRsAf2RY4H/Tsn+FOE3B3A4K/8Q6/4ss2064u9K8O2UqlLq4hvlllaM9QgA+U/SuO1LXfDnhX4jsdflE3hSx0uCDRYIY/tEKv/ABFwP4h69a9rPhbRSpU6RYEHt9mT/Cnjwtoo/wCYRYdc/wDHsnX8q1jX5emgrHnPwhu9M0++8Vanb3K6fouqXgmsbKZ1Qqu3DvtH3cntXox8SaSTk6jak5z/AK4dfWgeF9GH/MIsPX/j2T/Ck/4RTRP+gPp//gKn+FZVKntJXGO/4STSf+gpa/8Af1aT/hJNL/6CVr/39FH/AAiui/8AQHsP/AZP8Kb/AMIvo3/QJsf/AAGT/CsQPFPjz4ot/EHjHwP4Si1a2h0i8ujdahKXymE+6pPQD2rsPiB4l0TW9a8H6LZ6layXI1a3vmaOYFIYYh85LfTgD0rsr/wV4f1BNlxoWnydtxtoyf5VDp/gTw3pqFbPQtOgU9WFuhY/pXTGrypRCx5V4Lsr2/l1bxXpnjWzsZNfnnFxa3kSSmCJZGVBG27P3QDW54vfQvDHw70jQbXVrd9OS7gt7iTzQxMRly5IHt1rWm+BHhJ9TkvFsngEpy0ERCx/98jjua3dO+HPhrS7cwJo1nJEerTxK7H8SK0lXjdNu67AR658RvC+iabczjVrFmjiJSKOQFiR0HA7VxPwNn0nSvh7c6nd6laR6jqrzXVx506CQE/dUg84HYV3lr8O/Clo26Dw9piN6/ZkB/lVSb4ReDLi7+1yeG7GSf8AvLFgflURqxUWu4HlemeJZvC/7NssMV1BLq955lpAiyDchlk25I9AvNdnZXmj/CP4OSWy3lneS2WmndGrqTcTFehAHP412f8AwhmgJjbodgduCP8ARk4x07Uz/hDNC3/8gWx65/4906+vSnKvvbqwPINEs4/AvwJktNRvYrvxHrEAsifOVjGJDsSLPoF5rc1TR/Dl/wDEHw5pGty2N9YWehNDbCWQMhmVk6nseTXe3/gPw3qlqY7jSLJgpDBo4VVgR0Ocdqp+IPhb4V8S2rQX+hWroc4dIvLYZ68j6Vf1ht3fUXKVvD0Pgnwhq89npd3aw6lPGBJuuzK4UdBuYnj2rpDrVg3S+tvwlFc9ofwo8JaJCVs/D1iMjBd497EfU1pjwT4eHTRLD/vyv+Fcs3zPcZdOsWO7al7bE/8AXQVwuu6tp2t/FnQbC5vLYWmlWj6lGWnG17h22Jz6qvOe1dY3gnw/nK6LZKfURKP6VG/gXw7JKsr6JZNKowHMSlgPY4oi+UDy3WJbnxn+0jpaNPBH4f8AC9qbrzGfiSaVePxroL+6TxX4t1q6FxFHbeH7R7S3y4zLcyp8zAew4+ldkngjw9HNJKujWiyybd7iNQz7fu5OOcdqzn+Fnhn+1DqMemxw3BB3hDtSRiMElRwTitfarTyFY4jwB8LfAuoeEdBvDZwrO1pH9oCXJjWRh13oD83416vFqFmkQEVzAIwoUKsigADoMelc9F8KfCME/mx6HbRv/cRmC/lVs+APDiDC6NbqPQbqzqVHUe4RNb+0bf8A5+If+/gp631u/SaP/v4KxP8AhX+gf9AuL/vpqB4E0MdNNjH/AAJ/8ayGbSXMX/PVf++1rz3xdcx+OfF8HhZZVOlWIW81T5xtkJ+5F7+4rp/+EE0Ef8w9f++3/wAagt/hv4at5ZZYtLjjkmIaR0lcM57EnPJ+tVF8oGD4717TbDxb4Wh1K4S106FpLvzSMhZEXCKce/Sudupv+FmeLNastOOdLl+ytNdsChaNDkqAT3PUd676f4eeHplAk08OoOQGmkOD+dVJPhT4ZlkEgspIZDjLRXUqk46cg1vCokk+pPKcj8UbdPEfxO8B6GpUWto7X82D8q+X9zJzTvDnijTtT+M3i28utQt4Y7C1t7K2aWUBSM5fae/PpXSTfB3wjJcGZtI3XBXYZTcSFyvpnOce1Vrn4JeBrrYsnh22kIOQXZjiqVWLVmOzK+jFdc+L2oa3aXCz6bbaSlhDIjDa8jSeYxGa77zh6/p/9eudtPhv4e06BYLaxa3hHSOKZ1UdugNL/wAK/wBH/wCeNx/4Ey/41zzfMM6F3A/i/T/69ec+G/F+l+D9Nl0vVZJIdShupd0ZiZ2k3NkEdsYrpH8BaP8A88bj/wACZf8AGq8nw80KWVZTHMJFGFf7S+4fQ5pRfKFjm72O+n+IGieJdQUwaWkctvBblSTFn+MgHg+9X59ZsZ/inp0v2hNn9lyJEzHClvMztye+OK1h8PtMGcSXoz1/0t+f1qpqHws8P6mkS3cV3dLES0Ze6Ysh9Rk8Vr7RaXRPKTfEyZoPh74laA4uDYSqvqRt6cH3NX9Kt7e/07TJIh/olsiPAW6DCYHf04rHb4ReHY7eWMpe+W6lGSS7dgwPUEE9Kig+Eeg2lmtrbyajHaqMCMXrgAemM1F1axRy/i/X/wDhKvF+i2zqI/CtjqQW4uWPyvMOhPqg7V0PxV8cWei+BdWa2vIri/eFooo7Z/M5PUnHYVYl+E+hz6cdOZ777ATuMXnttz64ziqVn8DfDFisiWsF1DkFSyzEEg9R9Kv2kdPIVty34fe1+HfwltZpWMkNlYebJsxl2Zc1578F7+HwJ8GNa8TyW3lvdTzXnkk43ZbagFdm/wAHbGXT7jTbnWdVuNLkUItvJckEKOg+lWJvhDoU2ix6OZ9QOnoAPsxu/lwDnGOnWj2kdfMZyOgeGZtA/Z/117q3WHU7+xuJpQTlgrchc+mO1es6CiRaJp8cbFo1hjRW45XZXN3fw4sr20ltZNU1YwOnlshuiVZf7pHp7VFp3wygsQkEXiHWTboNqxNdj5R6D0qZzumKxiaTqGheHPFXjbxFqJjhuxcLEhb/AFjIsagAAckEkmsPwH46tb+81PxBeW1zL4hvZmgtNNMTGSKMdOT0BrtJ/hNo11qAvZp7yW9ByJnlDMD9Tz2FX18CQI+5dY1ZWH8QulBqvaRsFjzqzuNTaXxl4g1VIrbWoGjsIV3ZNurdx/8AWrq5br7P4Ru9M0fTZkeaDyZLmaLy4hu+87E8sfc06/8Ag3pF+bx21HVjJeMGlc3ZwxHQkZ5IrOtvg/ezM1tqfjHVNQ07BH2UERswPYkVbqRfUXKUPgpBBfanfPAfOsdIiTT7Uv8AKSVXc7Ae9dF8bNZ+yeA7nTLbbPqGsMtnBCHy29urEe3rTIPhHZadcNNp+r6vZMxyzQXHynjHI+lczrPw2tW+Jvh5ZNU1SeaK2nvpJpbgb0KMoXbnp1pKSnPmHrY9F8DeGYvBXhrTtJh58mMBmB5Ldz9a5uw1nTDrusa1qtzEhgmNpbpKw3qq9WC9vwrcg8JpKiSrreqOGG4MLpcEVgzfBXQLnVJNSmlvJbsksZXkByT1PPrWaqXk23uPlGeC01HxV4ln8T6lEbW2BMGnwNwQh6u3v71nfGHxrfaVNbeH9EtRc6pqqeU8pGQkfqa7FfCJVQo1fUgANoAmHA9KqTfDG1uL0Xr6hqH2oDaJDKNwHpnrRGooyu0O2hc8E+FofCfh2zsIiCyIu5gOS3qff3roX2jpXOt4NcdNc1QfS5Wk/wCENlP/ADHNW/8AAhKxlJydxHSZWm5U965t/CEo/wCY9qv/AH/Smv4Mlfb/AMVBq6/SdakDpulOxXMv4UlH/Mf1X/v+lB8LTt017Vf+/wClAHTbqK5Z/Bl45yviTVgPZ46KCz3SinYqPNbEEmKWmZozQAZooooAKZS5pKAFQ5pKOlFABRRRQAUUUUARVj674VtPEF5pdzctMP7PmM8YicruJGCDjrxxW7gegoIB6jNUBFsIoPK4PI9KlxRgegqQIgMUyn0YoLGUYoooAKhvrmS1s7iSCE3E6KzJDnG4+mamoPPXmgg8GvfEOpfED4naK+nPqulS2BjNxpzxFY9v/LQueh9q986Vwknjpbv4nW/h3S7VLkwRF769wCI1/ug1d+IovY9EmvrbxE/h63tFaSZo4o5DMP4VUuODXZUtJxjaxK6mJ4l8T61d/EHRdP0WVU0y3vlgvdyY892XLICT0SvR8kZwC2G+ZgNwH5GvEfhH8LJdV0yPXPFct1dXV07yW9vLIwCbxhmYepHBPevVtD8M6d4f+0/YYvLW4fc0YcsFA4O0HpzRXUIWjHWw4mxmkxXnnxOsfE+uanoWnaJqEuj6Y7PLe6lbyAOoVeF45wfSs/wB4w1X4o6LFBb3T2MNjm3vb6JP3txKrclPSs1S5oc9wvrY9T2UYryBtd8TSeKdf8KaBqP2z7JFHMb+6dXeEn7yZ9RXT+EdUvNNvPEdpqWpNd2Ol7MXU5XcrmPLqT3xQ6LitwudrilrxrWviz4i13xVa+HPD+n/ANjveRedDqV/avMrL67VPFdF8NPFviG/1rX/AA34nS3l1bRvIc3tmoEU0cq7gcD+IdxQ6ElG7DmPQ6K8z8X+KfF9+2rSeEUtWtNGfy5xMgaW7lX78aD+H61NovxQl8S+PtH0axgKWb6WNQvmkX5oi3AT86XsJNXXqLnPRqZXI+LfE13L9q0zQZIxeQwPNc3jcx2ihfuk92rL0n4g3N74QsDbmK61U2X2i7u5OIbYDq8nv/sikqEpRuO534TA44rM1nxXo2gXtna6lqUFpeXjhYYZW5fLbc+wql8OtQ1PWPB9hd6wym9mDSFtnl7o92V4HQkV5x4s0G38W/HFbOWES3FtHYPG7qG8i3RmllYZ6FmATjqOKIU+abi3og5j2duAccU3J9ad1oxXMaCbie5qpqerWWkwfatQvILKH+9O2zP0HWrG8VwfhX4azRa1qGr+Jb/+3r+eZvISb/U2sf8AsqeAfpVxSe7A7DSdX0/WoGn028iu4QcF4XDru9PUVVv/ABNYadrdjpLuZNQvAxSGMZKL/eY9hXntz4x0X4eeK/HF3IdtlBFB/ocHJecL8wAHT3Nbvw20KcwzeKNWBOuauqyOjc/ZYm+7CvoPXHFdHs0lzPYg7imSKTWL4y1HXNJ0GW48O6XDrOqLIqrZzy+WCD1Ofasq01jx28KSz+GdKwy7jGmpPuB9OY6yUG1cDrD8xyeT705iuCSVVQNzO5wBUMDu8UbshjaRdxViCAfTIrL8X6JN4k8PXFhBeGwmlChJ8ZwB1zQBzHjL47eFPBJIurma9I+8ljCzqP8Agddb4Y8S2fi/QLLWNP8ANFrdIskYmXawHuK5AeEvE9lob2kZ8O3sIXP2I6e0Mcg+u/rW54X14eJfBaXujW6WVx9nkjt7WZQEhmQMu047ZGcVtOEOXQBmu+JdQe/k0fw/BFd6miBp55yRBaKV3fMe7e1Z/gW78RnxFq+naxqUGsW9okbfaIYBFsmPLJkdcDtXn3w2+I+q3WteKNASxWDxpqF4LmSOb/V2w2Kkjn2BPA7V7L4f0KDw5pyW0TvNIz+ZNNIctI/95j1J9zTqR9kuVoS940ab1ozRXEMRBmjFL0pmaADFFNzRmgsMk0wcdKdTaAIepz3pW4OR1ofimvQApAPUCm0ZooATaD2FR5zTs0yoAVGBpCAeozRjFNzTACSe9IQD1GaWikAmAe1GAe1LTM0AGSO9NycYzx6UZpKAFo3HGMnFCc0lABS5pKKADvnv603sB2HSm5PqaTNADqwtf8G2mu3dpczSTwSQIYyYXKlkJyVOO2QOK6DFNYkdKewFe3tY7SCOCIbY0GMLwAKfnnPf1pfMwMZ4+tNoAMUuc0IwNJQAu4nuaZk+pp78UmKQBjNNJJ706m0AI4HpQlL1p2AKAFBI70UHrRUgdR/wsbwx/wBDFpn/AIFJUa/Evwk78eJtJ/8AA2L/AOKrc+ywf88Y/wDvkUgtIB0hjH/ABXQQZD/EjwqP+Zl0r/wMi/8AiqT/AIWT4U/6GbSv/AyL/wCKrb+yQH/ljH/3wKPslt/z7xf98CgDE/4WH4X/AOhl0n/wNi/+KoT4i+Fv+hl0n/wNi/8Aiq2vsVv/AM8Iv++BR9hth/y7xf8AfAoAxv8AhYfhX/oZNK/8DYv/AIqm/wDCx/Cf/Qy6V/4Gxf8AxVbf2K3/AOeEX/fApPsFr/z7Q/8AfAoAxf8AhYfhf/oYtL/8DY/8Kenj/wAMH/mYNN/8C0rY+xW//PCL/vgU77LCP+WMf/fIoAxv+FgeFv8AoYdM/wDAtaj/AOFheGd23/hItMz/ANfKVufZIP8AnjH/AN8Cl+zQ5z5SZ9dooAwP+Fj+Ft23/hItOz/18LT2+IHhhU+bxDpw/wC3la3fs8Wc+UmfXaKGgjbrGh+qigDnh8RfDBddviDTz/28rUv/AAsDwz/0HtO/8CVrK8e+P7fwcYrSx0mbWtYlGY9PskBKj1Zu1aXgXxDJ4u8L2upXNgdNupGdZbZjkxurbSprT2b5ecBv/CxvDH/Qxad/4EJTv+Fh+GP+g/p3/gStb32dP7i/lS+TH/zzX8qzA53/AIWF4Y/6GHTf/AlKR/iF4ZH/ADMGm/8AgSldF9mh/wCeSf8AfIpvkRn/AJZp/wB8igDnX+InhYf8zFpn/gZF/wDFUn/CxPC3/Qxab/4EpXR+RF/zzT/vkVC9nEP+WSf98igDnj8TPCTbseJtJ/8AA2L/AOKrjta+PejXcl7p/hy9sbi7gVvMvr25WG1h/E8vXqAsrcdIIh/wAUySxtpgBJbxOB0DIDiri4xd3qB4X8PfiX4D8FaMs7am2peItV/eXbKnzF/7u5iqge1T+OPEem+M7jw/a6p4i0yG2ur5fMsIL5XjhhTqZnHDflXtws7dTxBGPogri3trSf4rytcwwJHY6VH5fmYC7pJHDEe+AK6lV5p86RFjWX4ieEUUKvifRwoGABexYx6fep//AAsbwpx/xUuk8f8AT7F/8VWwtnA6qwgjx/uCn/2da/8APtD/AN+xXKWcj4k8eaFeaBqMem+JNFfUZIGWEnUIgA56fxVk/Dy+8I/D/wAFWmjWviXRlukj8yV31GI7p2+8fvV6L9gtgf8Aj3i65+4OtNbTrLK77W33/wAB8tc89e1EZNLlA8o+G7+Hvhv4Y1WaXxLo2oazdtLe3Msd6p8x+y89cUmma34cvPhhd2sninSYtV1WN555Lm+jUvO3ODhumOK9ZOm2ZYE2sBI6Hyx/hSCyt1JIt4gT1IQVftXK7YHil78TPCviOa2/te1v9L1S1Ty1vtG1KJsL/dV4ZdzD2Ndt4Q13wJoVi0umaxYQG7YPNPeXuZ5WAwDIzEljjua7b7Fbkk+RFk9fkFNbT7VuttCfrGKcqnMrAeQ+EPjH4M8HHxDpup63bpeHVbq4RIEaVZkkbI+ZVOeK5TSfiTYaV4u8XXFt9nTWdcEUekkSqIoYQv3pH+6nPOB3r6LFnbjbiCMbenyDim/YLXn/AEaHnk/IOatVlG7tuRynll02i6R8MrzRNH8S6NJrN3CVmurnUYsu7ffkZt2T7A1kXEXhTwD8LLXQLLxDZXUD3MQ1G4S7R5JELZcgDrxXtgtbcAgQRAHsEFMGmWYkDi0gDgY3eWM/nio9tIfKefRfH3wTLItnpGpf2lPgKiQoY0AHQF5FC/pXntt4h1jTPihFriNp11LdTC2v79tctvs7Wmc+WsW7cNhORX0EbG2YEG3iIPXKCmHT7Ukk20OT/wBMxShWUL2W5Rmnxv4cbpr+l/8AgbHQ3jTw8euvaav/AG+x1orplgUYraWx/wC2S/4VGdG089bG2P1hX/CuYDO/4THw/wD9B3Tv/AqP/GmS+NtEiilMWtaY0gVmGbyMAt6dav8A9gaV/wBAqy/8B0/wqF/DGlSDDaTYMPe2Q/0oA8XsfA2lQ+FvFt/e+INKvvF+tRSyEpfRskLt/AmTx9RXovhT4o+F/EekWzW2tWSSiNVe3nuUjkjI6jrg1vt4V0dRgaPp4GMcWqdPyofwtosn39IsG5zzbIefyrd1XKNmBR1i+0TXNOezl12O3SXawlsdQEUqjvh1waxrXw14MsX3m5gnf+9d6m8x/wDIjmukXwloaDC6JpoGMYFpH/hTP+ER0L/oC6d/4CR/4VEZMB1nqWj28Xl215Zwxj+COVMflXAeO/iHc6P8QNA05dbtdF8PzQtNdXvliVpJB0jGc7c+tdyfBugN10PTT9bSP/Ck/wCEP8P8/wDEh0znr/ocfP8A47RGSi7tXCxz2t/FjS2t/svhe9ttb1u6+WGOKQeXGf8AnpKTjA9q57xJJqXwy+EEdn4evVutVWRTPdRqruglfdNKqZxkZ4rvW8DeHGznw7pRz1zZRc/+O00+AfDBxnw5pJx0/wBBi4/8drRVFGyS0FY8w+Htrp83jPR9S0O01O2itba5j1jXdbRYptTMnK9Tk4wMZr2P+0Lf/nvF/wB/R/jWM3w48JuQW8L6MSOhOnw//E0f8K+8Lf8AQtaP/wCAEX/xNKrN1HqM1/7Qtv8An4i/77X/ABqVJ4/+ei/mP/iqwn+H3hcf8y3pf/gHF/8AE1H/AMK88Kj/AJlzTP8AwDj/APiawLN/7Qn95f0/xponjC7mkUD6j/4qsF/h54WH/MA0z/wGT/CoD8MfCLDB8OacR6GH/wCtQB0pkDdGT9P8aCc/dYH8v/iq5hvhj4THTw9ZD/tmaUfC/wALL00G0H0U0AdF5vuP++h/jSNIfXd/u4/xrB/4V94f/wCgVD+bVGfh74eH3NP2/wC7PIP60AdD5qHuP0/xpu/PYf5/Gud/4VzoEif8eUin2u7j/wCKpn/CttB/59Lj/wAD7n/4qgDot49v1/xo80f3l/MVzr+AdF/54XX/AIHXP/xVL/wgmkf3b3/wYXP/AMVUgdBvX1/UUwsF6Mp/4FWC/wAP9JH/AEEP/Bndf/F0g8CaWOkuqf8Ag1u//i6QG75i/wB5f++qN3+7+dc+/gLSx/y21T/wb3P/AMVTH8A6bJ/y96uv01W5/wDiqAOg3j/JpvnfT8651/h/YD/l81f/AMG1z/8AFVH/AMILZf8AQQ1f/wAGk3/xVAHT+Z7j86PMX1rmJPANk3S/1kf9xKX/AOKpf+EFt/8AoKa3/wCDGX/4qgDpsrSbq5j/AIQWL/oM67/4MG/xo/4QeL/oMa5/4MG/xoA6jKik3VzP/CEp/wBBjW//AAOb/Gmv4Eif/mO62v01L/69AHUOwFN31zH/AAgKH/mYNf8A/A8//E0n/CCxx9Nf15vrf0AdN8vrTHOK51/Aqj/mO65/4Hf/AGNIfA+8bRr+t59ftv8A9jQB03mU0vv6Vzn/AAgR/wCg/r3/AIF//Y1XHgBw+4eIdfx6fbP/ALGgDqcU13xXNf8ACEn/AKD+t/8Agb/9jTX8EH/oYNd/8Ch/8TQB06MKM1zH/CHMP+Y9rf8A4Ej/AOJp3/CGTf8AQxa3/wCBEf8A8RQB0/WiuVfwbP8A9DHrf/gSn/xFL/wiM3/Qya3/AN/4/wD4igDp3fFRZPqa5hfBMqPx4m10f79wjf8AslSP4MuB/wAzRrf/AH8g/wDjdAHSI+Xp3mVyqeC54348Va031mh/+N0r+C7v/oadb/7+Qf8AxugDp/MPr+tFcv8A8Ibff9DZq/52/wD8booA9xzS7xTM0lbEEmT6mnVFmk3N70ATZozUaSE9qftPvQA+im5pdp9f1oAE5paOlLuHtQA7FMpc0lABWR4p19fDmkyXITzrth5dtAOTJIegx3rXrkLoDWviJFCx3w6TbC5I6gTSfdP1HY1UFr6AXvCvhxdDszc3J87WLgeZdXbcly3VAeoUenSm+AoJY9GuJnVojeXs9ysb9VV33DNdBjgjseCPWuc0Hxvp/iHxFrWi2aSeZo7rDO+PlZj1APtWt5O6A6fNJXP6/wCOtK8PWk8zyNdyRTLAbe2G9/M9KbafEHRrzS0vEnZXJw1rszKrehFT7OVr2C6OioxXB3vxWaHWhpVn4d1O9uiocjywoRT3JqTTfixp+szzw2NhfXT2zbLsqgAtm9Pej2UrXsLmR3GKY6msjXfFEGiWNvNse4nu3EVpbLgNMx56n2rBs9b8UaZrunW/iGCwFvqTmOJLMsXgYLuw3PI96aptq4XOzxTHAFcv4u8fw+HLS+mt7Vr8WI3XLhtqRe2f4jWTefEm8bSU1q00kNoCbPNu7hyjtn0WhUpNXsFzvsV558Uv7N0S40jV30kapd3N9BpjBpyibHOfmX+LBJ61p3XxOsLfVp9Nh03Vby8i6i3tSUP0Y1xHjvxdq/iXxP4W0e18MXcVxHc/2l5N3Kg3LHwMkdOa0o05cwNns4jwMAYHoKK5Xw7r+vDW7iy8Q2FtaicLJZtbOWVQOqsfWrPjnxvYeBNG+3XhBldtkEGeZm9fpWTi3LlWrYXOhrjPEl3dzfEfwtp0M7R24inuZ0RiAyrwoI781X+Ffi3WvFy6ldanFbra74/sksAIQ5+8vPPHrXE3+uX+oftC3V5p7S3GlaBpe27WIZ3HG7aPet4UZKbi+iJ5ro9xoxXhHj79qHT9Ji0MaDCb+a5ZZLlCvKRdNv8AvZr3CyuhfWUFzgwrKiuFbqPrWU6M4JOStcpNMlp2K858P/FdtetW+y6Y93dzXMiWkEJ/5ZK3yM7ds1ci+KcH2qfSZ9Oli8SwsIzpKNuLErnfv7Ch0ZxdgudxTM1zXg3xRe65d6zY6jaxWl/ptwkMqxMWQ7kVxg/Q1wWu/GjUdRufEMfhi0tha+H13Xl5qD7RcEdRGP8ACpVKUnyhdHsVGaw9K8X2l54PtNfuka0t5rdJ2V+GUn+EDua57wH401fxB4p1y11SySys7eKKa2QnDIrdnPrS9lLXyC+x3tYvjfxLb+C/CuqaxcYC2kRdUJ5duiqPqauabr2n6y1ytjdxXXkSeXI0J3BW9K+fvjb4c1LxZ8TdK8J2et392moMLq7tS4ENrHu4yBwMVdCiqlRRlokKUmloekfA681CX4aWWo+INRM17fyyXRe4lGY0ZvlQZPAHYV1EPjfRJ9ei0aC+iuL+WMyCONt21R6tjGayLD4R+GdOsobZrJ76GIBVN3NJIAOwAJNdBpuh2GjJtsrO3tTzzBEqdevQUVnTlNyiNXL2aytS8UaZo+q2GnXd5HDe37H7PC+ctitWvOdP0yLxn8VrjXp0BtvDqGxtHxndMfvuPcetYwipXb2Qz0bGajfiuM8c+K7hNd0Xwxos6pq15Osly4+b7Pbr98n0JrsnehwaV+4BTM15z4yk8UJ4uA/4STTtA8LmBdrnaboyf7pHStnwXqUG24hXxRFrwLL5ZkZRKn145q/ZvlUrivqdXmqOvazB4f0W+1K6bZb2sbSt6sB0A9zV2uE+JEf/AAkOqeHvDW/dBeXH2i6XgKYYuo5657+tKCu0aHV+H9XOt+H7DUpIGtPtMKymGQ4Mf+8au2d3Be26XFvIk0Ug3RyIdysK8z+LnjpbHTrbwpocyy61rLCyi+zncsKHq2R0xXXWfh9vCfgU6TokeZ7WyaO2Zj96ULgE/U03Cyu9P8iCR/HOhDXjo39ox/bw+0Lg4Lf3N3TdW0/FeNeLfDkHhnwBonhK1Y6l4tury3lE6/NMZvN3PKx/hG3jPpXszqadSEYpNCiJgGm4pkl5bxXEcDXMSTS/cidxv/IU+ucq43JNJTc0ZoEJjNLRSPxQWNozRTc0AJTHKjsPypd9JgGgBvWhximucUZzQA16SndaMVADck0w81LioqADGaZT6ZQAUYHoKfimUAGB6CjFFFACPxTs5pOtR5PqaAJMVHk+pp2aTFADetSAAHI61HRmgAxTKfTKAFTlKZ1p27FNoAZRmnbh6D8qMUANxmjNFFACgkd6d1plGaADOKb1ozSUALuPqaKSigDrU8ceHv8AoNWX/f3/AOtT/wDhNvD3/QXsv+/3/wBar/8AZNmP+XSD/v2v+FO/sqy/587f/v0v+FdBBnnxn4fbprVl/wCBCf404eNPDq9dasv/AAIT/Grw0uyHSzg/79L/AIUr6PZf8+dv/wB+l/woAz/+E28PD/mL2n/f0f4U5vG/h9GVTrdhn/r5T/GrX9i2P/PpB/36X/CmnQtPY5Nlbk+piX/CgCsnjnw8f+Y3Y/8AgQn+NO/4TbQU66zaH/tt/wDWqz/YlgP+XO3/AO/S/wCFOOjWB62lv/36X/CgConjbw+f+Y1Zf+BCf40f8Jr4f/6DVj/39X/GrX9mWY/5dIP+/a/4U3+xrH/nyt/+/S/4VIFb/hOvD3/Qa0//AMCU/wAab/wnXh7/AKDdj/4Ej/4mrv8AZln/AM+kH/ftf8KP7Jsf+fSD/v2v+FAFBvHXh0J82u2A/wC3pf8AGuJh+I3hvw18RNUkudYtls9UgheK4RywVo+qkYr0RtGsW62kB+sS/wCFNOjaeetjbHr/AMsV79e1XFqNwMdPil4RkbaviKyJ/wB8/wCFcf4B8c+FdA8J6hfy6xYQ6jcz3N1dKZsO5EjFc8ZPAAr0pNJsYzlbK3U+oiUf0qlN4M0K5lklfSbQytwXMCbj+OPc1cZLVAeQfBfVNI0rR9Q1/WdatvtV1eG/RJX+Ye44qf4PeKdG1bW/EXifUbqysZry422qNJ9xR1YccH3r2C28P6dBaRwLYwGKOPywGjUkj06VLb6Lp8EYjjsraNBxtSJQPyxW06/NzJLcjk2OK8c+O9G0Xw9q+q6dqVtJqX2YIhRslsdO1Yfwg1rQtMsb6+OpW9sl80f7uZ/nkIX5mbjqfWvVRptoCcWsAyMHEY/wpG0uybObSA59Yl/wqI1OWDh3K6nlXxP8U+ErzVvDlxqOrs2n25ncTae5MkU3y+W3Tjrwaq6D4y0O/lFxpeo3FzOoMZ1XX5yPJBGCVXHp6V69/Ztnz/osHPX92P8AD2FKdKsiQTZwEjofKX/CnGr7qVg5Tx7xvqGkazLoHg7TdVg/s2WX7Tqd20n3o07Mcck+9bnjHxH4e1LUNC8OxaxYQaeXFxckXCBRGnRBz1NeirpVkmdtnAueuIl5/So5ND0+YASWVvIAcgNEpwfyqfavTyFymf8A8Jp4dhUltaso0A3M5lGB+lcL4O8X6JrfirWvE91q1pBGWFjYpLLyIV6sOP4u/rXQ/EPT4hosGn29jFCL+dLeS4SIMYY/73Tiug07wxpem2kMEGnW4ijTYP3S5P6URkoxb6soqf8ACd+HHQMNZsmAOQDL3/KuIv8AUfCPjXx5eprFzZ3tpYWluLSKRtyO7Mxd+nYAc16YulWSjAs7cD0ES/4VgeIvh5o3iGeG6uIpbK5hXH2izk8ptn90lcHHJ4qacuWVwKmt/Fnwp4b00yDUoLhohhLW0+aQj02gYFeBeGfiXL4bsPFOox25n1LxLcrNDKj7jBGxwVfP3cDivXfg/c6Prd34l/s/R4EsLS6WCG8YB5Zxt6ljya6nVfB3hvT9O1a5fSbSJJYXkuWjRRu9OgrrjONCTjNXuRa+p89eBPCfgubxlq+r69fWdnaadKiw2UdwXWWULljnq3New638YtGvvAmu32mzmGeK2eO2SYEMT0BAA7GqPwX+FOi2Hhmy1m8tTd6hdl7hZLlQ4jD/AN0Hp+Fepf2ZZ/8APpB/37H+FGJre0n3sEVoeU/CG70TwZ4Etlu9WspNXliElzmXJyOiZx09qb8MH0nSb/VPFHiHXLKXxLqrbpALgFbWDGFiX5eMDrivVf7Ms85+yQZ9fLH+FN/s605/0WHnIP7sd+tcrrybb7j5Tz74eeMNBfQb7VJtatIrzWbiS8kDyfcXPlxrwP4VA+lcfp+ofDK78MWkmu3kC31tuFxDE8i/aDu/jAHzfjXtFl4Z0zTrcW9tp9vFEM4AjUAZ69u9TDR7AOXFjbByclhCuT+lHtg5TzLT/FeieKZrbUNQ1KysPD1gpksNMNwu6UDozjPb0rlPh548tvHuqa9d3WoQ6XplzcF5pZJ1WS6Vf9XEvOQPWveTpVk2c2duc9cxLz+lC6TYr92ztxxjiJf8Kft1Z6D5TxbwR8WPCng3wtMIJ4rjXtQuJbt7CA7cEdAzFcAVofBnXdPvrS/8Y63qenxa1r0jNsNzHmC3X7iDnofTpXc+N/CCeIfCGr6ZY21pBe3luYo5JEC4J68gVL4d8Pm2sore90nToI7dEigSDEhAHfJFU6icW1uwsWT4z8Pk5Ot6cT6m6T/GkTxloH/Qa07/AMCo/wDGrf8Awjulf9A61/78r/hUZ8O6Uq7msLdR/wBc1/wriGQ/8Jdon/QZsP8AwKj/AMa8y0Txtc+DzqOjWdlbapdT3s88d8b+JYNr85PPpXpy6FpMmGTT7VwfulYlwf0rD8dW+k+H/CWq366ZameO2ZIV8peZGG1B0ram1ezV7gef/A9rU6/4p8UavrlneX95ObeKUTqAIl67eOB7CvWf+Ej0k/8AMUsv/AlP8KwfBPgHS9E8I6Taz6bbPdJbgyu0Sli565OO9bH/AAiWif8AQItP+/K/4VVafNPQUdCjcnwzf6ib25u9MurhU2qZLiNsfTJqdLzw4rBhNpaMOhWWMEfpVpPC+kp93TbVfpEo/pUZ8KaKeulWv/flf8Kyuxk3/CQaXt3f2la4/wCuy1geJdH8L+Mhbtf3sIkgUqktte+XIAeoBHODWr/wh+iYx/ZFpj08hP8ACk/4Q3QMg/2RY5H/AExX/CiMgPOpdN8MeHfiX4Ti0+WwtreK1upXme4DMz/IFDNjnknrXpN9r9obGYWuoWIuPLIiLXC7Q/8AhVd/A/h+VlZ9FsHK/dLRKcfTj2FB8EeHiu06JZFfQxLj+VVKblbyA818Mab4s0qWW6lu/Dk2r3XE+oz3JlkP+yo/hX26V0L6Z4hv8LfeO4Ys9U06FI2H4mum/wCEH8Pbdv8AY1lt9PKXH8qiPw+8NkknRbEk9f3S/wCFVKs5dBWOa8N/DjQ9F8UnXG1OTU7tY1SNrm537G9QSeDXef2lb/8APxF/38WskeBvD46aRaDv/q1/wqP/AIQLw7/0B7T/AL9r/hWUpObux2Nh7mIf8tov++x/jS/a4lTmVP8Avof41hv8PPDn/QEtf+/VRH4deGz10S2/791IHQ/ao/76f99j/Gk+0If40/77H+Nc8nw38NH/AJgtp/3waR/ht4ZH/MHtv++TQB0nmp/fX/vof41EJFP3WB/4EP8AGsF/h34cH/MMg/8AHqiPw18Np93Twv0d6CzpOPvY49Mj/GnEgp8uT+X+Ncr/AMK18PsMGycD/rtJ/jQPhzoS9LeUfSaT/GgDpM57f5/Omls/d2n8/wDGuff4eaOP+WVx/wCBMv8AjUJ+H2kqdwe+A9r+T/GgDo0lB/8A1ijzV/vL+dc7/wAIHpw/5b3/AP4MJf8AGl/4Qay/5/NU/wDA+T/GoA6EsF6Hd/wKmPIo71g/8Ibbqm1b7UyfX7fJ/jVf/hB4o/8AmL6w31vZP8aAOlRge9Hmj0rnG8ExDpqusD/t+k/+KqL/AIQJf+g1rP8A4HSf/FUAdTvpPMX1Fcv/AMIKf+g7rP8A4HN/jQ/gt26a5qw/7eP/AK9AHTO+KN9c4nhGVfva9qZ+s1J/wikv/Qc1P/v9QB0m+mVzn/CI3X/Qwan/AN/UpT4Uuh08Ramf+BR0AdHvFJmub/4RLUP+hl1H/vmL/Ch/Cup7Nv8Awk+oZ9fLh/woA6Sm765hPC2rw9fFd831SA/0o/4RnVO3ie+j/wB6GE/0oA6h3AptcrJ4W1duniy/H/bG3/8AiaVPDWtL18VXh+sEP+FAHSbh6U/cPauZ/wCEZ1nZj/hKLnPr9mh/wpP+Ee1z/oZ7j/wGg/woA6TcPSl3iua/4R/Xf+hlk/8AASL/AApP7C16PdjxHI31tIv8KAOi3053Arl/7C8Q/wDQwt/4CRf4U9dD189fEbH/ALdIv8KAOk30m+ubfQfEQ/5mX/ySi/wpv9g+I/8AoZR/4BRf4UEHTOwFG75K5b+xPEp/5mFf/AJKT+xfEv8A0Maf+ASUFnUbl/vUVzA0XxJj/kYYf/ANf8KKAPdsUYpuafWxAmKTJPenUjjFAEVFFFABS5pKfigBlLmnYoxQAyjFPxTKACiiigAo60UUABAJyRzXGfFvx0/w88HTapbiNroSJFGkgyCa7OvK/itoY8d65p2gECW2toWvbhMZ56JkfWt6Ki5pT2Ap2Gm+N/ifdprY8RSeGfD+1fsdpp6kyz+7H0+tei+BdYm17wtZXdxzc4McpHcq20mrsEkOj6FG7ARQ2dsFwRgABelY/wANrV7LwXp5lHlGQvOVP8IY7ua0nJTi7bERVmVfC3iG81jx94wsXYHTtOMEEAA/jMeX5+tdnXi3w98c6hDY+IdZtvD0t9ptzqs8815BMNzJnC7V74HArb8U/Fa21W607QfD+pw2N/qduLs6jcLtit7bLbm5/jDLiqnRkpWj5D5j06jFeb/CE6nb3fiG0udeufEmnQzRraahdkZkJX5sE9hWn4lm8Zza/Imim0s9MtYBKJLmIyG7c9U4+7j1rF0uWfLcfNodlgHPv196Mcg9x0rzTw/4+1v4iaXPf6HBFp0NkxhkEw817iZeqKBwB71ueJPFOpwPbaTodtDda/NEHcTnEFsp6ux7+wpulJOz3C519cZ8XfES+GfAGpzo/lXFwBaQ84Jd+hHvVH4feNNavfEer+GPEMFu2qaZHHJLeWZ/cOr8jHocV5x+1H4vsZr/AMNeHjNKCl59svGjQkRxDv747ela0KLlWjCX9IlvRno/wU8PLovgpJfL8v7dMblIyMbY+i/jt5qr+0H40bwV8OLzyY/MutQxYwLnnLd/rWjp3xQ8P3trHB4djutbSNRGi6fbkqoAwBuPoK8y1PVL/wCMfxb03Qb3Q1i0XR2M99EZS6huwZl6Ee1bKMqlZznsibq1kdD8OrDWdA8XaDaHxNe6tZXmmeZcaZebALMj7q/L8qk17CWwwVsAsMjr09cZzXi/iXT7jw1Jqul+AIoNBXToPt2pXefMefHKxbm5wR2rMs49Ul8e6Dc2E8mr+JZbY3OoSvMfs0Bf7seM4AHpTnTVZ86dhqXKe90yvM/G2taz8NrGz8Q3+uzavAt2kFzYR28ccbo/H7vAySDU9vrvieTx14etbuWO2S9jmuZ9KhjDC2tgnyF5OpYtxk1x+xbV76f5F8x6KeRzzRRWR4mTW5tIY+Hp7KG+3f6zUEZov/Ha5DQ1H3L93mnLuK7vlI9j/jXCweGvGkyqL/xkYSfvrY6bGh/AsGp4+HSXK5vvEGv3zer6i6L+UZFbcke5N/I7aSUIMOyIPTeP6mvGtY+JniH4dazqLa5faNr+imcvBDZypHewwnk/uw3zYHqa7C9+H3g/S7X7RqdlC8KL80moXDyL9PnJJNcTbeEtN8YNJYeGdFt9D8LzzGS91MwhJ73PWKHjKr+lb0o01rLYltnsdlfR6jZ293bOZIJo0kXIwSrLuBrmPiRrMmjeG/Mj8wGa4hti8RwU8xsEg9sV0ttElrbxxRgJHGoREXhVUDAAHYAdq5T4q+FLnxr4G1DTLKRY9Q+W4gkP99DuAzWEWue3QZ1Nrax2VvHDGuUjXjA61w/iuM+L/F2m+H0JNjZML7UNvQ7fuRk9zWb4Y+JniXUdIg0mXwlqVt4mRPKkkuI9tmpHWQyE5I9q7Lwv4bXw7ZyCWc3d9cuJru6PWWQ9voO1aKLpNyAsat4i0jQ7iOLUdUsbGSX/AFcdzcRxM3uNxHH1rQV0miDRkSK/RlI2n6EVnTeF9HvL+a8utLtLm4kXYZriFXIX0yR0ryjT/F8+jXPjnR9BxFoelTCZNSxvhslKJ5kcYPDMGJAUcCiMFMD0m/8AF1pa+IrPQoUe/wBTmHmSRwYK28feV2H8PoOtbtcT8J/BR8LaFJd3SmXV9Tc3V3PMd0pLfcVmPJA9DWv45XxH/wAI/cf8ItJZQawpUxtfoxj2jqTUzjFS5UBtC6h+1NbeYjXSxiQwK3zBT3NS4rxf4eL491rUNR8VSRaEk1+BbI8qygCNOjKM8Zr1vSvtsGlKb+WC6v1Xc7wRsiE+gBonT5HZsUSK113Tb7UrvTba+iuL+1x59uh+aPPqavZO7GTn72Nw6evrivJvgp4a02w0zUPGs7rDe6kZjfzSO3BWRiBgnsABVz4WS3ni7xHr/jO6eRbC7YWulwNkAQD+PHbNOVNK/ZBc9MxTKe/FMrmNBc0lcT/wk3jGbW9RtrfwtaDT4JNtvcXN8YzMPX7rV0Wk39/dwSHUNOOnTL/B54kRvow5rRx5Sbl51HoKMD0FKrA9eabn56zKIb/UrTSLNrq8nitYU6tKx2n2HcmuBu/ivfza1pNrpfhK+vLPUJxEt9cSiHj+JhEfmwPer3jy3vYtd0HUzpM+t6TaJN5tnbANIsjbdshU8HGePStjRPFeleJJmWB2TUYVO+1uI/KmiU9co3P5Gt1FRV2rksn1/wASWnh6OAzpPc3E7EQ2ttCZJZP7wUDjA9TWNb/EFW1C1tr/AEHVtGS8bZDcXscfls3p8rMRWF8Z7rUfDlnB4k0q4SK9tke12SqDuD+g70zwFrjfFOSDXb5EtYrRisWl5IkjkHV3U9R6E1ooLk5yep6UQD1Gaw/HXi+08BeFr3XL1GlhtgB5adWYt0FaOq3sllp91cw28l3NBGzLbwgZc+ma8U+IuueK/GOheHrC68NwaVbalqkMcfn3RcuwDMQwCfd4HFZU4qUrPYpnuMLieFJR0cK1PzkY7VxOiN43t/Elra6i+kPoscBeZra2lVi38Krl+3euzzWc48r0ZRxlx8RV/wCFo2ng63tSzG0a5uZ26LjoB9a2/Fnii18IeHb3VrwEw20ZbYv3mb+FR7muN8RtpvhL4q6drl86WVreafLbyXMpwC68rng44rnta8Vn4reN9M8NWNtMPD8Dfbry7mTas237ox1rVUlKz6EtnrWiX76npVneTW5tXuI1laJmxsHuar2HizRdW1KXT7LVLe5vYxueGKQb+OuOxrmfjRLrcXgY2vh0FLu6uIrViBzHEzckY6YrFj8G2WjeL/B9ppkSx3llHLJeSxgZkQrhQ5Hv60oxjK9wdz1PAPajFB+7uyFH+1RXOULmmZPrRmnYpARZPrRmjcPSigBdx9TSDjpTsUx3AoAVBmjOaEooAXJ9ajp9MoAXJ9aZuPqadTE5oAXNFFFACbKWjfRQQMdhRjFGM0JzQAbSe9GKfSOMUARvxUXl+36VJ1ooAKKKKks7X/hMtB/6DFn/AN/R/hTf+Ez0H/oL2f8A3+/+tWj/AGVZf8+dv/36X/Cmpo9gf+XG2/79L/hXQQUG8ZaInXVbb/v6P8KP+Ey0M/8AMXtf+/o/wq/Jolgetnbn/tkv+FRPolgP+XG2/wC/S/4UAVG8ZaCj86va/wDf0f4VH/wm+gf9Biz/AO/o/wAKvHQtPPWwtj/2xX/Cl/sSw/58rf8A79L/AIUAUW8ceH066xZ/9/R/hTl8Z6E/TWLP/v6P8KuHQ9PPWytz9Yl/wp40ezHSztx9Il/woAo/8JnoX/QXs/8Av6P8KP8AhNtA3Mv9r2Wf+uw/wq//AGPY/wDPpB/37X/Cmf2Fp+c/YLXPr5K/4UAUD420J+mrWg/7a/8A1qRfG2gunGq2v/f3/wCtWmNIsR0tYP8Av2tA0m0HS1gH/bNaAMseNdCP3dVtT/21/wDrUf8ACbaBu2/2tbZ/66f/AFq0Tplqn3baFfpGKf8A2fa5z9mhz6+WKAMv/hN9A27v7Xt8f7//ANaox460Abt2sWo/7af/AFq2HsYAMeRHj02CozpNm3W0gP1jH+FAGWnj3w6V3f2xbY/3/wD61cj4b8beHX8Y+KdQl1OBGTybZXY/8swuemPWvQ/7OtQMfZocenliuQ1r4U6Vrmpy3wubqx83iVLJ1QS/gKuDWtxMyPFnxF0LxLeWeg2WsQLZSMZb26iZmHlj+AHHU1V+Knxc0nQfAV+mi6hFJfzILa3WPI69SMjtXomieFdJ8P2S2thYw20S/Nu8tcsfU8da8f8AjDBB4o+Jnhnw1HGm2ORJZ1RR0Y7mz+HFddHlnNRtotSXoi74A+L/AIU8K/Dext4ZLj7bY24U2xgfzZZO5HHGawvCyeEtC1vQItdk0+9ik0mUSNcx+ZHFM1wZAAGBA4JH4mvehYWwJxbxDPXCCmT6XZXMYjmtIJYwchXiUgH6EVEsRq/MdjC074geEYY0tbLUrOKBPupD+7RfoAuBXM/FL4j6ZF4eFrZapEkl7IIZJFblYz1Ocda9HSzgjGFgjUegQClk0+1mAEltC4Bzhowea51K0lJlHnHws1fQPCngyGGS/trbzpnn8olvkLdsYqtoPxQ8MaVqHia+1HVV8+W7KpsRi7QrwuOOma9RNtCwIMSEHrlRzUI0mxFwJxZ2/ngY83yl3fnjNW6jlJt9Rcp4j4M+LHh/QdX8X65q/nxajql4DFBHbuzvAqKEHTA6mqlh4y0jUvifqGteLLuzOnyaOY7SzO5zFukwwwR8zYr34WkC9IYx0HCD8P5VXk0HTZriK4ksbZ54STHK0KlkOc8HGRz6VqsQldpdLC5T5w/0v4NabrMvhHxRaXWjXAzHY3KvvhJ6Y4r074a6n4P8IeHY4bbV4JrmbEl5dSH57iQ9TnGeK9Gezt5MboI2x6oDStZQr0iQdeiis54iU42YcqR45feLk0rWPE0dgllqltrbKyXctyqRRDZj5hnmtf4ajwj8PdBaKLWLea6nwbu4kkJLn+EDj7o7CvTTaxk58tc/QVH9hgOP3EfAwPlHFJ1W1yhynjsl3pniv4m/2zrusWp0fSCBpdkJCQ0neVhjGRWh4O8caMfHfi271C623MsywWlxKD5QtEVeFbGRkknjvXqIsLcf8sIu/wDAKT7LZQSJE8dqjyZ8qNgu98eg/Cl7VuPKUZX/AAnWgf8AQXtv++//AK1B8daAW3HVrYn18z/61bD6dbD/AJd4v++BXG6X498M6x40uvDNpCsl/bKzSHyB5YI+8N2OcVkoyn8K2Hc0v+E/8NTZRNZsmCdjJj+lKPHGgbt76zaD/toP8K2TpdkxJNnASepMS8/pUJ0mxYYNnbke8S/4VBR534pfw/4l17TtQbxHYyRWXBsLn95byEtwxGVyfeurPjXw/GwD6vaAAYA80cD06Vrx6Lp8JzHYWyH1WFR/SkGkWEi5ayt2PvEp/pWnM7IgzP8AhNtA/wCgvZ/9/wD/AOtSf8JtoP8A0GbH/v6P8K1Bo2mr10+1P/bFf8KjfRdPH/Lhbf8Aflf8KQFQeLNEUYGq2wHoJDR/wmOiL97VbU/WT/61WP7F07/nwtf+/K/4U06Fpp66daf9+F/wo3Aydd8Q6Trej3VnbeI4LF5l2LcQyruT3HHBrnNY0zw/afDufw5od7Y24UJIivN/rHV0c7jjncOuetdy+gaYDn+zbTPr5C/4UxPDulYx/Zlnjjj7On09PYVUZOIGBonxX8PeISy/bEsrn/lpBcnAX6NjmovHXiuyTwbqz2N/BJP9nZYlSXkmukPhzSWAB0uyIHTNunH6UN4d0pRgaZZgYIwLdP8AClfW4GJ4T8V+HF8P2UOnalb/AGa3hWJSWCnIXngitf8A4SfSWxu1K2GOf9aKU+G9IOM6XZHHPNun+Fcvr2m6fqWqDQtL02wjnwrXV0tshFunpnH3qqzk2B5h8ZdP8IymDSNGv5ZdW1e5A+x2t+fIRD987Pu9zmvY/Duo2NjptrZi5062hgi8qKCK4B2j0+lcFongrRZ/i9PbwaXb/wBm+H9PW2YvErLJNJySRjkgd+telf8ACLaL/wBAiw/8Bk/wrepJ8ih8xR3LD61Yf8/9v/38FH9s6f8A8/lv/wB/RVQ+DdDdONGsf/AdP8Kh/wCEN0P/AKA9l/4Dp/hXEaGd4gk1K9vIG0jxDp1haBdsm+NZWz7fPTLOwnBEl54se5YdBGkS4rQPgrw8euj2J+sK/wCFRnwL4dPXRbI/9sl/wquZ2sRY0E1C1jRR9tgY+plFObUrVF3m5ib6SCs0eBfDo/5gtl/36X/CmHwRoBGBpNsg9FixUlmFYfGHRrhGNzZ6jZTByPLktmPA6HOfaqF5qDeMvF2i31lYS6dbadP5kupXjCFpo9uPKUZ+bn1rqf8AhBtCBz/ZVvn6NUB+HHhxuukxH6lq054rZEHE+P7aWX4haXqepwXGp+FrS2/dW1kglBuPVkzgirdhctrvj7TNa0rTLnSII43jvpbxRCLlO3y56jtXVP8AD3QJCSdKRSeCQ780z/hXvh8MG/s1MjofOk4/Wr9q7JW2Cx0Pnpkfd46e361x/wAQYxIuhXse0tZ6rBM2GB+Ujax/U1o/8IDof/Pl/wCTEn+NRyeANEKbDbOU4+X7TLj+dYRlyss6NZQcZIOM4/Hr3pvmD1/T/wCvXOf8K90Qf8u8n/gVL/jTf+Fe6P8A887j/wACZf8AGoA6Ce3gv1Mc8cc0ZOSkiBhn1wa43wnFHL488W3ZKhoZYreLkfKm3oPQVeHw40gPuAuwPa7l/wAapyfCnRhqL3dvNqFrNIQZRBePiQjoW55/GtoSdmQzR8eeLl8HaIbsQPdzyFYooxGSd56E47VxvhXW7+2Sa50zQL7V9XvyDcX14vkRAjoBk52+1dc3gDTGxmS+OCCM3b8EdO9KfAOnt1uNRP1um/xpxlGKsOxzuteG/G3i2H7Pea7DoVu/8OkoTKP+B5zXoMOQiBnYlV5JI5rnf+ECs8Y+26jj0+0v/jR/wg0P/QT1T/wKNZudwsdFv91/OpNw9v8Avquc/wCEMT/oKan/AN/hUf8Awho3/wDIb1T/AMCVqCjpMj+6PzpMj1rnv+EJ53f25q+P+vhKd/wisn/Qa1P/AL+pQB0DuB/EKZlTXOP4Kmk/5mHVF+kqUo8ITr18Qal+MqUAdEjD1pd9ct/wiN2H/wCRk1P846f/AMIpff8AQyal/wCQ/wDCgDp/MFIrB+grmP8AhEtQ/wChj1H/AMh0n/CL6kg2r4jv8/8AXNKAOnpvSuZ/4RPVf+hlv/8AvhKT/hF9W/6GW9/78pQB09MzXN/8I3rX/QyT/wDfpP8AChPDutH/AJmOb/wGWgg6SjNcy/hvWh/zMs3/AIDLWYJLhdY/so+MP9O2/wCp+zjP500nIDuaOlcwmga3/wBDJL/4DLT00LXD/wAx+T/wGWkB0maM5rnZPD+uL93xC4/3rZaifRNf/wChhb/wFWgDpKN1cs+jeIP+hhH/AIDLTf7E8R/9B9f/AAFWgDqd9FcwND8RY/5GBP8AwFWigm57vR0oorYoOtM60ZooAdijFLRQAzFPplGaAHYpaZmjNADsU3NGaKAG9aSiigBetGaSm5oAdim5J70ZooATpXlGi+CruT48694juw5s4raNLVn5BYphiPpXrFB5rSnUdO9uoDKKKKwAdim5ozRVgNnmS1t5JnOI4wWY+mK5nT/iLpGoeGIdcR3+yzErDEFzJJhuwrS8Z3Is/CGtzuwVUtJj+O2uF+CXhmRPCuj6nfR7SsA+yQMP9WD1fHY+9bQppwc2Lqa+p+LfE9nYzaougRQ2EKGR4Zpf3wTqePUCux029i1bT7a9tjmK4hSdCe4ZdwrkvHeute+d4V0bE+s36FJmT5haRH/WSSHoD6KKreJfiLoXwjttH0e8gvGY2ojthBFv4jGMflVcnMkraiO+xR1ryDRfih4o1HxvpVqYNHu9Hvm27LGZnmth6vxzXW/E/wAfQ+A/D80qHzdTk+S3h64Y9GbHRaiVGakk1uFzsQRt3cMP9lqTNecapr9/8P8ARfCtim7Vr7UruOGWSc5PzLucg+grtrzXbLT9TsdOnl2Xt7v8mMDO7b1PsKhwZRpA4BLEBV6mvG/D0k3jP4w2evGd2srSK4a2jBOxYhiJGI6ZZmZwf9keldz8Ttebwr8Pte1NGxLHbER4PR3Oxce4NZXwc8PS6L4ZS7uYvKubxIyqMPmSBVKxp+AJbHqTXRTXJCU3v0Je5ufEPxUvg/wrf37SAThTHbq+BudulecfC+50DQ7261G71ayiS3j+xiR5RvmmIzLJx1yeM1V+PPh5viZ4s8L+FLKVjMkjXV2Y3+WGMfcLD1r0HQPhh4Y8NWkMVtpNqfJXHmyRqzk5znOM9a2i4U6HvPWQtWzd0TxLpnie1e40q9jvYEYpvgByGHYg1efiszR9BsdB+0mygW1WeQySIgABJ6kAVpbs1wNIsR+KXpXIan44vLbXrjS7Xw3qN88O3fdFljhP0J4qhcfFFdOvoY9RbSNOty37xW1ES3H4KoxVqm2riud29N60yG4WeISIxdGG4Bhg0uazGOQZrm4vGltN4+m8LRwO11BZi6llz8qg9vrXRk7QSSFVeprzHwTNBNqnjDxtP8sEsjQwsf8AnjF3Hsa1hFSTbA7jXPFmi+HGEep6ra2crDcFnlUMR7KKsaPrNjr+nx32m3EdzZvnEqE7Tjsc8g15JpvwdTx34n0fx/rl5JLd5a4/s51DR+Uy8Lg8celdb8O2gt9a8ZW9mgi02HVAsQQfLny1EgUdBgknirdOMY3T1IuzuJriK3AM0iRqW2KS4Xc3oM0MCM8FtvXg/wBDXh/xJ0K++L/jGPSbO8ex0/TJmjM0bEZdQhlbjuCcA10nh3QH8C/ELTtItdRvtRtb+ylkm+2SmTymXoRknGar2K5E769irne63qsOh6VdXs7bYoEZyawPhhaSx+Hkv7tCt7qDtdzEnseVB9gKx/jxe/ZfARUuUS4u7eGUg4+UtyD7HuK6nWbldH8GXtxCqxx29g7qc46R8flURXuLzYdTmPg0/wDaWn69rLctqOqTOCepVTtA+gqtpWr+JPE/xSkubK6ih8FacJLSVCMtdTdNyn0Bql4e1D/hCP2fV1SNjDMmnNdZkPPmyHP55qH4dePrU+D9Ms/DWi6hrqwxjzLoIIYzJ/E25uTnv61rKD95peRPY9aD4pNo9BXES+N9V0u/0xNX0aCws9RuFtYporrzCjv0yDW/r/iay8L2f2i+lYFhlIIV3yP/ALKDv9TXK4PQ0uaNxcx2ls888ixwxjdJI7bQtRWN9bapbRXNpOlxbSDdHKnRq8p17x3a/EmKz8PRWd7YS3WorbXdtdoEdYwN5yR2xXR3fifQ/hpcad4at7SSNHgmnjjtxuWBE9fTPam6Uo2Ut2SnzHcUFQewrzfw3468SXfinT7bV9Ps7XTNVt3ms1hkJlXH96qXxd8a+ItI8U+E9F8LmKS/upHnuI3G4GHp8w9M0/Yy5rdx856hmh+K841u/wBZ+H0Nlrepa2L+ya8jt7+OSPbEkch2bk9MH0pdS+I+qxG31SKxgXw895HaL5iuLiUM23zAOw9ql05PWIrnoeAe1N3D2rkPH3jz/hFrjT9Nt4Gn1TVXaKzGQEVvVie1cH4GuvF+i/Fl9F1bXxr9nLaPcT+WMx2zfwoD0zQqUpRbWhVz2ujrTM0ZrnKDNJgegpM1V1WGe80y7gtJvs1xLCyRT/3GPQ/WmBcGCPmOf9rjH6UYrxzwbda9oXiHXvB+kzvqD2xik/tTUXLrAGXlcH0rt/DHia8fTtbOsvE1xpM7xNNEu1JQF3Zx2reVFxJvc6nFFeU+BfEvijUPHrQ6vdQmyuLM3SWUSc24LfKGPc13F14xs7fxna+GwrPfTWzXRI6KPepdNxdmVc3sUVTvdUt7Oa3tHniS7uQy28ZY5chdzflXFeFLrXNC8dSaFrWq/wBri700airbNnlur7So9F9qhQvcDvsUuaKZmoAefutyFRepampKrsyxsjlPvKGLEfka5PULm58UavNplpcvBp9n/wAfk8RKuz/3VI5rhfENva/DLXVl8NK4mMSwSxySmRXmduOD1NbRpuWnUm57LJKIYy8h2ooyXZuAvqaxNE8b6F4ourm30rUYbyeD78Skjp1IJ6isjx/fTz6XpmjwsUl1i4S3d0OCsaje5z9Ki8MaDplt4jnk0+zis4tNh+xhkTZ5rHktx1wKfKuXUo7U/eQZ2k/dyRuP4UleJeJrrUZdYj8Z299c/ZLTVo7ZbSIsUeEHYzFRwcmvWPFXia18J6Q19cL5nzBEiU/M7HsKiULWS1bJua2aQAA5AwaydW8SWuiaG2qXeY7ZUDle/Pb61D4m8ZWPhbwzLrV2GNnEgchR83NKzKNzFFcLo3xZsdZfT5Bp13b6dqDBLe/m4V27DHbNW/GHxJsfCEgR4Jr0R4afyf8AlipbbknufanySvaxN0dfTelYviXxfp/hLTo73UZWhgkkSNcLuJZugrVWUOq4NRYRFfXiafZz3Ev+riRnJNeX+HdFTVPEllqk0f8Ap7l7qaYH7qH7qf8A1q674mX6WPhaTzHKJLIkbEHHB6iovBGmGK2a+lUq9xghf7oHQD6V0Q92DfcXU6tAPQVLtA7Cudl8e6FbeIIdEkv0XU5iQkABILDtmqPiP4oaT4YuprS5hvppoVy/2a2ZgB65rLll2C5ieNNe1CX4gaHZWEjJY286Je7WIV2bop9foa9DXnrzXg2k/EHSdRTS72S4f7Xcambm4zE33R0x647V6Fr/AMV9P0PTmnitL25mAARWtmVdx7E1vUptWSQk1qd1gGjFeW6T8cre31P+zfFGmT+HbtxuheQb1kHtXa6D460fxK8kVhckyIMlZk2EL6jPWueVOceg00zdoqsNUsuc3kBI4yGFFQI9DTxPpEvTVrF/pcRj+tOPiHSt6/8AE2s1+twn+FR/8ItpH/QJsf8AwGT/AAqN/B2iv97SbBvrbIf6VsUXU1XTy237da5/67Cnf2tYf8/tr/3+FZ3/AAhHh/Of7E0/Pr9kj/wp/wDwhfh7/oB6d/4CR/4UAXf7ZsP+f60/7/Cn/wBqWX/P5b/9/FrNPgXw7/0BNOX/AHrWP/Cn/wDCG+H/APoC6b/4CR/4VQFp9XsB/wAv1t/39FINYsQu5r22A/66Cqn/AAhehH/mD6f/AOAsf+FIfBehsMHR9PI9Dap/hQBd/tnTf+gha/8Af9aT+17D/n+tv+/oqp/whuhf9AXTv/ASP/Cmf8IZof8A0B7D/wABU/wqQLi61pzpkajaf9/1pz6xYBtv9oWuf+uoqk3hDRlHGlWY+lun+FN/4QvQSc/2Np2fX7LH/hQBbfWtO/6CNp/3/Wg6zp6p82pWo/7bLVX/AIRLRj/zCrH/AMBk/wAKa3g7RG66RYH62qf4UAW/7d07/oIWn/f9ab/wkGlf9BSx/wDAlf8ACoP+ES0T/oE2H/gMn+FL/wAIppH/AEC7L/wHT/CgB/8Awkuj9tWsl+tyh/rTf+En0b/oL2H/AIEp/jTU8K6RH93TLNfpboP6U7/hHNJ/6B1p/wB+F/woAb/wlOjf9Bew/wDAlP8AGgeKNHU7jq1gR/18p/jTv+EZ0n/oFWv/AH5X/ChPDelAYbTrQj3gX/CgCMeK9DP3dZ04/wDb3H/jQPFehszKus6cT/19x/41YXQNNXpp9qPpAv8AhWXq58NeHU829Wxtm/utEof/AL5xQk5AWf8AhLtC3/8AIc07/wACo/8AGl/4S/Qv+gxp/wD4Fx/41zf9u6Rcw+fZ+Fr66g/56Jp6oP8Ax8A1raBN4f8AEsLva2MEckePMt5YFDpn14qvZtCucH+0F8RdN0/4X6lHpup2t3d3zLaIsNzGSCzYPQ1iPrdx4UfQEvfHa3Ph6eNbaeK1niWa1b3dSDt9q9c1zwPoXiGGKG/06CdI5Umj2gJ+8Hc4p3iHwnpuvaJfae9pAn2iBo9/lLkN2PSuiFVQgok21KGj6p4M8PQmOx1XS7fzDudnvFLyH1Zick/WuQ8aeOPD2ieL9O1q5ubbVtMjs3gjSzljlaCVmzux9O9bvwwS11bwjbrd2duNQsWeyuB5S7t69SeOvvXXHQ9OZgx0+1LDoTCuR+lZt8ktSt0ecab8TrbXd39grpmhwN97UNVmiQt/uxh9x/Guf8a+KvAGhaDq1jd+I4db8R39uUWeOQTzMw6Bdq4Qewr2aTRrEjBsrc/9sl/wqsnh3TI2ymm2in1WBB/Sq9rroTY8v1DxvotlqXgC41vVrG3jtrSSaUtOp2SBNozg96g8JfEbRfGfxY1LW5tRgs9MsbIW+nvdyrGZCzfMwBHWvXDoWnFdpsbYr0wYVx/KqN74H8PaqYzd6Jp9wYxhPOtI22/TI4pe0iVY8m+J/ja18eaVdf2bqVk/hvS7iCa8USrvvwr7mVAT0X071u6n+0DomqyQaX4Nu7fWdXuPuyzuYra0GMb5CR6dhXoy6BpiIqLp1oqr91RAuB9OKG0HTHUK2nWjKOgMC8fpT9pGyVtgseK/B3VE0zxX4pn1K6hvL6W8eG41e5u441EKfdCBj09hXsy+J9GP3dY08/8Ab0n+NOOg6a2M6baHHTMC8fpTF8L6Oo40uwD+gtk/wqKtT2ruxjhrumDGNRs+On79eKU6zpx+VdQtSf8ArutQ/wDCI6F/0BdO/wDASP8AwqFvCGgqcjRNOB9rSP8AwrICt4i07RvFVqlpqN1FLZI29oY7nYH9jzzT9L0jw3ogUWNtp1oE/iQKP5U9vBmgsu06JpxX0NpHj+VRjwN4bAIHh/SgD2+xR/8AxNVzsDTfUrTA/wBKgwBgfvV4FKL+2P3Z4j/wMf41l/8ACB+Gz/zANL/8Ao//AImo1+H3hZenh3Sx9LKL/wCJqQKXxE8Spo3g7UZba5iN1IghhbzVyGbgHA75qnd6HZWnw2ufDtldwectiYl/frkuV5z65p/ir4V6Drekvb2+m6dpt0JFkWdLOPCup3DOByDTtB+E/h7SraRrnTNP1G8uX86a5mtIwu49FRcfKvsKuLXKBkWPxEnm0m20rSNCvY9TjgWF2u0EVvA3rknkV0PgXRrTwnocNiLyO5uWkaae5MgzNM/3mPPsOanbwB4YcAN4e0pgOADZR/8AxNMf4e+Fw24eHtLz6/Yos/8AoNNzTVloBzXwt1bTbTw5repXl3bWz/2vqDSSySpkJ57Ffc5AH5CpfA92fFGtah4uvNkMFwptNOjdgG8gfxEZ4J7+tJc/AnwHda0dSfw5avdkljGpYQknqfK+7zk9q3R8PfDCqFHh3SwoG3AsosY9Pu1bmlqlqJJnO/HPRJvF/wAMtWs9OeKW+XbPBtkAJZemOa4Cw+KA+IXwu0vwvbyMfFV4yWF3EwKFFAwzZJxg969hHw+8Mhxjw9pgx0/0SP8AwqE/DbwokhkXw1pSyHq4sosn8dtOFVQXK1cbWpgfGHwmmufDGTQ4NSttJsYTF9pmnB2LCnUDByas/CrxJpuseHohoumTWGhQp5dpcT7UW4A6lVzkfjU/iP4T+G/EHh+/0s6VaWrXETRrPDAish9iBxXMaX8HXTTLWxvDpFpaQw+U8unWAE85HVjK4IQ+4pqfNTab1HbU3talXxp440rSrSQPZaLcLqN9MjAqZR/qogQeSO5rBk0rxPqnxP1jxBolxYyJpm3TE03UGbYy+WjeYGUdeTzXVaf8MfC2nQLbJoVkFOSd8ZZnY9WZu59zWBrfwC8Ma1qpvkF7pZlHzQ2EwiSRsYyR0zgYpQqWE4mbH4en8N+KNF13VJ4rjVL3U3N/JAPli3ptXjPQVbv9U0XSfiJ4kbxLdRWcM1rBBb/aAQhjH3gpyevetiL4M+DYbQ2v9hQTBwN0kru0rMOhLnkmorT4N+EreIIdLN3Huwpvp5Jin03E4odXm3DlKfh0TeMfHz6/FGy6Jptr9isD5ZUTlvvOMnIqr4P8L6hffFXxJ4uvnk8qL/iWWMRGAYl++2M966L/AIVj4ayirpYjVAQoWeQBQeuOeKgXwV4Wu7qeyTzHuYAHlij1Gbcm7pn5qjnveyCxzvxIsbz4heL9P8I22xNIszFfarcsnysAcpCPXnk1t/ElVFv4f3c2EWrQvcBQNqRg5Bx9aup8MtCjcusN4rkYLDULkEj0+9Tbj4b6JdwPDPHfzQvjdHJqV0ytjpkF6XtNvIDI8ZaFp/iP4leH7LU7dLi2WzneLzMj94NuCp7HnrXRaP4c0fwhFK1lbw2ELEGSQkBnx0y3euf1/wCEGm6utuLa/wBW02+twRbXMd7M7xg9cBm4zgdKyrf4JPMhTX/FmteILY9baa6kSI/rRzcyWoHpkd0ksKOrB0I3KR3p++uZt/h/ZRIqQ3urxoowFGpXAAHt81O/4QmP/oK6z/4HSf41ylnSIwNZHi7xDF4S8N6lrMw3JaxGUgdSfQVnP4FVvu67rQ+l83+NVdX+Gtlq+nyadqGqavdWsow0Ul4Rke/NOO6AofBvT7qHw3ca9qkezVNala+lDdVU/dXPoOwrDu9ZtLX4XeIr6a8hiudQlmmRGlG6TBwBjkgEcV2UXgZo4Fij1zWfIVdixtcDAX0A29PasbTPgnomjXzXVleajb3DfxCSN9v0yK6faRbvIm2w/wCDmnTX2it4kvDF9t1NVdkiYMLdF6Iecj6Vi+A3TxV8bfFutQzxzW9hAlhAqt19WGeoNW7r9n/QLu7luPt2rxO/3ktp1jVvqAnNEfwE0aC5Sez1vXNKnRdrNZXaQ7z77UGar2kbt33Cwya8TxH8foIfNR4vD+mswXJ2meQ4baSeTjirGmLc6p8c9YvA6tp+n6SlnG6cgSMdzDPeqUv7PWhShd2qawtwj7/tSyxR3DfWQJu/WtrRvhlJ4dtDb6d4m1WCPdvYH7O7u3qWMfJrPmiloxHc5ofiuXXwvq//AENWp/8AgPb/APxunp4c1kfe8UagfrbW/wD8brAsxtF13T/B+ta1Z61ex6XNNdNcQS3RKJKh6DJBwa5bxJIPFPjfRbrTwToMWoI01yAf30u3Knn+Edq7y68KancoEm8R3UqDor2VqwH5x1HceDtSnt/Ik8RTyQA7vKaztiuR0OPLxW0aii7kWZD8Qiul3vhvWJExZWV40dwRkmNJE2l8DqK6WO5tTYtcW9xC0bqT50cgK/n0/SsVvDOtiLy28T3EkbLtZGsrcgj0I29KxrP4WNpt4Liz1QQTdymmwKF/JaV1YC98LjBeeBbaFyrmEstwkgAKNvzkg9s81wXjTxEfE3inR75Y2HhbTr8Ry3BB8t37vx1UV0+t/B2TWLhrtvEd9au/+uNmqxLN/vhcbvxrWsPBWo6ZposbbWQloo2mJ9OjIYdwRjpWsZwi+cLM5/4o30fii90Dw5plxb3Udzcie7MT7tsa9c+1ZHx91W+mttE8Habbl/7VYCRsfdQV0Nr8J7zSdag1bS9Xt9Ouo0MUnlabGqMp6/KBV3UfAWr6lrNlq1xrwa5tFMcD/wBnjAB74pKcE0Kxz/xahbwp8N9C0rTYtt59sgS2RB91l6njvRdeGli0zw/oEx8y/wBQlFxey9S4i+Z8nvluOa6HU/Bet6rNaSza/byS2svmxb9OUhT68t1pl54K8Q3mpWN+niC3hvrIOiyHTcoyk56b/WhVdLD5R/xOtYbjT9CtJ0RoJNRiBD8KoXuTXO6J47bxb8SzZWtybPRtLjZi7SFFuz6AnrXSa14L1nxLp4tNR1e1liU7gBp/Q+v3+tZsvwvkubWK3nuNJmhh+6f7JGV+n73ilCULWkJpmZ8UNZl8TK1jpduL3T9PmW4vZhkhsdl9RXXeIfFFv4f8EHUopo1iKBY3HIUmo9N8K6zpNv5Flqmm20HTyv7NO38vNxXG6t8DdW1uyuLE+LHg0uRwxsUtd0Kt2CjfwKcZR0i9kTqYWiaxosd5D4nvY3/s61m8m0uHjJkuJG6vnrgV6h4/u47LwbqN3Cge4mjEKYA/ebm45FcVpnwLuNMsEs31Syv7Nf8AVw3dk0ix/wC6GlIH4Utx8F9ceGO1tPGk9laxsJEtfIMiKR0ADuQMVpOUG009g1NTSrW1l8ZabpEEK+TpFmHdwox5h7VofErUbGzbSrPU54rTS5pvMmmmOIyR90ZxxVbw74G8ReHPPddetLm5lxvnnsi0j46ZAfmtS+0XxLfwGG6vtHuYScmObTiykj2MtZe095O4+U5G0tU+Jvjm3vRbo+haUuy2mK4MjfQ9qwviddvrXjvSbCwTyIre5WGaeE7ZCvocc49q9Kg0zxLZRrHDeaSka9ESxcAfhvrHm+HuqTeIBqwk0ldS3b2cWcoy3qV87GfeqjVV7sVjft/BmlQQIotgTjkkDJNFRm28Wj/l+0c/9usn/wAXRXKxnvGacgzTaf0rUodVPUNSj02xnupztiiG4n2q1mszXtNXWNGurIn5ZU2DNOIHMHw5rHi9Vv8AU9XvtLhb54bLT5BEyL6Of4j9a6fQbK8sLMW11c/bGVtqyucsR6kmqHhzxFIztpWoL5OoRHHP3ZR6g1sarqlro+nzX14/lW0SMzyAZGPpW030Az/Fvia38I6HNqc6NLHHhBGvVmLdq1LZzPbRy7SokXlW6ivIvE3xL0PxtqWgafZzTS2In+2TyGEjfGvTA963PE/xn0yxkg07TpDFqM7bVkvY2SKFf7x7kVXsXZLqyObc9JxXB/ETWdVj1bQ9J0Rtt3PMbicg4xEnUH29qPhxfavqN3qN1eXs17ppCpbyzxeXvk/iIXstcnJ4zutT+MOs6bpFp9q1GC3Szinb5orZT80kh+p4I71dOk4ya3sDkeyISepzUdcz4c1+8XV5dG1Zla9SMSpPGNquP4sD2rpq5pKxUTM8Q+JbDwzaxz3jM5c7UhiGXf6CmeH/ABNaeJYHktdytGQskDjDpn1rD1ewh07xdP4o1q5ji06wtlS2V2+7J/eA9feo/h1BLqFxq3iR0SJNVdWggVuURem4eprXkXJewdTtsU3NOptc4zjvF3xV0PwZrdlpN+z/AGq5CtlR0rsFYOoYdGXiuR8XeCvD+rXLa7qOkpqt7ZxnZgtvOO23pmqlh448QanbxzWfhR1t/wCH7TcBCPqK3cYyiuXfqSdzijFcJqWr+PGs3kt9N0u2lborylsV1+mtdCxgF86SXYVVkMY2rn2rNx5VrqUcx8XPGV94I8E3N/pds17qksiW1vEFyFd227j7Csvwl4asvA39mt4hvRq3ijVJihnmXcfM27jszyqj0Fd7e2sN7F5cyBxxw4z0OR+teX6hrEurfGTyrSwfUW0KzKKqHCC4l+983qo4ranqrCkeo3lxDY28k9zIkEadZCcY+g71x/gWCXVtf1zxIYngs78rDAjrtMip/GR6n1rO8R6jYaFLZXnjO9N1NKx+zaZaIWT3xH1bHvXY6Z4p0zVdNN7BdKtsg2OsvyNGfQj0o1jHa9yeprjjOO9MPPXmuXl+JeiRu2DdNAh2tdCBvJHvk9qztW+KdtYIZbHS9R1W1jGXuraPMYX155NZckuxVxPAkf2Dxl40slARTeRXK57+ZHkn8TXcZrJ0OXTNXgTWrFUb7cis0qqNzBRhcnvgdPSoPE/jPT/CwhWfzLq8l/1drbrmWT329FFOV5ytbUI7G8vPXmm4rH8IeKI/FeipqKQS2iGR4zHMo3BlbaRWD49+Ken+CXjh+y3Wp3JKl47QcID93J9/SkoScuVLULnbYpajtpDcW0cpUoJFXKnqK8717x7qup+Pbbwv4dSPFsyyapeMuViT+6D60Rg5N+Qz0fA9BTNhrm/HXia70G0sbbTIBcaxqM32W1jf7u/G7JNYnw4vvE//AAketWGu6hb6tb20UbCe2j2LHM33098elCpy5XMDttVlltdKu5rWL7RPHGzIucZPpXhPg3VPGPijxd4cvP7QvlfzJJNYtZUaO1gj7IB0Le9ena14l1Gz+J/hzRITF/ZV/aXMsrFfn3J6Vs+KfEVn4V0o6hfllt1dE4GT8zbRWkG4La9xM1M0zrTZruCztluLiVII/V2qvp+pWurWwntZ47iFiVDRE9qws7DLVGKyfE/iKHwxpjXUkbXEzuI4bZPvSOeij+prhF8YeO9K8QaU+uaRp9toep3sdhGkEpaVWk5DfgOtXCnJiuenUuaSisxigkdDimOSDRmmZzQAZpWfYnPNJXn/AI91rVNa12LwfoE5srx4RPfakCSLSLsAR/GacVzMbO4huYJpHRZo2kT+EOGI+uKmZlVHdmCIBuYntXmnhnwfB4G8S+F7O2Z5LmayuPtszNn7Vs2hXb3yepq58XPFM2naF/ZOklbjXdVIt7eKNslFPVz6Yrb2d5JRejFzaFLwB4uvvGvj/X7qJ2HhyzjWC3Bzh39cevvXoziud+HvhNPBfhiCwQA3BHmTPjq/+NdBvzU1+TntDZDTdhP/ANdHRt38Xr3oornNBvSmevv1pz8U2gkDzRnFNQ5rnNX8U30WovY6VpLajcRqGcmUKqE9s96pLmKJfGfiQ+GtL82JPtF7M4gt4RyXc9/oO9cZ8OfDB0rx14ju2uZLy7kggiu7h2LK0/VwpPZRWXanxN4/8Vf2ld3Nt4e03SGkt0KN5m+Q/edc/wA6k0rxDqurz32leABZJFp8g+13moksZpG/iHr9a9FUuSDX3mDZ67ijA9BXO+AfE8vinw+l1dwC3voZpLW6jU5CzI20ge1GieMY9d8R67pMNs4GkvHDJcE/K7Ffmx9K89wabXYo3QABgDA9KBx04rl/iD48tvAVlYyyQtPNezrbxxKec1N408ZQ+D9NSZ42ubqeTyba3QcyyfXsKORvbqO6OiIB7UYrgbH4i3mn6tb6f4m06PSDcx+bBcmUlHH9w+jVcPxU0e3uA16X07T5FLRX90NsTkdh3p+yl11C6NXxp4utPA/h+fVr4NJHERGsMf3pZG6AVY1nXLXQtJbUbk7IVUMqd2J/hHvXivxD+I2l+MPHfgzT9PlfVtItpjfXKWsZYuy/dyD1FWvF/iSbxv4kTTdSE+h6TpMizSQRfvLi4lP3VAHp3rqhhtFdepHOd18MfEmteLItWvtUt0t7UXGy0jUYYqOvNds3AwOB7Vy3gnxNYamtxpVvYz6ZNZhXa1nAB2P/ABcV1PWuSslztJFrYbuA7CpahxT81iUPplOZ1jRnkKhEG5nJwAK82b4l6lfeILUWOmKNAa+jsDdysQ0rN1dR6CqhFz2A9HxivP8AxX48vrbxXpmkaPDHcBrgR3khGQM9dv0rr/EurpoOg3t+7BFhiY/N61wPwx0r+1Z/7blJkUf6skY3yN1b3xW1OKSc5bGbfQ9MwDS5PrVT+2bD+0Bp32qL7cybxBu+ao9T1q10Sye5vX2RjoqjLt9BWVn2NC9igjIIPIPWua/4WFpM9pBcWjvqHnLlIrVd0mPcdAaksvHel3uinUt7QoJHhaCQfvBIrYIwKfJLsTdHQ96AADnHNcfdeMNRtNU0pJdO8q0v5/JUbszKNv3ivpXWzTw2n+vmjh43fvXAqeR6FC55z3pMDOe/rTIJ4rqFJYpUljP3ZImypoimjlz5bK2DtbDbsVIEmTz79felj4/LFcz4+8UXfg/QDe2Vg2q3HmhFhTqM9z7VzNx468a6do13qN54d0+3t4Y/M3/a8nPpitYwbsTc0Lz4hTyfFG08M2MAuIViaS8nxnYfQGu2LE5ySc9a+fPhXpPijxPr+qa7Ffppe9mjd/KDlvoTXe33hzxUuq20cHiK92KytNKY02EfSumrSjFqKJUna56KgBp3mYOc8+uaihBVOST9afiuEYH5uvP1oHAwOnpRRTAbSUtFIBmaMDGMcU7FNoARQMUUtFAHoranap1urf8A7+CnLqloF3NdQAf9dRWSfBGiHrp0B+oFIfBuiMMHTYCPQgf4V0Ac9onjefxn4z1ixtZ1s9F0kKjzq4DTSf7J9K7YX9jbRN5l7b5HTMwrgb74J6Nd38l1by3FijHJhs3KKT64GKtad8GfDFi2ZLWW9b+7czF1/I1u+Rpai1G6h4g07xV4j0+HSrmGSKwk8y5vUYKoQdUHr9K6++k03VLKa1ubi2lgkGHQuCrD0I71lw/D/wAO20ZSLSbWJCc7UQAZ9cAVHqnhjQdJ0q5u3sLdUiiZyABis5O9rDMLwaNMufGOsXsclvDZaciadZqHAXavUgdvwq1Yy6Vd/EfV5LmW0mdbWJIS7Ajb3AJ7mqnw6+Hmkw+FLSS6s4pbi5JunVh03cgflWnrPwo8Na7FiSwER/vwNsf8xW0pe9uIX4m/EC28C+B9R1S2mtbi7gQRw2/mg5LNt6DtXmvwX1/TvBPhuPWtduk/tDxDcSzT3TOC0ajoCOvNVfi38M9A0Kx0Pw9pNrI+p65fJEHuZjK8cKHJIJ5HPNevwfDzw9b2UFoNLtpEhRYw0ig5A6npW6lClR13f5GfxS9DndF8TWfjTx1Dq1jIkOk2Fu8X2meRUNw59B2FdF4h+IWjeHrzTrWSdZ576byokhbI+pPYVMfBOiIoVdNtlUdAFGB+lYvib4U6N4ht1VbdbaZek0ahWH4jmuTmjJrsaak+v+FNC8U6oLrVdSW9tolwlg06rAp9SO9Z+h3NhoPxAm0+xu4hpsliJZIlkykThug7Cs+2+GOtxxeU2rWTR/8APU2A8z8+tdB4b+F2geHbN1Wz+0zuMS3MwDO4/Hk0+dRjZu4jqf7Vsv8An9g/77FQz6lbNbyCO9t9wXghxms//hCNE/6B8H5CgeC9DXONNgGfRRXOUeZ/BPVtRsdX1/TNY1BLpIZXkE7ygBnLfwk9q9Zk1GxYkm7gP1cVRHgrRRnGm24z1+Uc/pR/whejH/lxt/8Avkf4VrUkpu6QkrF5tTsx0uoB/wADFH9rWeMfa4cf79Uv+EP0c/8ALhb/APfIpP8AhC9F/wCgdb/98ishkPijxnp3hvQr3U5rqKUW0Zbylb5pD/Co9zWf4BsLXw74fEl9eWx1bUHa+1Blccu3O3PsOB6Vg+JvB2k+JPHei6JHZx/ZLEHUr0ogwccRo3rk+tdgfBWhnrp0H5D/AArV+7Cy6i6iajd6HNPFfXN1ZSNah3RzKpKZ64OOM1434L1ay+IfxL1m8knitfD0aZS1M4VLhvVh0Y+5r2JvAuhTxtE2l2+1hgrtGCPyqpafDDwzpUCwW+i28Maf9M8k1dKqoJ33Cxz/AMRdd0hY9H0a4v7a20q9mxdPHIPur0XgcA+ldC/i3wxp2kFF1bTltI02iFZ1OR6YxVo+CtClUq+mWjqeSGjBB/SmDwD4dUYGi2QHoIl/wrPm0SGYXwkEOh/D7S7W6vIEmwzrGZlykbNkL+AqPwTf2eo6z4p1i6vIPtbajLZ2+9wGSGNVC7R2DEnpXSjwXoakEabbAjphR/hXM658G/D2s3v21YpbC4B3M9jKUVz6kDGegqlO8ncDU8PNZeD/AAssEmpQSvAHnkkMgDO7Hd+Jrgfhko8dWkGr6nJHb2j3TXTrPIoe7lDfICD0Udh2rqLX4K+GYHWS7tZb5hwWupi6n8DVaL4DeEY7sz/ZZQFPEX2ltgX0x0xW0akY311ZFmbes/EGG6uzpOh3VvNqGMSXEjgRW4+p6muS8Bato3w1v9Z0nXNVtmv7ic3Iv3cObhW6LkdxXRax8IfCuu6cLKXT1t7dX37rSQxu31IxVXSPgR4K0O5WePRxcTqQQ12zS4x061MZxjFoLO5mePvEI8VaVbTaTcw6TJZS+faarqDhF3gYIVTyePWuk+Gmu6Tc+C9PurSeONbpDNMJ3xI8h6lj1J9zTIPg/wCFIZJ7iXSI7yaV2kaS4IcAnsAa0o/Afh6KNI00u2SNPuqqABfoMcVLqR9nyIpJ3uc34suLeL4peB70TxupW9thhx8u6POT+NUvjd4s0+y0fTLG5njlinvY5ZkibJ8qM7iK6Ob4X+HZNYt9TawVp4EIRS2Y0JGCwXoD71Pc/Dnw3eSI9xodtO6Z2tJHuK564J6URqRTjzdCn1MTRw/ji3TWdZSOCxCb7bSmkGG/3x0P41f+GVxAngyymMkUbTvJMYjIP3eW6YrS/wCEG0LGP7MixjH3T09K43Wvhppfhf7Rqlpdx6dZlfnguUEsR9kU9D9KbfPouoiT4i+LbLwv4s0jWdTMs2lWVnNIHgIIWdm4yPWuL8D/ABJufiT4rfXr2GQ6dZSZ0rSocEmQ9JHJ7+9YzeF9V+KPi2DQb+0t9I0S2T7ddR2kZSSRT91GJ7n3r2vT/hl4X0m1WG00W1t40XHyocmuqXJh4crV5MyXvG1pmqSXdv5lzAlk39xp1Y1c86P/AJ6p/wB9f/Xrnz4A8Pltx02It6/Nmm/8IDoH/QNi/wDHq841N3z0/wCei/8AfX/16X7Qnqn5/wD1657/AIQLQv8AoGxfm1L/AMIBof8A0Dl/8erIs6BrmJV3M6Af73/168d8L+J73RbHVfFk1taX9prVw9yJVuBHLDGvCJtPJ57V6BJ4B0Jhg6ahHoQ1ZVt8HvCUEnmDRIpf7sUhYon0B4FbQko3M2mY+mxeIfGetN4gfb4dtprYW0MMuHn8vO5jjPBOBmnfD3QNPvvFmr+IomMwhb+zbeWWQszbBmR8k9zxXOfFzxN4Q8Au3h6PSyPEeoQf6CBEwjDONvL+1XtI+EV5e6PZWN+0Ol20aDdBp27zHYnJJfOSc12NvkvsuhPU9S1TxFpehxI9/f21sOuZXXP5Cs3QPGWkeKZ7pNNnM32Vh5jMhUNn0yaxrf4Q+FY4UWbS0vXXrJclnb8zV+L4eaBACItMSMHGQgIzjpXDeFn3NNTovNH+z+f/ANenbvp+f/165seAtFV8m2bHp5hpf+EF0f8A59W/7+GszU6Hdn0/z+NRZPt/n8a5yb4e6RKVYC4Qe07D+tM/4V7pP9y5/wDAlv8AGgg6PeR/Cf8AP415l8WvGuv+EntYNJsbQw6nIttHeFxlZD0OK6l/h5pQ/huf/Alv8a8w8YeDrLxDJrN3HLcvY6OiRWjvMTvuS3JHuPWt6HxJy2Jnsdz4Y+GlnomkwQ6lPPqkoBeQTO3l7j1wucc1xvwk8R6R4a066iiM13rF5PK62sUWGSNW2qpPSvQrfwLYy28DvNe7yinm6fr+dRw/DbSYZGlSS7iLHLFLlwTznnn1q/av3oy6kWH+A9DufC+g3ktzhry9up9SmRSMBpDuKj6Vj/DHVNMtvB8Oo3mpWkd7qckl7ch5lDK7NjaVHoOnpWu/w/siMLfaqOvS8f8AxrBj+Bfhq3uPOhS8Wfrk3Tf41HMpX5upVjN1tLf4i/FDQY4w8ml6Sj3ryFMLLL2Az6V6TeaZaahcWstzCsrWzb4gQDtb1HofesBfh/aoFC6hqahfugXbjH05p0fgoCQY1nV8j/p8P+NTOd7W6BynmXj/AFVviR8RNL8OQxCTTtM1BWnwMlyOufavTfGPw30Tx3p1nZapbsbe1kDwiM42+o/GsvT/AIQ6TpOqXmqWl3qFvf3ZzNcLcNuY/nk1J4n0seGfDWp6nJreqO0ERYK10Tuk6KBz3NVKrzcqpi5bXOX0KbR/C+s+NfF8dpHFpeixJptqsShQ7Rj94Vx3LMB+FWfgn4Tnn0qXxNr1uBrGqTtdqXXJiRugwehFP8N/CRL34fQ6Tq1/ekXoW5u0jmCjzGO5uPXgflXU/wDCF3cESpD4j1SLaMAbgcD0q512k0vQSiUPDC/a/iR4vvtpAhS3tM+uFziu2zXHWfgC40++u7qDX9QjlvGDzqdpBYDAP1x3q6fDWpL08R3rf8Bi/wAK5py5mUdHS5rmf+Ec1f8A6GS6/wC/cX+FB8P6yvTxDcn/ALYR/wCFZlmf8WfEFromjabDfXAtrO/vo7e4kAO7y8MxCgfSo9PRfFmt6Xc2ts9r4f0ld9v5q7TLIehx2qt40+Hms+JNPhX/AISBmurSdbm286CPb5ijHPHQgkVS0rw78Sb3MOr+ILS2t2TbtsLcFl+h7V1RaUfMnqS/FDXIPElxY+ELaQu2oTqtxMg+WNByyA9yRXfWFjb6BpCQQx+XaWyYwOMAdTXnr/CS7it7MWviS4iurSY3EErRISX9WOOT71buPB3jHVrWa21HxeI45RtZrayWJselDcbKK2DU4LwZfW2r+N7vxnLvEFkknmzOMjJ+6i+uK6/Vdani8Oal4x1WBsRQkWlmwzsHRTjsxPequm/BbU9OsLfT28SyCxgk82OBLVRvPq/r+NdJqXg3UtY0x7C71oz2r43LJbRjdjpnjtWk5wv7pmkyt8HPC58K+CrVriFVvp1a4mfuM8gZ9MVifBXR21S31PxBfR83169zaxuMhATksPQk966oaBr4t/Jj18GEjbhraPp6dKh0jwprmh6bBZ22tRiCFdir9lUVm6t7l8oukEeJvGd9fup+yab/AKFb56Fx95h9K4jx9oOoeMPFK6nBaXOo6TChtRaRPsV3H8RHQ1v6d4Z8Z+G7q6t7fUbe4sJ5nk5hCyxu/wB7g9RUNl4X8f6En2fTta0+5sGdmAuLTDilGoou6HYfolzJ8IvhUkd/MZLxFJSI/Md7f0Fbfhu4i8J+DYr27ma4uZ087ggszHoMCs2XwDrmpXRuNS1u3v5GXaIntlaNT7A8Cqmj/C3UdHukmi1pJVi/1cUyblT6A9Pwqrwtd7iNf4a6hf8AibTrnWL5ji8kYRQk5VEVtuMdqxPjt4n/ALM0K00qEn7TeyZMKnLMPQ+oq3YeDfFXhWO4/s3X7VLB2aYw3VpgRZOTj05rlND8Ga/451tPFGo38CzQuyWqvCCoX+9tqocvPz9EJ3tY9I+Hnh//AIRzwvaWpA8wjfI3fd7105APXmuVjsfFca7P7Ssv/AU0v2XxT/0EbH/vw1ckpOcm2M6fcv8AeozXL/YvFP8Az/WP/gK/+NL5Xin/AJ+9O/78Sf41IHT5o31zPk+K/wDn807/AMB5P8aTyfFX/PbTf+/cn+NAHT0zNc0F8WL1l0//AL8yf40z/irN/wDrNM/79Sf40AdRmiuYdvFo76Z/37k/xpiXHi9esWkn6l6AOqork/tni3/njpX5vRQB75mmU+mVsApOevP1pMD0opH4oATNcd8Qbr7alloSTLG17IvnnP3YV+/+ddniuWk8D2934wk127umuW8pYYbMf6tMdSw6Grg0ndiZ0dvtFvGEBUBAAD2A6Cp8knOeaTHGO1NckUDPGYb5fGP7SBi+/beG7ApuHOJD1I969mPIwelcH8Nfh0/g/UvEGr3s8V3qmr3UkrvFztj3ZVcn2rvK1rST5YrZIiMdxKU89eaKZmucsO+e9OwMg45HQ+lNozQA/NFFMzQAUuT6mkooAbuPqaJGWJXZmCAAlmboAO9JWZ4ot57/AMO6jbW523M1tJHGf7pK4/nVgYPw1jk1C21TxJMNsus3JmgB6rbqdsQ/9m+vNdjisjwlDJaeHNPs5bX7C1tCkPlZyBtrkPjbr+vaR4atYtAZra4vryO2kv0TcbWI/efaP51UvfnpoLoejqdxyrAmkwM5xz615dow1T4carpcN9rd1r2l6jIts8l3lpIpj90gnoprrbrxW8/i630LTYRcGNTNfXGcrBGOif7xqpUmtndAmdBuI7mkzSzMsO3cUj5xuf5QzegyacFyu5dpH1/+vWQyGlJJ680g6Kchl9Vo3VIDRNHFMsXmxpMwJCE/M4HcCnY4x2rz2G3OqfHGe6MzNa6RpKptDHaJpX3cj1A4+lcbF4u8f+OPiHd2uiTxaP4bCukN68IlDbWwTz3rojQctn0uTzHug4Oe9NmlSGPfK6xR/wB9yVH6muS+HHia913RbhNSKtqFhcvaTSEbRJt6HA6Zrhfib4Vv/HHjfRdMnuZBayOZpbSKQrGtqnGW/vMT3NEaN5uEnaw76HsVrf2t8M29xDdBeSYZAxX8KkxXkHiXwPpPwrXT9c8OR3Fjcf2hb28sQuGeOVJG2nKscEivXt4rOcFFJxd0wjIZuJOcnOMUmKKKzGR3E8VlC81w6RQxDc8jdK4fQYbjx7qo1vUF8rRoWzYWjcbx/wA9n9ag8cai3iXxFZeDbSQ+TKpudRkU/chHRfqa1PiHqg8LeAbtLUASNCLK1iTjDvwAPTmuqMXG3dgZnwnIv11/xGykvq1/IYyeohjbamPau9Bwcjg1keFdETw54b07TkA/cQCMkDHOck/ia1c1nVfNJiiOzTXOKM0nWsTQPMPqabuHtTsD0FRVADsD0oxxjtTc025uY7O0uLmZxHDDGZHZuyjvQB554q8Pad468cfZb+0juLDRLBneXA+WaU/IB6bV59q6XwTNJd+DNFecmR3to2ZnOST6muLtpLoeDFSNQviDxdO05jP3reOQdW9lj6ehr0mwsYtN0+3s4v8AV26KigdOK7KjtTUTOJNnjHakx8lLTM1xm4pJPU03fS4HrTMUALk4xnikxRQCqqzE8e9BBg+NNdk0fSStqA+pXJEFrEOpc9T+Fc/qXh+PTPD+keHYSJJrm5WWdj1IB3MT65qBNYttT8QXviS7kxpWmM1pp6Y+aWQ/fcDufQ1veHNPubqd9Y1IbbuQbYbY9IE/xrqXuJE/EdF0x7cD2pHY4xk4pM0nWuUobk+tB5680v8AFQ/FQBHS5I70lFAAOCCOCOh9K4L4lTNrOs+GPDsfzLc3n2q6Xt5UXYjuDXdb68z0rT9b1f4yaxrE0Ulto9jALKASDO8nqR7Gtaa1bvsTI9ORxjHb0o34/wD11H0p2KyKAcdOKBx04opH4oAdmkAA6cU3NGaAHDgEDgHr702jNFMA6Z9+tA4JPc9aKKQB6+/WmdKM0UAFHUg9wc5puaM0AKABjAxjp7UuACDjkdDRRQA0EgYycelBYsckkn1NJRQByfjaWbUZLPQbaYQG7/eTuTgiIdQK6Sws1sLOOFONiY49Kiv9Csr68t7q4gD3UPyrIHKnHoSO1Xaty0RNg7570j8UtHWoKGYo3D0H5U/FRuhFBAuB6CjFCc01zigBxUHqBTaM0UFiYB7Um0+pp1FBAzafeinBhiigD07zk9V/76FKmD3H6/41zv8Awgmlf3Ln/wACpf8AGj/hBtNHa4/8CZf8a2A6LA9R+v8AjSZU+n/fYrnv+EF0v/p6/wDAmX/Gl/4QjT9nW5/8Cpf8aAN/I9R+v+NINoGNy49N4rnv+EE0v0uv/AqX/Gmf8IHpn967/wDAqX/GgDo9x9v1/wAaHkRupUf8CFc3/wAIFp3965/8CZf8aQ+A9NPU3J+t1L/jQB0xkB6kHv1P+NNZ1PUhfz/xrmv+Ffab/euv/AqX/Gg/D/Sz1N2frdS/40AdJ5y+q/8AfQo3r/eX/voVzaeAdNXq92frdS/40P4A0ybo12n0upf8aAOiMir0ZW/4GKBIo+8yj/gYrnf+ED0yJ8j7SR6faZf8aJPAumy9RcD/ALeZf8aAOh89f7y/99ilSZD3X/voVzf/AAgGm/8ATz/4FS/403/hBNOHa5/8CZf8aAOm8xf7y/8AfYpN49V/X/GuaTwHpp73X/gVL/jQngDS16i7P1u5f8aAOkDqvVl/X/GmSSqc5wc9evP61zq+AdKbqtwfrcS/40f8IFpZ7XH/AIEy/wCNAG6J0QYLpjr98U5njkUs+1T/ABO3T+dc+fAWlnrBP/4Ey/41BcfDjR54ZIntp9h65uJOf1oA89+KfjafWrqO28MpFcw6K32u9vWb92rJ91Af4jXofw60OLw74Zt5J5RLqGoItzd3TuC0sjc8nrgDp6Vk3fwg0F/Dt3pNlZmxt5hnbBI+C3rjPX3qh4d8LPbRR2Gq6bdSSKvli8gvGKv+GeK7HUi6XLHoRZ3N34l6Bo3iPRlk1h5xb2rrKDasQ7H0ABrkLTw1bXUatZeG9UEP9+81WSI/l5ldtN4A0iQgtFMxHQmeQ/1pqfD/AEv+5c/+BUv+NYKpZWKsa2kNMtoqTRC3ZP8Almsocn8TUmoajDYWdxdSyKsUKGRzkcAViR+A9MVt5+1fjdS/41T8RfDKw1/RruxWS6tzcRtG0izyMPyJqBmT4LS7g8Ga14imjxqWtmW/KFhvEZXEKZ68DnFW/A2r6X4e+GWl3HnQfurPc6713mQnJBHuetXdO+HtjaadbW04nmaONYzsuZQMYxgc+nFUx8GPCIXaNIUKO3nPj+dbOpzXuTykXwfsr228MS6jqWIr/VbmS8mjJGV3dBVXXNatfDvxTi1PVX+z2Umm/Zo7nG4KwfJHHtXRS+BdPwAq3KgDAAupRx+dRz/DnRbpAk0VzKgOQsl1KwB/E0e05pNvqPl0Odvb9Pih4j0wWOW8N6VKt5PdH5FubgHKRgHnAPevR/NHqPzFc1H8PdLtk2xi7C88C7lA9+9Tf8ILpvref+Bkv/xVZznzWj0Qzd80f3h+YqDUNTh06xnupGzHFGZSARnArE/4QfT/AFvP/Ayb/wCKqtd/DjTb2No5pb7y3Uqyi8fBB6gjPSswPPf2ctRm8Z3/AIr8WXirm8vBFBvbOxB29hXXa848ZeP9O0u3ImsdHZby6IIKtN/AufauWs/gDP4dkubTw94kutJ0e5febdJGDJ9MHiuw0H4V6T4btnitZb4vK26ab7Q26Q+rHOSfrXZOom+f7hWZ2iyIfusT+VJ5g9T+lcrf6Dp+jWr3NxfXUEUa/e+1OSfbGeTXBWmvXh8b6ZZXuk6nZ6Pqkrw2t5JeOCzKm4nbngVzKLkM9oc4/j/lTN/+0f0rB/4Qm0P/AC9aj/4FP/jUb+CrZhtF9qQPqLp/8agDot3+0f0pNw/vL+dc6/geAf8AMR1L/wACn/xpn/CFRf8AQR1L/wAC3/xqAOjc47n9K5D4rNqE/gq8ttNtJ7u4nkigkhiI3GItl8H0xVr/AIQmA/8AMT1P/wACjTT4IgKgf2lqe4cZ+081pF2aYFLwP4av7bzNX1+SOXWp18sRqcpaxHpEo7D1xXXB8dGUf8CrnX8FxIfl1PVCef8Al6Pfr3qOTwNE33tV1Uf7l2R/WicnJ3Y0dNkev60O4HcVzP8Awhpj/wCYxqjfW6Wj/hEpCd39uapj/rslZlHSZHoPzoyPQfnXNf8ACIH/AKDWp/8AgQtJ/wAIhJ/0G9V/7/L/APEUAdDuH941z3j6/wBRs/CV8+jwSXOoSL5UCRdQW6t9R61leKRB4P0G61W+17UkggTJ/eIS/so9areEtNufFPh7TtYbWNVtWvIxKsbtGSoPrVxTSUraEE/g/wAHyW1nYzavslntkHk2gGUtv9ojoW9+tdoea5xvCt5GPl8Q6jx/1y/wo/4RrUP+hjv/APvmL/CiU3N3ZZ0dN31zyeHdUT/mY7tvrDHUf/CN6t/0Md1/35j/AMKgDpaOtcwmg6yvXxHOf+3Za53xvrlz4DsYLm/8SzkyuqRxJaqWakk27Ils9GpjkjvXNHSdeCLt8QZ/7dhTf7J8RH/mPR/+AQ/+KqSjoqeOOnFc1/Z3iH/oMQf+Ag/+KpTYeIh01m3P/boP/iqAOko31zJs/FKvxqNof+3c0fZfEv8A0EbL/vw1AHUbqb1rmlg8Sn/l/sv/AAHNK8XiUf8AL3Yf9+2oA6SjcPauZ8nxR/z96f8A9+2pfK8Tf8/Fh/3w1AHR7xSZrm/L8Uf39P8A++WpFbxOn32sPyagDpc0Zrnf+Kn9NO/8fqPzfFH93Tf+/hoA6bcPSjcPSub83xL/AM8tO/7+GmJc+JD/AMsdP/7+tQB0lFc4914lH/LHTP8Av81Rm88UL0tNPP8A21agDqM0b65X+0fFP/PhYf8Af5qPt/ib/oH2P/f5qAOpo3VzKah4kb72nWY/7eGpP7R8Q7v+QZZ/+BDUAdPG+Mj160VzX9peIB/zDLb/AMCKY+r+Ix/zCIf/AAIFAHT/AMNJmubGq+IWTnSIV/7eBTf7U17/AKBkX/gQKAOopuc1zaaxry9dLiP1uBTv7V1v/oEJ/wCBIoA384o61zv9r67v/wCQNH/4EClfV9bH/MIj/wDAkUAb+aM1zn9s63/0B4//AAIFL/bOuf8AQET/AMCRQB0WaHOErnf7X13/AKAo/wC/60j67rn/AEAf/JhaCDoACB3orm/7e1v/AKAJ/wDAgUUAe7YooorYBc0ZpKKACjFFFABimOMU+m9aAExS0UUAFFFFADMCjrTsU1+KADFGKbmjNACUYHpRRQAYA7UYHoKKbmgBMUrlVVmJyPeiud8e64fDnhLUbqP5rgx7IB6yNwg/OmlzNICz4b8Uaf4ttLifT5DNFBcPblsYDOvUj2rU8oc8Dk56Vy3hHQbT4b+Bkt2OPJja5nkY8eYV+cmovhLrV94h8HRapqEjPNezSTQq+fljLfKOewrWcErtbIaZ1rpRgelUtY1/T9AjWTULyO0jkbYjSZJZvQCsab4meGYxltUjK5AyiMMk9hWajJ7IDpO2O1Mk5OTyacjDardqb1qRB6e3T2pMD5l3Deo3Hnn8qcSoVmY4FcD4FvLjxJ4w8S66bhjpquLGzQklG2fekA6c+tWo8yb7Adxsp2ys/wASahd6doF9d2Fv9rvYo90UP94+mK82uLvxl4c0S013W9URrx7iIHS4Vwm1m5HviqjBz6iues4HpSbR6Cm5O1eaXfUDExS0zNNyfU1IAODkcH1ppVdvXai9S3elrnPiNq8+neHVitjsur65iskYHG0v1I9CKaXM0huRn6bA3jjWpdQmG/RrFzFaxHgTSjq+OhHoa3rnw9a3mr2N/NHunsQ4tvRSwxuHoccZqzpVhFp2n29nAgRLdNijGBx0q2g8vLEAALuYk4AFW5XdkIXFMbg5HBrhfhX4k1PxbP4pvrl9+mLqjwac/QPAnG4fU0q/EKXUPimnhbT4FntreBpr656iNj0QHsaPZu9vmK53OB6VG/Fef6x418Vp4r1Kw0zQYpdL09VZ7qdyDKfRaux/ENfEMFtF4dt0vbyVd0gmYqtuT1Vj3Io9m7XsFzsqWuAv/GPiXQ9Vgs5NBOro8e97iybaqr9G71ZHxW0zUrWBdGjfVdSmJVLOPh0x/f7ChU5PVBc7PNHSuIvrnxZaWE2qTXFrDHApmazSAsdo7ZNUvEPxWubK1e70XQ5dasIUD3N1G4CRZ64J+9imqcnsFz0HNHbHaqdhqkF9pNtqCtst5YRPuk4wCu7ms7SPGGm65bXd3bXAWxtZTC1xIcRuw7qepFZcr7FXRt5PqaTFVrTVbS+slu4J1ng5+ZB6V5HrX7S2lafpl7eWej6ncRQ5iS5mhKQu/RcfU1UacpuyWoNqI34kX8vjDxLNpFqVntbQpZRQjnzLuTl3PqI4/wAjXrOm6bFpOn29nANsFuiRL67RXh/wl03xYLVNak0e282dXeOW7kIZWflnx6kcE969KuI/Gd4mDqGnWLesNuZf510VkklBPRGa7nW5PrSVS0e2ubSwiS8uXvJh1mZdufwq3vriNh2AKT5GOAQPckZH1ArmPFut3cSR6VpGG1e8TMbHpCn/AD0b/CuO+GujXekfELW4zqt3qUVtbRxXT3LEp9pPLbOeMCtIwdm2ybnqudoYkgKvUtXiupo/xG8d2ZkjD6dFNugXGQIYjl3x/tHgGu7+JWtS2OiR2NrJsv8AU5ltoWBwYl6vIT2wO9ZPgOTTdOt7vWpHistPJSws3mO0CFD8rH/ePPua0p6JzJlroehDjpSYrgPiL8Vo/BMbpaWE2r3Ea75vJxsiX0z3NdjpGpjVtLs71EaP7REJAj9QSvQ1g4NJMqJcpAAOgxVW81W10540urmKF5CqqGbrVW/8T6bpTEXF2iuPvIuXI/KlbyKNQADoMU3NUNO8QWGr2stza3SSxRSeXIxG3Y23dgg1n2/jnRLvVYtNgvfMupW2RqFO129Axpcr7BdG/kjvRjNNnmS3TfIdierkCuDtvjBplz4xt9A+x3Mf2osILyQEJIfQCmot7EtpHoGKbimtJtQ7mCY+8x6ClUg42/PlflYHg1BQuK828ba5eah8QtC8MaVKYPJYX1/IjHIjH8DY659Ko+PfHXjbwtdapeW2naeuiWCrIJ7l+ZB/d+tcr8LG8Y6nqmq+M202xaTVtuw3UrBlj9B6CuynStF1JGLlrY9/Qkp1ozXHJqfjKRONO0uH6ySH+tUYdU8czaj5RtdPgt0+/KwY5+grDkfc0ud9RspiMxReKkzWRQZzSDjpxTc06gAxRRRQAzFNqXFGB6CgApmAe1LmlfigCMjI55oxRtPrTsUANoxRTXOKAHUm0HsKRDmhDmgBMD0FGKftFMoICh1HoKKOtABgegoooqQPUC6v0wPxormB4Dtg+4alq+/0/tGXb/6FTn8GrI+P7Y1dfpeyf411AdLRXMf8IYf+g1q3/gZJ/jR/whh/6DWrf+Bkn+NSB09G5fWuaTwc3/Qa1f8A8DD/AI0ybwazFWbW9VUf7F2R/WgDpt9OxXKp4MdXydZ1Yj0+2H/Gpf8AhEZP+gxqf/gW/wDjQB0dFc9/wiTbNn9ral/vfanz/OoZvCqWkHmT69qcMX3fMlvWAz+dUB0mafXK2vhMXIaaDX9TnT1W+yv6GpP+ESf/AKDeq/8AgUf8aTXKB0eadjNc3/wigiDSS61qkaoGZi14cD9a888CazqvjPxpqdubzULXRIoS1sxuXLSDd8pPPGauFNzTfRCb5bHsvy0yub/4Q4/9BjVP/AuT/Gj/AIRCb/oM6l/4Ev8A41mM6SiuY/4RGT/oNan/AOBUn+NH/CHyf9BnU/8AwLf/ABoA6XNFct/whsi/6zWtV/4DeSf407/hDjJ11rVV+l5J/jQB0u8Vx/xRsp7zQbaSKEyC0vLe6eMH7yRvkirf/CGf9RbVv/A2T/GuV8TaDd6jrFt4f0fWtSilYCa/uzdySLaw9l5P3jWtL4kKRynxN+LQ8awL4T8J2V1fXWpP5Ety6bECdXx7Yr1vwvBLYabb2ElmlvHawrGgjckEDqK868EfDi1vdb1K9s7u9j0yxc2lkVmYNJJjMsm7PQnjNdwfBu4gnV9VJHrdyf410VZQSUIbExT3E8Y32iwS2KalZyajcI/mwRQQGR8+voDWPdRT63NBLF4VxFGQ0a30youR0JVQ1ab+B/MOW1bU2PTJunP9akTwYc5/tXVM+v2yT/GsFIs1dNm1CUYvYLeEekMhNaFcu/glpHz/AG5qyj0F5J/jQPB+xOda1b/wMk/xrMCn8TPE8+j6Zb6dYFf7Z1iY2tnHu5BP3n/4D+lX9Lh0z4d+HNM06WcRwALD5xGA8jdSfTNYOqfB/T9V1jTtUk1LVZNQsHLWtx9vZtmeuMnjPtVvW/hra+ILE2t9qOpywEglXunbJHTqau6skKzuzsixlUsnXblXXBBry3VNCfSfG/h6S91a41u9luDm1nKlLdB0fb0B96vxfCu5s3C2nivX7WEdIftecf8AfS1Np/wntdM1F76LWNX+3Mu1p5bjc2PTJ5xVQkoX1Gd9UWa59PCs5/5jWp/9/wCj/hFpv+gvqP8A4E//AF6yA6DNOxXN/wDCI3CPuOvapj085Kj/AOEWvt6t/b+pY9PNSpA6TzPn6VyXxNtbi40O2u4YzN/Z95FeGIfedV6/jVp/DF633df1OP8A3ih/9kobw3duh3a3ftkd3jNOMuVpgQ/8LT8MTW8cttqP2t2Xd5EETvKp9COlVNSTWvG1nJA5l0HTZFxsX/j5k+pH3PwoXwGUuDIutXqyHq48sE/jipo/B+oIzhvEmpyBugUoP/ZK05oxeiA5Twh4tbwl8PtP0W30DU5tUsrXa8Rt/LhWXuSx65rQ+C/hJNH8NDWrlxcatrRN7dT9SC3RfpW23g64cENr+qMD1BKc/wDjlVNL+H0uiWaWtj4i1WONAAoDRsFA6AZ6VbqXTXcVtiD4k+Oj4Yt/senhG1q5iLgn5hEB/GR79hUfwm8Lv4a8B28bgJqNyr3FxKy8+Y3QGqdx8G7a71yXVbjW9Wur+UANM0sXQdBs2Y47VtP4S1QhSvijUwoxnHk5P/jlS5pU1GIWd7nC+Jrrxv4I0MibxPb6he3NwLaxhFmvmTFugPfA9ak/Zw8IHw9oWuTTMLq4uNSlC3J6yxDjr3Gaj8c/C/xPrHivRtT0vxG7JbRvHuvWUvCT/EiqmCfeup0H4dXugaTFp9t4k1AW8KkqPLh79e3etnVtSst2Sk7m146gnu/BmuwW4L3D2MyRAdSxXgV5X4Z07wdo/hey0uTxZf3FiIgW0l5yxyeoKDmvSZPC2quMf8JNqX/fuD/43VD/AIV5Mk7TxavcQTHrJ5UJY/jisYVFFNFNHGfFXxRfyeArqa3V9C8PQpHbxGTKzTEjAUY5Ax2q94B8NLf+DrS8vIJLfQ7O3Z7SxbhnwvzSOvcntmtvxJ8LpfE9rb2uo+Ib+eCGZLhFdIArEf3h5fNX18N63GvlDxTci3xt2i1tunp92tPbrk5UibGb4L17SPCnw00y7vLuO3WaMysgO5yx/hCCuVie9+Kfj620q508WPhPTEW9ktJBtaaQnEe7HtyQa2tI+C1vpl+LyLVnZ4juRmt4G8sf7OV4/CqHwz0PxBqdpqevp4ikjbVbx5FDWkT70U7V6jgUKcUpSjuGuh64Y0Tbtwu0bRjsPSowQOhxXO/2R4iP/Mwn/wAA4v8ACm/2Tr//AEHE/wDARf8ACuIs6TcfU1zHiHxt/wAI5q9tYtoup6h5q7hLZQblB9DmpP7M8Rf9BuH/AMAl/wDiqbDp3iUHJ1m1J682B/8Ai6IlnI+GL7XvFdzqWr21tHp8V1O8cc91zKkQ4xt+td94c8PW/h+0eOIFnmk82WZj80r/AN4nrXmVpY/Erwnc3FppNvpusWDyvNHMwCHnsRVvWdO+I2p+G9QabVbGwnSBmW30yFmeZgvChjyAa3nZ6dDOJQu7y5+InxG1a0tVP9naegsmvB9yMY3TFT3J+79OK7nx1oWlXPgHUbC/ti+nw2uVVB93auRj0wa4j4Xaf4i0vQre0szb21iirI1xeWDh3kP3iQXXJ967W8sPE91bTQSXelSRuCrI1nIQwPUEb+aKk7NRjsgicn4C+FCR6HaT6pqV5fm5jEssTSfIwPrk4Nddqnii205EsNMVL2/wEitoSdi46ZYVxll8MvEVl+5OurLaKoVYGa4MYA6AL5mMV0Gl6J4g0aNltotFjLcnZFIufyqZzTd7lRPO/G8NxrPiGy8MpM99rUzrLdXaZ22i+i/3T9K9h0HwpYaFAoRPMdV+e5m+Z2+rHk1zMHhnX9P1u71azs9EF7d/NPI3m5I+ua0btvFl7Y3FtImjxrLGyb0eQFc9CPeqqVFJJIEji/h7o8/jXxT4s1aeZv7Al1ArbWvRZmUbSxHQiumtdKi1jxlbpa26xaTojFlYDHmTnqPoKdoOn+JfDuk2un2llpH2eBSoHmS8k9f4aTRdP8WaSLlVg0iWKSZrhf38gKFuTn5ecCoc7smxR+Men3mvjRdJ0uQLqD3BuWjMhTfGnVSR1HtU3/CP6l4m8RaDe6lpcOlW2js0kccc4k3v9R0FQ+JNI8ZanqGn6hpyaXYX9lvQSNM8isrdsFelMu7L4kavEILm+0qNCMFbQvGT+O1quMnypLQNOxY8beKZNb1y08KaPcbbu4O+8nj6QxjrgjvXeWFomnWVvAOVjGA7N2HUmvKpPBvivTNVsdU0CHRbG8hhaKUzSvJ54PQnC9feovFd58QbPRrm81O60iCwgUmaKxd0lkA6Kp2seaVouyiw5vIt+PNRh+JPiODwdYO0tnDItzqUyH5cL0TPv6V6VZ2EWm28NvAPLiiXaoHAUeg9q8r+GHhzxF4Ysbi6/snT3l1F/tEnmXbKyg9BkIeK7mTU/ETcHR7Y/W8f/wCNUqjStFbIEdDvAp20ZzgZ9cVzv9p65/0CrX/wLP8A8TUKa54jb72h2o/7f/8A7CsDQ6nOKM1y39ueI/M3f8I/bY9P7Q/+wpya5r7fe0KEf9vw/wDiKQHSIc0/Nc0mta7/ANAFf/A0f/EUj634hH/Mvp/4HD/4igDps0FgPvHFcuNa8Qr10JP/AANH/wARSSa9rjdfDqn63y/4UAdTmjNcuNf19X2nw78vr9sT/Cnf8JHrf/Qtt/4GJ/hQB01HWuW/4SHXd/8AyLjf+Bqf4Uv/AAkms7N3/CPtu9Ptif4UAdRTM1zCeJtbb73hyUf9vUf+FA8S6w3Xw5MP+3pP8KAOnpnWub/4SPVf+hfuv/AiP/Cnf8JPqX/Qt3f/AH+WgDoulHSuZm8Vaoifu/DV5L/21jH/ALNTP+Ew1Nuvhe+X/tpH/wDFUEHU0VzA8V6k3Xw3qK/8Ci/+Kpf+ErvP+hf1L/vqL/4qgDpqK5n/AITG7/6F3U//ACB/8cqB/G95/wBCvq/5w/8AxygDraK5WPxtO65/4R7WB9Y4/wD4qigD3rFGAaKK2AN1FMxS5oAdjFN7Y7UZooAKKZmjNAGR4y1weHfCmqaj/HbwMyj+8/RQPxrxbwb8Nte+KGkQS+LNWuk0m3zHFawsVeVz1L8/Nj3r0zx0n/CQa9oPhxWJgkkN/dr/ANMYx8qkd9zcV1Gk6eumQSxqAAXLADoAetdcZqnC3VkSV2cZ4N8PW3gbxXJoenvMbV7P7R5czltp3dMmu9uLiK2XdNMsY/22C1xXhG8GueM/EepKSba1CWELEddv3zTdU8IWMF/qWteIdSe5sl+dLedyIoF9CvRjUy96SvuCMj4jfEJdXgj8L+G3a+1jUz5XnxghI4x1auq8CeD4/COnbGl+0XsqhZZgMAAdFHt7V574Pi1nX9Zv/FdgkWnacVNvp8MkYy8Y/iA7Zr0zwhr7eJNJW5lXy50kMUy/3HFbVfchyQ+YLc2s0u+uU8a+PIfCghtobWTUdUuP9TZwjJPux/hFaXhvX4te0dL8RGHnEkLHJjIbawz3xXFyPluVc2M0mK5HTfiXpeoXG0RzwwPIyRTzLhZG6fgM1r6j4o03S5VjubtI5m6Rrliv1xS5Jdhmr1plZi+KtH3iH+0oVlY4CMwyrehNaCzBsMpDgncpHQik01ugKutaxbeH9IvdRuSBDaQtLJnvjoB7mvMr/V5fBPw4utWunEfiXXm84ljzG0nKj6IPyrc+I1zHrGraF4TY/Lfzm7vVOAq20Qy2fZjxXmHjPXY/ib4j1O+TL+HNFjaMN085j0Ue5r08NR5km9jOc9T074HeIR4g+HlpOlstpHDI0CKCSXAOWY56knvW9468QXHhjwlqurWdsbu5tYmkjiPRj6VT8H2Ft4H8GaVp08sMDwwgyq0gB3t97GKltNf0jxtFfWdtMt5DA/lTZBAJ9K56lnUcorQa2SPJ/hf8Z/F3jfx3aWNxYW6abNExmEMZ/dn/AHjXvGMVw/iPxhp/hS9j0LSLSO41+7H7ixiQKCv95iOgpPCeu+I5PFM2ka99kdxaC6DWiMAuW6GqqJT1irAtDtutB5681zeteNodNuXtbOBtSuI1LzeScpCo7Fu5qB/iHYvp+nS2qNe319CksdlDy6gr/F2FYezl2K5kdWfm68/Wo3Q5z3rE8KeJZPEFncSS2/2We2uXtZY924ZXrg1t5J71k1yuxQg+Xpx9KbuJzyeevvRmmSSxwRmSRlSFRuMjtgAe9IQ/JFGVrj5/Fl/rTunhu2S5hj+/d3JKxfh3NaPhDxH/AMJLp0srweTcwTvbTxk42yL1/CteTS4rnQnnrzTXJCV5946+IU1jqtl4a0NRPrt8Qm4fMlqv8TMfau00m2ex0yC2muXu5UXa0shJYn3JpOm4JOXUZOjCn5pgQFmUMCfcgVxPwx13VfEL+ILu+uI5bMai8NngAbYxxn35qVByTYrnc5qLcN9Lvrg/DXxBufEXxH8U6AtiRp+kCNVvh0aU/eX8KEnK/kM7rFNyfWs3xLr9v4Z0C+1a7bZBaxmVgf4gOgHuareDdel8UeGbHVZbVrBrpfNWGQ5YA9M1Nny83QDawMYxx6VG/BJ7+tOzTOtQWKSTnnr196TAz0orA8ZeLo/BmiS6lNZ3V8FKqsFom9jVIDfwPSo99cjb+ONVvYYWj8M3Yd1+5LKikfXFTrq/iCWRFbRIoFb7xkuRx+VaOPKTc6bGKaST1NGaSsRGF4zj1a58N3Fto4H2y42wCZzxCG6tj1FXNC0iHQtFs9Ntx+7t4lXJ74OT+tXsAdqF5680czsBD9tt/tkdr5g+0uhm8rvtDYqw/FcJ4OkOu+NPEOvMd9pC39m2TDoUj5kYfVqzPib4o1y41GDQPC8629+ShubphuEant7GtfZuTSA9KxTK8itpvGngW80u/wBf1hdStLu7Syltim3aG6MPQ168/FTODha2qY07iEBuoz9aZjjHbriuX8Z+OovC1xY2MUf2vV74kWtoD/rCP5Cs7wh8Q7rWtbl0XW9KfRtUCGSJC3yzJ/Fj3FHs5NXC+p2YRVYMAAwOcgVJihBmhmz1AX8ayKDGKAAOgrl7jxTMvxEtdAjQeS1k11I7EcHd0rpDJwVDBiPvBCCRTacbE3HkA9RntSZyMdsYxRmuR8SeO20Tx74c8Oi1MiapFK7yDqu2klzFHW4APSkkAPUdM0m+sbxn4kj8IeHb7VZo96wKGAzwSWxihLmYG2OKCAeoz9a810f4h67Df6SniDTobS11N/Kt5IDnax+7u+telU5wcCUxv+Oa4PVWPjHxeunKS2maYRLKFPyyydlPrXczAsjKpIPqKwvCHhz/AIRrTHiklFxO8jSPNjG4noT604u2vUGbv+GPwpNoPYUtFSUOwPQUtInNNzSAfTKM0UAGMUm0HsKWigAIB6ijaDRQgzQAhAPUClpuaEOaAHUzA9KXNJQAYocUu4e1MyTQArgDtS4HoKOtG6gBNoPYUpTPXmilzQAhGevNJtHoKWiggTaPQUtNzRmgA2UU/NFAHpu+jNcx/wAInd/9BzUf+/opqeFb9eviHUT+K1sB1eKbXK/8Ixqm/P8AwkV9j0wtP/4RrUf+g/d/mtAHT0Vy/wDwjOpf9B+7/wC+hTP+EY1T/oYLz/voUAdRSO4Fcx/wjeq/9B66/Nad/wAIvqJ/5j11+a0AUdPKyfFLU5Z2VGOnwpA7nGV3sXH1yAau+KPGMVkj2GlsLzWZvkhhi+Yq3qx6AViax8LG16ZZLjXNQWdRgSQyBGA78j6mmaB8LP8AhGoWjsdVu0Mv35pGUu/1PU1reNk76kanTeE9GTwr4eS3kkVpfnlupugZ25Zs9+K828c3k3xCksbNGaPTbu5FvbwE/wCtVf8AWSEenpWp430nU5m0/QbbW7sz6gf35DDEMPc/Q1l+EvBFzrupXeoxavcQ2VmGsbBgwB8sdWHpXRB8v7yRPkehaNruiLpstvZXKPZaaohkZOEXHYHua5Xw9c67D4U1HUNFtYTc3+pPcwRXZ2hoT3x2NUbX4HrZ6cumjW7s6f5vntb+YP3j/wC36n611beFr77KIY9YuoQBtAQqMD04rOU462K1OL8AJ4m8WQ3+uSyQWD6i5DXKrukSNRtKqp6c84FenaDotvoGjx2MALpGDuZjlnYnJJPck9TXE6X8Mr/Tbdbe18R6jDagkiNSoAJOScD1PNbtt4Y1K2iSM63dSsOrttJP40qk+ZaAkcj8cdft/DnhiLS7aBX1C93JbIOkeOpHoaWwtpPCfw2tNQYNLrt4iI13P8ziR/UnkAVb1v4Qx+Jdas9T1DV7y4ltM+Wny7TnrkVf1/wJc69Zm1udbu1tyQT5e0cjpWiqQ5FELO7PPvi94Ys9B8I21ppCi51iS4jae7ibJQdyW617bpqfZtNtUX+GNcivP4/hCtrpU1omsXYEn35H2s7fU96gHhL4gK2yPxVD5C8KTDyaJSU4pdgu10PKPjTc63rHxI1ttPmntVtLeHTonibAcMMlB9Tziuo8CfCea4ij0pdWnfSLRxPfyQjAuLr+4vqB69qgsPhrqnxA8Yamt9rry6ZpdwGa4t02efdjqcjqF7eleo2Xg690y0itbbWZ4YIs7Vwv4121MQqdNU4bmaXM2yTVPD2i+HdHuNQvIjc/Z0LmS4bfnHQAHuad8L9BbRPDSy3CCO81CRruZcYKs3IH4CuT8eeFvEOr6toGmRXdzc2EtwZrx2X5Qq9AfY12n9h6nv3f2xPj0wtec5vl33Nup5vdzSaP8bNf8T3cBlsLS1S1ZlxlEK9QD1pfBGqa78Sdf17XLRX0zSbrbBDdSqVfyE7qOxNa/iL4Of8ACQX0t3da3ev5oCyRoygOB0BHeul0/wAMahp9tDBb6tLFGgwiBUAUew7Vt7aPKrLUmxzfxJu18E+DxoOg2jXWs66TaQx/x/N9+Rj1OPWtXw54bsfhR4FnuJ2824tLTzLi7flmKr9wHrj2pz+Bby41aDU5dbmku4AUid0UmPPXae2fama/4G1PxFo9xp13r9wbaYEMfKQnB61l7XRQDlNL4aaPJpHg+xScZvLnN5dFu8knJ/ECuld8VyWl+HdbsLZIRrtzMkfAMiIxP51Y/sfWj/zGpf8Avyn+FYTd22WdKjA1l+JdDj8TaRJp08jRQTFTKyHBKjqPpWc+ka2U+XWSPpAKb/Y2trjOuSHHT9zH/hQBsQw2Xh/SwU8qysLVM7jhQoHU15P8PvEOoeK7XW5NGia0i1PVJ7t7+dOI4jwu0epNb/inwFq/i2zOn3/iGaKxfmeKFFBkH90kdR7Vp2HhjUNHs4bW21L7LawJtSNbdQAfYCtoSiou+rJsZHw48PWreJNf1eJTLHayf2dBK5yZNgzM2e5J4zXohfd15+teP+E7jVPCtjNpF9cXVq8d3O6SrbhxNufcGPv712tpZ6xdJvTVJkT0e2XNKq3KW44nKfEPwpPZJqWsJr+prPcsIrayjmwgc+ijgVseFfhba+HdGtLX7XeiVAN4S4YLuPU9eprP8TeGvEd94j0JvtzT2NvOZZcQgbX7Z9QK6WXR/EXmBotcUA9c2y80/aPltcix0yKV25OfrXC/C6OGDSvEOoylYJrvWLySVpCFwRJhQfoOla6adrwT97qv5QCuC1z4STzG/ubjxJc22nSO91c2qpiPOcsSOmSevrUwtqm9zQqX/ixPjV45/wCEWs1dvDem7bm/nxgXOOifQ+lezQRJbxqiAKiLtVVGAB6AeleNfCXwjrNvoVxrVpdw2DawfNWH7Mo2RKcIOncc13yaX4mXrq6H62y06zS92OiQonUZpK5v7D4k/wCgtb/+A4poj115nhXWLNpF+8qQ5ZPqK57Gh01U7lXaNhHjzcZ+bpn1rCe38T/9BK1/78immDxMOl9aN9bY1IFHTNB8TQSPLc6xbySydTHbkgfnXQWVteRbftF35uf7kYFZvleJcY+02eP+uTU0xeJW/wBXc2f/AAKI1Tk5EHRu+Kb5lc9t8Sn/AJbWH/ftqjc+IR/y1sv++GqQOkzWX4o1kaD4b1PUf+fW2klA9x9386oSSeJF+6bE/wDAWrL8R6V4i8R6DfaXOLJILpNhZQ2RVR3A1vh/oZ8O+D9Jsn4lSESynuXY5Yn3zzXJ6Zrdl4U8a+JzrO63lup1ubacxlvMjC4CgjpzW/Z/8JXBaxRSTafPjgtsYE1FJH4juJQ0tppbMBgFgxNXz6vzHbYzNcY/EPUNHhs4ZF0mzuBdzzSDaWYdFH0rv/MzXLifxFGQEt9PwOQPn4pHvfE//Ppp/wCb1Dd7COSvfDx8SfHT7fNNgaHFEY42fAZXX5iBWj4hnTUvjD4YggUMdOtLme4mjOQofhU/PtVbXfCuv69e/b0htbS92hWntZZFLjsDzyKl8M+Htb8MNNKtnY3F1Jw8zzsXb6nqa39povJAd/qKyz6fcxW0ot53jYRzEZ2k9DXGWPgfWWhAvfEl7JKF+by3Cg/StBdT8REknT7Ik9T5zU3+1vEu8D+zrLaOh85uK5otx2HY4Xwz4Gi1/wAW+Ib+bUrw/ZpBZRTJM25gPvDOentXoPhnwdb+GXkeK4ubp5OrXEpYj8TXJeCoPFPhmPUbaXR7dxPey3CuJzn5/eukk1nxCE3DSLdm9PONXOo5egJHWJzXn97BHqXxqtXYZGl6UzLnsZJMAj3xWvHruvnro8A/7eq5W4ufEWmeOrnXH0Lz7W7tIrfbDOpZCpyc0oNagz1FBmud+IXhYeNPCGoaOkhilnjDRtnowOR+tYviPx7r2gWEV+vht7my3bZRG/zgeoFU4/jPazW4kNmI2PVJnIJ/SpSa1QXM74hajqWNEgbR5307S7iK5u70H+53Ar1aC5jubaGaJxJDMgdGXvmvKNT+JGqeJ7S/0nTfDcxnniZBPN9ytrw7qfiHQtA0+wfQDI1vEqFvtAzWk9Uk9wR32aCpJyTk1zX/AAkWr7V/4kLf+BAofxTqSp8uiOf+2wrAo6WiuYTxNqh/5gM//f5aP+Eo1Hd/yA5/+/q0AdPnFNzXM/8ACU6jv/5AM/8A3+Wl/wCEnvv+gHcf9/VoA6XNGa5r/hJdQ/6Ak/8A3+Wj/hJtQ/6Ad1/38SgDpd9Ga5V/Feot08P3Q+jpT/8AhKr1U50S7/77SgDp80ZxXL/8JZqH/QAu/wDvtKVPF94f+Zfvf+/i0AdNR0rmf+Etvf8AoA3n6Uf8JZef9AK8/SgDpqK5mHxbdP8Ae0S9H5U4eLrhl50S8H5UAdG/FR5rmn8a3H/QBvvyFO/4TCbf/wAgO9/IUAdNmkxXM/8ACXy/9AjUP++Vp3/CYSf9Ae+/IUEHS5ozXPf8Ja//AECNQ/74Wk/4S1v+gXff98igDpKK5z/hLZP+gXe/98ij/hL5f+gNqH/fC0AdHim1zb+MnH/MLvP++RTP+Ezk/wCgLqP/AHwKAOpormP+Exl/6A2o/wDfIooA9yzRTc06tgCm5p1MoAXfRmkxRQAuaM0lNzQAKcnJ5NNmlWCF3dgEUbifQU7pXHfFHVjpPg66EcnlXF2BbRMDjazdDVwV5JdxbI5ePVJtTN5rUTt9u1uT7DpwH8Fuv3nx2zXpWjWEWjaZb2EA2xxKFzj7xPXNcb8O9MS8ni1QrizsoRYaeuOoX78o+vrXdnnrzW1Z2fKiYD05znnPWmd896cjim1yljacJCOhIptMfimBK79fegcdOKgyT3pUkz3oARiR04rA8deIG8NeFry9iG+7A8m2j/vStwg/Ot92FeafEjV57nx34S0WCymvUE322dVX92CvC7j04PI9K1pxUpK4pHXeDfDw8N+GbSwLb5VBlnkP3pJW++Se9bg4ORwfWj09gQKbvqJPmk2McQCpUgFSMEdiKKa5IozUgRSHPXmnE56016am40ASdBjtnOKZvyCOx60+meX7UAGMHPejfTc0mKAFph56027vIbC0muJnEcMI3Ozdq57wV4v/AOExhv5UsnsxbT+RtkbJI27s1Si5K/RAdCGIAGTgdBSFQeoBrifG/wAWNO8HX6WItZr+4XY05h5WGNmwCx/ve1dunNDi4q/cBvlr/dH5UbQOwrmfEvi6TSfEnh/QrOIT3mpyt5hIz5UKfef8e1X/ABD4r03wrZR3mpTmC3eVIVfbnLN0GKOWWnmK5qkZxnnHT2pssiQRNJLIqQoNzSO2AKfXlHj3Urnxf8Q9O8DWkjR2SRC81KRGIIj7IcevpVU4c7GdXF4iuvEUjLo8Qi05Dh9QmX75/uxr3+tZfxJeW50nTvC8Eh+1a7ci3llB5W3HMj/gK7ezsobKCKGFVijjGBgYAFcD4UmTxX451jxTO2LDT1fTNOY/dwBmaQemTxmtYJXb6Ikf8QfGlz4Kgj0/w/ZQyyWtqZ5/NOEt4UGF4H8RHQV21hcSXGm2k0y7J5oY2dP7rFfmH4V5L4bDeNL4RNuf+1LltWv5uoS2U/6PD+K84r0XxhBq15oM0OhXkWnam/8Aqp5k3hfworRSSXUUSz4n1mLw3od3qE2D5Kkog6u/RVH1NeW/Crwne6V4+ur28vHurhrQy3m5jtWaTkJz6Dp6VieMpPE32+00PVPEB1A2sIvZ/ItFXLj7ifU12fhf4e6mljJeanrmo/bb0iW4FvPsG4dOlaKCp0m29WG7PS9nft6c7j9BmmAAdBXE6T4AGneKItTfUL25jjh2R289wzfN6nJ612m+uGVlsWGKaOKdurzpPjJZzeLtQ8PW2i6pd3lkcyPFF8jL6gmhK4HodMxmsvS/EJ1Kbyn06+sj/euUUD9K1H4qZAMwBSZHp+lD8UIAe1BYuABjHFMm61yR1zUJ/in/AGXDIp0u20oTXCAcrM74Az67eah+LWvX2ieCrttMLDVLl0tLXacNvboQfWnyXaXcg69DSOBWd4Yt7yz8PafBqE/2rUEhVJ5T/Ew6nPrXGa9421bV/Gk3hfQofsjW6hri/lXcqk9hTUG3a4HohALZwM+tRDg5HB9q5HwprWrL4k1TQtSnW/a0iikW8RAi5bqpx3FdhipmuVljelGadim1ADto9BTPLGetO3imZoAc4qPaOeBzyfenZzSUAIVVgQQCD6iqsml2zNuMERb1KCrdIX39qYDIbdI0CIiqn91RgU8KBnAAz7U7pQ/FADNq+1OwPSjFFIBvlAd6XaPQUtFADfLT+6Pypdo9BS0UAJtHoKNi/wB0flSO+KdQAYHpSFVPYflS0VIDXUDsKdgDtR1ooIE2L/dH5UbF/uj8qWm5qgBFB7Cmui47U7pSOKADaD2FN8oeg/Kn06gCDyk/uL+VHlD0H5U6jNADfJT0FSYHoKbT6AI9o9BRsX+6PypX4ooAa8K/3R+VN8lf7oqTOaKAI9o9BRTx0ooA9Opc1zZ03xAI8DWIifXyBTbbTPEyf67VoD9LWthXOmzSVzX2PxHG/wA+q2p+lt/9lR9i8Tf9BK1/8BzVDOlornvsfiT/AJ/rb/vwaZ9k8S/8/wDbf9+DQB0lGK5r7F4o/wCgja/+A5pfs/iNOt/aH/ti1AG+5xXLfEDwWnjfSI7FrlrUJOk29evy+9TyWfiF+mo2/wD4DmkFr4hHS+tx2/1Boi+VpoDY0ywt9Jsba1tUEcEKCKNQMYUVO/FYDRa+i5N5b59fINRGPxI6cXln/wB+WpgdLjFDsBXNJB4kXpfWcv8A2xYUTJ4ibb5dzaf8CiakB0e4e1Rb81i7Ne2KftFpu9PKamvF4gVMq1of+ANQBt0YxXO7fE6dZbA/8AapHPiEf8tLT/v01SBvYzUYUCXcAA2Nue+PSsQt4iHRrFv+AtTs6962X/fLUAbeaRGB7CsDzdf9LP8AJqY7+IET5TZn/gLVQHQZzRmuaS58Sq+0pZFfXDU7z/EO/wCVbOT8GFAHR4zTckd6wHm8Qj+Gz/JqT7Tr3/POz/JqkDoM0m+ube98QL92KzP/AAI0fa9e2Y8qzz67jQBvucU0sQGLNhfWvG7nxL490DxTqb3do+oWErK1uttEXjUfh0rWuLvxz4s09Io4LfQYZe5JMx/wrX2ezuBpeJNYj8R3c1grkaJYfv8AUrkH5ZNvSMf3s+lTeD2bw14KvtZvIzHNP5uoSJ02J2X8BxWPq3hfXI/DMWk6dFZCGOWOWRCxzIV6hj3z70zxHaeOfFeh3Gmv/ZuiwXEfkyeWfMIX2rVSSXLfQCnpGlprBstLXE897Iuqa1eLyG2ncsWe/wBK9Xu7yHTrR7m6kSGKMZdy3AHoB3NeV+E7DxZ4S0uHTLex011jUB7ppDukI6E+tZvifT/Hd1rNte3FvZa/YRDb/Z8TmNA/qw6NRNqcrJ6ELQ1PBGpzeIvi7rGpX8LWo/s1E0uKQc+Tu5P1NaXxN0yPxZ4i8K6G5Pkm5N/MF/ux+tZ2l6d4x1TxVa6/fWNhpTWls9tFbq5YsrdMnvt7elXb3SvFLeK4NbgOnGSC2kthCWPO7qc+9HNHmTvsg1PRHmVAS2NgG5nJwBXzNpHxCOh/Gi78UXq7NC16VtPgnI4CR8Bs/WvStb0jxxr6tDNd2MdkwwYoGKOR9RXA698P/Eup+CLXwnN4dtJlsyWt75JiCpPU1VHlV7vcG2ewfEHxFJpfhzy9PlWXVNSP2WyCnPzt1k+grlfG+o2nw7+GsXhrTTu1W+RNNtYo/vGWVtu9iOhJ5z61y3hfwP8AECzkt7i8urWS4tYvKtvNJlEA9R7/AEra1XwP4hew0+eOC0vNTt7+G+eaWUl5thzs3HnGecVouSD5W7oNTuvAHg+LwR4dt7BJPOuAo8+4bkswGAPoBwK6C/vLfS7Oe7uHWCCFN7M7da8/h8XeNZ5WQeFba2b+/Ldj+lcR8T7bxtrVraWl+9ui6lcLaQWdq5+Y9WLeox61zJOrU95lbI1PhdpN34217UvFuqxEWdxcb7SFhjcq/dJHt29K9k2gDGBiuU0t9W03Trayj0u1WO2QIoW4AFSf23rn/QKg/wDAmoq1OeVwirHSEZodgOwrnn1rWx/zB4//AAIFN/trV2TLaUg/7eBWAzavLxbO0lnZGkEa8qnVvpXJJrWsXV091b+F4YS4w1xd3Cq7D0OOTWg+tayowuiZHp5600axqoTd/ZA3+nnLTjIB8Da7Kdz/AGK1Hois/wDOtiz8/ZiaUSn1AxWKmuaorYk0g49FmWpP7a1A/wDMIl/7+rSk7gb27NR5I71zr+IdQH/MGm/7+rVXUte1ibTbxLbR50uZIZI4GEyjD7eDUllX4aOdXTWfEUyFX1a6cx57QINsYH1pniDdrnxI0DTm5gsI31GXPTONsf68ineGNQvdC8P6bp50SZVt4I4ziVRyF5P58/Ws9rvWI/G7avDocxtp7QWsys/zKFfcCPrW17yuQehldseAQa5vxBp15a6ff3Xh23tk1a4xueT+LHTJ71x9lr3jbRLieGLSf7UsjIxie5nHmYPQE9affeP/ABrs8uHwhsl/vNLkUknfcDe+GK2k/h9dRhV3ubs7rlpWy5kDbSCTycV12a888CTX/hnQxaT6NdyTNI8sjEg/Mxzx+NdEPFUzJzpF6PwFKp8Wg1sdBvpM1zsfiw/x6Xfj/tmtL/wlx/6BWo/9+KyKOgorn/8AhME/6B19/wB+D/jSJ4vjZ/msL8f9sTQB0NFc8/jCAf8ALpff9+DTf+E1g/58b/8A8BzQB0dA46Vzo8bWzdbG/X/t3NI/jS2H/Ltef9+GoA6HNO61zieM7Q/8u95/34alHjG1XrDdn6wNQB0VFc4njizL/wDHvef+A7UN43s06wXn/gO1AHR0VgP4wtf+fe8/78NUDeOrJOsN5/4DtQB01Fc//wAJtZ/88Lv/AMBzSP42sV6RXJ/7YNQBvYBp9c9/wl9p/wA8bn/vy1O/4TC1/wCeF3/34NAG/Rurnx4xtF6wXn/fhqh/4TnT/wDnndf+A7UAdNupua5z/hONO/uXP/gO1KnjnTfS5/8AAdqCDos07Fc2/jXTh3uP/Adqc3jbTk6tcf8Afo0AdFim9a50eOtLb7rzn/tg9H/Cc6Z/z0n/AO/NAHQvxSoSa53/AITzST/y0l/79Gnf8Jrpo/in/wC/RoA33GKbXPv4403+9cf9+jTIfHmlSfdaYf71u9AHRowozXNjx3pSd5//AAHelTx1pZO7fPj/AK4PQB0fWiufPjbTCdytMR/1xehPHOlH+Kb/AMB3oA6Ciucfx7pI/in/AO/D0p8d6WvRrk/9uzUAdFuHpRXODxxpp/5+P/AdqKAPcBx04owKKK2AXJzSYopdw9qAExRgegoooAKY4p9N60AJimeV7CpKKQEJjz1GfrQEx04p9FMBmM01wPSnU13oAdgegpm0egpMn1NG8UAMdj6mkwD2p7imUAAAHQYpXOKSo9xPc0ALgegopuaM0AJtHoKNo9BSuwpu+gBcD0prgClzSdaAGMAOgpmypOtMQ5oAiSME5wM+tJgYI7GpOlJigCLacYzxnOKQRYPAFTYpjsBQBB5IznPNOWMEgkZxwKR+Kk6UAMHy9OPpTsDGMnHpmm0YpANpnr70+kxUgRYzj2ORTioPUA/hTaXNADgABgDArgpo/wDhJPivFGoDWmg2rSMTyPPfoPrXcz3EdtbSTSuI4YkLuzdsVxPwnVr3S9Q1xyDLq929zk8nyw3yCtoaRcgl0O0wPSjFOfikrEBvl57fpQYweo/SnZpuT6mgCPAHaosDOcc1M/FJgegqCyPZ7fpR5ft+lPTmkd8UAQ7QewowP6U/FMoAYwDdRn60mxck7Rk98VJim0wI/KXOe/rTBEF6AD6VJTc0iBvkLuxgYpXjHrRS7gaCyEwg9VB/CpNi/wB0flS7qHYCgCPy/b9KPIT2p2aKAIHgHoKl8hPandaXcPT9KAITAh6gH8KVYVPXBp7sB2FGMUARtCo6KB+FIbVD2H5VYxmjFBBD5SCgwoeuD9akpMUAJ5KmojaqeuD9RUu8UuKCxvkJ7flS+Qg9KTNPoAieIeg/KjyF/uj8ql603eKAGGBD1ApfKX2pdw9KbmgBPLT0FNS2T+6PyqTA9BS4xQQRfZoz/CPyoWBW6qD9RTqXJFADVgRegA+gpPs6f3R+VOpdw9qAG/Z09B+VN+yrUic0b6AIvssZ7L+VOFtGP4R+VOooAQwKeoBoSGPGNq49MUtGMUAQi2jUYAAHsBT/ALOo9Ke4AooAZ5UZ/hX8qRLWP+6v5U9FJpaAI/s8Q/5ZJ/3yKKkHSipA9QoooroJCjFFFABTc0UUAGaZmiigBN9G+iigCPzPejzPeiigAzUWc0UUFhmkooqhBvzRRRUgNckUyiigYU3NFFADXpKKKBDqjckdzRRQBG8mO5pc4oooASiiigBu+mPRRQAzrS5oooAa/FIhJoooAKiyfU0UVAA/FMzRRQBx3xYh1fUvBl1p2iRiS+1Ara784EaN95/r71f+H/ho+EfCtjpbXDXckC7mlfpn0AoorTmfs+UDot+aKKKzAR+KjzRRQAnWm5ooqADpSbgew/KiigCPNJuoooAbmmZoooAKZRRQAUYoooAZuHoPypetFFBYbh7UUUUAK/FQ5oooIDOaloooAM01yR3NFFACIc0rvRRQBHT0OaKKAClSUUUUFCOcUyiigkKKKKAH0UUVIDKKKKAH4pmKKKAE2kd/1pcUUUAFFFFABRRRVAHWiiigBelJRRUgNB4oooqgP//Z)"
      ],
      "metadata": {
        "id": "Cv0DsnUbO_ai"
      }
    },
    {
      "cell_type": "markdown",
      "source": [
        "Practical Questions:"
      ],
      "metadata": {
        "id": "e_y1Msjy8cWP"
      }
    },
    {
      "cell_type": "markdown",
      "source": [
        "1. Write a Python function that takes a list of numbers as input and returns the sum of all even numbers in the list."
      ],
      "metadata": {
        "id": "T7qwKYbP8dZu"
      }
    },
    {
      "cell_type": "code",
      "source": [
        "def sum_even_numbers(number_list):\n",
        "    \"\"\"\n",
        "    Calculates the sum of all even numbers within a given list of integers.\n",
        "\n",
        "    Args:\n",
        "        number_list (list): A list of numbers (integers or floats).\n",
        "\n",
        "    Returns:\n",
        "        int or float: The total sum of the even numbers found in the list.\n",
        "                      Note: While the input is expected to be integers, the sum\n",
        "                      will follow the type of the numbers if floats are included.\n",
        "    \"\"\"\n",
        "    total_sum = 0\n",
        "\n",
        "    # Iterate through each number in the provided list\n",
        "    for number in number_list:\n",
        "        # We must ensure the number is an integer type before using the\n",
        "        # modulo operator (%), or handle potential floats carefully.\n",
        "        # Assuming the intent is for integers:\n",
        "        try:\n",
        "            # Check if the number is evenly divisible by 2\n",
        "            if number % 2 == 0:\n",
        "                total_sum += number\n",
        "        except TypeError:\n",
        "            # Optionally skip non-numeric items or log an error\n",
        "            print(f\"Warning: Skipped non-integer item: {number}\")\n",
        "            continue\n",
        "\n",
        "    return total_sum"
      ],
      "metadata": {
        "id": "rVJ8vP7m9SxY"
      },
      "execution_count": 2,
      "outputs": []
    },
    {
      "cell_type": "code",
      "source": [
        "# Example Usage\n",
        "data = [1, 2, 3, 4, 5, 6, 7, 8, 9, 10]\n",
        "result = sum_even_numbers(data)\n",
        "\n",
        "print(f\"The input list is: {data}\")\n",
        "print(f\"The sum of all even numbers is: {result}\")\n",
        "\n",
        "data_mixed = [15, 22, 30, 41, 58, -12, 0]\n",
        "result_mixed = sum_even_numbers(data_mixed)\n",
        "\n",
        "print(f\"\\nThe mixed list is: {data_mixed}\")\n",
        "print(f\"The sum of all even numbers is: {result_mixed}\")\n",
        "\n",
        "data_empty = []\n",
        "result_empty = sum_even_numbers(data_empty)\n",
        "print(f\"\\nThe empty list is: {data_empty}\")\n",
        "print(f\"The sum of all even numbers is: {result_empty}\")"
      ],
      "metadata": {
        "colab": {
          "base_uri": "https://localhost:8080/"
        },
        "id": "H0jq-ytn9gKv",
        "outputId": "27c76028-5c16-4c26-dc5b-07e114212026"
      },
      "execution_count": 3,
      "outputs": [
        {
          "output_type": "stream",
          "name": "stdout",
          "text": [
            "The input list is: [1, 2, 3, 4, 5, 6, 7, 8, 9, 10]\n",
            "The sum of all even numbers is: 30\n",
            "\n",
            "The mixed list is: [15, 22, 30, 41, 58, -12, 0]\n",
            "The sum of all even numbers is: 98\n",
            "\n",
            "The empty list is: []\n",
            "The sum of all even numbers is: 0\n"
          ]
        }
      ]
    },
    {
      "cell_type": "markdown",
      "source": [
        "2. Create a Python function that accepts a string and returns the reverse of that string."
      ],
      "metadata": {
        "id": "dRQCOn6_-QIF"
      }
    },
    {
      "cell_type": "code",
      "source": [
        "def reverse_string(input_string):\n",
        "    \"\"\"\n",
        "    Reverses the given input string using Python's slicing notation.\n",
        "\n",
        "    Args:\n",
        "        input_string (str): The string to be reversed.\n",
        "\n",
        "    Returns:\n",
        "        str: The reversed string.\n",
        "    \"\"\"\n",
        "    # Python's extended slice syntax [start:stop:step] is the most concise\n",
        "    # and \"Pythonic\" way to reverse a string or list.\n",
        "    # [::-1] means start at the end, end at the start, step -1 (backward).\n",
        "    return input_string[::-1]\n",
        "\n",
        "# --- Example Usage ---\n",
        "\n",
        "original_text = \"hello canvas\"\n",
        "reversed_text = reverse_string(original_text)\n",
        "\n",
        "print(f\"Original String: '{original_text}'\")\n",
        "print(f\"Reversed String: '{reversed_text}'\")\n",
        "\n",
        "test_word = \"Gemini\"\n",
        "reversed_word = reverse_string(test_word)\n",
        "\n",
        "print(f\"\\nOriginal Word: '{test_word}'\")\n",
        "print(f\"Reversed Word: '{reversed_word}'\")\n"
      ],
      "metadata": {
        "colab": {
          "base_uri": "https://localhost:8080/"
        },
        "id": "2AlD6iag_EPx",
        "outputId": "e4360942-3481-42f2-b3b9-446e28beafe2"
      },
      "execution_count": 8,
      "outputs": [
        {
          "output_type": "stream",
          "name": "stdout",
          "text": [
            "Original String: 'hello canvas'\n",
            "Reversed String: 'savnac olleh'\n",
            "\n",
            "Original Word: 'Gemini'\n",
            "Reversed Word: 'inimeG'\n"
          ]
        }
      ]
    },
    {
      "cell_type": "markdown",
      "source": [
        "3. Implement a Python function that takes a list of integers and returns a new list containing the squares of each number."
      ],
      "metadata": {
        "id": "M6rwUsMs_iKM"
      }
    },
    {
      "cell_type": "code",
      "source": [
        "def square_numbers(input_list):\n",
        "    \"\"\"\n",
        "    Calculates the square of every number in the input list and returns\n",
        "    them as a new list.\n",
        "\n",
        "    Args:\n",
        "        input_list (list): A list of numbers (integers or floats).\n",
        "\n",
        "    Returns:\n",
        "        list: A new list containing the square of each number.\n",
        "    \"\"\"\n",
        "    # Using a list comprehension for a concise and efficient solution.\n",
        "    # It iterates through each 'number' in the 'input_list' and calculates 'number ** 2'.\n",
        "    squared_list = [number ** 2 for number in input_list]\n",
        "    return squared_list\n",
        "\n",
        "# --- Example Usage ---\n",
        "\n",
        "# Example 1: Standard integers\n",
        "numbers1 = [1, 2, 3, 4, 5]\n",
        "squares1 = square_numbers(numbers1)\n",
        "print(f\"Original list 1: {numbers1}\")\n",
        "print(f\"Squared list 1: {squares1}\")\n",
        "# Expected output: [1, 4, 9, 16, 25]\n",
        "\n",
        "# Example 2: Integers including negative numbers and zero\n",
        "numbers2 = [-3, 0, 5, -1, 10]\n",
        "squares2 = square_numbers(numbers2)\n",
        "print(f\"\\nOriginal list 2: {numbers2}\")\n",
        "print(f\"Squared list 2: {squares2}\")\n",
        "# Expected output: [9, 0, 25, 1, 100]\n",
        "\n",
        "# Example 3: Empty list\n",
        "numbers3 = []\n",
        "squares3 = square_numbers(numbers3)\n",
        "print(f\"\\nOriginal list 3: {numbers3}\")\n",
        "print(f\"Squared list 3: {squares3}\")\n",
        "# Expected output: []"
      ],
      "metadata": {
        "colab": {
          "base_uri": "https://localhost:8080/"
        },
        "id": "6Unhv45s_pur",
        "outputId": "5e9cda9c-a82d-44ec-f937-d551f3ebaf10"
      },
      "execution_count": 9,
      "outputs": [
        {
          "output_type": "stream",
          "name": "stdout",
          "text": [
            "Original list 1: [1, 2, 3, 4, 5]\n",
            "Squared list 1: [1, 4, 9, 16, 25]\n",
            "\n",
            "Original list 2: [-3, 0, 5, -1, 10]\n",
            "Squared list 2: [9, 0, 25, 1, 100]\n",
            "\n",
            "Original list 3: []\n",
            "Squared list 3: []\n"
          ]
        }
      ]
    },
    {
      "cell_type": "markdown",
      "source": [
        "4. Write a Python function that checks if a given number is prime or not from 1 to 200."
      ],
      "metadata": {
        "id": "YNQ19Aqb_2TJ"
      }
    },
    {
      "cell_type": "code",
      "source": [
        "import math\n",
        "\n",
        "def is_prime(n):\n",
        "    \"\"\"\n",
        "    Checks if a given integer n is a prime number.\n",
        "\n",
        "    A prime number is a natural number greater than 1 that has no positive\n",
        "    divisors other than 1 and itself.\n",
        "\n",
        "    Args:\n",
        "        n (int): The number to check.\n",
        "\n",
        "    Returns:\n",
        "        bool: True if n is prime, False otherwise.\n",
        "    \"\"\"\n",
        "    # 1. Handle non-prime base cases\n",
        "    if n <= 1:\n",
        "        return False\n",
        "\n",
        "    # 2. 2 is the only even prime number\n",
        "    if n == 2:\n",
        "        return True\n",
        "\n",
        "    # 3. All other even numbers are not prime\n",
        "    if n % 2 == 0:\n",
        "        return False\n",
        "\n",
        "    # 4. Check for divisibility from 3 up to the square root of n.\n",
        "    # We only need to check odd numbers (i.e., step by 2) because we already\n",
        "    # eliminated all even numbers in step 3.\n",
        "    # We only check up to the square root because if a number 'n' has a divisor\n",
        "    # larger than its square root, it must also have one smaller than its square root.\n",
        "    limit = int(math.sqrt(n)) + 1\n",
        "    for i in range(3, limit, 2):\n",
        "        if n % i == 0:\n",
        "            return False  # Found a divisor, so it's not prime\n",
        "\n",
        "    # 5. If no divisors were found, the number is prime\n",
        "    return True\n",
        "\n",
        "# --- Example Usage (Checking numbers from 1 to 200) ---\n",
        "print(\"--- Prime Check from 1 to 200 ---\")\n",
        "primes = []\n",
        "for number in range(1, 201):\n",
        "    if is_prime(number):\n",
        "        primes.append(number)\n",
        "\n",
        "print(f\"Total primes found: {len(primes)}\\n\")\n",
        "print(f\"List of prime numbers (1-200):\")\n",
        "\n",
        "# Print the list in a nicely formatted way (e.g., 10 numbers per line)\n",
        "output = \"\"\n",
        "for i, prime in enumerate(primes):\n",
        "    output += f\"{prime:<4}\"\n",
        "    if (i + 1) % 10 == 0:\n",
        "        output += \"\\n\"\n",
        "\n",
        "print(output.strip())"
      ],
      "metadata": {
        "colab": {
          "base_uri": "https://localhost:8080/"
        },
        "id": "bcKAr_9X_7qH",
        "outputId": "09e05cba-924c-46ff-a020-d0c2e908a8b5"
      },
      "execution_count": 10,
      "outputs": [
        {
          "output_type": "stream",
          "name": "stdout",
          "text": [
            "--- Prime Check from 1 to 200 ---\n",
            "Total primes found: 46\n",
            "\n",
            "List of prime numbers (1-200):\n",
            "2   3   5   7   11  13  17  19  23  29  \n",
            "31  37  41  43  47  53  59  61  67  71  \n",
            "73  79  83  89  97  101 103 107 109 113 \n",
            "127 131 137 139 149 151 157 163 167 173 \n",
            "179 181 191 193 197 199\n"
          ]
        }
      ]
    },
    {
      "cell_type": "markdown",
      "source": [],
      "metadata": {
        "id": "5B5Yv8sr_iFu"
      }
    },
    {
      "cell_type": "markdown",
      "source": [
        "5. Create an iterator class in Python that generates the Fibonacci sequence up to a specified number of terms."
      ],
      "metadata": {
        "id": "O9G694bkAQBU"
      }
    },
    {
      "cell_type": "code",
      "source": [
        "class FibonacciIterator:\n",
        "    \"\"\"\n",
        "    An iterator that generates the Fibonacci sequence up to a specified number of terms (limit).\n",
        "    The sequence starts at term 0 (which is 0).\n",
        "    \"\"\"\n",
        "\n",
        "    def __init__(self, limit):\n",
        "        \"\"\"\n",
        "        Initializes the iterator state.\n",
        "\n",
        "        Args:\n",
        "            limit (int): The maximum number of terms to generate.\n",
        "        \"\"\"\n",
        "        if not isinstance(limit, int) or limit < 0:\n",
        "            raise ValueError(\"Limit must be a non-negative integer.\")\n",
        "\n",
        "        # The number of terms to generate\n",
        "        self.limit = limit\n",
        "\n",
        "        # Current term count (starts before the first term is yielded)\n",
        "        self.count = 0\n",
        "\n",
        "        # Initialize the first two Fibonacci numbers\n",
        "        self.a = 0  # F(0)\n",
        "        self.b = 1  # F(1)\n",
        "\n",
        "    def __iter__(self):\n",
        "        \"\"\"\n",
        "        Returns the iterator object itself.\n",
        "        \"\"\"\n",
        "        return self\n",
        "\n",
        "    def __next__(self):\n",
        "        \"\"\"\n",
        "        Computes and returns the next term in the Fibonacci sequence.\n",
        "\n",
        "        Raises:\n",
        "            StopIteration: When the limit of terms has been reached.\n",
        "        \"\"\"\n",
        "        if self.count >= self.limit:\n",
        "            # Stop the iteration when the term limit is reached\n",
        "            raise StopIteration\n",
        "\n",
        "        # For the first term (count == 0), we want to return 0.\n",
        "        if self.count == 0:\n",
        "            result = self.a\n",
        "        # For the second term (count == 1), we want to return 1.\n",
        "        elif self.count == 1:\n",
        "            result = self.b\n",
        "        # For subsequent terms, calculate and return the next number\n",
        "        else:\n",
        "            # Calculate the next number: F(n) = F(n-1) + F(n-2)\n",
        "            # a is the current term, b is the next term\n",
        "            self.a, self.b = self.b, self.a + self.b\n",
        "            result = self.a # After the swap, 'a' holds the next calculated Fibonacci number\n",
        "\n",
        "        self.count += 1\n",
        "        return result\n",
        "\n",
        "# --- Example Usage ---\n",
        "\n",
        "# 1. Generate the first 10 Fibonacci numbers\n",
        "print(\"--- First 10 Fibonacci terms ---\")\n",
        "fib_10 = FibonacciIterator(10)\n",
        "for term in fib_10:\n",
        "    print(term, end=\" \")\n",
        "# Expected output: 0 1 1 2 3 5 8 13 21 34\n",
        "\n",
        "print(\"\\n\\n--- First 5 Fibonacci terms as a list ---\")\n",
        "# 2. Convert the iterator directly to a list\n",
        "fib_list = list(FibonacciIterator(5))\n",
        "print(fib_list)\n",
        "# Expected output: [0, 1, 1, 2, 3]\n",
        "\n",
        "print(\"\\n--- Generating 1 term ---\")\n",
        "fib_single = list(FibonacciIterator(1))\n",
        "print(fib_single)\n",
        "# Expected output: [0]\n",
        "\n",
        "print(\"\\n--- Generating 0 terms ---\")\n",
        "fib_zero = list(FibonacciIterator(0))\n",
        "print(fib_zero)\n",
        "# Expected output: []"
      ],
      "metadata": {
        "colab": {
          "base_uri": "https://localhost:8080/"
        },
        "id": "ch5Tfx22AS-I",
        "outputId": "e8d1e223-1ef5-45b5-9945-531599225014"
      },
      "execution_count": 11,
      "outputs": [
        {
          "output_type": "stream",
          "name": "stdout",
          "text": [
            "--- First 10 Fibonacci terms ---\n",
            "0 1 1 1 2 3 5 8 13 21 \n",
            "\n",
            "--- First 5 Fibonacci terms as a list ---\n",
            "[0, 1, 1, 1, 2]\n",
            "\n",
            "--- Generating 1 term ---\n",
            "[0]\n",
            "\n",
            "--- Generating 0 terms ---\n",
            "[]\n"
          ]
        }
      ]
    },
    {
      "cell_type": "markdown",
      "source": [
        "6. Write a generator function in Python that yields the powers of 2 up to a given exponent."
      ],
      "metadata": {
        "id": "x-sZsATlAjVK"
      }
    },
    {
      "cell_type": "code",
      "source": [
        "def powers_of_two_generator(max_exponent):\n",
        "    \"\"\"\n",
        "    A generator function that yields the powers of 2 from 2^0 up to 2^max_exponent.\n",
        "\n",
        "    Args:\n",
        "        max_exponent (int): The highest exponent to calculate 2^n for.\n",
        "                            Must be a non-negative integer.\n",
        "\n",
        "    Yields:\n",
        "        int: The next power of 2 (2^0, 2^1, 2^2, ..., 2^max_exponent).\n",
        "    \"\"\"\n",
        "    if not isinstance(max_exponent, int) or max_exponent < 0:\n",
        "        raise ValueError(\"max_exponent must be a non-negative integer.\")\n",
        "\n",
        "    # Iterate from 0 up to and including the max_exponent\n",
        "    for exponent in range(max_exponent + 1):\n",
        "        # Calculate 2 raised to the current exponent\n",
        "        yield 2 ** exponent\n",
        "\n",
        "# --- Example Usage ---\n",
        "\n",
        "# Example 1: Generate powers of 2 up to exponent 5 (2^0 to 2^5)\n",
        "max_e1 = 5\n",
        "print(f\"--- Powers of 2 up to exponent {max_e1} ---\")\n",
        "for power in powers_of_two_generator(max_e1):\n",
        "    print(power, end=\" \")\n",
        "# Expected output: 1 2 4 8 16 32\n",
        "\n",
        "print(\"\\n\")\n",
        "\n",
        "# Example 2: Convert generator output to a list\n",
        "max_e2 = 8\n",
        "powers_list = list(powers_of_two_generator(max_e2))\n",
        "print(f\"--- Powers of 2 up to exponent {max_e2} as a list ---\")\n",
        "print(powers_list)\n",
        "# Expected output: [1, 2, 4, 8, 16, 32, 64, 128, 256]\n",
        "\n",
        "print(\"\\n\")\n",
        "\n",
        "# Example 3: Generating only 2^0\n",
        "max_e3 = 0\n",
        "powers_zero = list(powers_of_two_generator(max_e3))\n",
        "print(f\"--- Power of 2 up to exponent {max_e3} ---\")\n",
        "print(powers_zero)\n",
        "# Expected output: [1]"
      ],
      "metadata": {
        "colab": {
          "base_uri": "https://localhost:8080/"
        },
        "id": "munkeEK7Al-R",
        "outputId": "b1c58e20-eef7-48b5-eed0-2c52723564d3"
      },
      "execution_count": 12,
      "outputs": [
        {
          "output_type": "stream",
          "name": "stdout",
          "text": [
            "--- Powers of 2 up to exponent 5 ---\n",
            "1 2 4 8 16 32 \n",
            "\n",
            "--- Powers of 2 up to exponent 8 as a list ---\n",
            "[1, 2, 4, 8, 16, 32, 64, 128, 256]\n",
            "\n",
            "\n",
            "--- Power of 2 up to exponent 0 ---\n",
            "[1]\n"
          ]
        }
      ]
    },
    {
      "cell_type": "markdown",
      "source": [
        "7. Implement a generator function that reads a file line by line and yields each line as a string."
      ],
      "metadata": {
        "id": "gZGRjghxAzwE"
      }
    },
    {
      "cell_type": "code",
      "source": [
        "import math\n",
        "import os\n",
        "\n",
        "def powers_of_two_generator(max_exponent):\n",
        "    \"\"\"\n",
        "    A generator function that yields the powers of 2 from 2^0 up to 2^max_exponent.\n",
        "\n",
        "    Args:\n",
        "        max_exponent (int): The highest exponent to calculate 2^n for.\n",
        "                            Must be a non-negative integer.\n",
        "\n",
        "    Yields:\n",
        "        int: The next power of 2 (2^0, 2^1, 2^2, ..., 2^max_exponent).\n",
        "    \"\"\"\n",
        "    if not isinstance(max_exponent, int) or max_exponent < 0:\n",
        "        raise ValueError(\"max_exponent must be a non-negative integer.\")\n",
        "\n",
        "    # Iterate from 0 up to and including the max_exponent\n",
        "    for exponent in range(max_exponent + 1):\n",
        "        # Calculate 2 raised to the current exponent\n",
        "        yield 2 ** exponent\n",
        "\n",
        "def file_line_reader(filepath):\n",
        "    \"\"\"\n",
        "    A generator function that reads a file line by line and yields each line.\n",
        "\n",
        "    Args:\n",
        "        filepath (str): The path to the file to be read.\n",
        "\n",
        "    Yields:\n",
        "        str: Each line of the file, including the newline character if present.\n",
        "    \"\"\"\n",
        "    try:\n",
        "        # Use 'with open' for safe file handling\n",
        "        with open(filepath, 'r') as file:\n",
        "            # Iterating directly over the file object yields lines one by one\n",
        "            for line in file:\n",
        "                yield line\n",
        "    except FileNotFoundError:\n",
        "        print(f\"\\n[ERROR] The file '{filepath}' was not found.\")\n",
        "    except Exception as e:\n",
        "        print(f\"\\n[ERROR] An unexpected error occurred during file reading: {e}\")\n",
        "\n",
        "\n",
        "# --- Example Usage for powers_of_two_generator ---\n",
        "\n",
        "# Example 1: Generate powers of 2 up to exponent 5 (2^0 to 2^5)\n",
        "max_e1 = 5\n",
        "print(f\"--- Powers of 2 up to exponent {max_e1} ---\")\n",
        "for power in powers_of_two_generator(max_e1):\n",
        "    print(power, end=\" \")\n",
        "# Expected output: 1 2 4 8 16 32\n",
        "\n",
        "print(\"\\n\")\n",
        "\n",
        "# Example 2: Convert generator output to a list\n",
        "max_e2 = 8\n",
        "powers_list = list(powers_of_two_generator(max_e2))\n",
        "print(f\"--- Powers of 2 up to exponent {max_e2} as a list ---\")\n",
        "print(powers_list)\n",
        "# Expected output: [1, 2, 4, 8, 16, 32, 64, 128, 256]\n",
        "\n",
        "print(\"\\n\")\n",
        "\n",
        "# Example 3: Generating only 2^0\n",
        "max_e3 = 0\n",
        "powers_zero = list(powers_of_two_generator(max_e3))\n",
        "print(f\"--- Power of 2 up to exponent {max_e3} ---\")\n",
        "print(powers_zero)\n",
        "# Expected output: [1]\n",
        "\n",
        "\n",
        "# --- Example Usage for file_line_reader ---\n",
        "file_name = \"sample_data.txt\"\n",
        "file_content = \"First line of text.\\nSecond line, with more words.\\nFinal line, ending the file.\"\n",
        "\n",
        "# Create a sample file for demonstration\n",
        "try:\n",
        "    with open(file_name, 'w') as f:\n",
        "        f.write(file_content)\n",
        "    print(f\"\\n--- Created temporary file '{file_name}' for reading demonstration ---\")\n",
        "except Exception as e:\n",
        "    print(f\"\\n[SETUP ERROR] Could not create sample file: {e}\")\n",
        "    file_name = None\n",
        "\n",
        "if file_name:\n",
        "    print(f\"\\n--- Reading file '{file_name}' line by line using generator ---\")\n",
        "\n",
        "    # Use the generator function\n",
        "    for i, line in enumerate(file_line_reader(file_name)):\n",
        "        # Print the line, stripping any trailing whitespace (including the newline)\n",
        "        print(f\"Line {i+1}: {line.strip()}\")\n",
        "\n",
        "    # Clean up the temporary file (optional but good practice)\n",
        "    try:\n",
        "        os.remove(file_name)\n",
        "        print(f\"\\n--- Cleaned up temporary file '{file_name}' ---\")\n",
        "    except Exception as e:\n",
        "        print(f\"\\n[CLEANUP ERROR] Could not remove sample file: {e}\")"
      ],
      "metadata": {
        "colab": {
          "base_uri": "https://localhost:8080/"
        },
        "id": "3bJ_mIKyA5iH",
        "outputId": "8de40728-1ca1-429a-a504-93690ac0f7ec"
      },
      "execution_count": 13,
      "outputs": [
        {
          "output_type": "stream",
          "name": "stdout",
          "text": [
            "--- Powers of 2 up to exponent 5 ---\n",
            "1 2 4 8 16 32 \n",
            "\n",
            "--- Powers of 2 up to exponent 8 as a list ---\n",
            "[1, 2, 4, 8, 16, 32, 64, 128, 256]\n",
            "\n",
            "\n",
            "--- Power of 2 up to exponent 0 ---\n",
            "[1]\n",
            "\n",
            "--- Created temporary file 'sample_data.txt' for reading demonstration ---\n",
            "\n",
            "--- Reading file 'sample_data.txt' line by line using generator ---\n",
            "Line 1: First line of text.\n",
            "Line 2: Second line, with more words.\n",
            "Line 3: Final line, ending the file.\n",
            "\n",
            "--- Cleaned up temporary file 'sample_data.txt' ---\n"
          ]
        }
      ]
    },
    {
      "cell_type": "markdown",
      "source": [
        "8. Use a lambda function in Python to sort a list of tuples based on the second element of each tuple."
      ],
      "metadata": {
        "id": "hmqSQThwBLLY"
      }
    },
    {
      "cell_type": "code",
      "source": [
        "import math\n",
        "import os\n",
        "\n",
        "def powers_of_two_generator(max_exponent):\n",
        "    \"\"\"\n",
        "    A generator function that yields the powers of 2 from 2^0 up to 2^max_exponent.\n",
        "\n",
        "    Args:\n",
        "        max_exponent (int): The highest exponent to calculate 2^n for.\n",
        "                            Must be a non-negative integer.\n",
        "\n",
        "    Yields:\n",
        "        int: The next power of 2 (2^0, 2^1, 2^2, ..., 2^max_exponent).\n",
        "    \"\"\"\n",
        "    if not isinstance(max_exponent, int) or max_exponent < 0:\n",
        "        raise ValueError(\"max_exponent must be a non-negative integer.\")\n",
        "\n",
        "    # Iterate from 0 up to and including the max_exponent\n",
        "    for exponent in range(max_exponent + 1):\n",
        "        # Calculate 2 raised to the current exponent\n",
        "        yield 2 ** exponent\n",
        "\n",
        "def file_line_reader(filepath):\n",
        "    \"\"\"\n",
        "    A generator function that reads a file line by line and yields each line.\n",
        "\n",
        "    Args:\n",
        "        filepath (str): The path to the file to be read.\n",
        "\n",
        "    Yields:\n",
        "        str: Each line of the file, including the newline character if present.\n",
        "    \"\"\"\n",
        "    try:\n",
        "        # Use 'with open' for safe file handling\n",
        "        with open(filepath, 'r') as file:\n",
        "            # Iterating directly over the file object yields lines one by one\n",
        "            for line in file:\n",
        "                yield line\n",
        "    except FileNotFoundError:\n",
        "        print(f\"\\n[ERROR] The file '{filepath}' was not found.\")\n",
        "    except Exception as e:\n",
        "        print(f\"\\n[ERROR] An unexpected error occurred during file reading: {e}\")\n",
        "\n",
        "\n",
        "# --- Example Usage for powers_of_two_generator ---\n",
        "\n",
        "# Example 1: Generate powers of 2 up to exponent 5 (2^0 to 2^5)\n",
        "max_e1 = 5\n",
        "print(f\"--- Powers of 2 up to exponent {max_e1} ---\")\n",
        "for power in powers_of_two_generator(max_e1):\n",
        "    print(power, end=\" \")\n",
        "# Expected output: 1 2 4 8 16 32\n",
        "\n",
        "print(\"\\n\")\n",
        "\n",
        "# Example 2: Convert generator output to a list\n",
        "max_e2 = 8\n",
        "powers_list = list(powers_of_two_generator(max_e2))\n",
        "print(f\"--- Powers of 2 up to exponent {max_e2} as a list ---\")\n",
        "print(powers_list)\n",
        "# Expected output: [1, 2, 4, 8, 16, 32, 64, 128, 256]\n",
        "\n",
        "print(\"\\n\")\n",
        "\n",
        "# Example 3: Generating only 2^0\n",
        "max_e3 = 0\n",
        "powers_zero = list(powers_of_two_generator(max_e3))\n",
        "print(f\"--- Power of 2 up to exponent {max_e3} ---\")\n",
        "print(powers_zero)\n",
        "# Expected output: [1]\n",
        "\n",
        "\n",
        "# --- Example Usage for file_line_reader ---\n",
        "file_name = \"sample_data.txt\"\n",
        "file_content = \"First line of text.\\nSecond line, with more words.\\nFinal line, ending the file.\"\n",
        "\n",
        "# Create a sample file for demonstration\n",
        "try:\n",
        "    with open(file_name, 'w') as f:\n",
        "        f.write(file_content)\n",
        "    print(f\"\\n--- Created temporary file '{file_name}' for reading demonstration ---\")\n",
        "except Exception as e:\n",
        "    print(f\"\\n[SETUP ERROR] Could not create sample file: {e}\")\n",
        "    file_name = None\n",
        "\n",
        "if file_name:\n",
        "    print(f\"\\n--- Reading file '{file_name}' line by line using generator ---\")\n",
        "\n",
        "    # Use the generator function\n",
        "    for i, line in enumerate(file_line_reader(file_name)):\n",
        "        # Print the line, stripping any trailing whitespace (including the newline)\n",
        "        print(f\"Line {i+1}: {line.strip()}\")\n",
        "\n",
        "    # Clean up the temporary file (optional but good practice)\n",
        "    try:\n",
        "        os.remove(file_name)\n",
        "        print(f\"\\n--- Cleaned up temporary file '{file_name}' ---\")\n",
        "    except Exception as e:\n",
        "        print(f\"\\n[CLEANUP ERROR] Could not remove sample file: {e}\")\n",
        "\n",
        "# --- Example Usage for Lambda Sorting ---\n",
        "data = [('apple', 5), ('banana', 2), ('cherry', 8), ('date', 1)]\n",
        "print(f\"\\n--- Sorting List of Tuples by Second Element (Lambda) ---\")\n",
        "print(f\"Original list: {data}\")\n",
        "\n",
        "# Use a lambda function to specify the sort key as the element at index 1 (the number)\n",
        "sorted_data = sorted(data, key=lambda item: item[1])\n",
        "\n",
        "print(f\"Sorted list:   {sorted_data}\")\n",
        "# Expected output: [('date', 1), ('banana', 2), ('apple', 5), ('cherry', 8)]\n"
      ],
      "metadata": {
        "colab": {
          "base_uri": "https://localhost:8080/"
        },
        "id": "ZUE1vuZpBMge",
        "outputId": "cfdc816c-236f-4eff-81d3-1847f2fbcd3a"
      },
      "execution_count": 14,
      "outputs": [
        {
          "output_type": "stream",
          "name": "stdout",
          "text": [
            "--- Powers of 2 up to exponent 5 ---\n",
            "1 2 4 8 16 32 \n",
            "\n",
            "--- Powers of 2 up to exponent 8 as a list ---\n",
            "[1, 2, 4, 8, 16, 32, 64, 128, 256]\n",
            "\n",
            "\n",
            "--- Power of 2 up to exponent 0 ---\n",
            "[1]\n",
            "\n",
            "--- Created temporary file 'sample_data.txt' for reading demonstration ---\n",
            "\n",
            "--- Reading file 'sample_data.txt' line by line using generator ---\n",
            "Line 1: First line of text.\n",
            "Line 2: Second line, with more words.\n",
            "Line 3: Final line, ending the file.\n",
            "\n",
            "--- Cleaned up temporary file 'sample_data.txt' ---\n",
            "\n",
            "--- Sorting List of Tuples by Second Element (Lambda) ---\n",
            "Original list: [('apple', 5), ('banana', 2), ('cherry', 8), ('date', 1)]\n",
            "Sorted list:   [('date', 1), ('banana', 2), ('apple', 5), ('cherry', 8)]\n"
          ]
        }
      ]
    },
    {
      "cell_type": "markdown",
      "source": [
        "9. Write a Python program that uses `map()` to convert a list of temperatures from Celsius to Fahrenheit."
      ],
      "metadata": {
        "id": "L7JZJXZ0BgOu"
      }
    },
    {
      "cell_type": "code",
      "source": [
        "import math\n",
        "import os\n",
        "\n",
        "def powers_of_two_generator(max_exponent):\n",
        "    \"\"\"\n",
        "    A generator function that yields the powers of 2 from 2^0 up to 2^max_exponent.\n",
        "\n",
        "    Args:\n",
        "        max_exponent (int): The highest exponent to calculate 2^n for.\n",
        "                            Must be a non-negative integer.\n",
        "\n",
        "    Yields:\n",
        "        int: The next power of 2 (2^0, 2^1, 2^2, ..., 2^max_exponent).\n",
        "    \"\"\"\n",
        "    if not isinstance(max_exponent, int) or max_exponent < 0:\n",
        "        raise ValueError(\"max_exponent must be a non-negative integer.\")\n",
        "\n",
        "    # Iterate from 0 up to and including the max_exponent\n",
        "    for exponent in range(max_exponent + 1):\n",
        "        # Calculate 2 raised to the current exponent\n",
        "        yield 2 ** exponent\n",
        "\n",
        "def file_line_reader(filepath):\n",
        "    \"\"\"\n",
        "    A generator function that reads a file line by line and yields each line.\n",
        "\n",
        "    Args:\n",
        "        filepath (str): The path to the file to be read.\n",
        "\n",
        "    Yields:\n",
        "        str: Each line of the file, including the newline character if present.\n",
        "    \"\"\"\n",
        "    try:\n",
        "        # Use 'with open' for safe file handling\n",
        "        with open(filepath, 'r') as file:\n",
        "            # Iterating directly over the file object yields lines one by one\n",
        "            for line in file:\n",
        "                yield line\n",
        "    except FileNotFoundError:\n",
        "        print(f\"\\n[ERROR] The file '{filepath}' was not found.\")\n",
        "    except Exception as e:\n",
        "        print(f\"\\n[ERROR] An unexpected error occurred during file reading: {e}\")\n",
        "\n",
        "\n",
        "# --- Example Usage for powers_of_two_generator ---\n",
        "\n",
        "# Example 1: Generate powers of 2 up to exponent 5 (2^0 to 2^5)\n",
        "max_e1 = 5\n",
        "print(f\"--- Powers of 2 up to exponent {max_e1} ---\")\n",
        "for power in powers_of_two_generator(max_e1):\n",
        "    print(power, end=\" \")\n",
        "# Expected output: 1 2 4 8 16 32\n",
        "\n",
        "print(\"\\n\")\n",
        "\n",
        "# Example 2: Convert generator output to a list\n",
        "max_e2 = 8\n",
        "powers_list = list(powers_of_two_generator(max_e2))\n",
        "print(f\"--- Powers of 2 up to exponent {max_e2} as a list ---\")\n",
        "print(powers_list)\n",
        "# Expected output: [1, 2, 4, 8, 16, 32, 64, 128, 256]\n",
        "\n",
        "print(\"\\n\")\n",
        "\n",
        "# Example 3: Generating only 2^0\n",
        "max_e3 = 0\n",
        "powers_zero = list(powers_of_two_generator(max_e3))\n",
        "print(f\"--- Power of 2 up to exponent {max_e3} ---\")\n",
        "print(powers_zero)\n",
        "# Expected output: [1]\n",
        "\n",
        "\n",
        "# --- Example Usage for file_line_reader ---\n",
        "file_name = \"sample_data.txt\"\n",
        "file_content = \"First line of text.\\nSecond line, with more words.\\nFinal line, ending the file.\"\n",
        "\n",
        "# Create a sample file for demonstration\n",
        "try:\n",
        "    with open(file_name, 'w') as f:\n",
        "        f.write(file_content)\n",
        "    print(f\"\\n--- Created temporary file '{file_name}' for reading demonstration ---\")\n",
        "except Exception as e:\n",
        "    print(f\"\\n[SETUP ERROR] Could not create sample file: {e}\")\n",
        "    file_name = None\n",
        "\n",
        "if file_name:\n",
        "    print(f\"\\n--- Reading file '{file_name}' line by line using generator ---\")\n",
        "\n",
        "    # Use the generator function\n",
        "    for i, line in enumerate(file_line_reader(file_name)):\n",
        "        # Print the line, stripping any trailing whitespace (including the newline)\n",
        "        print(f\"Line {i+1}: {line.strip()}\")\n",
        "\n",
        "    # Clean up the temporary file (optional but good practice)\n",
        "    try:\n",
        "        os.remove(file_name)\n",
        "        print(f\"\\n--- Cleaned up temporary file '{file_name}' ---\")\n",
        "    except Exception as e:\n",
        "        print(f\"\\n[CLEANUP ERROR] Could not remove sample file: {e}\")\n",
        "\n",
        "# --- Example Usage for Lambda Sorting ---\n",
        "data = [('apple', 5), ('banana', 2), ('cherry', 8), ('date', 1)]\n",
        "print(f\"\\n--- Sorting List of Tuples by Second Element (Lambda) ---\")\n",
        "print(f\"Original list: {data}\")\n",
        "\n",
        "# Use a lambda function to specify the sort key as the element at index 1 (the number)\n",
        "sorted_data = sorted(data, key=lambda item: item[1])\n",
        "\n",
        "print(f\"Sorted list:   {sorted_data}\")\n",
        "# Expected output: [('date', 1), ('banana', 2), ('apple', 5), ('cherry', 8)]\n",
        "\n",
        "# --- Example Usage for map() and Lambda for Temperature Conversion ---\n",
        "celsius_temps = [0, 10, 25, 37, 100]\n",
        "print(f\"\\n--- Converting Celsius to Fahrenheit using map() and lambda ---\")\n",
        "print(f\"Original Celsius temperatures: {celsius_temps}\")\n",
        "\n",
        "# Lambda function for Celsius to Fahrenheit conversion: F = (C * 9/5) + 32\n",
        "c_to_f = lambda c: (c * 9/5) + 32\n",
        "\n",
        "# Use map() to apply the lambda function to every element in the list\n",
        "# The result is a map object, which must be converted to a list to print easily\n",
        "fahrenheit_temps = list(map(c_to_f, celsius_temps))\n",
        "\n",
        "print(f\"Fahrenheit temperatures:       {fahrenheit_temps}\")\n",
        "# Expected output: [32.0, 50.0, 77.0, 98.6, 212.0]"
      ],
      "metadata": {
        "colab": {
          "base_uri": "https://localhost:8080/"
        },
        "id": "UKaIrnZTBhtu",
        "outputId": "8a8bab62-73c8-49f9-e564-61d43d6ccbe4"
      },
      "execution_count": 15,
      "outputs": [
        {
          "output_type": "stream",
          "name": "stdout",
          "text": [
            "--- Powers of 2 up to exponent 5 ---\n",
            "1 2 4 8 16 32 \n",
            "\n",
            "--- Powers of 2 up to exponent 8 as a list ---\n",
            "[1, 2, 4, 8, 16, 32, 64, 128, 256]\n",
            "\n",
            "\n",
            "--- Power of 2 up to exponent 0 ---\n",
            "[1]\n",
            "\n",
            "--- Created temporary file 'sample_data.txt' for reading demonstration ---\n",
            "\n",
            "--- Reading file 'sample_data.txt' line by line using generator ---\n",
            "Line 1: First line of text.\n",
            "Line 2: Second line, with more words.\n",
            "Line 3: Final line, ending the file.\n",
            "\n",
            "--- Cleaned up temporary file 'sample_data.txt' ---\n",
            "\n",
            "--- Sorting List of Tuples by Second Element (Lambda) ---\n",
            "Original list: [('apple', 5), ('banana', 2), ('cherry', 8), ('date', 1)]\n",
            "Sorted list:   [('date', 1), ('banana', 2), ('apple', 5), ('cherry', 8)]\n",
            "\n",
            "--- Converting Celsius to Fahrenheit using map() and lambda ---\n",
            "Original Celsius temperatures: [0, 10, 25, 37, 100]\n",
            "Fahrenheit temperatures:       [32.0, 50.0, 77.0, 98.6, 212.0]\n"
          ]
        }
      ]
    },
    {
      "cell_type": "markdown",
      "source": [
        "10. Create a Python program that uses `filter()` to remove all the vowels from a given string."
      ],
      "metadata": {
        "id": "RPxDuNpaB2k-"
      }
    },
    {
      "cell_type": "code",
      "source": [
        "import math\n",
        "import os\n",
        "\n",
        "def powers_of_two_generator(max_exponent):\n",
        "    \"\"\"\n",
        "    A generator function that yields the powers of 2 from 2^0 up to 2^max_exponent.\n",
        "\n",
        "    Args:\n",
        "        max_exponent (int): The highest exponent to calculate 2^n for.\n",
        "                            Must be a non-negative integer.\n",
        "\n",
        "    Yields:\n",
        "        int: The next power of 2 (2^0, 2^1, 2^2, ..., 2^max_exponent).\n",
        "    \"\"\"\n",
        "    if not isinstance(max_exponent, int) or max_exponent < 0:\n",
        "        raise ValueError(\"max_exponent must be a non-negative integer.\")\n",
        "\n",
        "    # Iterate from 0 up to and including the max_exponent\n",
        "    for exponent in range(max_exponent + 1):\n",
        "        # Calculate 2 raised to the current exponent\n",
        "        yield 2 ** exponent\n",
        "\n",
        "def file_line_reader(filepath):\n",
        "    \"\"\"\n",
        "    A generator function that reads a file line by line and yields each line.\n",
        "\n",
        "    Args:\n",
        "        filepath (str): The path to the file to be read.\n",
        "\n",
        "    Yields:\n",
        "        str: Each line of the file, including the newline character if present.\n",
        "    \"\"\"\n",
        "    try:\n",
        "        # Use 'with open' for safe file handling\n",
        "        with open(filepath, 'r') as file:\n",
        "            # Iterating directly over the file object yields lines one by one\n",
        "            for line in file:\n",
        "                yield line\n",
        "    except FileNotFoundError:\n",
        "        print(f\"\\n[ERROR] The file '{filepath}' was not found.\")\n",
        "    except Exception as e:\n",
        "        print(f\"\\n[ERROR] An unexpected error occurred during file reading: {e}\")\n",
        "\n",
        "\n",
        "# --- Example Usage for powers_of_two_generator ---\n",
        "\n",
        "# Example 1: Generate powers of 2 up to exponent 5 (2^0 to 2^5)\n",
        "max_e1 = 5\n",
        "print(f\"--- Powers of 2 up to exponent {max_e1} ---\")\n",
        "for power in powers_of_two_generator(max_e1):\n",
        "    print(power, end=\" \")\n",
        "# Expected output: 1 2 4 8 16 32\n",
        "\n",
        "print(\"\\n\")\n",
        "\n",
        "# Example 2: Convert generator output to a list\n",
        "max_e2 = 8\n",
        "powers_list = list(powers_of_two_generator(max_e2))\n",
        "print(f\"--- Powers of 2 up to exponent {max_e2} as a list ---\")\n",
        "print(powers_list)\n",
        "# Expected output: [1, 2, 4, 8, 16, 32, 64, 128, 256]\n",
        "\n",
        "print(\"\\n\")\n",
        "\n",
        "# Example 3: Generating only 2^0\n",
        "max_e3 = 0\n",
        "powers_zero = list(powers_of_two_generator(max_e3))\n",
        "print(f\"--- Power of 2 up to exponent {max_e3} ---\")\n",
        "print(powers_zero)\n",
        "# Expected output: [1]\n",
        "\n",
        "\n",
        "# --- Example Usage for file_line_reader ---\n",
        "file_name = \"sample_data.txt\"\n",
        "file_content = \"First line of text.\\nSecond line, with more words.\\nFinal line, ending the file.\"\n",
        "\n",
        "# Create a sample file for demonstration\n",
        "try:\n",
        "    with open(file_name, 'w') as f:\n",
        "        f.write(file_content)\n",
        "    print(f\"\\n--- Created temporary file '{file_name}' for reading demonstration ---\")\n",
        "except Exception as e:\n",
        "    print(f\"\\n[SETUP ERROR] Could not create sample file: {e}\")\n",
        "    file_name = None\n",
        "\n",
        "if file_name:\n",
        "    print(f\"\\n--- Reading file '{file_name}' line by line using generator ---\")\n",
        "\n",
        "    # Use the generator function\n",
        "    for i, line in enumerate(file_line_reader(file_name)):\n",
        "        # Print the line, stripping any trailing whitespace (including the newline)\n",
        "        print(f\"Line {i+1}: {line.strip()}\")\n",
        "\n",
        "    # Clean up the temporary file (optional but good practice)\n",
        "    try:\n",
        "        os.remove(file_name)\n",
        "        print(f\"\\n--- Cleaned up temporary file '{file_name}' ---\")\n",
        "    except Exception as e:\n",
        "        print(f\"\\n[CLEANUP ERROR] Could not remove sample file: {e}\")\n",
        "\n",
        "# --- Example Usage for Lambda Sorting ---\n",
        "data = [('apple', 5), ('banana', 2), ('cherry', 8), ('date', 1)]\n",
        "print(f\"\\n--- Sorting List of Tuples by Second Element (Lambda) ---\")\n",
        "print(f\"Original list: {data}\")\n",
        "\n",
        "# Use a lambda function to specify the sort key as the element at index 1 (the number)\n",
        "sorted_data = sorted(data, key=lambda item: item[1])\n",
        "\n",
        "print(f\"Sorted list:   {sorted_data}\")\n",
        "# Expected output: [('date', 1), ('banana', 2), ('apple', 5), ('cherry', 8)]\n",
        "\n",
        "# --- Example Usage for map() and Lambda for Temperature Conversion ---\n",
        "celsius_temps = [0, 10, 25, 37, 100]\n",
        "print(f\"\\n--- Converting Celsius to Fahrenheit using map() and lambda ---\")\n",
        "print(f\"Original Celsius temperatures: {celsius_temps}\")\n",
        "\n",
        "# Lambda function for Celsius to Fahrenheit conversion: F = (C * 9/5) + 32\n",
        "c_to_f = lambda c: (c * 9/5) + 32\n",
        "\n",
        "# Use map() to apply the lambda function to every element in the list\n",
        "# The result is a map object, which must be converted to a list to print easily\n",
        "fahrenheit_temps = list(map(c_to_f, celsius_temps))\n",
        "\n",
        "print(f\"Fahrenheit temperatures:       {fahrenheit_temps}\")\n",
        "# Expected output: [32.0, 50.0, 77.0, 98.6, 212.0]\n",
        "\n",
        "# --- Example Usage for filter() to Remove Vowels ---\n",
        "original_string = \"Hello World, this is a test string!\"\n",
        "print(f\"\\n--- Removing Vowels using filter() ---\")\n",
        "print(f\"Original string: '{original_string}'\")\n",
        "\n",
        "# Define the set of vowels to be removed (both cases)\n",
        "VOWELS = \"aeiouAEIOU\"\n",
        "\n",
        "# Define the filter function: returns True if the character is NOT a vowel\n",
        "# Characters that return True are kept; those that return False are filtered out.\n",
        "is_consonant = lambda char: char not in VOWELS\n",
        "\n",
        "# Use filter() to keep only the characters for which is_consonant returns True\n",
        "# The filter object is converted to a list of characters\n",
        "filtered_characters = list(filter(is_consonant, original_string))\n",
        "\n",
        "# Join the characters back into a string\n",
        "result_string = \"\".join(filtered_characters)\n",
        "\n",
        "print(f\"Filtered string: '{result_string}'\")\n",
        "# Expected output: 'Hll Wrld, ths s  tst strng!'"
      ],
      "metadata": {
        "colab": {
          "base_uri": "https://localhost:8080/"
        },
        "id": "VEf3zoFiB4AF",
        "outputId": "9b293904-c860-4510-ce32-eb5005a7435e"
      },
      "execution_count": 16,
      "outputs": [
        {
          "output_type": "stream",
          "name": "stdout",
          "text": [
            "--- Powers of 2 up to exponent 5 ---\n",
            "1 2 4 8 16 32 \n",
            "\n",
            "--- Powers of 2 up to exponent 8 as a list ---\n",
            "[1, 2, 4, 8, 16, 32, 64, 128, 256]\n",
            "\n",
            "\n",
            "--- Power of 2 up to exponent 0 ---\n",
            "[1]\n",
            "\n",
            "--- Created temporary file 'sample_data.txt' for reading demonstration ---\n",
            "\n",
            "--- Reading file 'sample_data.txt' line by line using generator ---\n",
            "Line 1: First line of text.\n",
            "Line 2: Second line, with more words.\n",
            "Line 3: Final line, ending the file.\n",
            "\n",
            "--- Cleaned up temporary file 'sample_data.txt' ---\n",
            "\n",
            "--- Sorting List of Tuples by Second Element (Lambda) ---\n",
            "Original list: [('apple', 5), ('banana', 2), ('cherry', 8), ('date', 1)]\n",
            "Sorted list:   [('date', 1), ('banana', 2), ('apple', 5), ('cherry', 8)]\n",
            "\n",
            "--- Converting Celsius to Fahrenheit using map() and lambda ---\n",
            "Original Celsius temperatures: [0, 10, 25, 37, 100]\n",
            "Fahrenheit temperatures:       [32.0, 50.0, 77.0, 98.6, 212.0]\n",
            "\n",
            "--- Removing Vowels using filter() ---\n",
            "Original string: 'Hello World, this is a test string!'\n",
            "Filtered string: 'Hll Wrld, ths s  tst strng!'\n"
          ]
        }
      ]
    },
    {
      "cell_type": "markdown",
      "source": [
        "11. Imagine an accounting routine used in a book shop. It works on a list with sublists, which look like this:\n",
        "\n",
        "\"Order Number\", \"Book Title and Author\", \"Quantity\", \"Price per Item\"\n",
        "\"34587\", \"Learning Python, Mark Lutz\", \"4\", \"40.95\"\n",
        "\"98762\", \"Programming Python, Mark Lutz\", \"5\", \"56.80\"\n",
        "\"77226\", \"Head First Python, Paul Barry\", \"3\", \"32.95\"\n",
        "\"88112\", \"Einführung in Python3, Bernd Klein\", \"3\", \"24.99\"\n",
        "\n",
        "Write a Python program, which returns a list with 2-tuples. Each tuple consists of the order number and the product of the price per item and the quantity. The product should be increased by 10.00 if the value of the order is smaller than 100.00 $\\text{\\euro}$.\n",
        "\n",
        "Write a Python program using lambda and map."
      ],
      "metadata": {
        "id": "ZSikxvdFDALP"
      }
    },
    {
      "cell_type": "code",
      "source": [
        "import math\n",
        "\n",
        "# The raw data provided in the question.\n",
        "# Note: The data structure is a list of lists. Each inner list represents an order.\n",
        "# Index 0: Order Number (str)\n",
        "# Index 2: Quantity (str, needs conversion to int)\n",
        "# Index 3: Price per Item (str, needs conversion to float)\n",
        "ORDERS = [\n",
        "    [\"34587\", \"Learning Python, Mark Lutz\", \"4\", \"40.95\"],\n",
        "    [\"98762\", \"Programming Python, Mark Lutz\", \"5\", \"56.80\"],\n",
        "    [\"77226\", \"Head First Python, Paul Barry\", \"3\", \"32.95\"],\n",
        "    [\"88112\", \"Einführung in Python3, Bernd Klein\", \"3\", \"24.99\"],\n",
        "]\n",
        "\n",
        "# The fee applied if the order value is less than 100.00 EUR\n",
        "SMALL_ORDER_FEE = 10.00\n",
        "MIN_ORDER_VALUE = 100.00\n",
        "\n",
        "# 1. Define the lambda function (or a regular function if preferred, but lambda is requested)\n",
        "# The function takes an 'item' (which is one order list) as input.\n",
        "# It calculates the total price and applies the fee if necessary.\n",
        "#\n",
        "# item[0] -> Order Number (string)\n",
        "# item[2] -> Quantity (string, convert to float for multiplication)\n",
        "# item[3] -> Price per Item (string, convert to float)\n",
        "def calculate_order_total(item):\n",
        "    \"\"\"Calculates the total order value, including a small order fee if applicable.\"\"\"\n",
        "\n",
        "    # Safely convert quantity and price to numbers\n",
        "    try:\n",
        "        order_number = item[0]\n",
        "        quantity = float(item[2])\n",
        "        price_per_item = float(item[3])\n",
        "    except (IndexError, ValueError) as e:\n",
        "        print(f\"Skipping malformed item: {item}. Error: {e}\")\n",
        "        return None # Skip invalid data\n",
        "\n",
        "    # Calculate the base product (price * quantity)\n",
        "    product = price_per_item * quantity\n",
        "\n",
        "    # Apply the logic: increase by 10.00 EUR if total is < 100.00 EUR\n",
        "    final_total = product\n",
        "    if product < MIN_ORDER_VALUE:\n",
        "        final_total += SMALL_ORDER_FEE\n",
        "\n",
        "    # Round the final total to 2 decimal places for accounting\n",
        "    final_total = round(final_total, 2)\n",
        "\n",
        "    # Return the required 2-tuple: (Order Number, Final Total)\n",
        "    return (order_number, final_total)\n",
        "\n",
        "# For the strict requirement of using lambda and map, we can put the core logic\n",
        "# (excluding validation/rounding) into the lambda, or use a helper function as above.\n",
        "# Given the complexity (conditional logic), a dedicated function like the one above\n",
        "# is often clearer, but if a simple lambda is insisted upon, it looks like this:\n",
        "\n",
        "# LAMBDA VERSION (less readable but strictly adhering to lambda usage):\n",
        "# We define a lambda that takes the list item and executes the calculation.\n",
        "lambda_calculator = lambda item: (\n",
        "    item[0],\n",
        "    round(\n",
        "        (float(item[3]) * float(item[2])) +\n",
        "        (SMALL_ORDER_FEE if (float(item[3]) * float(item[2])) < MIN_ORDER_VALUE else 0),\n",
        "        2\n",
        "    )\n",
        ")\n",
        "\n",
        "# 2. Use map() to apply the lambda function to every item in the ORDERS list.\n",
        "# We will use the more readable lambda_calculator helper function for the final result.\n",
        "# If you prefer the dedicated 'calculate_order_total' function, replace 'lambda_calculator' below.\n",
        "final_order_list_map = map(lambda_calculator, ORDERS)\n",
        "\n",
        "# 3. Convert the map object to a list for final output\n",
        "result_list = list(final_order_list_map)\n",
        "\n",
        "\n",
        "# --- Output ---\n",
        "print(\"--- Bookstore Order Accounting ---\")\n",
        "print(f\"Small Order Fee (under {MIN_ORDER_VALUE} EUR): {SMALL_ORDER_FEE} EUR\")\n",
        "print(\"\\nOriginal Orders (Order #, Quantity, Price per Item):\")\n",
        "for order in ORDERS:\n",
        "    # Print only relevant financial details\n",
        "    print(f\"  {order[0]}: Qty {order[2]}, Price {order[3]} -> Base Total: {float(order[2]) * float(order[3]):.2f}\")\n",
        "\n",
        "print(\"\\nResult List (Order Number, Final Total including Fee):\")\n",
        "print(result_list)\n",
        "\n",
        "# Detailed breakdown of results:\n",
        "print(\"\\n--- Detailed Calculation ---\")\n",
        "for order_num, total in result_list:\n",
        "    original_item = next(item for item in ORDERS if item[0] == order_num)\n",
        "    base_total = float(original_item[2]) * float(original_item[3])\n",
        "    fee = SMALL_ORDER_FEE if base_total < MIN_ORDER_VALUE else 0.00\n",
        "\n",
        "    print(f\"Order {order_num}:\")\n",
        "    print(f\"  Base Value: \\t\\t{base_total:.2f} €\")\n",
        "    print(f\"  Fee Applied: \\t\\t{fee:.2f} €\")\n",
        "    print(f\"  Final Total: \\t\\t{total:.2f} €\")\n",
        "    print(\"-\" * 25)\n",
        "\n",
        "# Expected results:\n",
        "# 34587: 4 * 40.95 = 163.80. No fee. Result: 163.80\n",
        "# 98762: 5 * 56.80 = 284.00. No fee. Result: 284.00\n",
        "# 77226: 3 * 32.95 = 98.85. Fee applied (+10). Result: 108.85\n",
        "# 88112: 3 * 24.99 = 74.97. Fee applied (+10). Result: 84.97\n"
      ],
      "metadata": {
        "colab": {
          "base_uri": "https://localhost:8080/"
        },
        "id": "77FOx0jkDTsL",
        "outputId": "03a7b8d2-afcf-432b-9543-96af9e48e613"
      },
      "execution_count": 17,
      "outputs": [
        {
          "output_type": "stream",
          "name": "stdout",
          "text": [
            "--- Bookstore Order Accounting ---\n",
            "Small Order Fee (under 100.0 EUR): 10.0 EUR\n",
            "\n",
            "Original Orders (Order #, Quantity, Price per Item):\n",
            "  34587: Qty 4, Price 40.95 -> Base Total: 163.80\n",
            "  98762: Qty 5, Price 56.80 -> Base Total: 284.00\n",
            "  77226: Qty 3, Price 32.95 -> Base Total: 98.85\n",
            "  88112: Qty 3, Price 24.99 -> Base Total: 74.97\n",
            "\n",
            "Result List (Order Number, Final Total including Fee):\n",
            "[('34587', 163.8), ('98762', 284.0), ('77226', 108.85), ('88112', 84.97)]\n",
            "\n",
            "--- Detailed Calculation ---\n",
            "Order 34587:\n",
            "  Base Value: \t\t163.80 €\n",
            "  Fee Applied: \t\t0.00 €\n",
            "  Final Total: \t\t163.80 €\n",
            "-------------------------\n",
            "Order 98762:\n",
            "  Base Value: \t\t284.00 €\n",
            "  Fee Applied: \t\t0.00 €\n",
            "  Final Total: \t\t284.00 €\n",
            "-------------------------\n",
            "Order 77226:\n",
            "  Base Value: \t\t98.85 €\n",
            "  Fee Applied: \t\t10.00 €\n",
            "  Final Total: \t\t108.85 €\n",
            "-------------------------\n",
            "Order 88112:\n",
            "  Base Value: \t\t74.97 €\n",
            "  Fee Applied: \t\t10.00 €\n",
            "  Final Total: \t\t84.97 €\n",
            "-------------------------\n"
          ]
        }
      ]
    }
  ]
}